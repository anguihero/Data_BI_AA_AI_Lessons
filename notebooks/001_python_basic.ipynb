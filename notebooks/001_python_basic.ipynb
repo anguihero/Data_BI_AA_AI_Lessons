{
  "cells": [
    {
      "cell_type": "markdown",
      "metadata": {
        "id": "JotXunZRIClk"
      },
      "source": [
        "# BASES DE PYTHON\n",
        "\n",
        "Este cuaderno recopila los **fundamentos mínimos** para comenzar a programar en Python con miras a la ciencia de datos. Cada sección introduce el concepto, muestra la sintaxis esencial y concluye con un ejemplo breve que puedes ejecutar y modificar a tu gusto.\n",
        "\n",
        "---\n",
        "\n",
        "\n",
        "## Tabla de Contenidos\n",
        "\n",
        "1. [Variables](#variables)\n",
        "2. [Tipos numéricos](#tipos-numericos)\n",
        "3. [Cadenas de texto](#cadenas)\n",
        "4. [Rangos](#rangos)\n",
        "5. [Listas](#listas)\n",
        "6. [Tuplas](#tuplas)\n",
        "7. [Diccionarios](#diccionarios)\n",
        "8. [Condicionales](#condicionales)\n",
        "9. [Bucles (loops)](#bucles)\n",
        "10. [Funciones](#funciones)\n",
        "11. [Funciones lambda](#lambda)\n",
        "12. [Función ](#map)[`map`](#map)\n",
        "13. [Errores y excepciones](#errores)\n",
        "14. [Bibliografía y recursos](#bibliografia)\n"
      ]
    },
    {
      "cell_type": "markdown",
      "metadata": {
        "id": "EtG-CxldwmdF"
      },
      "source": [
        "* formas de ejecutar  una celda:\n",
        "\n",
        "| Atajo    | Efecto                                          |\n",
        "| ---------- | ----------------------------------------------- |\n",
        "| `Click Play Button`    | Ejecuta la celda y permanece en ella       |\n",
        "| `Ctrl + Enter`    | Ejecuta la celda y permanece en ella       |\n",
        "| `Shift + Enter` | Ejecuta la celda y salta a la siguiente |\n",
        "| `Alt + Enter`     | Ejecuta la celda y crea una nueva debajo |\n",
        "\n",
        ">  *Tip:* Con el modo comando activo (`Esc`), presiona **B** para insertar una celda *debajo* o **A** para insertar *arriba*.\n"
      ]
    },
    {
      "cell_type": "markdown",
      "metadata": {
        "id": "NjozzhYC6Lwn"
      },
      "source": [
        "## Variables"
      ]
    },
    {
      "cell_type": "markdown",
      "metadata": {
        "id": "H-D_8W5m6n_l"
      },
      "source": [
        "Una variable es un nombre que referencia un valor almacenado en memoria RAM. Python es dinámicamente tipado: basta asignar un valor para crear la variable.\n"
      ]
    },
    {
      "cell_type": "markdown",
      "metadata": {
        "id": "jQalsqZ48ND_"
      },
      "source": [
        "**Reglas de nomenclatura para la creación de variables**\n",
        "\n",
        "* Debe comenzar con letra o guion bajo (_), nunca con dígito.\n",
        "* Puede contener letras, dígitos y guion bajo; sin espacios.\n",
        "* Python distingue mayúsculas y minúsculas (edad ≠ Edad).\n",
        "* Evita las palabras reservadas del lenguaje (for, class, def, …).\n",
        "* Usa snake_case para legibilidad (total_ventas_anuales).\n",
        "\n",
        "Buenas prácticas\n",
        "\n",
        "* Nombres descriptivos y breves: tasa_interes, no ti.\n",
        "* Singular para elementos simples y plural para colecciones (usuario, usuarios).\n",
        "* Constantes en mayúscula si el valor no cambiará: PI = 3.1416."
      ]
    },
    {
      "cell_type": "markdown",
      "metadata": {
        "id": "6KxSLCNY431b"
      },
      "source": [
        "*  el igual se utiliza para asignar informacion\n",
        "  * NOMBRE_VARIABLE = INFORMACION_A_ASIGNAR"
      ]
    },
    {
      "cell_type": "code",
      "execution_count": null,
      "metadata": {
        "colab": {
          "base_uri": "https://localhost:8080/"
        },
        "id": "5C3iE7hZ6PpY",
        "outputId": "18c0d275-d2b8-4d07-842c-1c68d00abcf9"
      },
      "outputs": [],
      "source": [
        "# la asignacion de informacion a una variabl\n",
        "Hola_mundo = \"Hola Mundo\" # a la variable Hola_mundo le asigno una cadena de caracteres (string) delimitado por unas comillas\n",
        "print(Hola_mundo) # mostrar en pantalla la informacion asignada a la variable Hola_mundo"
      ]
    },
    {
      "cell_type": "code",
      "execution_count": null,
      "metadata": {
        "colab": {
          "base_uri": "https://localhost:8080/"
        },
        "id": "K9pkuae56LGK",
        "outputId": "4164d6a1-a078-471f-ad4d-519755e35de7"
      },
      "outputs": [],
      "source": [
        "Hola_mundo2 = \"Hola \\n Mundo\" # \\n genera un salto de linea #REGEX # ENCODING\n",
        "print(Hola_mundo2)"
      ]
    },
    {
      "cell_type": "markdown",
      "metadata": {
        "id": "lWhYWwEGOnk5"
      },
      "source": [
        "## variables booleanas"
      ]
    },
    {
      "cell_type": "markdown",
      "metadata": {},
      "source": [
        "Los valores lógicos True y False representan la noción de verdad o falsedad. Se utilizan en condicionales, bucles y para describir estados binarios."
      ]
    },
    {
      "cell_type": "code",
      "execution_count": null,
      "metadata": {
        "colab": {
          "base_uri": "https://localhost:8080/"
        },
        "id": "itMmvaSIwmdI",
        "outputId": "84555567-e9cc-48ee-800e-0e8b5d2f1060"
      },
      "outputs": [],
      "source": [
        "True # Verdadero"
      ]
    },
    {
      "cell_type": "code",
      "execution_count": null,
      "metadata": {
        "colab": {
          "base_uri": "https://localhost:8080/"
        },
        "id": "uwiDelUjwmdJ",
        "outputId": "fc84c528-dbb5-4f82-eeac-500f5d0f3fa0"
      },
      "outputs": [],
      "source": [
        "False # Falso"
      ]
    },
    {
      "cell_type": "code",
      "execution_count": null,
      "metadata": {
        "colab": {
          "base_uri": "https://localhost:8080/"
        },
        "id": "a_l0ZdwdwmdJ",
        "outputId": "c739dbab-be7f-4d42-e944-143e8e710279"
      },
      "outputs": [],
      "source": [
        "# asigno la variable\n",
        "var_bool = True\n",
        "# muestro el contenido en pantalla (notebook) de la variable\n",
        "print(var_bool)\n",
        "# muestro el contenido en pantalla (notebook) del tipo de variable\n",
        "print(type(var_bool))"
      ]
    },
    {
      "cell_type": "code",
      "execution_count": null,
      "metadata": {
        "colab": {
          "base_uri": "https://localhost:8080/"
        },
        "id": "UQIvDimowmdK",
        "outputId": "fd8c8318-d801-480c-ea71-8bc1d650ff45"
      },
      "outputs": [],
      "source": [
        "var_bool = False\n",
        "print(var_bool)\n",
        "print(type(var_bool))"
      ]
    },
    {
      "cell_type": "markdown",
      "metadata": {
        "id": "D_7O5iWewmdK"
      },
      "source": [
        "Lógicas / Condiciones evaluadas"
      ]
    },
    {
      "cell_type": "code",
      "execution_count": null,
      "metadata": {
        "colab": {
          "base_uri": "https://localhost:8080/"
        },
        "id": "tDmOgamMwmdK",
        "outputId": "f8ec2d8e-af76-4fb4-9f38-a04452ff3772"
      },
      "outputs": [],
      "source": [
        "var_bool = 1 > 0\n",
        "print(var_bool)\n",
        "print(type(var_bool))"
      ]
    },
    {
      "cell_type": "code",
      "execution_count": null,
      "metadata": {
        "colab": {
          "base_uri": "https://localhost:8080/"
        },
        "id": "cdsjXKzIwmdK",
        "outputId": "68c116c5-e971-417e-b6cf-f2861635554a"
      },
      "outputs": [],
      "source": [
        "var_bool = 1 < 0\n",
        "print(var_bool)\n",
        "print(type(var_bool))"
      ]
    },
    {
      "cell_type": "code",
      "execution_count": null,
      "metadata": {
        "colab": {
          "base_uri": "https://localhost:8080/"
        },
        "id": "iXGXVYW4wmdK",
        "outputId": "0e990825-94e3-45ba-e2c4-312ee859fd22"
      },
      "outputs": [],
      "source": [
        "var_bool = 1 == 0 # usa doble igual para comparar\n",
        "print(var_bool)\n",
        "print(type(var_bool))"
      ]
    },
    {
      "cell_type": "markdown",
      "metadata": {
        "id": "Uqn4NOLBwmdL"
      },
      "source": [
        "Operaciones con booelanos"
      ]
    },
    {
      "cell_type": "code",
      "execution_count": null,
      "metadata": {
        "colab": {
          "base_uri": "https://localhost:8080/"
        },
        "id": "saXwPoY-wmdL",
        "outputId": "b63a7a08-53bc-41e2-9aa7-025b594c1cba"
      },
      "outputs": [],
      "source": [
        "var_001 = False\n",
        "var_002 = True\n",
        "\n",
        "var_res = var_001 + var_002\n",
        "\n",
        "\n",
        "print(var_res)\n",
        "print(type(var_res))"
      ]
    },
    {
      "cell_type": "code",
      "execution_count": null,
      "metadata": {
        "colab": {
          "base_uri": "https://localhost:8080/"
        },
        "id": "sz-FcqkDwmdL",
        "outputId": "3bcf469c-59bf-4b05-b362-e596a8d759b6"
      },
      "outputs": [],
      "source": [
        "var_001 = False\n",
        "var_002 = True\n",
        "\n",
        "var_res = var_001 * var_002\n",
        "\n",
        "\n",
        "print(var_res)\n",
        "print(type(var_res))"
      ]
    },
    {
      "cell_type": "code",
      "execution_count": null,
      "metadata": {
        "colab": {
          "base_uri": "https://localhost:8080/"
        },
        "id": "5rVC2l68wmdL",
        "outputId": "f29de29d-3546-4de5-a789-233b47b7e0c6"
      },
      "outputs": [],
      "source": [
        "var_001 = 26\n",
        "var_002 = True\n",
        "\n",
        "var_res = var_001 * var_002\n",
        "\n",
        "\n",
        "print(var_res)\n",
        "print(type(var_res))"
      ]
    },
    {
      "cell_type": "markdown",
      "metadata": {
        "id": "309635FLwmdL"
      },
      "source": [
        "## variables numéricas"
      ]
    },
    {
      "cell_type": "markdown",
      "metadata": {},
      "source": [
        "Python maneja enteros (int) y números de punto flotante (float) de forma nativa. También existen complejos (complex), pero no los necesitaremos por ahora."
      ]
    },
    {
      "cell_type": "code",
      "execution_count": null,
      "metadata": {
        "colab": {
          "base_uri": "https://localhost:8080/"
        },
        "id": "7wEUS6EUOvkh",
        "outputId": "3193f561-22fc-40bd-a405-fd56d214dcc8"
      },
      "outputs": [],
      "source": [
        "20220820 # ver que no siempre una ejecución implica un asignación a una variable en memoria"
      ]
    },
    {
      "cell_type": "code",
      "execution_count": null,
      "metadata": {
        "colab": {
          "base_uri": "https://localhost:8080/"
        },
        "id": "BZjejybxMzx_",
        "outputId": "1d24283c-cda4-4415-c632-5d8efdc91f33"
      },
      "outputs": [],
      "source": [
        "num = 20220820 # asigna iformacion (integer) a variable\n",
        "print(num) # muestre lo que tiene la variable num\n",
        "print(type(num)) # utilizar type para obtener el tipo de dato"
      ]
    },
    {
      "cell_type": "code",
      "execution_count": null,
      "metadata": {
        "colab": {
          "base_uri": "https://localhost:8080/"
        },
        "id": "gwFnCuAyM3fb",
        "outputId": "b5904757-f71a-4166-ebd6-add605162c43"
      },
      "outputs": [],
      "source": [
        "num = 20220820.0 # asigna iformacion (float) a variable\n",
        "print(num) # muestre lo que tiene la variable num\n",
        "print(type(num)) # utilizar type para obtener el tipo de dato"
      ]
    },
    {
      "cell_type": "markdown",
      "metadata": {
        "id": "tHBtQEzCNKZ_"
      },
      "source": [
        "### Operadores"
      ]
    },
    {
      "cell_type": "markdown",
      "metadata": {
        "id": "dKSnGetNPpWa"
      },
      "source": [
        "Python soporta los siguientes operadores aritmeticos:\n",
        "\n",
        "*   \\+ (Adición)\n",
        "*   \\* (multiplicación)\n",
        "*   / (división)\n",
        "*   ** (potencia)\n",
        "*   // (división entera)."
      ]
    },
    {
      "cell_type": "code",
      "execution_count": null,
      "metadata": {
        "colab": {
          "base_uri": "https://localhost:8080/"
        },
        "id": "zPdC0ZE_PGnF",
        "outputId": "c8201cfd-8d23-4fa9-8842-53141dbf0074"
      },
      "outputs": [],
      "source": [
        "num_a = 2 # asignar informacion numerica a variable\n",
        "num_b = 3 # asignar informacion numerica a variable\n",
        "\n",
        "num = num_a + num_b # operar entre variables numericas\n",
        "print(num) # muestra el resultado de la operacion\n",
        "print(type(num))"
      ]
    },
    {
      "cell_type": "code",
      "execution_count": null,
      "metadata": {
        "colab": {
          "base_uri": "https://localhost:8080/"
        },
        "id": "VdRVcpzUAlJl",
        "outputId": "279f7617-d570-45c5-9997-cd1857456f0d"
      },
      "outputs": [],
      "source": [
        "num_a = 2 # asignar informacion numerica a variable\n",
        "num_b = 3 # asignar informacion numerica a variable\n",
        "\n",
        "num = num_a - num_b # operar entre variables numericas\n",
        "print(num) # muestra el resultado de la operacion\n",
        "print(type(num))"
      ]
    },
    {
      "cell_type": "code",
      "execution_count": null,
      "metadata": {
        "colab": {
          "base_uri": "https://localhost:8080/"
        },
        "id": "xhzU-cGgQF_A",
        "outputId": "1fba5fe8-afb3-4d9f-d047-6e99143ff3e4"
      },
      "outputs": [],
      "source": [
        "num_a = 2 # asignar informacion numerica a variable\n",
        "num_b = 3 # asignar informacion numerica a variable\n",
        "\n",
        "num = num_a * num_b # operar entre variables numericas\n",
        "print(num) # muestra el resultado de la operacion\n",
        "print(type(num))"
      ]
    },
    {
      "cell_type": "code",
      "execution_count": null,
      "metadata": {
        "colab": {
          "base_uri": "https://localhost:8080/"
        },
        "id": "TtBUfUL6EV4K",
        "outputId": "44a34ec5-9231-4f4b-e014-13a85a33dac6"
      },
      "outputs": [],
      "source": [
        "num_a = 6 # asignar informacion numerica a variable\n",
        "num_b = 3 # asignar informacion numerica a variable\n",
        "\n",
        "num = num_a / num_b # operar entre variables numericas\n",
        "print(num) # muestra el resultado de la operacion\n",
        "print(type(num))"
      ]
    },
    {
      "cell_type": "code",
      "execution_count": null,
      "metadata": {
        "colab": {
          "base_uri": "https://localhost:8080/"
        },
        "id": "nX1FEL3YQFtb",
        "outputId": "e99e0cd7-58bb-4f55-c04e-9c2b4510ed1d"
      },
      "outputs": [],
      "source": [
        "num_a = 2 # asignar informacion numerica a variable\n",
        "num_b = 3 # asignar informacion numerica a variable\n",
        "\n",
        "num = num_a / num_b # operar entre variables numericas\n",
        "print(num) # muestra el resultado de la operacion\n",
        "print(type(num))"
      ]
    },
    {
      "cell_type": "code",
      "execution_count": null,
      "metadata": {
        "colab": {
          "base_uri": "https://localhost:8080/"
        },
        "id": "HTjd9WdbQFie",
        "outputId": "b6a362a9-d96b-4fd5-faf2-e6936d76d463"
      },
      "outputs": [],
      "source": [
        "num_a = 2\n",
        "num_b = 3\n",
        "\n",
        "num = num_a ** num_b # variable num_a elevada a la variable num_b\n",
        "print(num)\n",
        "print(type(num))"
      ]
    },
    {
      "cell_type": "code",
      "execution_count": null,
      "metadata": {
        "colab": {
          "base_uri": "https://localhost:8080/"
        },
        "id": "MOvHom6OE-5_",
        "outputId": "654bc046-457a-466e-f79e-2160fc6047b7"
      },
      "outputs": [],
      "source": [
        "num_a = 2\n",
        "num_b = 3.0\n",
        "\n",
        "num = num_a ** num_b # variable num_a elevada a la variable num_b\n",
        "print(num)\n",
        "print(type(num))"
      ]
    },
    {
      "cell_type": "code",
      "execution_count": null,
      "metadata": {
        "colab": {
          "base_uri": "https://localhost:8080/"
        },
        "id": "1oPliCi3QH4d",
        "outputId": "877bce36-2859-4ee0-9e60-7c188a6ddefb"
      },
      "outputs": [],
      "source": [
        "num_a = 9\n",
        "num_b = 4\n",
        "\n",
        "num = num_a / num_b # division\n",
        "print(num)\n",
        "print(type(num))"
      ]
    },
    {
      "cell_type": "code",
      "execution_count": null,
      "metadata": {
        "colab": {
          "base_uri": "https://localhost:8080/"
        },
        "id": "mNsvPOh1QFUJ",
        "outputId": "60325af9-5435-4554-8ac3-47d5d3e75040"
      },
      "outputs": [],
      "source": [
        "num_a = 9\n",
        "num_b = 4\n",
        "num = num_a // num_b # division entera\n",
        "print(num)\n",
        "print(type(num))"
      ]
    },
    {
      "cell_type": "code",
      "execution_count": null,
      "metadata": {
        "colab": {
          "base_uri": "https://localhost:8080/"
        },
        "id": "AQEAwRDkFhG3",
        "outputId": "5eff68c6-c331-468b-e8bf-60d5f17a4c00"
      },
      "outputs": [],
      "source": [
        "num_a = 9.5\n",
        "num_b = 4\n",
        "num = num_a // num_b # division entera\n",
        "print(num)\n",
        "print(type(num))"
      ]
    },
    {
      "cell_type": "code",
      "execution_count": null,
      "metadata": {
        "colab": {
          "base_uri": "https://localhost:8080/"
        },
        "id": "CyoA5uSuG4nQ",
        "outputId": "061e8098-a34a-4934-94d5-085300c2a716"
      },
      "outputs": [],
      "source": [
        "num_a = 9.5\n",
        "num_b = 4\n",
        "num = num_a % num_b # modulo\n",
        "print(num)\n",
        "print(type(num))"
      ]
    },
    {
      "cell_type": "code",
      "execution_count": null,
      "metadata": {
        "colab": {
          "base_uri": "https://localhost:8080/"
        },
        "id": "7hsLUZNrJ5Mp",
        "outputId": "f061c8df-c948-41b1-862c-a44d0ca34bad"
      },
      "outputs": [],
      "source": [
        "num = round(5.6) # funciones de redondeo (ojo) funciones de redondeo de numpy\n",
        "print(type(num))\n",
        "print((num))"
      ]
    },
    {
      "cell_type": "markdown",
      "metadata": {
        "id": "XgUduxV4MqQ-"
      },
      "source": [
        "## variables de texto"
      ]
    },
    {
      "cell_type": "markdown",
      "metadata": {
        "id": "Rgm3R1qXRAKv"
      },
      "source": [
        "\n",
        "Los **strings** son secuencias **inmutables** de caracteres Unicode. Se declaran con comillas simples (`'Hola'`) o dobles (`\"Hola\"`). Operaciones frecuentes:\n",
        "\n",
        "| Operación  | Ejemplo                              | Resultado            |\n",
        "| ---------- | ------------------------------------ | -------------------- |\n",
        "| Concatenar | `\"Hola\" + \" \" + \"mundo\"`             | `\"Hola mundo\"`       |\n",
        "| Repetir    | `\"ha\" * 3`                           | `\"hahaha\"`           |\n",
        "| Longitud   | `len(frase)`                         | Número de caracteres |\n",
        "| Slicing    | `frase[0:5]`                         | Subcadena            |\n",
        "| Buscar     | `frase.find(\"Py\")`                   | Índice o `-1`        |\n",
        "| Reemplazar | `frase.replace(\"genial\", \"potente\")` | Nueva cadena         |\n",
        "\n",
        "También puedes utilizar **f‑strings** para formateo moderno y legible:\n"
      ]
    },
    {
      "cell_type": "code",
      "execution_count": null,
      "metadata": {
        "colab": {
          "base_uri": "https://localhost:8080/"
        },
        "id": "EN0xiotQHLbR",
        "outputId": "e79e2052-4ab7-495e-fabe-c0da0a1b0db9"
      },
      "outputs": [],
      "source": [
        "'Hola' == \"Hola\""
      ]
    },
    {
      "cell_type": "code",
      "execution_count": null,
      "metadata": {
        "colab": {
          "base_uri": "https://localhost:8080/"
        },
        "id": "FQsbzcMAHmjQ",
        "outputId": "a60a0a0c-9632-4727-bd93-9148bfc11953"
      },
      "outputs": [],
      "source": [
        "print('Hola') # cadena de caratceres o texto que estan delmitadas por comillas simples' ', dobles \" \" o por triple comilla doble \"\"\" \"\"\""
      ]
    },
    {
      "cell_type": "code",
      "execution_count": null,
      "metadata": {
        "colab": {
          "base_uri": "https://localhost:8080/"
        },
        "id": "c6sLnFPfAlJm",
        "outputId": "95d5d745-973e-4a0c-a47c-afc05eb28152"
      },
      "outputs": [],
      "source": [
        "txt = \"Hola\" # asigna una cadena de caratcer a una variable\n",
        "print(txt)"
      ]
    },
    {
      "cell_type": "code",
      "execution_count": null,
      "metadata": {
        "colab": {
          "base_uri": "https://localhost:8080/"
        },
        "id": "An-Nrz1PJTgB",
        "outputId": "fa349151-6968-44c1-e9ae-037d7505e94f"
      },
      "outputs": [],
      "source": [
        "txt = 'Hola' # asigna una cadena de caratcer a una variable\n",
        "print(txt)"
      ]
    },
    {
      "cell_type": "code",
      "execution_count": null,
      "metadata": {
        "colab": {
          "base_uri": "https://localhost:8080/"
        },
        "id": "ev14RputXKcA",
        "outputId": "3484dfd9-4e4c-47f6-8880-f8f459eea912"
      },
      "outputs": [],
      "source": [
        "txt = \"Hola 'campeón', cómo te fue en tu partido?\" # utilizar comillas dentro del texto\n",
        "print(txt)"
      ]
    },
    {
      "cell_type": "code",
      "execution_count": null,
      "metadata": {
        "colab": {
          "base_uri": "https://localhost:8080/"
        },
        "id": "1gVph-LTAlJn",
        "outputId": "a36cc512-a055-4e34-e1fe-b02baa44813a"
      },
      "outputs": [],
      "source": [
        "txt = 'Hola \"campeón\", cómo te fue en tu partido?' # utilizar comillas dentro del texto\n",
        "print(txt)"
      ]
    },
    {
      "cell_type": "markdown",
      "metadata": {
        "id": "_xObz_s5JBK1"
      },
      "source": [
        "* el uso de triple comilla para textos con saltos de linea"
      ]
    },
    {
      "cell_type": "code",
      "execution_count": null,
      "metadata": {
        "colab": {
          "base_uri": "https://localhost:8080/",
          "height": 105
        },
        "id": "i-nsRviFwmdW",
        "outputId": "c954089e-1174-4542-f6b3-1a993b8ab177"
      },
      "outputs": [],
      "source": [
        "'''Pasarán estos días como pasan\n",
        "todos los días malos de la vida\n",
        "Amainarán los vientos que te arrasan\n",
        "Se estancará la sangre de tu herida\n",
        "\n",
        "El alma errante volverá a su nido\n",
        "Lo que ayer se perdió será encontrado\n",
        "El sol será sin mancha concebido\n",
        "y saldrá nuevamente en tu costado\n",
        "\n",
        "Y dirás frente al mar: ¿Cómo he podido\n",
        "anegado sin brújula y perdido\n",
        "llegar a puerto con las velas rotas?\n",
        "\n",
        "Y una voz te dirá: ¿Que no lo sabes?\n",
        "El mismo viento que rompió tus naves\n",
        "es el que hace volar a las gaviotas'''"
      ]
    },
    {
      "cell_type": "code",
      "execution_count": null,
      "metadata": {
        "colab": {
          "base_uri": "https://localhost:8080/",
          "height": 105
        },
        "id": "FNgnNs3xIUf8",
        "outputId": "7c2c0c58-0ad2-4db1-ac99-a778c5930b57"
      },
      "outputs": [],
      "source": [
        "\"\"\"Poverty is the deprivation of opportunity.\n",
        " Education makes us the human beings we are.\n",
        " Poverty is the deprivation of opportunity.\n",
        " Education makes us the human beings we are.\n",
        " Poverty is the deprivation of opportunity.\n",
        " Education makes us the human beings we are.\n",
        " Poverty is the deprivation of opportunity.\n",
        " Education makes us the human beings we are.\n",
        " Poverty is the deprivation of opportunity.\n",
        " Education makes us the human beings we are.\n",
        " Poverty is the deprivation of opportunity.\n",
        " Education makes us the human beings we are.\"\"\""
      ]
    },
    {
      "cell_type": "code",
      "execution_count": null,
      "metadata": {
        "colab": {
          "base_uri": "https://localhost:8080/"
        },
        "id": "y9z_Z5M7JaSR",
        "outputId": "b5cb9922-b5a6-4ed9-a214-e05f94bf0c35"
      },
      "outputs": [],
      "source": [
        "# ejercicio\n",
        "\n",
        "var_001 = \"\"\"\n",
        "Por más que cante un pájaro\n",
        "en el bosque, el ciruelo\n",
        "no rompe a florecer\n",
        "\"\"\"\n",
        "print(var_001)\n",
        "print(type(var_001))\n",
        "\n",
        "# obtener el mismo resultado pero escribiendolo en una sola linea\n",
        "\n",
        "var_002 = \"\\nPor más que cante un pájaro\\nen el bosque, el ciruelo\\nno rompe a florecer\"\n",
        "print(var_002)\n",
        "print(type(var_002))"
      ]
    },
    {
      "cell_type": "code",
      "execution_count": null,
      "metadata": {
        "colab": {
          "base_uri": "https://localhost:8080/"
        },
        "id": "Amhq_N6A0yvc",
        "outputId": "d8ebb18e-d6ef-406c-9793-2ef33f3c9f87"
      },
      "outputs": [],
      "source": [
        "ejemplo_parrafo_001 = \"\"\"\n",
        "este es un ejemplo\n",
        "de un parrafo\n",
        "pequeño\n",
        "\"\"\"\n",
        "\n",
        "ejemplo_parrafo_002 = '\\neste es un ejemplo\\nde un parrafo\\npequeño\\n'\n",
        "\n",
        "print('-----------')\n",
        "print(ejemplo_parrafo_001)\n",
        "print(type(ejemplo_parrafo_001))\n",
        "print('-----------')\n",
        "print(ejemplo_parrafo_002)\n",
        "print(type(ejemplo_parrafo_002))"
      ]
    },
    {
      "cell_type": "code",
      "execution_count": null,
      "metadata": {
        "colab": {
          "base_uri": "https://localhost:8080/"
        },
        "id": "AavkgQs5JJvo",
        "outputId": "ac8e8e36-3110-4d58-820a-4da1150d87a7"
      },
      "outputs": [],
      "source": [
        "# el uiso de triple doble comilla es para textos largos, parrafos y/o con saltos de linea\n",
        "txt = \"\"\"Poverty is the deprivation of opportunity.\n",
        "Education makes us the human beings we are.\"\"\"\n",
        "print(txt)"
      ]
    },
    {
      "cell_type": "code",
      "execution_count": null,
      "metadata": {
        "colab": {
          "base_uri": "https://localhost:8080/"
        },
        "id": "dmA6MmQ0Ih_E",
        "outputId": "ee9e32e3-f073-498e-d68f-d5b4b564d4c4"
      },
      "outputs": [],
      "source": [
        "# uso de comillas dentro de comillas, deben ser diferentes a las que utilizan para delimitar\n",
        "txt = \"\"\"Poverty is the deprivation of 'opportunity'.\n",
        "\"Education\" makes us the human beings we are.\"\"\"\n",
        "print(txt)"
      ]
    },
    {
      "cell_type": "code",
      "execution_count": null,
      "metadata": {
        "colab": {
          "base_uri": "https://localhost:8080/"
        },
        "id": "ps3Xa7h3JDz6",
        "outputId": "7d147601-2df2-41e7-b31c-8dd4349d7c58"
      },
      "outputs": [],
      "source": [
        "txt = 'La ruta del archivo es C:\\nombre\\lesson.ipynb' # asignacion de informacion a variables\n",
        "print(txt) # mostrar en pantalla la informacion dentro de la variable"
      ]
    },
    {
      "cell_type": "code",
      "execution_count": null,
      "metadata": {
        "colab": {
          "base_uri": "https://localhost:8080/"
        },
        "id": "5HodPCi7JDpu",
        "outputId": "7500916a-0162-4135-fe2f-c05253239cdd"
      },
      "outputs": [],
      "source": [
        "# formas de escapar a expresion\n",
        "# uso de \\ antes de la expresion\n",
        "txt = 'La ruta del archivo es C:\\\\nombre\\\\lesson.ipynb'\n",
        "print(txt)"
      ]
    },
    {
      "cell_type": "code",
      "execution_count": null,
      "metadata": {
        "colab": {
          "base_uri": "https://localhost:8080/"
        },
        "id": "ghxSo0mcJc3n",
        "outputId": "bb165b35-635a-4539-c99c-7b3c2d4bf0ae"
      },
      "outputs": [],
      "source": [
        "# tomar de forma estricta y literal lo que se escribe\n",
        "# uso de r antes de el string\n",
        "txt = r'La ruta del archivo es C:\\nombre\\lesson.ipynb'\n",
        "print(txt)"
      ]
    },
    {
      "cell_type": "markdown",
      "metadata": {
        "id": "fgB1EzfVNOZU"
      },
      "source": [
        "### operadores"
      ]
    },
    {
      "cell_type": "code",
      "execution_count": null,
      "metadata": {
        "colab": {
          "base_uri": "https://localhost:8080/"
        },
        "id": "UnFo3HnWJ5DI",
        "outputId": "436120d5-c427-448f-bc4b-a18068d9ea63"
      },
      "outputs": [],
      "source": [
        "txt_a = 'Poverty is the '\n",
        "txt_b = 'deprivation of opportunity.'\n",
        "\n",
        "txt = txt_a+txt_b # operador de suma para vars de texto (concatenar|paste)\n",
        "print(txt)\n",
        "print(type(txt))"
      ]
    },
    {
      "cell_type": "code",
      "execution_count": null,
      "metadata": {
        "colab": {
          "base_uri": "https://localhost:8080/"
        },
        "id": "hzHt_IzqJaPQ",
        "outputId": "b39344ab-0478-467f-853a-6650b633c279"
      },
      "outputs": [],
      "source": [
        "txt_a = 'Poverty is the deprivation of opportunity.'\n",
        "txt_b = ' \\n'\n",
        "txt_c = 'Education makes us the human beings we are.'\n",
        "\n",
        "txt = txt_a+txt_b+txt_c # puedo concatenar varias vars de texto\n",
        "print(txt)\n",
        "print(type(txt))"
      ]
    },
    {
      "cell_type": "code",
      "execution_count": null,
      "metadata": {
        "colab": {
          "base_uri": "https://localhost:8080/"
        },
        "id": "L5Ltt9So77bz",
        "outputId": "670087b6-a2b2-4010-b0b9-abad3b5be1ee"
      },
      "outputs": [],
      "source": [
        "txt_a = 'peace_' # var de texto\n",
        "txt_times = 5 # var numerica\n",
        "\n",
        "txt = txt_a*txt_times # escriber tantas veces un mismo texto\n",
        "print(txt)\n",
        "print(type(txt))"
      ]
    },
    {
      "cell_type": "code",
      "execution_count": null,
      "metadata": {
        "colab": {
          "base_uri": "https://localhost:8080/"
        },
        "id": "gLGVt4YH3RRE",
        "outputId": "17481c1e-649c-4288-cec3-b7ecdb296b05"
      },
      "outputs": [],
      "source": [
        "#TAREA : como comentar y (quitar comentarios) con un comando en el teclado\n",
        "\n",
        "var_prueba_001 = 'RING!!!! '\n",
        "var_prueba_002 = ' '\n",
        "var_prueba_003 = 'Hay alguien en la puerta!!!! '\n",
        "var_prueba_004 = 6\n",
        "\n",
        "# var_res = var_prueba_001+var_prueba_002+var_prueba_003\n",
        "# var_res = var_res * var_prueba_004\n",
        "\n",
        "var_res = var_prueba_001 * var_prueba_004\n",
        "var_res = var_res+var_prueba_002+var_prueba_003\n",
        "\n",
        "print(var_res)\n",
        "print(type(var_res))"
      ]
    },
    {
      "cell_type": "markdown",
      "metadata": {
        "id": "FOJDvodhNShf"
      },
      "source": [
        "### entrada de texto"
      ]
    },
    {
      "cell_type": "code",
      "execution_count": null,
      "metadata": {
        "colab": {
          "base_uri": "https://localhost:8080/"
        },
        "id": "EBtdD_zhJtia",
        "outputId": "fa1a38c9-eb1e-4007-e9ac-5af0cc6640bf"
      },
      "outputs": [],
      "source": [
        "txt_input = input(\"cuantos años tiene su mamá: \") # escribe mnensaje en pantalla para esperar entrada del usuario\n",
        "print(txt_input)\n",
        "print(type(txt_input))"
      ]
    },
    {
      "cell_type": "code",
      "execution_count": null,
      "metadata": {
        "colab": {
          "base_uri": "https://localhost:8080/"
        },
        "id": "_Z1tvkX5Roco",
        "outputId": "e6756ae4-e91d-4a4d-c92b-6bfd9a452212"
      },
      "outputs": [],
      "source": [
        "edad_mama = input(\"cuantos años tiene su mamá: \")\n",
        "print(edad_mama)\n",
        "print(type(edad_mama))\n",
        "\n",
        "print('-------------------------------')\n",
        "\n",
        "edad_mama = input(\"cuantos años tiene su mamá: \")\n",
        "edad_mama = int(edad_mama) # paso intermedio para cambiar formato\n",
        "print(edad_mama)\n",
        "print(type(edad_mama))"
      ]
    },
    {
      "cell_type": "markdown",
      "metadata": {
        "id": "PaUShapyNVAt"
      },
      "source": [
        "### tratamiento de texto (métodos)"
      ]
    },
    {
      "cell_type": "code",
      "execution_count": null,
      "metadata": {
        "colab": {
          "base_uri": "https://localhost:8080/"
        },
        "id": "5OM43F3mAlJo",
        "outputId": "d62a2074-f57c-4be3-f0fa-2ce2ce4aeb29"
      },
      "outputs": [],
      "source": [
        "txt_a = '             Poverty Is The             '\n",
        "print(txt_a)"
      ]
    },
    {
      "cell_type": "markdown",
      "metadata": {
        "id": "FbnOwOAQAlJs"
      },
      "source": [
        "* metodos para convertir a mayuscula y/o minuscula"
      ]
    },
    {
      "cell_type": "code",
      "execution_count": null,
      "metadata": {
        "colab": {
          "base_uri": "https://localhost:8080/"
        },
        "id": "BpUVEJtWKexD",
        "outputId": "27dd720c-d8c7-4011-a894-1c5cf42fd7fd"
      },
      "outputs": [],
      "source": [
        "txt_a = '             Poverty Is The             '\n",
        "txt = txt_a.lower() # metodo pasar a minusculas\n",
        "print(txt)"
      ]
    },
    {
      "cell_type": "code",
      "execution_count": null,
      "metadata": {
        "colab": {
          "base_uri": "https://localhost:8080/"
        },
        "id": "9SmweogZKvIt",
        "outputId": "91dacfd4-ef73-479e-a109-c981777c1967"
      },
      "outputs": [],
      "source": [
        "txt_a = '             Poverty Is The             '\n",
        "txt = txt_a.upper() # metodo para pasar a mayusculas\n",
        "print(txt)"
      ]
    },
    {
      "cell_type": "markdown",
      "metadata": {
        "id": "8rYJtf4-AlJt"
      },
      "source": [
        "* borrar los espacios extremos redundantes"
      ]
    },
    {
      "cell_type": "code",
      "execution_count": null,
      "metadata": {
        "colab": {
          "base_uri": "https://localhost:8080/"
        },
        "id": "TZJ4cHvNLsZ-",
        "outputId": "edc5b518-477a-48d9-ff4c-0a666d0f8a73"
      },
      "outputs": [],
      "source": [
        "txt_a = '             Poverty Is The             '\n",
        "txt = txt_a.lstrip() # metodo para quitar los vacios a la izquierda (left)\n",
        "print(txt)"
      ]
    },
    {
      "cell_type": "code",
      "execution_count": null,
      "metadata": {
        "colab": {
          "base_uri": "https://localhost:8080/"
        },
        "id": "ORcEv08MLtDR",
        "outputId": "4b7dea42-5496-4bee-95e1-dfb86409b1a7"
      },
      "outputs": [],
      "source": [
        "txt_a = '             Poverty Is The             '\n",
        "txt = txt_a.rstrip()# metodo para quitar los vacios a la derecha (right)\n",
        "print(txt)"
      ]
    },
    {
      "cell_type": "code",
      "execution_count": null,
      "metadata": {
        "colab": {
          "base_uri": "https://localhost:8080/"
        },
        "id": "1X8j4BMpwmdZ",
        "outputId": "371a7c37-a501-4966-c271-855633ba27b2"
      },
      "outputs": [],
      "source": [
        "txt_a = '             Poverty Is The             '\n",
        "txt = txt_a.rstrip().lstrip()# metodo para quitar los vacios a la derecha (right) # encadenando metodos\n",
        "print(txt)"
      ]
    },
    {
      "cell_type": "code",
      "execution_count": null,
      "metadata": {
        "colab": {
          "base_uri": "https://localhost:8080/"
        },
        "id": "_SaWdXLFLtjx",
        "outputId": "e441f4c5-ed6b-435f-a7b7-6d5e3083e45f"
      },
      "outputs": [],
      "source": [
        "txt_a = '             Poverty Is The             '\n",
        "txt = txt_a.strip() # metodo para quitar los vacios a ambos lados\n",
        "print(txt)"
      ]
    },
    {
      "cell_type": "code",
      "execution_count": null,
      "metadata": {
        "colab": {
          "base_uri": "https://localhost:8080/"
        },
        "id": "2kvAskwZUXfT",
        "outputId": "27d2314e-213a-41da-ebe8-3e4c5a3145cd"
      },
      "outputs": [],
      "source": [
        "txt_a = '             El corAzón qUe ríe - ChArleS BukoWSki             '\n",
        "txt = txt_a.strip().title() # metodo para quitar los vacios a ambos lados\n",
        "print(txt)"
      ]
    },
    {
      "cell_type": "code",
      "execution_count": null,
      "metadata": {
        "colab": {
          "base_uri": "https://localhost:8080/",
          "height": 35
        },
        "id": "TEvmvSzbCemA",
        "outputId": "96a96828-bbf9-4442-a870-c0a01f18c697"
      },
      "outputs": [],
      "source": [
        "'Tipos de datos ; int32, Integer (-2147483648 to 2147483647) ; int64, Integer (-9223372036854775808'.title()"
      ]
    },
    {
      "cell_type": "markdown",
      "metadata": {
        "id": "zvLTptP7AlJt"
      },
      "source": [
        "* condiciones"
      ]
    },
    {
      "cell_type": "code",
      "execution_count": null,
      "metadata": {
        "colab": {
          "base_uri": "https://localhost:8080/"
        },
        "id": "UXeVxFstL60w",
        "outputId": "957e297e-376e-4571-ba8c-93e94b3ffa72"
      },
      "outputs": [],
      "source": [
        "txt_a = '             Poverty Is The             '\n",
        "txt = txt_a.startswith(\"Po\") # metodo para revisar si comienza con\n",
        "print(txt)\n",
        "print(type(txt))"
      ]
    },
    {
      "cell_type": "code",
      "execution_count": null,
      "metadata": {
        "colab": {
          "base_uri": "https://localhost:8080/"
        },
        "id": "96OAjKnlMKAg",
        "outputId": "45e5c185-d391-45c8-d71a-607c2b45fa0e"
      },
      "outputs": [],
      "source": [
        "txt_a = '             Poverty Is The             '\n",
        "# podemos encadenar varios metodos... el resultado de aplicar uno le podemos aplicar el siguiente\n",
        "txt = txt_a.strip().startswith(\"Po\") # metodo para quitar vacios y luego si verificar si inicia con po\n",
        "print(txt)"
      ]
    },
    {
      "cell_type": "code",
      "execution_count": null,
      "metadata": {
        "colab": {
          "base_uri": "https://localhost:8080/"
        },
        "id": "CQ1eb0zVAlJu",
        "outputId": "531da04a-ebce-4d72-dac1-07c17b7c169e"
      },
      "outputs": [],
      "source": [
        "txt_a = '             Poverty Is The             '\n",
        "# podemos encadenar varios metodos... el resultado de aplicar uno le podemos aplicar el siguiente\n",
        "txt = txt_a.strip().lower().startswith(\"po\") # metodo para quitar vacios y luego si verificar si inicia con po\n",
        "print(txt)"
      ]
    },
    {
      "cell_type": "code",
      "execution_count": null,
      "metadata": {
        "colab": {
          "base_uri": "https://localhost:8080/"
        },
        "id": "FsImCz6-g3AY",
        "outputId": "80d88611-17fa-4f52-bc88-0aa1d10b95f6"
      },
      "outputs": [],
      "source": [
        "txt_a = '             Poverty Is The             '\n",
        "txt = txt_a.upper().strip().endswith('THE')\n",
        "print(txt)"
      ]
    },
    {
      "cell_type": "code",
      "execution_count": null,
      "metadata": {
        "colab": {
          "base_uri": "https://localhost:8080/"
        },
        "id": "FzFnbImWNDaa",
        "outputId": "11381fcf-5258-45df-a610-565dceaca8c1"
      },
      "outputs": [],
      "source": [
        "txt_a = '             Poverty Is The             '\n",
        "pattern = 'Poverty'\n",
        "txt = txt_a.find(pattern) # metodo de busqueda de un patroin y devuelve posicion dentro de string\n",
        "print(txt)"
      ]
    },
    {
      "cell_type": "code",
      "execution_count": null,
      "metadata": {
        "colab": {
          "base_uri": "https://localhost:8080/"
        },
        "id": "XuMAEyXTAlJv",
        "outputId": "cda68694-c4ea-4985-f1e3-dfc66373fa96"
      },
      "outputs": [],
      "source": [
        "txt_a = '             Poverty Is The             '\n",
        "pattern = 'ty'\n",
        "txt = txt_a.find(pattern) # metodo de busqueda de un patroin y devuelve posicion dentro de string\n",
        "print(txt)"
      ]
    },
    {
      "cell_type": "code",
      "execution_count": null,
      "metadata": {
        "colab": {
          "base_uri": "https://localhost:8080/",
          "height": 35
        },
        "id": "G8mImxm_X5Zq",
        "outputId": "503581f1-60bd-49b4-f73a-a2d24f19792f"
      },
      "outputs": [],
      "source": [
        "\"{} {}\""
      ]
    },
    {
      "cell_type": "code",
      "execution_count": null,
      "metadata": {
        "colab": {
          "base_uri": "https://localhost:8080/"
        },
        "id": "0_7I-ysiMSbt",
        "outputId": "62c05d81-4ac2-4a43-f14e-8e17b6a795a3"
      },
      "outputs": [],
      "source": [
        "# yo puedo utilizar la informacion en variables para completar texto indexado\n",
        "txt_a = 'Poverty is the deprivation of opportunity.'\n",
        "txt_b = 'Education makes us the human beings we are.'\n",
        "\n",
        "print(\"{} {}\".format(txt_a, txt_b))"
      ]
    },
    {
      "cell_type": "code",
      "execution_count": null,
      "metadata": {
        "colab": {
          "base_uri": "https://localhost:8080/"
        },
        "id": "mRdTQEcWM8Rr",
        "outputId": "040c3fb9-2519-4ad2-c7df-8ed120a0507a"
      },
      "outputs": [],
      "source": [
        "txt_a = 'Poverty is the deprivation of opportunity.'\n",
        "txt_b = 'Education makes us the human beings we are.'\n",
        "\n",
        "print(\"{0} {1}.\".format(txt_a, txt_b))"
      ]
    },
    {
      "cell_type": "code",
      "execution_count": null,
      "metadata": {
        "colab": {
          "base_uri": "https://localhost:8080/"
        },
        "id": "ae1250Z6M-wR",
        "outputId": "76dd8a7a-0c3f-438f-b9f3-f481c65509d0"
      },
      "outputs": [],
      "source": [
        "txt_a = 'Poverty is the deprivation of opportunity.'\n",
        "txt_b = 'Education makes us the human beings we are.'\n",
        "print(\"{1} {0}.\".format(txt_a, txt_b))"
      ]
    },
    {
      "cell_type": "code",
      "execution_count": null,
      "metadata": {
        "colab": {
          "base_uri": "https://localhost:8080/"
        },
        "id": "_KaMvFB4AlJu",
        "outputId": "5a4aec42-8415-4073-febe-4eeea86f5771"
      },
      "outputs": [],
      "source": [
        "txt_a = 'a Andres'\n",
        "txt_b = 'no le gustan los viernes'\n",
        "txt_c = 'tampoco le gustan los lunes'\n",
        "\n",
        "print(\"{0} {1}, {0} {2}\".format(txt_a, txt_b, txt_c))"
      ]
    },
    {
      "cell_type": "code",
      "execution_count": null,
      "metadata": {
        "colab": {
          "base_uri": "https://localhost:8080/"
        },
        "id": "2oBZAsHZjsNt",
        "outputId": "fb84611c-d136-4257-f4c5-4bd81a90a50c"
      },
      "outputs": [],
      "source": [
        "# ejemplo correo\n",
        "\n",
        "# variables con las que se pretende diligenciar\n",
        "nombre = 'Miguel'\n",
        "periodo = 'Mayo/6'\n",
        "\n",
        "# textos que se van a completar/diligenciar\n",
        "asunto = 'Cuenta de Cobro {0}'.format(nombre)\n",
        "cuerpo = 'Buenas tardes \\nescribo en nombre de {0} para dar aviso de mi cuenta de cobro para el periodo {1}. \\nmuchas gracias'.format(nombre, periodo)\n",
        "\n",
        "# mostrarb en pantalla\n",
        "print(asunto)\n",
        "print(cuerpo)"
      ]
    },
    {
      "cell_type": "code",
      "execution_count": null,
      "metadata": {
        "colab": {
          "base_uri": "https://localhost:8080/"
        },
        "id": "GC6LAEX9aSmB",
        "outputId": "f18d7090-250e-4b85-afe7-826ffada3eb7"
      },
      "outputs": [],
      "source": [
        "# objetivo :  un programa que itere sobre unas listas de informacion y mande notificacion de cobro\n",
        "\n",
        "\n",
        "# 1er paso . escribir lista\n",
        "# variables que coleccionan variables\n",
        "# lista :  secuencia de variables\n",
        "lista_deudores = [ 'Natalia','Javier','Diana','Yudy','Edward']\n",
        "print('mensajes a mandar : ',len(lista_deudores))\n",
        "\n",
        "dia = '2025/may/6'\n",
        "\n",
        "# escribir planilla / el template del mensaje\n",
        "planilla = 'Hola {}, \\n está siendo notificado de un atraso en su renta. \\n esperamos su pago {}. \\Att: Señor Barriga'\n",
        "\n",
        "# estructuras de control\n",
        "# for :\n",
        "\n",
        "# para cada deudor de la lista de deudores (realice :) mande notificacion (print)\n",
        "# identacion\n",
        "for i in lista_deudores:\n",
        "  print('--------------------------')\n",
        "  print(planilla.format(i,dia))\n",
        "  print('--------------------------')\n",
        "\n",
        "\n"
      ]
    },
    {
      "cell_type": "markdown",
      "metadata": {
        "id": "cvgpPFi7h7vg"
      },
      "source": [
        "* Longitud"
      ]
    },
    {
      "cell_type": "code",
      "execution_count": null,
      "metadata": {
        "id": "Hhlcc56R7Swr"
      },
      "outputs": [],
      "source": [
        "txt = 'Hola mundo'\n",
        "len(txt) # es la longitud de una variable de texto (lenght)"
      ]
    },
    {
      "cell_type": "markdown",
      "metadata": {
        "id": "KTW-t3_17QiB"
      },
      "source": [
        "## Rangos"
      ]
    },
    {
      "cell_type": "markdown",
      "metadata": {
        "id": "Mm_IJKGSJjsb"
      },
      "source": [
        "Es una función que devuelve una secuencia de numeros.\n",
        "* Todas las secuencias en Python comienzan a numerarse desde 0 (n-1)-ésimo elemento de un tupla"
      ]
    },
    {
      "cell_type": "markdown",
      "metadata": {
        "id": "BIhjAqRDwmdb"
      },
      "source": [
        "* crear una variable rango con un solo argumento"
      ]
    },
    {
      "cell_type": "code",
      "execution_count": null,
      "metadata": {
        "colab": {
          "base_uri": "https://localhost:8080/"
        },
        "id": "TjwUe0sqKeuY",
        "outputId": "6d1fdedd-6d76-4eb5-8c64-144249639e74"
      },
      "outputs": [],
      "source": [
        "# el caso en el que le doy solo una entrada al rango\n",
        "rang = range(10) # asignar a una variable un rango\n",
        "print(type(rang)) # muestreme en pantalla el tipo de objeto o informacion en la variable\n",
        "print(rang) # muestre la informacion dentro del objeto"
      ]
    },
    {
      "cell_type": "code",
      "execution_count": null,
      "metadata": {
        "colab": {
          "base_uri": "https://localhost:8080/"
        },
        "id": "oamGf_TnAlJv",
        "outputId": "7bcb6a4b-01ba-4edb-b3e7-7e00dc36fe52"
      },
      "outputs": [],
      "source": [
        "# el caso en el que le doy solo una entrada al rango\n",
        "rang = range(5) # asignar a una variable un rango\n",
        "print(type(rang)) # muestreme en pantalla el tipo de objeto o informacion en la variable\n",
        "print(rang) # muestre la informacion dentro del objeto\n",
        "\n",
        "# FOR estructura de control o bucles o ciclos\n",
        "for elemento in rang: #\n",
        "  print(elemento) # va a mostrar en pantalla los elementos del rango"
      ]
    },
    {
      "cell_type": "markdown",
      "metadata": {
        "id": "81eKg86Fwmdc"
      },
      "source": [
        "* crear una variable rango con dos argumentos"
      ]
    },
    {
      "cell_type": "code",
      "execution_count": null,
      "metadata": {
        "colab": {
          "base_uri": "https://localhost:8080/"
        },
        "id": "Dejnealo7jj6",
        "outputId": "852343ff-09ab-4a4d-9b63-f30eb43e9395"
      },
      "outputs": [],
      "source": [
        "# el caso en el que le doy dos entrada al rango\n",
        "rang = range(105, 108) # asignar a una variable un rango\n",
        "print(type(rang)) # muestreme en pantalla el tipo de objeto o informacion en la variable\n",
        "print(rang) # muestre la informacion dentro del objeto\n",
        "\n",
        "# FOR estructura de control o bucles o ciclos\n",
        "for num in rang: #\n",
        "  print(num) # va a mostrar en pantalla los elementos del rango"
      ]
    },
    {
      "cell_type": "markdown",
      "metadata": {
        "id": "ajkc6voJwmdc"
      },
      "source": [
        "* crear una variable rango con tres argumentos"
      ]
    },
    {
      "cell_type": "code",
      "execution_count": null,
      "metadata": {
        "colab": {
          "base_uri": "https://localhost:8080/"
        },
        "id": "WN9x3nDW74wB",
        "outputId": "c93d8deb-1b50-4156-8539-e42987636039"
      },
      "outputs": [],
      "source": [
        "# el caso en el que le doy tres entrada al rango\n",
        "rang = range(1, 29, 7) # saltos al rango 5,7,9,11,13,15 ... no incluye 16\n",
        "print(type(rang))\n",
        "print(rang)\n",
        "\n",
        "for num in rang:\n",
        "  print(num)"
      ]
    },
    {
      "cell_type": "code",
      "execution_count": null,
      "metadata": {
        "colab": {
          "base_uri": "https://localhost:8080/"
        },
        "id": "QCKo-XjfKTvj",
        "outputId": "f5b5a864-5429-43b8-f775-aad45b6eb9b6"
      },
      "outputs": [],
      "source": [
        "# atencion IDENTACION\n",
        "# Para cada (i) en el rango **\n",
        "for i in range(102, 298, 32):\n",
        "  j = i*2\n",
        "  # operar segun el tipo variable : para concatenar se necesitan vars de texto\n",
        "  print('-----------------------------------')\n",
        "  print('el resultado de la iteracion es '+str(i)+' y '+str(j))"
      ]
    },
    {
      "cell_type": "code",
      "execution_count": null,
      "metadata": {
        "colab": {
          "base_uri": "https://localhost:8080/"
        },
        "id": "JJ2NNsDNJTfb",
        "outputId": "91157b6d-eedd-4d3d-f0d9-94ad72dd6682"
      },
      "outputs": [],
      "source": [
        "# si se pueden dar saltos no enteros\n",
        "# test_range = range(0, 1, 0.25) # esperado : 0, 0.25, 0.5, 0.75\n",
        "# print(test_range)\n",
        "# cual sería la otra opcion?\n",
        "# 1ra : opcion\n",
        "print('1ra opcion')\n",
        "test_range = range(0, 4, 1) # esperado : 0, 0.25, 0.5, 0.75 --> 0, 25, 50 , 75\n",
        "print(test_range)\n",
        "for elemento in test_range:\n",
        "  print(elemento*0.25)\n",
        "\n",
        "# 2da : opcion\n",
        "print('2da opcion')\n",
        "test_range = range(0, 100, 25) # esperado : 0, 0.25, 0.5, 0.75 --> 0, 25, 50 , 75\n",
        "print(test_range)\n",
        "for elemento in test_range:\n",
        "  print(elemento/100)"
      ]
    },
    {
      "cell_type": "markdown",
      "metadata": {
        "id": "pBCamJX7QmNU"
      },
      "source": [
        "## listas"
      ]
    },
    {
      "cell_type": "markdown",
      "metadata": {
        "id": "GbT6Wb8HPfIt"
      },
      "source": [
        "* Son secuencias mutables\n",
        "* Para buscar en las listas, se utiliza un algoritmo de comparación que tarda cada vez más a medida que la lista se hace más larga.\n",
        "\n"
      ]
    },
    {
      "cell_type": "code",
      "execution_count": null,
      "metadata": {
        "colab": {
          "base_uri": "https://localhost:8080/"
        },
        "id": "5_H-4P88NUW7",
        "outputId": "81de8cdf-9dc7-43b1-db0d-78b05fbf9a9e"
      },
      "outputs": [],
      "source": [
        "list = [] # asignar una lista vacia a la variable\n",
        "print(list)\n",
        "print(type(list))"
      ]
    },
    {
      "cell_type": "code",
      "execution_count": null,
      "metadata": {
        "colab": {
          "base_uri": "https://localhost:8080/"
        },
        "id": "gt6VGPAoAlJw",
        "outputId": "aa324ed9-c2ff-440e-f243-9ad205a7c05f"
      },
      "outputs": [],
      "source": [
        "# ejemplo del futuro\n",
        "list = ['2024', '05','06']\n",
        "\n",
        "# acceder a la información de la lista\n",
        "print('Hoy es el día {}/{}/{}'.format(list[0],list[1],list[2]))\n",
        "print(list)\n",
        "print(type(list))"
      ]
    },
    {
      "cell_type": "code",
      "execution_count": null,
      "metadata": {
        "colab": {
          "base_uri": "https://localhost:8080/"
        },
        "id": "C91U45WIQxSA",
        "outputId": "3a927895-da78-4a7b-fce4-7bb0e6a5a8cd"
      },
      "outputs": [],
      "source": [
        "list = ['2022', '08', '20'] # asignar una lista de tres elementos/variables de texto\n",
        "print(list)\n",
        "print(type(list))"
      ]
    },
    {
      "cell_type": "code",
      "execution_count": null,
      "metadata": {
        "colab": {
          "base_uri": "https://localhost:8080/"
        },
        "id": "2O5XdlYkM9GB",
        "outputId": "4f9f59a9-b1df-45ca-c74f-864fcd220b7f"
      },
      "outputs": [],
      "source": [
        "for i in list:\n",
        "  print('------')\n",
        "  print(i)\n",
        "  print(type(i))"
      ]
    },
    {
      "cell_type": "code",
      "execution_count": null,
      "metadata": {
        "colab": {
          "base_uri": "https://localhost:8080/"
        },
        "id": "vy1aT1y5AlJx",
        "outputId": "e9f28a9b-3f60-44a9-a28a-abcc1f45a638"
      },
      "outputs": [],
      "source": [
        "list = [2022,8,20] # asignar una lista de tres elementos/variables de numericos\n",
        "print(list)\n",
        "print(type(list))"
      ]
    },
    {
      "cell_type": "code",
      "execution_count": null,
      "metadata": {
        "colab": {
          "base_uri": "https://localhost:8080/"
        },
        "id": "xjT4oTqrNNX7",
        "outputId": "ccb1e079-5f97-46b4-87d9-7fedaf6ef814"
      },
      "outputs": [],
      "source": [
        "for i in list:\n",
        "  print('------')\n",
        "  print(i)\n",
        "  print(type(i))"
      ]
    },
    {
      "cell_type": "code",
      "execution_count": null,
      "metadata": {
        "colab": {
          "base_uri": "https://localhost:8080/"
        },
        "id": "SP90i_5eAlJx",
        "outputId": "9960677e-1009-4c8f-8c9e-4b571a025bf8"
      },
      "outputs": [],
      "source": [
        "list = [2022, 8, 20, 'sabado', True] # asignar una lista de tres elementos/variables numericos o de texto\n",
        "print(list)\n",
        "print(type(list))"
      ]
    },
    {
      "cell_type": "code",
      "execution_count": null,
      "metadata": {
        "colab": {
          "base_uri": "https://localhost:8080/"
        },
        "id": "jOUce7ExNplj",
        "outputId": "418fc93b-7a1d-4273-9e29-b51ffee2bd20"
      },
      "outputs": [],
      "source": [
        "for i in list:\n",
        "  print('------')\n",
        "  print(i)\n",
        "  print(type(i))"
      ]
    },
    {
      "cell_type": "markdown",
      "metadata": {
        "id": "5rtyz6r3AlJx"
      },
      "source": [
        "* metodo para mutar listas"
      ]
    },
    {
      "cell_type": "code",
      "execution_count": null,
      "metadata": {
        "colab": {
          "base_uri": "https://localhost:8080/"
        },
        "id": "Qf6m3EGfRBfh",
        "outputId": "c55e79f4-e1d5-4066-e128-dd8954e9c617"
      },
      "outputs": [],
      "source": [
        "list_a = ['2022', '08', '20'] #crear la lista\n",
        "txt_b = 'sabado'# variable de texto\n",
        "print(list_a)\n",
        "list_a.append(txt_b)# metodo append para agregar a la lista un nuevo elemento\n",
        "print(list_a)\n",
        "list_a.append('Domingo')# metodo append para agregar a la lista un nuevo elemento\n",
        "print(list_a)"
      ]
    },
    {
      "cell_type": "code",
      "execution_count": null,
      "metadata": {
        "colab": {
          "base_uri": "https://localhost:8080/"
        },
        "id": "iK0ALjA4Q3oZ",
        "outputId": "f244924a-4c3a-4ab2-ff5d-8940138d5a8d"
      },
      "outputs": [],
      "source": [
        "list = [2022, 8, 20] #crear la lista\n",
        "txt_a = 'sabado' # variable de texto\n",
        "\n",
        "list.append(txt_a) # metodo append para agregar a la lista un nuevo elemento\n",
        "print(list)"
      ]
    },
    {
      "cell_type": "code",
      "execution_count": null,
      "metadata": {
        "colab": {
          "base_uri": "https://localhost:8080/"
        },
        "id": "EVoFpj_UQQfr",
        "outputId": "401b6acf-4b06-4a91-e626-4bf332e54883"
      },
      "outputs": [],
      "source": [
        "# https://www.w3schools.com/python/python_ref_list.asp\n",
        "# insert()\tAdds an element at the specified position\n",
        "\n",
        "list = [2022, 8, 20] #crear la lista\n",
        "txt_a = 'sabado' # variable de texto\n",
        "\n",
        "list.insert(1,txt_a)\n",
        "print(list)"
      ]
    },
    {
      "cell_type": "code",
      "execution_count": null,
      "metadata": {
        "colab": {
          "base_uri": "https://localhost:8080/",
          "height": 35
        },
        "id": "PpHrD3K1TJrd",
        "outputId": "7ce21a0c-b9ce-4f7b-f469-3f5d88b7a749"
      },
      "outputs": [],
      "source": [
        "list = ['2022', '08', '20']\n",
        "\n",
        "list[1] # posicion de elementos en una lista"
      ]
    },
    {
      "cell_type": "code",
      "execution_count": null,
      "metadata": {
        "colab": {
          "base_uri": "https://localhost:8080/"
        },
        "id": "HqBL92EaTutU",
        "outputId": "42694b1a-cd71-4469-9f78-37039aee6d20"
      },
      "outputs": [],
      "source": [
        "list = ['2022', '08', '20',456,951,True,'215']\n",
        "\n",
        "# list[1:6] # seleccionar segun un rango de posiciones\n",
        "list[1:] # seleccionar segun un rango de posiciones\n",
        "\n",
        "# como obtener ['08', '20',456,951,True,'215']"
      ]
    },
    {
      "cell_type": "code",
      "execution_count": null,
      "metadata": {
        "colab": {
          "base_uri": "https://localhost:8080/"
        },
        "id": "AfLkvOpPTxpc",
        "outputId": "63235d3e-fb83-4210-e000-42c1498edc78"
      },
      "outputs": [],
      "source": [
        "list = ['2022', '08', '20','año','jueves','futbol']\n",
        "list[4:] # seleccionar los elementos desde una posicion hasta la ultima (inluyendola)"
      ]
    },
    {
      "cell_type": "code",
      "execution_count": null,
      "metadata": {
        "colab": {
          "base_uri": "https://localhost:8080/"
        },
        "id": "ayhLTdaiwmde",
        "outputId": "a9b91ee3-7d02-46a1-f031-2c18a4250e3b"
      },
      "outputs": [],
      "source": [
        "list = ['2022', '08', '20','año','jueves','futbol']\n",
        "list[:3] # seleccionar los elementos desde una posicion hasta la ultima (inluyendola)"
      ]
    },
    {
      "cell_type": "code",
      "execution_count": null,
      "metadata": {
        "colab": {
          "base_uri": "https://localhost:8080/"
        },
        "id": "ulSgCzMzPWa9",
        "outputId": "9bb84772-45ea-4e71-9bcc-b148023f6394"
      },
      "outputs": [],
      "source": [
        "list = ['2022', '08', '20','año','jueves','futbol']\n",
        "list[:] # seleccionar los elementos desde una posicion hasta la ultima (inluyendola)"
      ]
    },
    {
      "cell_type": "code",
      "execution_count": null,
      "metadata": {
        "colab": {
          "base_uri": "https://localhost:8080/"
        },
        "id": "pUU3UuNgT1io",
        "outputId": "76bcded3-5188-4033-966a-5e1f9d4d6b6a"
      },
      "outputs": [],
      "source": [
        "list = ['2022', '08', '20']\n",
        "\n",
        "'20' in list # verificar condición de si existe un elemento en la lista"
      ]
    },
    {
      "cell_type": "code",
      "execution_count": null,
      "metadata": {
        "colab": {
          "base_uri": "https://localhost:8080/"
        },
        "id": "pbWFypvRAlJy",
        "outputId": "9af9c9bb-13ff-4eeb-e6e2-3f1559937dca"
      },
      "outputs": [],
      "source": [
        "list = ['2022', '08', '20']\n",
        "\n",
        "20 in list # verificar condición de si existe un elemento en la lista"
      ]
    },
    {
      "cell_type": "code",
      "execution_count": null,
      "metadata": {
        "colab": {
          "base_uri": "https://localhost:8080/"
        },
        "id": "Qu-SX8U_T8c2",
        "outputId": "9d8f094c-71b6-4510-8e3d-cfe392f9c899"
      },
      "outputs": [],
      "source": [
        "list = ['2022', '08', '20']\n",
        "\n",
        "print(len(list)) # dimensiones de las listas\n",
        "print(list)"
      ]
    },
    {
      "cell_type": "markdown",
      "metadata": {
        "id": "Xo0odg0wAlJy"
      },
      "source": [
        "* diferencia entre .append() y .insert()"
      ]
    },
    {
      "cell_type": "code",
      "execution_count": null,
      "metadata": {
        "colab": {
          "base_uri": "https://localhost:8080/"
        },
        "id": "aBu6KSTaAlJy",
        "outputId": "5116e279-0fbc-4d94-fc4a-ad0540451ac3"
      },
      "outputs": [],
      "source": [
        "lista = [0,1,2,3] # inicio una lista vacia\n",
        "\n",
        "lista.append('nuevo_elemento') # le agrego un elemento nuevo\n",
        "lista.append('ultimo_elemento') # le agrego otro elemento nuevo\n",
        "lista.append('otra_vez_ultimo_elemento') # le agrego otro elemento nuevo\n",
        "lista"
      ]
    },
    {
      "cell_type": "code",
      "execution_count": null,
      "metadata": {
        "colab": {
          "base_uri": "https://localhost:8080/"
        },
        "id": "bl1pM1UYQFjy",
        "outputId": "c7536aeb-6568-413c-f434-f53e1a27e4ce"
      },
      "outputs": [],
      "source": [
        "list = ['2022', '08', '20'] # creo una lista\n",
        "\n",
        "list.insert(0,'Hoy') # metodo insert para agregar un elemento indicando una posicion\n",
        "print(list)"
      ]
    },
    {
      "cell_type": "code",
      "execution_count": null,
      "metadata": {
        "colab": {
          "base_uri": "https://localhost:8080/"
        },
        "id": "7p9NMODHwmdf",
        "outputId": "2ac15833-03e6-4382-d707-28c6d1b2e4f5"
      },
      "outputs": [],
      "source": [
        "list = ['2022', '08', '20'] # creo una lista\n",
        "\n",
        "list.insert(1,'Hoy') # metodo insert para agregar un elemento indicando una posicion\n",
        "print(list)"
      ]
    },
    {
      "cell_type": "code",
      "execution_count": null,
      "metadata": {
        "colab": {
          "base_uri": "https://localhost:8080/"
        },
        "id": "Isj2mNTfQImR",
        "outputId": "7cbf142b-6e27-4323-967e-75d41252e436"
      },
      "outputs": [],
      "source": [
        "# remove()\tRemoves the first item with the specified value\n",
        "list = ['2022', '08', '20','08'] # creo una lista\n",
        "\n",
        "list.remove('08') # elimino elemento de la lista\n",
        "print(list)"
      ]
    },
    {
      "cell_type": "code",
      "execution_count": null,
      "metadata": {
        "colab": {
          "base_uri": "https://localhost:8080/"
        },
        "id": "4bNaGfLnZrTD",
        "outputId": "fd4f42d5-8906-4231-93df-900dec2b4fc9"
      },
      "outputs": [],
      "source": [
        "# tengo una lista con un elemento que se repite n veces y requiero eliminar ese elemento cada vez que aparece\n",
        "\n",
        "# crear lista\n",
        "lista_ejemplo = [0,1,1,0,1,1,1,1,1,0,0,0,1,1,1,2,3]\n",
        "# definir elemento a eliminar\n",
        "elemento_a_borrar = 0\n",
        "# encontrar cuantas veces esta ese elemento\n",
        "# count()\tReturns the number of elements with the specified value\n",
        "n_veces = lista_ejemplo.count(elemento_a_borrar)\n",
        "\n",
        "print('-------Estado Inicial --------')\n",
        "print(lista_ejemplo)\n",
        "\n",
        "# repetir la instruccion n veces\n",
        "# para cada elemento en un rango de n veces : remueva el elemento deseado\n",
        "for elemento in range(n_veces):\n",
        "  lista_ejemplo.remove(elemento_a_borrar)\n",
        "  print('-------Resultado parcial--------')\n",
        "  print(lista_ejemplo)\n",
        "  print('-------progreso {} %--------'.format(((elemento+1)/n_veces)*100))\n",
        "\n",
        "#\n",
        "print('-------Resultado final--------')\n",
        "print(lista_ejemplo)"
      ]
    },
    {
      "cell_type": "code",
      "execution_count": null,
      "metadata": {
        "colab": {
          "base_uri": "https://localhost:8080/"
        },
        "id": "nmx97bnYZFvP",
        "outputId": "0634c8ba-a262-4090-af16-447b0d61ac84"
      },
      "outputs": [],
      "source": [
        "# pop()\tRemoves the element at the specified position\n",
        "list = ['2022', '08', '20'] # creo una lista\n",
        "\n",
        "list.pop(2) # elimino elemento de la lista\n",
        "print(list)"
      ]
    },
    {
      "cell_type": "code",
      "execution_count": null,
      "metadata": {
        "colab": {
          "base_uri": "https://localhost:8080/"
        },
        "id": "8DbJAvcqRur9",
        "outputId": "27e29b7a-b5d4-4cfb-c724-2f1d4c97da0c"
      },
      "outputs": [],
      "source": [
        "# pop()\tRemoves the element at the specified position\n",
        "list = ['2022', '08', '20'] # creo una lista\n",
        "\n",
        "list.pop(0) # elimino elemento de la lista\n",
        "print(list)"
      ]
    },
    {
      "cell_type": "code",
      "execution_count": null,
      "metadata": {
        "colab": {
          "base_uri": "https://localhost:8080/"
        },
        "id": "CcdfblLiAlJz",
        "outputId": "ed218eac-5781-49a4-a810-8a9e70fa48b8"
      },
      "outputs": [],
      "source": [
        "list = ['2022', '08', '20']\n",
        "\n",
        "list.index('08') # cual es el indice/posicion del elemento buscado en la lista"
      ]
    },
    {
      "cell_type": "code",
      "execution_count": null,
      "metadata": {
        "colab": {
          "base_uri": "https://localhost:8080/"
        },
        "id": "bJT5h1cdQjRp",
        "outputId": "2f15b817-5260-48d6-b493-8d2c4aae92e7"
      },
      "outputs": [],
      "source": [
        "# 1 - ojo :  en caso ded que no esté el elemento buscado genera error. preparar excepcion\n",
        "# 2- index()\tReturns the index of the first element with the specified value\n",
        "\n",
        "list = ['2022', '08', '20',456,951,True,'215','20',215]\n",
        "\n",
        "print(list.index('20')) # metodo index para averiguar el indice en el que se posiciona un elemento"
      ]
    },
    {
      "cell_type": "markdown",
      "metadata": {
        "id": "ewsXo0_cIWiF"
      },
      "source": [
        "## Tuplas"
      ]
    },
    {
      "cell_type": "markdown",
      "metadata": {
        "id": "q1VkN8-UJN9g"
      },
      "source": [
        "Las tuplas son secuencias, igual que las cadenas, y se puede utilizar la misma notación de índices que en las cadenas para obtener cada una de sus componentes.\n",
        "\n",
        "* Es posible anidar (y desanidar) tuplas\n",
        "* Las tuplas son inmutables\n"
      ]
    },
    {
      "cell_type": "code",
      "execution_count": null,
      "metadata": {
        "colab": {
          "base_uri": "https://localhost:8080/"
        },
        "id": "slqeTjFLAlJ0",
        "outputId": "5ace4ce4-404d-44f4-ed11-9b04eed4fe47"
      },
      "outputs": [],
      "source": [
        "# 1ra forma de definir tupla\n",
        "tupla = (1,2,3)\n",
        "print(tupla)\n",
        "print(type(tupla))\n",
        "\n",
        "# 2da forma de definir tupla\n",
        "tupla_2 = 1,2,3\n",
        "print(tupla_2)\n",
        "print(type(tupla_2))"
      ]
    },
    {
      "cell_type": "code",
      "execution_count": null,
      "metadata": {
        "colab": {
          "base_uri": "https://localhost:8080/"
        },
        "id": "w7ssSOFgwmdg",
        "outputId": "fadc8c77-6de9-485c-8791-af2b1be2e22e"
      },
      "outputs": [],
      "source": [
        "tup = (20, \"Agosto\", 2022) # crear tuplas\n",
        "\n",
        "# consultar o preguntar\n",
        "print(type(tup)) # que tipo de de variable\n",
        "print(tup)"
      ]
    },
    {
      "cell_type": "code",
      "execution_count": null,
      "metadata": {
        "colab": {
          "base_uri": "https://localhost:8080/"
        },
        "id": "NATvL-SCIYe5",
        "outputId": "cc416b4a-8c3c-42b3-a0b2-fe3a4c712086"
      },
      "outputs": [],
      "source": [
        "tup = 20, \"Agosto\", 2022 # crear tuplas\n",
        "\n",
        "# consultar o preguntar\n",
        "print(type(tup)) # que tipo de de variable\n",
        "print(tup)"
      ]
    },
    {
      "cell_type": "markdown",
      "metadata": {
        "id": "3ciZn424AlJ0"
      },
      "source": [
        "* anidar tuplas"
      ]
    },
    {
      "cell_type": "code",
      "execution_count": null,
      "metadata": {
        "colab": {
          "base_uri": "https://localhost:8080/"
        },
        "id": "Hc7WJeVdK92g",
        "outputId": "625e8e92-6052-4bc4-a1a8-76ead17111c7"
      },
      "outputs": [],
      "source": [
        "tup_a = (20, \"Agosto\", 2022) # construir una tupla\n",
        "tup_b = ('hoy', tup_a) # anidar tuplas : construir una nueva  tupla\n",
        "\n",
        "print(tup_b) # mostrar en pantalla\n",
        "# cuantos elemento tiene la tupla final (b)"
      ]
    },
    {
      "cell_type": "code",
      "execution_count": null,
      "metadata": {
        "colab": {
          "base_uri": "https://localhost:8080/"
        },
        "id": "bvjlKRi_UVmD",
        "outputId": "a9176479-e215-4ffc-e775-f3893d99636c"
      },
      "outputs": [],
      "source": [
        "print(len(tup_a))\n",
        "print(len(tup_b))"
      ]
    },
    {
      "cell_type": "markdown",
      "metadata": {
        "id": "WkuK0k0JMIAt"
      },
      "source": [
        "**Empaquetado y desempaquetado**"
      ]
    },
    {
      "cell_type": "code",
      "execution_count": null,
      "metadata": {
        "colab": {
          "base_uri": "https://localhost:8080/"
        },
        "id": "PjMV84CCL7rA",
        "outputId": "cad6aa7a-d8c8-4f26-e9ae-388b905a4d3a"
      },
      "outputs": [],
      "source": [
        "tup = 20, \"Agosto\", 2022 # crear una tupla empaquetando elementos\n",
        "print(type(tup))\n",
        "print(tup)"
      ]
    },
    {
      "cell_type": "code",
      "execution_count": null,
      "metadata": {
        "colab": {
          "base_uri": "https://localhost:8080/"
        },
        "id": "HQNKIfpzwmdh",
        "outputId": "87f00b04-862f-4d43-e7f2-18e9a95585aa"
      },
      "outputs": [],
      "source": [
        "# crear una tupla empaquetando\n",
        "fechas_tup = 20, \"Agosto\", 2022\n",
        "\n",
        "# desempacar una tupla\n",
        "# importante : debe alistar exactamente la misma cantidad de variables que elementos de la tupla\n",
        "dia, mes, anio = fechas_tup\n",
        "\n",
        "# verificar en pantalla resultado y proceso\n",
        "print(type(fechas_tup))\n",
        "print(fechas_tup)\n",
        "print(type(dia))\n",
        "print(dia)\n",
        "print(type(mes))\n",
        "print(mes)\n",
        "print(type(anio))\n",
        "print(anio)"
      ]
    },
    {
      "cell_type": "markdown",
      "metadata": {
        "id": "ZU9Gs69Wwmdh"
      },
      "source": [
        "* ejemplo"
      ]
    },
    {
      "cell_type": "code",
      "execution_count": null,
      "metadata": {
        "colab": {
          "base_uri": "https://localhost:8080/"
        },
        "id": "Tc62CxTrhArf",
        "outputId": "c232b073-6f0c-488a-a773-fbe49ef3b490"
      },
      "outputs": [],
      "source": [
        "fechas_tup = 20, \"Agosto\", 2022\n",
        "fechas_tup[2]"
      ]
    },
    {
      "cell_type": "code",
      "execution_count": null,
      "metadata": {
        "colab": {
          "base_uri": "https://localhost:8080/"
        },
        "id": "iJv4PXgMwmdh",
        "outputId": "0449cb0b-ff75-4975-dd99-ae8d61604d6a"
      },
      "outputs": [],
      "source": [
        "# pack empacar\n",
        "# definir dos tuplas\n",
        "tupla_a = ('lunes','martes','miercoles') # tupla incial\n",
        "print(tupla_a)\n",
        "print(len(tupla_a))\n",
        "\n",
        "tupla_b = ('lunes','martes','miercoles','jueves','viernes') # tupla referencia\n",
        "print(tupla_b)\n",
        "print(len(tupla_b))"
      ]
    },
    {
      "cell_type": "code",
      "execution_count": null,
      "metadata": {
        "colab": {
          "base_uri": "https://localhost:8080/"
        },
        "id": "y9d4crchwmdh",
        "outputId": "36427cdd-09c8-4702-d8f9-db062989b735"
      },
      "outputs": [],
      "source": [
        "# definir tupla a partir de una existente y nuevos elementos\n",
        "tupla_c = tupla_a, 'jueves','viernes'\n",
        "print(tupla_c)\n",
        "print(len(tupla_c))"
      ]
    },
    {
      "cell_type": "code",
      "execution_count": null,
      "metadata": {
        "colab": {
          "base_uri": "https://localhost:8080/"
        },
        "id": "Ohctk6phAlJ0",
        "outputId": "28ea1abe-941c-43c9-c58b-56d0230c5c18"
      },
      "outputs": [],
      "source": [
        "\n",
        "# unpack desempacar\n",
        "# al desempacar las tup´las se debe reservar la misma cantidad de variables adentro de la tupla\n",
        "ele_1_tup_a, ele_2_tup_a, ele_3_tup_a = tupla_a\n",
        "\n",
        "# empacar usando los elementos desempacados\n",
        "tupla_d = ele_1_tup_a,ele_2_tup_a,ele_3_tup_a, 'jueves','viernes'\n",
        "print(tupla_d)\n",
        "print(len(tupla_d))"
      ]
    },
    {
      "cell_type": "markdown",
      "metadata": {
        "id": "PKVwthpaIY-u"
      },
      "source": [
        "## Diccionarios"
      ]
    },
    {
      "cell_type": "markdown",
      "metadata": {
        "id": "1zvU2P8cNngy"
      },
      "source": [
        "Un diccionario es una colección no-ordenada de valores que son accedidos a traves de una clave\n",
        "* El algoritmo que usa Python internamente para buscar un elemento en un diccionario es muy distinto que el que utiliza para buscar en listas. Para buscar en diccionarios se utiliza un algoritmo llamado hash, que se basa en realizar un cálculo numérico sobre la clave del elemento, y tiene una propiedad muy interesante: sin importar cuántos elementos tenga el diccionario, el tiempo de búsqueda es siempre aproximadamente igual."
      ]
    },
    {
      "cell_type": "code",
      "execution_count": null,
      "metadata": {
        "colab": {
          "base_uri": "https://localhost:8080/"
        },
        "id": "nqwWIHXkIagn",
        "outputId": "703b9021-b1a3-4096-e9e9-0ea45a207cc9"
      },
      "outputs": [],
      "source": [
        "dicti = {} # iniciar un diccionario sin informacion\n",
        "print(type(dicti))\n",
        "print(dicti)"
      ]
    },
    {
      "cell_type": "code",
      "execution_count": null,
      "metadata": {
        "colab": {
          "base_uri": "https://localhost:8080/"
        },
        "id": "Amd96mMzOB7o",
        "outputId": "fa5d567f-7c09-4c14-8a1d-c6ec36352135"
      },
      "outputs": [],
      "source": [
        "# creo un diccionario vacio\n",
        "dicti = {}\n",
        "\n",
        "# adiciono los elementos\n",
        "dicti[\"Jairo\"] = [29, 'ingenieria'] # asignar informacion a llaves del diccionario\n",
        "dicti[\"Carlos\"] = [29, 'Matematicas','estadistica','fisica'] # asignar informacion a llaves del diccionario\n",
        "dicti[\"Juliana\"] = [25, 'derecho','penal'] # asignar informacion a llaves del diccionario\n",
        "dicti['andres'] = 'se murió'\n",
        "\n",
        "print(type(dicti)) # que tipo de dato quedó siendo\n",
        "print(dicti) # muestre la informacion que tiene el diccionario por dentro"
      ]
    },
    {
      "cell_type": "code",
      "execution_count": null,
      "metadata": {
        "colab": {
          "base_uri": "https://localhost:8080/"
        },
        "id": "jgAi0kDajOOP",
        "outputId": "6b2b4b4b-8751-4c4b-fd30-270e3ee19eee"
      },
      "outputs": [],
      "source": [
        "# crear un diccionario con la informacion\n",
        "\n",
        "dicti = {\n",
        "    'Jairo': [29, 'ingenieria'],\n",
        "    'Carlos': [29, 'Matematicas', 'estadistica', 'fisica'],\n",
        "    'Juliana': [25, 'derecho', 'penal'],\n",
        "    'andres': 'se murió'\n",
        "    }\n",
        "\n",
        "print(type(dicti)) # que tipo de dato quedó siendo\n",
        "print(dicti) # muestre la informacion que tiene el diccionario por dentro"
      ]
    },
    {
      "cell_type": "code",
      "execution_count": null,
      "metadata": {
        "colab": {
          "base_uri": "https://localhost:8080/",
          "height": 35
        },
        "id": "ZZhZDZVJj9vn",
        "outputId": "27baea37-72e5-4a1a-e924-d41562c9b6ae"
      },
      "outputs": [],
      "source": [
        "# crear diccionario con sus items\n",
        "dicti = {\n",
        "    'Jairo': [29, 'ingenieria'],\n",
        "    'Carlos': [29, 'Matematicas', 'estadistica', 'fisica'],\n",
        "    'Juliana': [25, 'derecho', 'penal'],\n",
        "    'andres': 'se murió'\n",
        "    }\n",
        "\n",
        "# posicionarme en una llave y me entrega el contenido asociado\n",
        "dicti['andres']"
      ]
    },
    {
      "cell_type": "code",
      "execution_count": null,
      "metadata": {
        "colab": {
          "base_uri": "https://localhost:8080/"
        },
        "id": "Rh8z2arzOoVb",
        "outputId": "644974c0-dc39-486c-e279-7f9dd5db3068"
      },
      "outputs": [],
      "source": [
        "dicti = {} # creo diccionario vacio\n",
        "\n",
        "# creo un diccionario con contenido sobrescribiendo la variable dicti\n",
        "dicti = {\n",
        "    'Jairo': [29, 'ingenieria'],\n",
        "    'Carlos': [29, 'Matematicas', 'estadistica', 'fisica'],\n",
        "    'Juliana': [25, 'derecho', 'penal'],\n",
        "    'andres': 'se murió'\n",
        "    }\n",
        "\n",
        "# asignar a una variable la key que quiero consultar\n",
        "clave = 'andres'\n",
        "\n",
        "print(type(dicti[clave] )) # muestre enn pantalla el tipo de dato de la llave jairo\n",
        "print(dicti[clave]) # muestre la informacion que tiene adentro de la llave jairo"
      ]
    },
    {
      "cell_type": "code",
      "execution_count": null,
      "metadata": {
        "colab": {
          "base_uri": "https://localhost:8080/"
        },
        "id": "0WeXxwwUL0X-",
        "outputId": "80d9070a-9cdd-4277-bbe5-12298a9434ac"
      },
      "outputs": [],
      "source": [
        "dicti.get('andres') == dicti['andres']"
      ]
    },
    {
      "cell_type": "code",
      "execution_count": null,
      "metadata": {
        "colab": {
          "base_uri": "https://localhost:8080/"
        },
        "id": "aoIoHo7GAlJ1",
        "outputId": "26778114-a02a-4b0d-f6a2-06921863e629"
      },
      "outputs": [],
      "source": [
        "dicti = {} # creo diccionario vacio\n",
        "dicti = {\n",
        "    'Jairo': [29, 'ingenieria'],\n",
        "    'Carlos': [29, 'Matematicas', 'estadistica', 'fisica'],\n",
        "    'Juliana': [25, 'derecho', 'penal'],\n",
        "    'andres': 'se murió'\n",
        "    }\n",
        "\n",
        "clave = 'Carlos'\n",
        "print(type(dicti.get(clave) ))  # metodo get para traer la informacion que tiene en una llave\n",
        "print(dicti.get(clave)) #"
      ]
    },
    {
      "cell_type": "code",
      "execution_count": null,
      "metadata": {
        "colab": {
          "base_uri": "https://localhost:8080/"
        },
        "id": "J3YVUNLuwmdi",
        "outputId": "fb69f401-4e66-4752-d013-8e2716b60820"
      },
      "outputs": [],
      "source": [
        "# ejemplo guardado de credenciales\n",
        "\n",
        "informacion_conexion = {\n",
        "    'usuario' : 'andres',\n",
        "    'contrasenia' : '9843615',\n",
        "    'permisos' : ['lectura','escritura','superadmin']\n",
        "\n",
        "}\n",
        "\n",
        "informacion_conexion"
      ]
    },
    {
      "cell_type": "code",
      "execution_count": null,
      "metadata": {
        "colab": {
          "base_uri": "https://localhost:8080/"
        },
        "id": "ltc58uY-MqGu",
        "outputId": "d10b615b-5569-48e1-b7b8-02c7034d6fa6"
      },
      "outputs": [],
      "source": [
        "# programa de validacion de credenciales---para andres---\n",
        "\n",
        "# paso 0\n",
        "# tener credenciales guardadas de referencia\n",
        "\n",
        "informacion_conexion = {\n",
        "    'usuario' : 'andres',\n",
        "    'contrasenia' : '9843615',\n",
        "    'permisos' : ['lectura','escritura','superadmin']\n",
        "\n",
        "}\n",
        "\n",
        "# 1er paso\n",
        "# solicitar usuario\n",
        "\n",
        "usuario_ingresado = input('escriba su usuario:')\n",
        "\n",
        "# 2do paso\n",
        "# confirmar si es valido usuario (si es igual)\n",
        "\n",
        "validacion_usuario = usuario_ingresado == informacion_conexion.get('usuario')\n",
        "\n",
        "# 3ro\n",
        "# si si es igual encaminarlo a validar si contraseña es igual  (solicitar contraseña)\n",
        "# si no es igual encaminarlo a un mensaje de 'usuario invalido'\n",
        "\n",
        "if validacion_usuario :\n",
        "  val_contrasena = input('escriba contrasena:') == informacion_conexion.get('contrasenia')\n",
        "else :\n",
        "  print('el usuario ingresado es invalido, revise nuevamente!')\n",
        "\n",
        "# 4to\n",
        "# si si es igual encaminarlo a un  mensaje de 'ingreso satisfactorio'\n",
        "# si no es igual encaminarlo a un mensaje de 'contraseña invalida'\n",
        "\n",
        "if val_contrasena :\n",
        "  print('Ud ha ingresado satisfactoriamente')\n",
        "else :\n",
        "  print('la contrasena ingresada es invalida, revise nuevamente!')\n",
        "\n",
        "# 5to\n",
        "# mensaje de descon...\n",
        "\n",
        "print('su sesión cerrara en 5 segundos!')\n",
        "\n",
        "# informacion_conexion.get('usuario')"
      ]
    },
    {
      "cell_type": "markdown",
      "metadata": {
        "id": "waEjd4d6PN4J"
      },
      "source": [
        "* ** ejemplo de recorrido**"
      ]
    },
    {
      "cell_type": "code",
      "execution_count": null,
      "metadata": {
        "colab": {
          "base_uri": "https://localhost:8080/"
        },
        "id": "7xPuurI8AlJ1",
        "outputId": "41b9bbc6-7eb7-4909-d1cc-135da5cec7d6"
      },
      "outputs": [],
      "source": [
        "# para cada i en el rango 0,1,2,...,9 muestre en pantalla el contenido de i\n",
        "for i in range(10):\n",
        "    print(i)"
      ]
    },
    {
      "cell_type": "code",
      "execution_count": null,
      "metadata": {
        "colab": {
          "base_uri": "https://localhost:8080/"
        },
        "id": "tZkxwyGPPEKT",
        "outputId": "d943edca-30cf-4b1b-a58e-db998e6bf4e3"
      },
      "outputs": [],
      "source": [
        "dicti = {} # creo un diccionario\n",
        "dicti[\"Jairo\"] = [29, 'ingenieria'] # lleno de informacion el diccionario segun llaves\n",
        "dicti[\"Carlos\"] = [29, 'Matematicas','estadistica','fisica'] # lleno de informacion el diccionario segun llaves\n",
        "dicti[\"Juliana\"] = [25, 'derecho','penal'] # lleno de informacion el diccionario segun llaves\n",
        "\n",
        "for nombre, info in dicti.items(): # for (estructura de control) usando items\n",
        "   print(nombre, \":\", info) # muestre en pantalla la concatenacion de el nbombre : informacion\n",
        "   print('============')"
      ]
    },
    {
      "cell_type": "code",
      "execution_count": null,
      "metadata": {
        "colab": {
          "base_uri": "https://localhost:8080/",
          "height": 193
        },
        "id": "URdJ-ZikDbBu",
        "outputId": "d0ee6f5a-628f-4cec-8c20-85f11d7ca959"
      },
      "outputs": [],
      "source": [
        "dicti = {}\n",
        "dicti[\"Jairo\"] = [29, 'ingenieria']\n",
        "dicti[\"Carlos\"] = [29, 'Matematicas','estadistica','fisica']\n",
        "dicti[\"Juliana\"] = [25, 'derecho','penal']\n",
        "dicti[\"Carla\"] = 25\n",
        "dicti[\"CarlaG\"] = 25\n",
        "dicti[\"Carla Giraldo\"] = 25\n",
        "\n",
        "# recorrer el diccionario con el metodo items desempacando el nombre y la informacion\n",
        "for nombre, info, por in dicti.items():\n",
        "   print(nombre, \":\", info, por)"
      ]
    },
    {
      "cell_type": "markdown",
      "metadata": {
        "id": "dxyWQi8EUSyl"
      },
      "source": [
        "## Condicionales"
      ]
    },
    {
      "cell_type": "markdown",
      "metadata": {
        "id": "ezg0_yztAlJ2"
      },
      "source": [
        "Comparar\n",
        "\n",
        "* menor <\n",
        "* mayor >\n",
        "* igual == (no usar = debido a que es el simbolo de asignacion)"
      ]
    },
    {
      "cell_type": "code",
      "execution_count": null,
      "metadata": {
        "colab": {
          "base_uri": "https://localhost:8080/"
        },
        "id": "Uc8JFLskwmdk",
        "outputId": "e21e9505-9a9f-46bf-e620-30855b9dd0fb"
      },
      "outputs": [],
      "source": [
        "# asignando...\n",
        "var = 15\n",
        "\n",
        "# comparando\n",
        "var == 20220820"
      ]
    },
    {
      "cell_type": "code",
      "execution_count": null,
      "metadata": {
        "colab": {
          "base_uri": "https://localhost:8080/"
        },
        "id": "rD5-VSPHAlJ2",
        "outputId": "61a4fa2a-f645-4ffc-e9b9-a108a5fc7171"
      },
      "outputs": [],
      "source": [
        "# asignando...\n",
        "var = 15\n",
        "\n",
        "# comparando\n",
        "var < 20220820"
      ]
    },
    {
      "cell_type": "markdown",
      "metadata": {},
      "source": [
        "## Estructuras de control de flujo"
      ]
    },
    {
      "cell_type": "markdown",
      "metadata": {},
      "source": [
        "| Grupo                          | Qué hace                                                                                    | Instrucciones principales              |\n",
        "| ------------------------------ | ------------------------------------------------------------------------------------------- | -------------------------------------- |\n",
        "| **Secuencial**                 | Ejecuta sentencias una tras otra, sin saltos explícitos.                                    | *(cualquier línea “normal” de código)* |\n",
        "| **Selección (ramificación)**   | Elige entre dos o más caminos.                                                              | `if … elif … else`                     |\n",
        "| **Iteración (bucles / loops)** | Repite un bloque mientras se cumpla una condición o mientras queden elementos por procesar. | `for` · `while`                        |\n",
        "| **Salto / control de bucle**   | Interrumpe o modifica la iteración actual.                                                  | `break` · `continue` · `pass`          |\n",
        "| **Manejo de excepciones**      | Desvía el flujo cuando ocurre un error en tiempo de ejecución.                              | `try … except … else … finally`        |\n",
        "| **Retorno**                    | Devuelve el control (y opcionalmente un valor) desde funciones.                             | `return`                               |\n"
      ]
    },
    {
      "cell_type": "markdown",
      "metadata": {},
      "source": [
        "### Selección (if / elif / else)"
      ]
    },
    {
      "cell_type": "code",
      "execution_count": null,
      "metadata": {},
      "outputs": [],
      "source": [
        "# si cumple una condicion realice una accion....\n",
        "\n",
        "var = 20220820 # uso = para asignar\n",
        "\n",
        "if (var == 20220820): # usando un IF ELIF ELSE\n",
        "  print(\"es igual\")"
      ]
    },
    {
      "cell_type": "code",
      "execution_count": null,
      "metadata": {},
      "outputs": [],
      "source": [
        "# si cumple una condicion realice una accion....\n",
        "\n",
        "var = 999999 # uso = para asignar\n",
        "\n",
        "if (var > 20220820): # usando un IF ELIF ELSE\n",
        "  print(\"es mayor\")"
      ]
    },
    {
      "cell_type": "code",
      "execution_count": null,
      "metadata": {
        "colab": {
          "base_uri": "https://localhost:8080/"
        },
        "id": "WaRTtgK_AlJ2",
        "outputId": "cb43b1e3-7f93-4895-8a24-94578340e107"
      },
      "outputs": [],
      "source": [
        "# si cumple una condicion realice una accion....\n",
        "\n",
        "var = 20220820 # uso = para asignar\n",
        "\n",
        "# usando un IF(si se cumple...) ELIF (otra condición) ELSE (todo caso contrario)\n",
        "if var < 20220820:\n",
        "  print(\"es menor\")\n",
        "else :\n",
        "  print('no es menor')"
      ]
    },
    {
      "cell_type": "code",
      "execution_count": null,
      "metadata": {},
      "outputs": [],
      "source": [
        "var = 20220820 # uso = para asignar # si cumple una condicion realice una accion....\n",
        "\n",
        "if var < 20220820: # usando un IF ELIF ELSE\n",
        "  print(\"es menor\")\n",
        "elif var == 20220820: # uso == para comparar # elif en caso de que no se cumpla evalua otra condicion realice una  accion\n",
        "  print(\"es exacto\")\n",
        "else: # my_variable > 20220820 # en todo caso contrario realice una  accion\n",
        "  print(\"es mayor\")"
      ]
    },
    {
      "cell_type": "markdown",
      "metadata": {},
      "source": [
        "* Ejemplos"
      ]
    },
    {
      "cell_type": "code",
      "execution_count": null,
      "metadata": {
        "colab": {
          "base_uri": "https://localhost:8080/"
        },
        "id": "9tfyjSAAAlJ2",
        "outputId": "d25a523a-c025-4e34-ef06-071e8471173b"
      },
      "outputs": [],
      "source": [
        "# CONDICION DE ARRANQUE\n",
        "# la hija  de camilo es hincha de un equipo\n",
        "camilo = 'No sabe' # estado inicial de camilo\n",
        "hija = 'Santafe' # estado inicial de el gusto futbolistico de la hija\n",
        "\n",
        "# el papá va a reaccionar según...\n",
        "if (hija == 'Santafe'):\n",
        "    camilo = 'feliz' # accion a realizar (asignacion de informacion)\n",
        "\n",
        "# mostrar en pantalla contenido de variable camilo\n",
        "print(camilo)"
      ]
    },
    {
      "cell_type": "code",
      "execution_count": null,
      "metadata": {
        "colab": {
          "base_uri": "https://localhost:8080/"
        },
        "id": "3_9K_4k5AlJ3",
        "outputId": "1e240390-ec5f-42c8-e12c-cc9cf68af698"
      },
      "outputs": [],
      "source": [
        "# CONDICION DE ARRANQUE\n",
        "# la hija  de camilo es hincha de un equipo\n",
        "camilo = 'No sabe'\n",
        "hija = 'Santafe'\n",
        "\n",
        "\n",
        "# el papá va a reaccionar según...\n",
        "if (hija == 'Santafe'): # condicion\n",
        "    camilo = 'feliz' # acciones\n",
        "else:\n",
        "    camilo = 'preocupado' # acciones\n",
        "\n",
        "\n",
        "# mostrar en pantalla contenido de variable camilo\n",
        "print(camilo)"
      ]
    },
    {
      "cell_type": "code",
      "execution_count": null,
      "metadata": {
        "colab": {
          "base_uri": "https://localhost:8080/"
        },
        "id": "D9ldTOZWAlJ3",
        "outputId": "dee3e84b-d700-4751-b5f2-b2afbd8c1a64"
      },
      "outputs": [],
      "source": [
        "# CONDICION DE ARRANQUE\n",
        "# la hija  de camilo es hincha de un equipo\n",
        "camilo = 'No sabe'\n",
        "hija = 'Millonarios'\n",
        "\n",
        "\n",
        "# el papá va a reaccionar según... # usando un IF(si se cumple...) ELIF (otra condición) ELSE (todo caso contrario)\n",
        "if (hija == 'Santafe'): # 1ra condicion\n",
        "    camilo = 'feliz' # acciones\n",
        "elif (hija == 'Millonarios'):\n",
        "    camilo = 'Furioso' #2da condicion\n",
        "elif (hija == 'Junior'):\n",
        "    camilo = 'La niña es del ICBF' #3da condicion\n",
        "elif (hija == 'Medellin'):\n",
        "    camilo = 'bravo' #4ta condicion\n",
        "else: # todo lo contrario (todos los demas casos)\n",
        "    camilo = 'preocupado' # acciones\n",
        "\n",
        "# case when (casos)\n",
        "\n",
        "# mostrar en pantalla contenido de variable camilo\n",
        "print(camilo)"
      ]
    },
    {
      "cell_type": "markdown",
      "metadata": {
        "id": "TgZypndnwmdl"
      },
      "source": [
        "* ejemplo de programa con evaluación de condiciones\n",
        "\n",
        "  * escenario A : (6 o antes, jaime estaría llegando a tiempo)\n",
        "  * escenario B : (despues de y antes de 9, jaime estaría llegando tarde)\n",
        "  * escenario C : (despues de las 9, jaime no habría llegado)\n",
        "  * (escenario A) 6 / ...(escenario B)  / 9 (escenario C)"
      ]
    },
    {
      "cell_type": "code",
      "execution_count": null,
      "metadata": {
        "colab": {
          "base_uri": "https://localhost:8080/"
        },
        "id": "aYoZhTTkAlJ3",
        "outputId": "f7433c1c-63b0-4a26-a2e3-ede649beee68"
      },
      "outputs": [],
      "source": [
        "# ejemplo\n",
        "# hora de llegada a clase a las 6\n",
        "# hora de finalizacion de la clase a las 9\n",
        "# la hora de llegada de jaime fue las 7:30\n",
        "\n",
        "jaime_horallegada = 9.1 # la hora de llegada de jaime fue las 7:30\n",
        "print('La hora de llegada de jaime fue a las',jaime_horallegada)\n",
        "\n",
        "# usando un IF(si se cumple...) ELIF (otra condición) ELSE (todo caso contrario)\n",
        "if (jaime_horallegada<=6):\n",
        "    print('Llegó a tiempo a clase')\n",
        "elif (jaime_horallegada<=9):\n",
        "    print('Llegó tarde a clase')\n",
        "else:\n",
        "    print('No llegó a clase')"
      ]
    },
    {
      "cell_type": "markdown",
      "metadata": {
        "id": "vC7X16TJVv_G"
      },
      "source": [
        "### Iteración (bucles / loops)"
      ]
    },
    {
      "cell_type": "markdown",
      "metadata": {},
      "source": [
        "Salto dentro de bucles\n",
        "\n",
        "| Palabra    | Efecto                                          |\n",
        "| ---------- | ----------------------------------------------- |\n",
        "| `break`    | Sale por completo del bucle más interno.        |\n",
        "| `continue` | Salta inmediatamente a la siguiente iteración.  |\n",
        "| `pass`     | No hace nada; se usa como marcador de posición. |\n"
      ]
    },
    {
      "cell_type": "markdown",
      "metadata": {},
      "source": [
        "#### for – bucle sobre colecciones"
      ]
    },
    {
      "cell_type": "code",
      "execution_count": null,
      "metadata": {},
      "outputs": [],
      "source": [
        "list = ['2022', '08', '20']\n",
        "\n",
        "for i in range(len(list)): # para cada i en el rango de 0 al tamaño de la lista\n",
        "  print('valor i : ',i) # usando la posicion del elemento la lista\n",
        "  print('elemento iesimo de la lista : ',list[i]) # usando la posicion del elemento la lista"
      ]
    },
    {
      "cell_type": "code",
      "execution_count": null,
      "metadata": {},
      "outputs": [],
      "source": [
        "list = ['2022', '08', '20']\n",
        "\n",
        "for elemento in list: # for usando la información del elemento la lista\n",
        "  print('elemento iesimo de la lista : ',elemento)"
      ]
    },
    {
      "cell_type": "code",
      "execution_count": null,
      "metadata": {},
      "outputs": [],
      "source": [
        "list = ['2022', '08', '20']\n",
        "\n",
        "\n",
        "for i in range(len(list)):\n",
        "  print('valor i : ',i) # usando la posicion del elemento la lista\n",
        "  print('elemento iesimo de la lista : ',list[i]) # usando la posicion del elemento la lista\n",
        "\n",
        "  if i == 1: # condicion de break\n",
        "    break # romper el loop"
      ]
    },
    {
      "cell_type": "code",
      "execution_count": null,
      "metadata": {},
      "outputs": [],
      "source": [
        "for n in range(10):\n",
        "    if n == 3:\n",
        "        continue          # omite el 3\n",
        "    if n == 7:\n",
        "        break             # detiene el bucle\n",
        "    print(n)\n"
      ]
    },
    {
      "cell_type": "code",
      "execution_count": null,
      "metadata": {},
      "outputs": [],
      "source": [
        "# fiesta con unos invitados\n",
        "list = ['Hugo','Ivan','Juan','Lara','Ana','Enzo','Leo','Luz','Mar','Nora','Angela','Eric','Eva','Raul','Sara']\n",
        "print('han sido invitados ',len(list), 'amigos a la fiesta')\n",
        "\n",
        "# solo tengo unas sorpresas para entregar\n",
        "sorpresas = 5\n",
        "print('cantidad de sorpresas a entregar ',sorpresas)\n",
        "\n",
        "# programa de reparticion de sorpresas\n",
        "for i in range(len(list)):\n",
        "  print('repartir sorpresa a :',list[i])\n",
        "  if i == (sorpresas-1): # condicion de break\n",
        "    break"
      ]
    },
    {
      "cell_type": "markdown",
      "metadata": {
        "id": "zxY2rwLIwmdl"
      },
      "source": [
        "#### while – bucle mientras se cumpla una condición\n"
      ]
    },
    {
      "cell_type": "code",
      "execution_count": null,
      "metadata": {
        "colab": {
          "base_uri": "https://localhost:8080/"
        },
        "id": "x-Rw-hHzWTQK",
        "outputId": "8c2c607a-5ec9-4d2c-9f86-e2201cab8ef0"
      },
      "outputs": [],
      "source": [
        "i = 0\n",
        "\n",
        "# mostrar en pantalla\n",
        "print('el contenido de i original es :',i)\n",
        "\n",
        "# 1ra opcion\n",
        "# i = i + 1\n",
        "\n",
        "# 2da opcion\n",
        "i += 100\n",
        "\n",
        "# mostrar en pantalla\n",
        "print('el contenido de i final es :',i)"
      ]
    },
    {
      "cell_type": "code",
      "execution_count": null,
      "metadata": {
        "colab": {
          "base_uri": "https://localhost:8080/"
        },
        "id": "v1JoIc8uVf1B",
        "outputId": "9df103f7-fad8-4a2b-e0fe-edd4d10de312"
      },
      "outputs": [],
      "source": [
        "list = ['2022', '08', '20'] # creo una lista sobre la que quiero recorrer\n",
        "i = 0 # variable de control o de escape que inicia en cero # se desa que converja en algun momento\n",
        "\n",
        "while i < len(list): # mientras se cumpla una condicion\n",
        "  print('iniciando la vuelta : ',i) # muestre en pantalla el elemento i de la lista\n",
        "  print(list[i]) # muestre en pantalla el elemento i de la lista\n",
        "  i += 1 # es lo mismo que escribir i = i + 1 # una instruccion para obligar a converger\n",
        "  print('========')"
      ]
    },
    {
      "cell_type": "code",
      "execution_count": null,
      "metadata": {
        "colab": {
          "base_uri": "https://localhost:8080/"
        },
        "id": "UuBR5Y2PjJab",
        "outputId": "d166e480-192a-4580-ceee-4f5c79288318"
      },
      "outputs": [],
      "source": [
        "# problema : atencion en ventanilla de banco\n",
        "\n",
        "# tener un horario de atencion del asesor\n",
        "\n",
        "horario_de_atencion = {\n",
        "    'apertura' : 5,\n",
        "    'clausura' : 15\n",
        "}\n",
        "horario_de_atencion.get('apertura')\n",
        "# hora de llegada del usuario --TODO-- dinamico, debe ir incrementando\n",
        "\n",
        "hora_de_llegada = 5\n",
        "print('La hora de llegada de usuario fue a las', hora_de_llegada)\n",
        "\n",
        "# evaluar si el usuario llega dentro de hora de atencion\n",
        "\n",
        "# estiven\n",
        "# CERRAR OFICINA : SIN ATENCION : si se cumple no están atendiendo / False : atienden\n",
        "# hora_de_llegada < horario_de_atencion.get('apertura') or hora_de_llegada > horario_de_atencion.get('clausura')\n",
        "\n",
        "# luis\n",
        "# APERTURA OFICINA : ATENCION\n",
        "# hora_de_llegada >= horario_de_atencion.get('apertura') and hora_de_llegada <= horario_de_atencion.get('clausura')\n",
        "\n",
        "# diagramas de ven (CONJUNTOS)\n",
        "\n",
        "# A: 1,2,3\n",
        "# B: 2,6,7\n",
        "# A or( | union) B : 1,2,3,6,7\n",
        "# A and( & interseccion : lo que tengan en comun) B : 2\n",
        "\n",
        "# 3ra opcion\n",
        "# APERTURA OFICINA : ATENCION\n",
        "# val_atencion = horario_de_atencion.get('apertura') < hora_de_llegada <= horario_de_atencion.get('clausura')\n",
        "\n",
        "# WHILE : mientras el usuario llegue dentro de horario de atencion entonces....\n",
        "\n",
        "while horario_de_atencion.get('apertura') <= hora_de_llegada <= horario_de_atencion.get('clausura'):\n",
        "  # atender usuario\n",
        "  print('atendiendo usuario que llego a las :',hora_de_llegada)\n",
        "  # recibir pago\n",
        "  print('recibir pago en caja')\n",
        "  # dar vueltas\n",
        "  print('entregar recibo y vueltas')\n",
        "  # instruccion de incremento de hora\n",
        "  hora_de_llegada += 0.5\n",
        "  # y dar paso a nuevo usuario\n",
        "  print('atender siguiente en la cola')\n",
        "  #\n",
        "  print(' ================== ')"
      ]
    },
    {
      "cell_type": "markdown",
      "metadata": {
        "id": "Zqdxm86VWRFP"
      },
      "source": [
        "## Funciones"
      ]
    },
    {
      "cell_type": "markdown",
      "metadata": {
        "id": "ISgUansdRn2b"
      },
      "source": [
        "Definición de nuevas instrucciones que reciben (inputs) parametros llamados argumentos y entregan salidas (outputs).\n",
        "\n",
        "En programación —y muy especialmente en ciencia de datos— los problemas grandes se resuelven mejor cuando los dividimos en piezas pequeñas, legibles y reutilizables. Las funciones son esas piezas: bloques de código que reciben datos de entrada (argumentos), ejecutan una lógica concreta y devuelven un resultado. Al encapsular un comportamiento en una función, evitamos repetir código, facilitamos las pruebas unitarias y hacemos que otras personas (o nuestro yo del futuro) entiendan rápidamente qué hace cada parte del programa. En esta sección aprenderás a declarar funciones en Python, documentarlas correctamente y manejar desde cero hasta múltiples argumentos y valores de retorno, siguiendo buenas prácticas que te servirán para proyectos reales de análisis y modelado de datos.\n",
        "\n",
        "\n",
        "\n",
        "* La documentación de una función se coloca luego del encabezado de la función, en un párrafo encerrado entre tres comillas dobles \"\"\"\n",
        "\n",
        "* una función puede recibir un argumento de entrada o varios, sin embargo, tambien puede no recibir ninguno\n",
        "* una función puede entregar un valor o varios, sin embargo, tambien puede no entregar ninguno"
      ]
    },
    {
      "cell_type": "markdown",
      "metadata": {},
      "source": [
        "* Sin argumentos ‧ Sin valor de retorno"
      ]
    },
    {
      "cell_type": "code",
      "execution_count": 3,
      "metadata": {},
      "outputs": [],
      "source": [
        "def saluda() -> None:\n",
        "    \"\"\"Imprime un mensaje de bienvenida en pantalla.\"\"\"\n",
        "    print(\"¡Hola, equipo de ciencia de datos!\")"
      ]
    },
    {
      "cell_type": "code",
      "execution_count": 7,
      "metadata": {},
      "outputs": [
        {
          "name": "stdout",
          "output_type": "stream",
          "text": [
            "¡Hola, equipo de ciencia de datos!\n"
          ]
        }
      ],
      "source": [
        "saluda()"
      ]
    },
    {
      "cell_type": "markdown",
      "metadata": {},
      "source": [
        "* Sin argumentos ‧ Un valor de retorno"
      ]
    },
    {
      "cell_type": "code",
      "execution_count": 10,
      "metadata": {},
      "outputs": [],
      "source": [
        "def func_saludo():\n",
        "  \"\"\"\n",
        "  Esta función retorna un saludo en español de \"Hola mundo\".\n",
        "  \"\"\"\n",
        "  y = 'Hola mundo'\n",
        "  return y"
      ]
    },
    {
      "cell_type": "code",
      "execution_count": 11,
      "metadata": {},
      "outputs": [
        {
          "name": "stdout",
          "output_type": "stream",
          "text": [
            "Hola mundo\n"
          ]
        }
      ],
      "source": [
        "val_prueba = func_saludo()\n",
        "print(val_prueba)  # Imprime el saludo retornado por la función"
      ]
    },
    {
      "cell_type": "markdown",
      "metadata": {},
      "source": [
        "* Un argumento ‧ Un valor de retorno"
      ]
    },
    {
      "cell_type": "code",
      "execution_count": 13,
      "metadata": {},
      "outputs": [],
      "source": [
        "def func_exp(x):\n",
        "  \"\"\" x debe ser un numeroy va a devolver el mismo numero elevado a la 2\"\"\"\n",
        "  y = x ** 2\n",
        "  return y"
      ]
    },
    {
      "cell_type": "code",
      "execution_count": 15,
      "metadata": {
        "colab": {
          "base_uri": "https://localhost:8080/"
        },
        "id": "XuJF4egh6RKe",
        "outputId": "6b4eedd7-23be-422a-c88e-5ac909f2bdbd"
      },
      "outputs": [
        {
          "data": {
            "text/plain": [
              "10000"
            ]
          },
          "execution_count": 15,
          "metadata": {},
          "output_type": "execute_result"
        }
      ],
      "source": [
        "func_exp(100)"
      ]
    },
    {
      "cell_type": "markdown",
      "metadata": {},
      "source": [
        "* Varios argumentos ‧ Un valor de retorno"
      ]
    },
    {
      "cell_type": "code",
      "execution_count": null,
      "metadata": {
        "id": "WBikvqhF4cNP"
      },
      "outputs": [],
      "source": [
        "def func_exp(x, exp):\n",
        "  \"\"\" x debe ser un numero y exp debe ser un numero y va a devolver el mismo numero elevado a exp\"\"\"\n",
        "  y = x ** exp\n",
        "  return y"
      ]
    },
    {
      "cell_type": "code",
      "execution_count": null,
      "metadata": {
        "colab": {
          "base_uri": "https://localhost:8080/"
        },
        "id": "EATiXTwy6Zjz",
        "outputId": "e2db8d47-0810-42c7-b264-a6a8264fcc3b"
      },
      "outputs": [],
      "source": [
        "func_exp(x = 10,exp = 3) # 10x10x10"
      ]
    },
    {
      "cell_type": "markdown",
      "metadata": {},
      "source": [
        "* Varios argumentos ‧ Un valor de retorno"
      ]
    },
    {
      "cell_type": "code",
      "execution_count": null,
      "metadata": {
        "id": "t0Ta1BSg4bsy"
      },
      "outputs": [],
      "source": [
        "# funciones anidades o funciones dentro de funciones\n",
        "def func_exp_texto(x, exp):\n",
        "  \"\"\"Aquí debe documentar la función.\n",
        "  x debe ser un numero y exp debe ser un numero y va a devolver el mismo numero elevado a exp\n",
        "  \"\"\"\n",
        "  y = func_exp(x, exp) # calculeme el resultado\n",
        "  txt = \"{0} elevado a la {1} es igual a {2}.\".format(x, exp, y) # use las parametros de entrada y el resultado en una cadena de texto\n",
        "  return txt"
      ]
    },
    {
      "cell_type": "code",
      "execution_count": null,
      "metadata": {
        "colab": {
          "base_uri": "https://localhost:8080/",
          "height": 35
        },
        "id": "kEXecjloTRtV",
        "outputId": "164b03ff-10b3-4aa5-b0cf-fdacbd477bdf"
      },
      "outputs": [],
      "source": [
        "func_exp_texto(4,3) # 4x4x4 = 64"
      ]
    },
    {
      "cell_type": "markdown",
      "metadata": {},
      "source": [
        "* Un argumento ‧ Varios valores de retorno"
      ]
    },
    {
      "cell_type": "code",
      "execution_count": null,
      "metadata": {
        "id": "knvx9TAkOTaf"
      },
      "outputs": [],
      "source": [
        "# tuplas\n",
        "def func_exp_2_3(x):\n",
        "  \"\"\"\n",
        "  Aquí debe documentar la función.\n",
        "  Esta función recibe un número x y devuelve una tupla con x elevado a la 2 y a la 3.\n",
        "  \"\"\"\n",
        "  y_1 = x ** 2\n",
        "  y_2 = x ** 3\n",
        "  return (y_1, y_2)"
      ]
    },
    {
      "cell_type": "code",
      "execution_count": null,
      "metadata": {
        "colab": {
          "base_uri": "https://localhost:8080/"
        },
        "id": "t-NUvrclTToo",
        "outputId": "82175f8c-c9a7-4dbc-a738-2066ecedbff6"
      },
      "outputs": [],
      "source": [
        "a, b = func_exp_2_3(10) # 4x4 = 16 , 4x4x4 = 64\n",
        "print(type(a)) # clase de objeto\n",
        "print(a)\n",
        "print(type(b))\n",
        "print(b)"
      ]
    },
    {
      "cell_type": "markdown",
      "metadata": {},
      "source": [
        "* Varios argumentos ‧ Varios valores de retorno"
      ]
    },
    {
      "cell_type": "code",
      "execution_count": 16,
      "metadata": {},
      "outputs": [],
      "source": [
        "# tuplas\n",
        "def func_exp(x, exp_1, exp_2):\n",
        "  \"\"\" \n",
        "  Aquí debe documentar la función. \n",
        "  x debe ser un numero y exp_1 y exp_2 deben ser numeros y va a devolver el mismo numero elevado a exp_1 y exp_2\n",
        "  \"\"\"\n",
        "  y_1 = x ** exp_1\n",
        "  y_2 = x ** exp_2\n",
        "  return (y_1, y_2)\n"
      ]
    },
    {
      "cell_type": "code",
      "execution_count": 17,
      "metadata": {},
      "outputs": [
        {
          "data": {
            "text/plain": [
              "(81, 243)"
            ]
          },
          "execution_count": 17,
          "metadata": {},
          "output_type": "execute_result"
        }
      ],
      "source": [
        "func_exp(3,4,5) # 3x3x3x3 = 81 , 3x3x3x3x3 = 243"
      ]
    },
    {
      "cell_type": "markdown",
      "metadata": {},
      "source": [
        "* ejemplo"
      ]
    },
    {
      "cell_type": "code",
      "execution_count": null,
      "metadata": {
        "id": "OGuUuU--AlJ5"
      },
      "outputs": [],
      "source": [
        "# quiero construir una funcion que evalue si una persona llego tarde o temprano a clase\n",
        "\n",
        "def llegada_tarde(hora_llegada_estudiante):\n",
        "  \"\"\"\n",
        "  se crea funcion para identificar si el alumno llega tarde a clase\n",
        "  variable hora debe ser numerica y corresponde a la hora de llegada del alumno\n",
        "  \"\"\"\n",
        "\n",
        "  if hora_llegada_estudiante <= 6:\n",
        "      revision = 'El almuno llegó a tiempo'\n",
        "  elif hora_llegada_estudiante <= 9:\n",
        "      revision = 'El almuno llegó a clase tarde'\n",
        "  else:\n",
        "      revision = 'El alumno no llegó a clase'\n",
        "  # regresa o entrega la funcion\n",
        "  return revision"
      ]
    },
    {
      "cell_type": "code",
      "execution_count": null,
      "metadata": {
        "colab": {
          "base_uri": "https://localhost:8080/"
        },
        "id": "s3mF5EYvAlJ5",
        "outputId": "741eb149-d5fd-4090-9b9e-4925778d1f9b"
      },
      "outputs": [],
      "source": [
        "# evaluar dfuncion en diferetes horas de llegada\n",
        "for i in range(24):\n",
        "  print('hora de llegada : ', i)\n",
        "  print(llegada_tarde(i))"
      ]
    },
    {
      "cell_type": "code",
      "execution_count": null,
      "metadata": {
        "id": "5TaqQB2gAlJ5"
      },
      "outputs": [],
      "source": [
        "def llegada_tarde_recargada(hora_alumno,hora_entrada, hora_salida):\n",
        "    \"\"\"\n",
        "    se crea funcion para identificar si el alumno llega tarde a clase\n",
        "    variable hora alumno debe ser numerica y corresponde a la hora de llegada del alumno\n",
        "    variable hora entrada a clase debe ser numerica\n",
        "    variable hora salida a clase debe ser numerica\n",
        "    \"\"\"\n",
        "\n",
        "    if hora_alumno <= hora_entrada:\n",
        "        revision = 'El almuno llegó a tiempo'\n",
        "    elif hora_alumno <= hora_salida:\n",
        "        revision = 'El almuno llegó a clase tarde'\n",
        "    else:\n",
        "        revision = 'El alumno no llegó a clase'\n",
        "    return revision"
      ]
    },
    {
      "cell_type": "code",
      "execution_count": null,
      "metadata": {
        "colab": {
          "base_uri": "https://localhost:8080/"
        },
        "id": "CFB9yg7OAlJ6",
        "outputId": "e586fc22-3e6f-4a6b-d96e-b2024c3c2a44"
      },
      "outputs": [],
      "source": [
        "# para un diccionario con las clases y sus respectivas horas de llegada evaluar la asistencia o llegada de un rango de horas de llegada de estudiantes\n",
        "\n",
        "# crear diccionario de clases\n",
        "dict_clases = {\n",
        "    'quimica_1' : [6.5,8.5],\n",
        "    'calculo_1' : [11.5,13.5],\n",
        "    'fisica_1' : [16.5,18.5],\n",
        "    'quimica_3' : [12.5,14.5]\n",
        "}\n",
        "\n",
        "# estructura anidad de for para recorrer...\n",
        "# primero el diccionario de clases\n",
        "# segundo el rango de horas de llegada de los estudiantes\n",
        "for clase, lista_horas in dict_clases.items() :\n",
        "  print('**************')\n",
        "  print(clase)\n",
        "  print(lista_horas)\n",
        "  print('**************')\n",
        "  for i in range(7,14):\n",
        "    print('-----------')\n",
        "    print('hora llegada',i)\n",
        "    print(llegada_tarde_recargada(hora_alumno = i,hora_entrada = lista_horas[0], hora_salida = lista_horas[1]))\n",
        "    print('-----------')\n"
      ]
    },
    {
      "cell_type": "code",
      "execution_count": null,
      "metadata": {
        "id": "nTJGI89kRldR"
      },
      "outputs": [],
      "source": [
        "def mifunciondelosviernes(tematica):\n",
        "  \"\"\"\n",
        "  esta funcion entrega una oracion informando la funcion de los viernes y su tematica\n",
        "  la variable tematica es una cadena de caracteres\n",
        "  \"\"\"\n",
        "\n",
        "  resultado = 'La función de este viernes es '+ tematica\n",
        "  return resultado"
      ]
    },
    {
      "cell_type": "code",
      "execution_count": null,
      "metadata": {
        "colab": {
          "base_uri": "https://localhost:8080/"
        },
        "id": "1cMvBgaKSi6w",
        "outputId": "d41c7171-95dc-49e6-9ec6-1111ed73e9c4"
      },
      "outputs": [],
      "source": [
        "print(mifunciondelosviernes('Merengue'))\n",
        "print(mifunciondelosviernes('Rock'))\n",
        "print(mifunciondelosviernes('salsa'))"
      ]
    },
    {
      "cell_type": "markdown",
      "metadata": {
        "id": "XECcj15L_r0H"
      },
      "source": [
        "## Lambda"
      ]
    },
    {
      "cell_type": "markdown",
      "metadata": {
        "id": "nmJM_YvpX7z9"
      },
      "source": [
        " Son funciones anónimas que solo pueden contener una expresión"
      ]
    },
    {
      "cell_type": "code",
      "execution_count": null,
      "metadata": {
        "colab": {
          "base_uri": "https://localhost:8080/"
        },
        "id": "RnH-57QyAlJ7",
        "outputId": "9bb88a08-4c1c-44b6-abb4-a8cb8e906b42"
      },
      "outputs": [],
      "source": [
        "# funcion anonima lambda\n",
        "# arg_entrada  -> input y todo lo que va despues de los dos puntos es la instruccion de construccion de la salida\n",
        "lambda arg_entrada : arg_entrada+1"
      ]
    },
    {
      "cell_type": "code",
      "execution_count": null,
      "metadata": {
        "colab": {
          "base_uri": "https://localhost:8080/"
        },
        "id": "rPg2o7K8dW91",
        "outputId": "a6475783-0e8e-42ec-9b9a-b7b2475d677d"
      },
      "outputs": [],
      "source": [
        "# funcion anonima\n",
        "func_lambda_txt = lambda arg1,arg2: arg1+', '+arg2 # funcion anonima para s\n",
        "# argumentos\n",
        "txt_1 = 'Holis'\n",
        "txt_2 = 'mundo'\n",
        "# obtener el resultado de aplicar la funcion\n",
        "txt = func_lambda_txt(txt_1,txt_2)\n",
        "# revisar resultados\n",
        "print(type(txt))\n",
        "print(txt)"
      ]
    },
    {
      "cell_type": "markdown",
      "metadata": {
        "id": "-zs05rxrYEPU"
      },
      "source": [
        "## función Map"
      ]
    },
    {
      "cell_type": "markdown",
      "metadata": {
        "id": "tpWPoX4cav_R"
      },
      "source": [
        "Para el procesamiento de objetos iterables como listas e iteradores se ha implementado algunas funciones de orden superior de uso común y estas devuelven un iterador que ahorra espacio."
      ]
    },
    {
      "cell_type": "markdown",
      "metadata": {},
      "source": [
        "Claves a recordar\n",
        "\n",
        "* La lambda debe recibir tantos parámetros como iterables proporciones a map.\n",
        "* map recorre hasta el final del iterable más corto; los valores sobrantes en listas más largas se ignoran.\n",
        "* Convierte el resultado a list() o tuple() solo cuando necesites materializarlo; de lo contrario, sigue siendo un iterador perezoso."
      ]
    },
    {
      "cell_type": "code",
      "execution_count": null,
      "metadata": {
        "colab": {
          "base_uri": "https://localhost:8080/"
        },
        "id": "VcIx8Vf5YDph",
        "outputId": "841f486b-f7fa-4b25-f45e-235653f5f5a0"
      },
      "outputs": [],
      "source": [
        "# defino una funcion que deseo aplicar a cada uno de los elementos de la lista\n",
        "def func_exp(x):\n",
        "  \"\"\" Aquí debe documentar la función. \"\"\"\n",
        "  y = x ** 2\n",
        "  return y\n",
        "\n",
        "# creo la lista\n",
        "list_a = [1, 2, 3, 4, 5, 6]\n",
        "\n",
        "# recorrer con el map la lista\n",
        "mapeado = map(func_exp, list_a)\n",
        "\n",
        "# recorra loss elemento resultado de hacer map\n",
        "for map_iterador in mapeado:\n",
        "    print(map_iterador, end = \", \")"
      ]
    },
    {
      "cell_type": "code",
      "execution_count": null,
      "metadata": {
        "colab": {
          "base_uri": "https://localhost:8080/"
        },
        "id": "OGQxhdEAgcu6",
        "outputId": "c233d850-3d8a-4e54-ac71-7dd32e703f93"
      },
      "outputs": [],
      "source": [
        "# usando funciones anonimas lambda\n",
        "# crear una lista\n",
        "list_a = [1, 2, 3, 4, 5, 6]\n",
        "\n",
        "# va a recorrer la lista aplicando la funcion anonima lambda\n",
        "map_a = map(lambda x: x ** 2, list_a)\n",
        "\n",
        "# recorra loss elemento resultado de hacer map\n",
        "for map_i in map_a:\n",
        "    print(map_i, end = \", \")"
      ]
    },
    {
      "cell_type": "markdown",
      "metadata": {},
      "source": [
        "* map acepta más de un iterable; la función (en este caso, la lambda) debe tener la misma cantidad de parámetros que iterables recibe."
      ]
    },
    {
      "cell_type": "code",
      "execution_count": 19,
      "metadata": {},
      "outputs": [
        {
          "name": "stdout",
          "output_type": "stream",
          "text": [
            "['Ada Lovelace', 'Grace Hopper', 'Linus Torvalds']\n"
          ]
        }
      ],
      "source": [
        "nombres   = [\"Ada\",  \"Grace\", \"Linus\"]\n",
        "apellidos = [\"Lovelace\", \"Hopper\", \"Torvalds\"]\n",
        "\n",
        "# La lambda toma dos argumentos: nombre y apellido\n",
        "completos = map(lambda n, a: f\"{n} {a}\", nombres, apellidos)\n",
        "\n",
        "print(list(completos))"
      ]
    },
    {
      "cell_type": "code",
      "execution_count": 20,
      "metadata": {},
      "outputs": [
        {
          "name": "stdout",
          "output_type": "stream",
          "text": [
            "(11, 22, 33)\n"
          ]
        }
      ],
      "source": [
        "lista_1 = [10, 20, 30]\n",
        "lista_2 = [1,  2,  3]\n",
        "\n",
        "suma_elementos = map(lambda x, y: x + y, lista_1, lista_2)\n",
        "print(tuple(suma_elementos))      # (11, 22, 33)"
      ]
    },
    {
      "cell_type": "markdown",
      "metadata": {
        "id": "bAOwhfGMUIn6"
      },
      "source": [
        "## Errores y excepciones"
      ]
    },
    {
      "cell_type": "markdown",
      "metadata": {
        "id": "6mJtaWhoVN_I"
      },
      "source": [
        "Los errores de ejecución son llamados comúnmente excepciones. \\\n",
        "Durante la ejecución de un programa, si dentro de una función surge una excepción y la función no la maneja, la excepción se propaga hacia la función que la invocó, si esta otra tampoco la maneja, la excepción continua propagándose hasta llegar a la función inicial del programa y si esta tampoco la maneja se interrumpe la ejecución del programa"
      ]
    },
    {
      "cell_type": "markdown",
      "metadata": {},
      "source": [
        "* error por division por cero"
      ]
    },
    {
      "cell_type": "code",
      "execution_count": null,
      "metadata": {
        "colab": {
          "base_uri": "https://localhost:8080/",
          "height": 176
        },
        "id": "Yw8oxx4oKw5P",
        "outputId": "99928439-f174-4208-eb13-30a0cb0a5944"
      },
      "outputs": [],
      "source": [
        "dividendo = 5\n",
        "divisor = 0\n",
        "dividendo / divisor"
      ]
    },
    {
      "cell_type": "code",
      "execution_count": null,
      "metadata": {
        "colab": {
          "base_uri": "https://localhost:8080/"
        },
        "id": "aVlbPG3OUICP",
        "outputId": "77e6881d-1042-470a-ed4f-ac5ae6b49a56"
      },
      "outputs": [],
      "source": [
        "dividendo = 5\n",
        "divisor = 0\n",
        "\n",
        "try: # intente realizar...\n",
        "  cociente = dividendo / divisor\n",
        "  print(cociente)\n",
        "except: # en caso de no poder realizarlo, haga lo siguiente\n",
        "  print(\"No se permite la división por cero\")"
      ]
    },
    {
      "cell_type": "markdown",
      "metadata": {},
      "source": [
        "* error por fuera de rango"
      ]
    },
    {
      "cell_type": "code",
      "execution_count": null,
      "metadata": {
        "colab": {
          "base_uri": "https://localhost:8080/",
          "height": 176
        },
        "id": "7m2SlrXWAlJ8",
        "outputId": "83473e07-5c4e-446f-a692-417987cd462b"
      },
      "outputs": [],
      "source": [
        "txt = 'siete' # asigno un texto a una variable\n",
        "\n",
        "print(txt[7])"
      ]
    },
    {
      "cell_type": "code",
      "execution_count": null,
      "metadata": {
        "colab": {
          "base_uri": "https://localhost:8080/"
        },
        "id": "3W55wnfLVZ1z",
        "outputId": "345fe8c8-f7de-495b-d285-8011fd337aa7"
      },
      "outputs": [],
      "source": [
        "txt = 'siete' # asigno un texto a una variable\n",
        "\n",
        "try: # intente realizar...\n",
        "  print(txt[7])\n",
        "except: # en caso de no poder realizarlo, haga lo siguiente\n",
        "  print(\"Ojo : no es por ahí No existe el elemento buscado\")"
      ]
    },
    {
      "cell_type": "markdown",
      "metadata": {},
      "source": [
        "* ejemplo"
      ]
    },
    {
      "cell_type": "code",
      "execution_count": null,
      "metadata": {},
      "outputs": [
        {
          "name": "stdout",
          "output_type": "stream",
          "text": [
            "Inverso de 10 = 0.1\n",
            "→ Fin de iteración\n",
            "\n",
            "No se puede dividir por cero\n",
            "→ Fin de iteración\n",
            "\n",
            "Inverso de 5 = 0.2\n",
            "→ Fin de iteración\n",
            "\n",
            "'abc' no es un entero válido\n",
            "→ Fin de iteración\n",
            "\n",
            "Inverso de 3 = 0.3333333333333333\n",
            "→ Fin de iteración\n",
            "\n"
          ]
        }
      ],
      "source": [
        "# Lista heterogénea: números en texto, un cero y un valor no numérico\n",
        "valores = [\"10\", \"0\", \"5\", \"abc\", \"3\"]\n",
        "\n",
        "for v in valores:\n",
        "    try:\n",
        "        numero = int(v)           # ⇢ puede lanzar ValueError\n",
        "        resultado = 1 / numero    # ⇢ puede lanzar ZeroDivisionError\n",
        "    except ValueError:\n",
        "        print(f\"{v!r} no es un entero válido\") # especificador de conversión dentro de las f-strings de Python  (incluye comillas simples)\n",
        "    except ZeroDivisionError:\n",
        "        print(\"No se puede dividir por cero\")\n",
        "    else:\n",
        "        # Se ejecuta solo si todo lo anterior salió bien\n",
        "        print(f\"Inverso de {numero} = {resultado}\")\n",
        "    finally:\n",
        "        # Se ejecuta SIEMPRE; perfecto para cerrar recursos o dejar trazas\n",
        "        print(\"→ Fin de iteración\\n\")\n"
      ]
    },
    {
      "cell_type": "markdown",
      "metadata": {
        "id": "6Gh9sfak8kXq"
      },
      "source": [
        "## Bibliografía\n"
      ]
    },
    {
      "cell_type": "markdown",
      "metadata": {
        "id": "mOjNZPz7k4Ft"
      },
      "source": [
        "\n",
        "* (2022,Montenegro y Montenegro) Aprendizaje profundo. Diplomado de IA y AP.\n",
        "* BeginnersGuide. link :https://wiki.python.org/moin/BeginnersGuide/Programmers\n",
        "* Uniwebsidad. link :https://uniwebsidad.com/libros/algoritmos-python"
      ]
    }
  ],
  "metadata": {
    "colab": {
      "provenance": []
    },
    "kernelspec": {
      "display_name": ".venv",
      "language": "python",
      "name": "python3"
    },
    "language_info": {
      "codemirror_mode": {
        "name": "ipython",
        "version": 3
      },
      "file_extension": ".py",
      "mimetype": "text/x-python",
      "name": "python",
      "nbconvert_exporter": "python",
      "pygments_lexer": "ipython3",
      "version": "3.11.9"
    }
  },
  "nbformat": 4,
  "nbformat_minor": 0
}
