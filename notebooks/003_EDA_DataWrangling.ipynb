{
  "cells": [
    {
      "cell_type": "markdown",
      "metadata": {
        "id": "uf4EI65f2pfw"
      },
      "source": [
        "# Data wrangling\n",
        "\n",
        "*   Manipulacion de dataframes\n",
        "*   Tablas agregadas\n",
        "*   Exploracion de datos y visualizaciones"
      ]
    },
    {
      "cell_type": "markdown",
      "metadata": {
        "id": "71dzNQJhcdeY"
      },
      "source": [
        "# Preparacion"
      ]
    },
    {
      "cell_type": "code",
      "execution_count": null,
      "metadata": {
        "id": "4lJnUnKb2nFM"
      },
      "outputs": [],
      "source": [
        "# importando modulos que se van a utilizar\n",
        "import os\n",
        "import pandas as pd\n",
        "import numpy as np\n",
        "import matplotlib.pyplot as plt # visualizacion\n",
        "import seaborn as sns # seaborn"
      ]
    },
    {
      "cell_type": "code",
      "execution_count": null,
      "metadata": {
        "id": "JHHw5VIm5TuV"
      },
      "outputs": [],
      "source": [
        "# identificar el directorio y la ruta del archivo a consultar\n",
        "mainpath = \"https://raw.githubusercontent.com/elprincipitogauss/lesson/main/\"\n",
        "filename = \"Salary_Dataset_with_Extra_Features.csv\"\n",
        "fullpath = os.path.join(mainpath, filename)\n",
        "# leer el archivo utilizando la ruta\n",
        "df_000 = pd.read_csv(fullpath)\n",
        "# realizar una copia del archivo leido copmo backup\n",
        "df = df_000.copy()"
      ]
    },
    {
      "cell_type": "markdown",
      "metadata": {
        "id": "O4r3942u7PNE"
      },
      "source": [
        "# Visualizar dataframe"
      ]
    },
    {
      "cell_type": "code",
      "execution_count": null,
      "metadata": {
        "id": "K7okuWuD5TrV"
      },
      "outputs": [],
      "source": [
        "display(df)"
      ]
    },
    {
      "cell_type": "code",
      "execution_count": null,
      "metadata": {
        "id": "9e_yTeUl7TD7"
      },
      "outputs": [],
      "source": [
        "df.head(5)"
      ]
    },
    {
      "cell_type": "markdown",
      "metadata": {
        "id": "CMBJ1F0P8HZu"
      },
      "source": [
        "* Información sobre las dimensiones y tipo de variables"
      ]
    },
    {
      "cell_type": "code",
      "execution_count": null,
      "metadata": {
        "id": "p0eF8kJV5ToN"
      },
      "outputs": [],
      "source": [
        "df.info()"
      ]
    },
    {
      "cell_type": "markdown",
      "metadata": {
        "id": "Zm2Ul2yq8QLF"
      },
      "source": [
        "## Subconjuntos"
      ]
    },
    {
      "cell_type": "markdown",
      "metadata": {
        "id": "Bo_Pg7Ly9iM2"
      },
      "source": [
        "* construir un subconjunto de filas a través de su posición"
      ]
    },
    {
      "cell_type": "code",
      "execution_count": null,
      "metadata": {
        "id": "IPDtmyV65Thx"
      },
      "outputs": [],
      "source": [
        "# navegar por datfarame utilizando la localizacion\n",
        "# entre las llaves a la izquierda encontramos las filas y a la derecha encontraremos las columnas\n",
        "df.iloc[0:3,] # range 0:3  solo incluye 0,1 y 2"
      ]
    },
    {
      "cell_type": "code",
      "execution_count": null,
      "metadata": {
        "id": "IrYXjW0r9W7t"
      },
      "outputs": [],
      "source": [
        "\n",
        "# entre las llaves a la izquierda encontramos las filas y a la derecha encontraremos las columnas\n",
        "df.iloc[0:2,1:] # fila 0,1 y las columnas desde la 1"
      ]
    },
    {
      "cell_type": "code",
      "execution_count": null,
      "metadata": {
        "id": "I9Y2DeTMO0nc"
      },
      "outputs": [],
      "source": [
        "df['Salary'] # selecciona una columna"
      ]
    },
    {
      "cell_type": "code",
      "execution_count": null,
      "metadata": {
        "id": "xQDyUSQM5Tk6"
      },
      "outputs": [],
      "source": [
        "df[['Job Title', 'Salary']] # seleccionamos dos columnas del dataframe indicando con lista de nombre de columnas"
      ]
    },
    {
      "cell_type": "code",
      "execution_count": null,
      "metadata": {
        "id": "Lp40aqKvOx_O"
      },
      "outputs": [],
      "source": [
        "# haga una lista de las columnas segun el tipo de datos que contienen solicitado\n",
        "df.select_dtypes(['float64' , 'int64']).columns"
      ]
    },
    {
      "cell_type": "code",
      "execution_count": null,
      "metadata": {
        "id": "BtFT_6t8-4lE"
      },
      "outputs": [],
      "source": [
        "# filtrar la base dada una condicion\n",
        "df[df['Salary']>300000]"
      ]
    },
    {
      "cell_type": "code",
      "execution_count": null,
      "metadata": {
        "id": "Yu1V5Cv6_Ah1"
      },
      "outputs": [],
      "source": [
        "# filtrar la base dada una condicion\n",
        "df[df.Salary>500000]"
      ]
    },
    {
      "cell_type": "code",
      "execution_count": null,
      "metadata": {
        "id": "7lHDqZT9O0nd"
      },
      "outputs": [],
      "source": [
        "lista_buscar = ['Accenture','Oracle'] # lista de opciones en string\n",
        "df[df['Company Name'].isin(lista_buscar)]"
      ]
    },
    {
      "cell_type": "code",
      "execution_count": null,
      "metadata": {
        "id": "daEGitIh_azI"
      },
      "outputs": [],
      "source": [
        "# filtrar la base dada una condicion\n",
        "# que los valores de la columna se encuentre en la lista indicada\n",
        "lista_a_buscar = [4,5,6,7]\n",
        "\n",
        "# filtrar dataframe segun condicion de busqyeueda dentro de lista\n",
        "df[df['Salaries Reported'].isin(lista_a_buscar)]\n",
        "\n",
        "# df[df[\"Salaries Reported\"].isin([4,5,6,7])]"
      ]
    },
    {
      "cell_type": "code",
      "execution_count": null,
      "metadata": {
        "id": "9paGEOOD_wWd"
      },
      "outputs": [],
      "source": [
        "# filtrar cuando cumpla dos condiciones al mismo tiempo\n",
        "# or |\n",
        "# and &\n",
        "# not !\n",
        "df[(df.Salary>1500000) & (df[\"Salaries Reported\"].isin([8,9]))]"
      ]
    },
    {
      "cell_type": "markdown",
      "metadata": {
        "id": "D3KjyZWBAmXF"
      },
      "source": [
        "## Eliminar valores ausentes/omitidos"
      ]
    },
    {
      "cell_type": "code",
      "execution_count": null,
      "metadata": {
        "id": "AtiyAgH1Anb3"
      },
      "outputs": [],
      "source": [
        "# drop : eliminar\n",
        "# na :  valores ausentes NULL, NaN, NA\n",
        "df.dropna(subset=[\"Company Name\"], axis=0, inplace=True) # eliminar filas con valores en ausentes en la columna indicada"
      ]
    },
    {
      "cell_type": "markdown",
      "metadata": {
        "id": "DOEe6dUIA18c"
      },
      "source": [
        "## Limpieza de texto"
      ]
    },
    {
      "cell_type": "markdown",
      "metadata": {
        "id": "a-M2kDHSBNVJ"
      },
      "source": [
        "* lower: Poner en minúscula todo el texto.\n",
        "* replace: Remplazar ciertos valores por otros.\n",
        "* strip: Eliminar los espacios al principio y al final de la cadena.\n",
        "* title: Poner primera letra de cada palabra en mayúscula."
      ]
    },
    {
      "cell_type": "code",
      "execution_count": null,
      "metadata": {
        "id": "tSUyvbd8BY7O"
      },
      "outputs": [],
      "source": [
        "txt = ' canción 9  '\n",
        "txt.lower()"
      ]
    },
    {
      "cell_type": "code",
      "execution_count": null,
      "metadata": {
        "id": "emSNdxjDBYuS"
      },
      "outputs": [],
      "source": [
        "txt = ' canción 9  '\n",
        "txt.upper()"
      ]
    },
    {
      "cell_type": "code",
      "execution_count": null,
      "metadata": {
        "id": "zsoZc72iBYyM"
      },
      "outputs": [],
      "source": [
        "txt = ' canción 9  '\n",
        "txt.replace(\"c\",\"k\")"
      ]
    },
    {
      "cell_type": "code",
      "execution_count": null,
      "metadata": {
        "id": "3Jb40n45BYoD"
      },
      "outputs": [],
      "source": [
        "txt = ' canción 9  '\n",
        "txt.strip()"
      ]
    },
    {
      "cell_type": "code",
      "execution_count": null,
      "metadata": {
        "id": "Vy3Cfgw3DHUR"
      },
      "outputs": [],
      "source": [
        "txt = ' canción 9  '\n",
        "txt.title()"
      ]
    },
    {
      "cell_type": "code",
      "execution_count": null,
      "metadata": {
        "id": "xbjsEgbahL_U"
      },
      "outputs": [],
      "source": [
        "# generar nueva columna luego de realizar un tratamiento de texto\n",
        "df[\"Company Name 2nd\"] = df[\"Company Name\"].str.upper()\n",
        "df[\"Company Name 2nd\"] = df[\"Company Name 2nd\"].str.replace(\"S\",\"XXX\")\n",
        "df[\"Company Name 2nd\"] = df[\"Company Name 2nd\"].str.strip()\n",
        "df[\"Company Name 2nd\"] = df[\"Company Name 2nd\"].str.title()\n",
        "df[[\"Company Name\",\"Company Name 2nd\"]]"
      ]
    },
    {
      "cell_type": "code",
      "execution_count": null,
      "metadata": {
        "id": "EQyTz884A7dM"
      },
      "outputs": [],
      "source": [
        "# generar nueva columna luego de realizar un tratamiento de texto\n",
        "\n",
        "df[\"Company Name 2nd\"] = (df[\"Company Name\"]\n",
        "                            .str.upper()# mayusculas\n",
        "                            .str.replace(\"S\",\"XXX\")\n",
        "                            .str.strip()\n",
        "                            .str.title()\n",
        "                           )\n",
        "df[[\"Company Name\",\"Company Name 2nd\"]]"
      ]
    },
    {
      "cell_type": "markdown",
      "metadata": {
        "id": "TJ-Fj4RODsHA"
      },
      "source": [
        "## Creación de columnas a partir de otras"
      ]
    },
    {
      "cell_type": "code",
      "execution_count": null,
      "metadata": {
        "id": "tB-fQ1YRA7Z8"
      },
      "outputs": [],
      "source": [
        "df[\"Total income\"]= df[\"Salary\"]*df[\"Salaries Reported\"] # columna total ingreso es resultado de multiplicar dos columnas\n",
        "df[[\"Total income\",\"Salary\",\"Salaries Reported\"]]"
      ]
    },
    {
      "cell_type": "markdown",
      "metadata": {
        "id": "i5TtNw6UERZY"
      },
      "source": [
        "## Renombrar columnas"
      ]
    },
    {
      "cell_type": "code",
      "execution_count": null,
      "metadata": {
        "id": "P12woPjSA7Wo"
      },
      "outputs": [],
      "source": [
        "print(df.columns) # muetsreme nombre original de las variables\n",
        "# renombrar columnas\n",
        "df.rename(columns={\"Rating\":\"Rate\"},inplace=True) # renombre una de las variables\n",
        "# inplace=True indica que aplique sobre el objeto sin necesidad de asignar\n",
        "print(df.columns) # muestreme como quedo despues de renombrar"
      ]
    },
    {
      "cell_type": "markdown",
      "metadata": {
        "id": "LqeUUZjOEraB"
      },
      "source": [
        "## Modificar tipo de dato de una columna"
      ]
    },
    {
      "cell_type": "code",
      "execution_count": null,
      "metadata": {
        "id": "oVVnnClMEuis"
      },
      "outputs": [],
      "source": [
        "print(df.info())\n",
        "print(\"\\n\")\n",
        "df[\"Rate\"]=df[\"Rate\"].astype(\"str\") # modificar el tipo de dato que tiene una columnas\n",
        "print(df.info())"
      ]
    },
    {
      "cell_type": "code",
      "execution_count": null,
      "metadata": {
        "id": "POuBvEU7O0ng"
      },
      "outputs": [],
      "source": [
        "print(df.info())"
      ]
    },
    {
      "cell_type": "markdown",
      "metadata": {
        "id": "t1c0EmK6FIyO"
      },
      "source": [
        "## Eliminar filas"
      ]
    },
    {
      "cell_type": "code",
      "execution_count": null,
      "metadata": {
        "id": "GPqMiAdtFJda"
      },
      "outputs": [],
      "source": [
        "print(\"Antes : {0}.\".format(df.shape))\n",
        "# como borrar filas/columnas de un datframe\n",
        "df = df.drop(df.iloc[0:3,].index) # drop : eliminar/borrar\n",
        "print(\"Luego : {0}.\".format(df.shape))"
      ]
    },
    {
      "cell_type": "code",
      "execution_count": null,
      "metadata": {
        "id": "sMuiF1tLM45j"
      },
      "outputs": [],
      "source": [
        "# eliminar duplicados\n",
        "df.drop_duplicates(subset='Job Title' , inplace=False)"
      ]
    },
    {
      "cell_type": "markdown",
      "metadata": {
        "id": "T3JiVgI2Fp5P"
      },
      "source": [
        "# Eliminar columnas"
      ]
    },
    {
      "cell_type": "code",
      "execution_count": null,
      "metadata": {
        "id": "fOEkShMlFJNF"
      },
      "outputs": [],
      "source": [
        "print(\"Antes : {0}.\".format(df.shape))\n",
        "# eliminar filas/columnas\n",
        "df = df.drop(columns=['Employment Status'])\n",
        "print(\"Luego : {0}.\".format(df.shape))"
      ]
    },
    {
      "cell_type": "markdown",
      "metadata": {
        "id": "Kh5M2NYFGjee"
      },
      "source": [
        "## Ordenar dataframes"
      ]
    },
    {
      "cell_type": "code",
      "execution_count": null,
      "metadata": {
        "id": "BhWToxMMGqg4"
      },
      "outputs": [],
      "source": [
        "df.sort_values([\"Salary\"], ascending=False)"
      ]
    },
    {
      "cell_type": "code",
      "execution_count": null,
      "metadata": {
        "id": "S5N2PRBkGqTm"
      },
      "outputs": [],
      "source": [
        "df.sort_values([\"Salary\"], ascending=True)"
      ]
    },
    {
      "cell_type": "markdown",
      "metadata": {
        "id": "_iFWYSM8GmnA"
      },
      "source": [
        "## tablas agregadas"
      ]
    },
    {
      "cell_type": "code",
      "execution_count": null,
      "metadata": {
        "id": "-bw62sb7HSQH"
      },
      "outputs": [],
      "source": [
        "# creamos un dataframe\n",
        "df = pd.DataFrame({\"A\": [\"foo\", \"foo\", \"foo\", \"foo\", \"foo\",\"bar\", \"bar\", \"bar\", \"bar\"],\n",
        "                   \"B\": [\"one\", \"one\", \"one\", \"two\", \"two\",\"one\", \"one\", \"two\", \"two\"],\n",
        "                   \"C\": [\"small\", \"large\", \"large\", \"small\", \"small\", \"large\", \"small\", \"small\",\"large\"],\n",
        "                   \"D\": [1, 2, 2, 3, 3, 4, 5, 6, 7],\n",
        "                   \"E\": [2, 4, 5, 5, 6, 6, 8, 9, 9]})\n",
        "# mostramos df\n",
        "df"
      ]
    },
    {
      "cell_type": "code",
      "execution_count": null,
      "metadata": {
        "id": "DfQj5gZWG93m"
      },
      "outputs": [],
      "source": [
        "# utilizar la funcion groupby para agregar datos (pivot table/tablas dinamicas)\n",
        "# agrupe por la columna C y haga la suma de todos los valores de la columna D y luego lo mismo para la E\n",
        "# estoy sumando los valores D que son small 1+3+3+5+6 = 18\n",
        "df.groupby('C')[['D', 'E']].sum() # agrupar por unas keys/columnas\n"
      ]
    },
    {
      "cell_type": "code",
      "execution_count": null,
      "metadata": {
        "id": "UpsMWsB7LFOu"
      },
      "outputs": [],
      "source": [
        "# utilizar funcion pivot_table para agregar datos\n",
        "pd.pivot_table(\n",
        "    df, # dataframe\n",
        "    values='D', # de donde toma los valores\n",
        "    index=['A', 'B'], # filas\n",
        "     columns=['C'], # columnas\n",
        "     aggfunc=np.sum # y funcion a aplicar de numpy\n",
        "     )"
      ]
    },
    {
      "cell_type": "code",
      "execution_count": null,
      "metadata": {
        "id": "Z55fnUeMLFGK"
      },
      "outputs": [],
      "source": [
        "pd.pivot_table(\n",
        "    df,\n",
        "    values=['D', 'E'],\n",
        "    index=['A', 'C'],\n",
        "    aggfunc={\n",
        "        'D': np.mean, # promedios\n",
        "        'E': [min, max, np.mean] # promedio, max y minimo\n",
        "        }\n",
        "        )"
      ]
    },
    {
      "cell_type": "markdown",
      "metadata": {
        "id": "zvPGtyqyMCKX"
      },
      "source": [
        "## Exploración de datos"
      ]
    },
    {
      "cell_type": "code",
      "execution_count": null,
      "metadata": {
        "id": "Ct44xGwrMexO"
      },
      "outputs": [],
      "source": [
        "df = df_000.copy() # backup"
      ]
    },
    {
      "cell_type": "code",
      "execution_count": null,
      "metadata": {
        "id": "wV2SOvkJMAtE"
      },
      "outputs": [],
      "source": [
        "df.describe()"
      ]
    },
    {
      "cell_type": "code",
      "execution_count": null,
      "metadata": {
        "id": "Kk-lBCNWQtOw"
      },
      "outputs": [],
      "source": [
        "# tablas contigencia\n",
        "pd.crosstab(df.Location,df['Employment Status'])"
      ]
    },
    {
      "cell_type": "code",
      "execution_count": null,
      "metadata": {
        "id": "QSb3Y_j7NLN4"
      },
      "outputs": [],
      "source": [
        "# calculo de estadisticos por cada variable a seleccionar\n",
        "p0=df.Salary.min()\n",
        "p100=df.Salary.max()\n",
        "q1=df.Salary.quantile(0.25)\n",
        "q2=df.Salary.quantile(0.5)\n",
        "q3=df.Salary.quantile(0.75)\n",
        "InterQuartilRange = q3-q1\n",
        "print(p0,p100,q1,q2,q3,InterQuartilRange)"
      ]
    },
    {
      "cell_type": "code",
      "execution_count": null,
      "metadata": {
        "id": "AvnHVoYUNKPe"
      },
      "outputs": [],
      "source": [
        "df.Salary.hist()\n",
        "plt.show()"
      ]
    },
    {
      "cell_type": "code",
      "execution_count": null,
      "metadata": {
        "id": "ovC4ake7Mh7t"
      },
      "outputs": [],
      "source": [
        "plt.boxplot(df['Salary'])\n",
        "plt.show()"
      ]
    },
    {
      "cell_type": "code",
      "execution_count": null,
      "metadata": {
        "id": "vG9dTCpxNu0U"
      },
      "outputs": [],
      "source": [
        "# agrupar por la variable seleccionada y aplicar la funcion de interes(suma)\n",
        "dataframe_plot = df.groupby('Employment Status').Salary.sum() # construyo datos\n",
        "dataframe_plot.plot(kind = 'pie') # construyo grafica\n",
        "plt.show() # muestro graficop\n",
        "\n",
        "# df.groupby('Employment Status').Salary.sum().plot(kind='pie')\n",
        "# plt.show()"
      ]
    },
    {
      "cell_type": "code",
      "execution_count": null,
      "metadata": {
        "id": "BhnND4SzOdzx"
      },
      "outputs": [],
      "source": [
        "# diagramas de dispersion\n",
        "df.plot(x='Salaries Reported',y='Salary',kind = 'scatter')\n",
        "plt.show()"
      ]
    },
    {
      "cell_type": "code",
      "execution_count": null,
      "metadata": {
        "id": "a5xpFcjKOrBb"
      },
      "outputs": [],
      "source": [
        "# construir una matriz de correlacion\n",
        "# esto solo aplica a variables numericas\n",
        "\n",
        "# 1ro seleccionar variables numericas\n",
        "dataframe_prueba = df.select_dtypes(['float64','int64'])\n",
        "# 2do construir matriz correlacion (pearson) con las variables numericas\n",
        "dataframe_prueba.corr()"
      ]
    },
    {
      "cell_type": "code",
      "execution_count": null,
      "metadata": {
        "id": "y17KGHNzO6ev"
      },
      "outputs": [],
      "source": [
        "# con seaborn construi matriz de correlacion visualmente mejorada\n",
        "sns.heatmap(df.select_dtypes(['float64' , 'int64']).corr(),annot=True)\n",
        "plt.show()"
      ]
    },
    {
      "cell_type": "code",
      "execution_count": null,
      "metadata": {
        "id": "hv-VasuxPRDh"
      },
      "outputs": [],
      "source": [
        "# diagramas de barras\n",
        "df.groupby('Location').Salary.sum().plot(kind='bar') # haga un diagrama de barras con el resultado de agrupas y sumar\n",
        "plt.show()"
      ]
    },
    {
      "cell_type": "code",
      "execution_count": null,
      "metadata": {
        "id": "hUxVaewbQLyc"
      },
      "outputs": [],
      "source": [
        "# barh para indicar que es horizontal\n",
        "df.groupby('Location').Salary.sum().plot(kind='barh') # barh indica barras horizontales\n",
        "plt.show()"
      ]
    },
    {
      "cell_type": "code",
      "execution_count": null,
      "metadata": {
        "id": "fWwXEnA8PRAZ"
      },
      "outputs": [],
      "source": [
        "summary=df.groupby('Location').Salary.sum()\n",
        "plt.bar(x=summary.index , height=summary.values)\n",
        "plt.rcParams[\"figure.figsize\"] = (20,15)\n",
        "plt.show()"
      ]
    },
    {
      "cell_type": "code",
      "execution_count": null,
      "metadata": {
        "id": "6oVfjclEPQ9Z"
      },
      "outputs": [],
      "source": [
        "summary=df.groupby('Location').Salary.sum()\n",
        "sns.barplot(x=summary.index , y=summary.values)\n",
        "plt.rcParams[\"figure.figsize\"] = (10,6)\n",
        "plt.show()"
      ]
    },
    {
      "cell_type": "code",
      "execution_count": null,
      "metadata": {
        "id": "GQkU5Yc6O0no"
      },
      "outputs": [],
      "source": [
        "df.columns"
      ]
    },
    {
      "cell_type": "code",
      "execution_count": null,
      "metadata": {
        "id": "JtwVAGmYPQ6y"
      },
      "outputs": [],
      "source": [
        "# una linea de puntas\n",
        "df.groupby('Salaries Reported').Salary.sum().plot(kind='line') # hace un grafico linea\n",
        "plt.rcParams[\"figure.figsize\"] = (10,6)\n",
        "plt.show()"
      ]
    },
    {
      "cell_type": "code",
      "execution_count": null,
      "metadata": {
        "id": "54lIl2UVQACV"
      },
      "outputs": [],
      "source": [
        "df.groupby('Location').Salary.sum().plot(kind='pie')\n",
        "plt.rcParams[\"figure.figsize\"] = (15,6)\n",
        "plt.show()"
      ]
    },
    {
      "cell_type": "code",
      "execution_count": null,
      "metadata": {
        "id": "0Bg5edZrQVYe"
      },
      "outputs": [],
      "source": [
        "pd.crosstab(df.Location,df['Employment Status'])"
      ]
    },
    {
      "cell_type": "code",
      "execution_count": null,
      "metadata": {
        "id": "xqGQ8maaQ2Mi"
      },
      "outputs": [],
      "source": [
        "# construi un heatmap una diagram de calor\n",
        "# preparar datos antes de visualizacion\n",
        "tab_00 = pd.crosstab(df.Location,df['Employment Status'])\n",
        "# usar datros preparados para plotear graficar\n",
        "sns.heatmap(tab_00)\n",
        "plt.show()"
      ]
    },
    {
      "cell_type": "markdown",
      "metadata": {
        "id": "cdeiZxD02pLf"
      },
      "source": [
        "## Bibliografía"
      ]
    },
    {
      "cell_type": "markdown",
      "metadata": {
        "id": "yTifdGxy2qzu"
      },
      "source": [
        "\n",
        "* (2022,Montenegro y Montenegro) Aprendizaje profundo. Diplomado de IA y AP.\n",
        "* BeginnersGuide. link :https://wiki.python.org/moin/BeginnersGuide/Programmers\n",
        "* Uniwebsidad. link :https://uniwebsidad.com/libros/algoritmos-python"
      ]
    }
  ],
  "metadata": {
    "colab": {
      "provenance": []
    },
    "kernelspec": {
      "display_name": "Python 3.9.1 64-bit",
      "language": "python",
      "name": "python3"
    },
    "language_info": {
      "codemirror_mode": {
        "name": "ipython",
        "version": 3
      },
      "file_extension": ".py",
      "mimetype": "text/x-python",
      "name": "python",
      "nbconvert_exporter": "python",
      "pygments_lexer": "ipython3",
      "version": "3.11.3"
    },
    "vscode": {
      "interpreter": {
        "hash": "f128fe3ab5917b826f85fed29f7e6d5cdf9b8c96daddc94321e327dfff04eefa"
      }
    }
  },
  "nbformat": 4,
  "nbformat_minor": 0
}