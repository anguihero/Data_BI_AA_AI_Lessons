{
 "cells": [
  {
   "cell_type": "markdown",
   "metadata": {
    "id": "2IMHvJpFmIZF"
   },
   "source": [
    "---------------\n",
    "    AMMS\n",
    "---------------"
   ]
  },
  {
   "cell_type": "markdown",
   "metadata": {
    "id": "uCCn4Pa_mIZI"
   },
   "source": [
    "# Análisis de Regresión"
   ]
  },
  {
   "cell_type": "markdown",
   "metadata": {
    "id": "TurPwDQmmIZI"
   },
   "source": [
    "---------------\n",
    "## Tabla de contenido\n",
    "---------------\n",
    "\n",
    "* Definición\n",
    "* Regresión Lineal Simple\n",
    "* Uso de libreria Scikit learn\n",
    "* Métricas\n",
    "* Métodos de regresión"
   ]
  },
  {
   "cell_type": "markdown",
   "metadata": {
    "id": "dwmagBmvmIZJ"
   },
   "source": [
    "<img src=https://scikit-learn.org/stable/_static/ml_map.png>"
   ]
  },
  {
   "cell_type": "markdown",
   "metadata": {
    "id": "v-5d1OHmmIZJ"
   },
   "source": [
    "---------------\n",
    "## Definición\n",
    "---------------"
   ]
  },
  {
   "cell_type": "markdown",
   "metadata": {
    "id": "e17wdrrSmIZJ"
   },
   "source": [
    "El análisis de regresión es una técnica estadística utilizada para investigar la relación entre una variable dependiente (o respuesta) y una o más variables independientes (o predictores)."
   ]
  },
  {
   "cell_type": "markdown",
   "metadata": {
    "id": "zD5nVJmumIZJ"
   },
   "source": [
    "Se utiliza comúnmente para predecir el valor de la variable dependiente cuando se conocen los valores de las variables independientes. El objetivo principal es modelar la relación subyacente y comprender la fuerza y dirección de la asociación."
   ]
  },
  {
   "cell_type": "markdown",
   "metadata": {
    "id": "HlOjIcX0mIZK"
   },
   "source": [
    "---------------\n",
    "## Regresión Lineal Simple\n",
    "---------------"
   ]
  },
  {
   "cell_type": "markdown",
   "metadata": {
    "id": "CRhZFkv3mIZK"
   },
   "source": [
    "En la regresión lineal simple, se considera una variable dependiente (Y) en relación con una única variable independiente (X). El modelo lineal simple se expresa mediante la ecuación:"
   ]
  },
  {
   "cell_type": "markdown",
   "metadata": {
    "id": "RDVz8hXQmIZK"
   },
   "source": [
    "$ Y =\\beta_0+\\beta_1X+\\epsilon$"
   ]
  },
  {
   "cell_type": "markdown",
   "metadata": {
    "id": "lAhJlIhZmIZL"
   },
   "source": [
    "Donde:\n",
    "\n",
    "* Y es la variable dependiente.\n",
    "* X es la variable independiente.\n",
    "* $\\beta_0$ es la ordenada al origen (intercepto).\n",
    "* $\\beta_1$ es la pendiente de la recta de regresión.\n",
    "* $\\epsilon$ es el término de error, que representa la variabilidad no explicada."
   ]
  },
  {
   "cell_type": "code",
   "execution_count": null,
   "metadata": {
    "executionInfo": {
     "elapsed": 2,
     "status": "ok",
     "timestamp": 1723853873131,
     "user": {
      "displayName": "gauss ELprincipito",
      "userId": "10561550388760016055"
     },
     "user_tz": 300
    },
    "id": "Qs3AUkhVmIZL"
   },
   "outputs": [],
   "source": [
    "# Importar las bibliotecas necesarias\n",
    "import numpy as np\n",
    "import matplotlib.pyplot as plt # graficos, viz, plots"
   ]
  },
  {
   "cell_type": "code",
   "execution_count": null,
   "metadata": {
    "executionInfo": {
     "elapsed": 272,
     "status": "ok",
     "timestamp": 1723853968442,
     "user": {
      "displayName": "gauss ELprincipito",
      "userId": "10561550388760016055"
     },
     "user_tz": 300
    },
    "id": "veWtfMl2mIZM"
   },
   "outputs": [],
   "source": [
    "  # Paso 1: Definir los datos\n",
    "X = np.array([1, 2, 3, 4, 5])\n",
    "Y = np.array([60, 75, 82, 93, 100])"
   ]
  },
  {
   "cell_type": "code",
   "execution_count": null,
   "metadata": {
    "colab": {
     "base_uri": "https://localhost:8080/",
     "height": 510
    },
    "executionInfo": {
     "elapsed": 573,
     "status": "ok",
     "timestamp": 1723853995934,
     "user": {
      "displayName": "gauss ELprincipito",
      "userId": "10561550388760016055"
     },
     "user_tz": 300
    },
    "id": "aeGRGwakmIZM",
    "outputId": "df3955de-b8e9-4389-96fb-27b665c1998d"
   },
   "outputs": [],
   "source": [
    "# Visualización de los resultados\n",
    "plt.scatter(X, Y)\n",
    "plt.xlabel('X')\n",
    "plt.ylabel('Y')\n",
    "plt.title('variable dependiente (Y) en relación con variable independiente (X)')\n",
    "plt.legend()\n",
    "plt.show()"
   ]
  },
  {
   "cell_type": "markdown",
   "metadata": {
    "id": "GGblV_YgmIZM"
   },
   "source": [
    "### Estimación de Parámetros"
   ]
  },
  {
   "cell_type": "markdown",
   "metadata": {
    "id": "GRPHH4E5mIZM"
   },
   "source": [
    "La estimación de los parámetros  $\\beta_0$ y $\\beta_1$ se realiza a través de métodos como el método de mínimos cuadrados, que busca minimizar la suma de los cuadrados de las diferencias entre las observaciones reales y las predicciones del modelo."
   ]
  },
  {
   "cell_type": "markdown",
   "metadata": {
    "id": "4FgjpKDNmIZM"
   },
   "source": [
    "La fórmula para la pendiente es: $\\beta_1 = \\frac{cov(X,Y)}{var(X)}$  "
   ]
  },
  {
   "cell_type": "markdown",
   "metadata": {
    "id": "Du05dqo4mIZM"
   },
   "source": [
    "La fórmula para el intercepto (ordenada al origen) es : $ \\beta_0 = Y - \\beta_1\\bar{X}$"
   ]
  },
  {
   "cell_type": "markdown",
   "metadata": {
    "id": "TLIUSqwhmIZM"
   },
   "source": [
    "Donde:\n",
    "\n",
    "* $\\bar{X}$ es la media de X.\n",
    "* $\\bar{Y}$ es la media de Y.\n",
    "* $cov(X,Y)$ es la covarianza entre X e Y.\n",
    "* $var(X)$ es la varianza X."
   ]
  },
  {
   "cell_type": "code",
   "execution_count": null,
   "metadata": {
    "colab": {
     "base_uri": "https://localhost:8080/"
    },
    "executionInfo": {
     "elapsed": 215,
     "status": "ok",
     "timestamp": 1723854081418,
     "user": {
      "displayName": "gauss ELprincipito",
      "userId": "10561550388760016055"
     },
     "user_tz": 300
    },
    "id": "_652Cv9tmIZN",
    "outputId": "8a3b1093-4b8a-4f97-d373-04eec0f40870"
   },
   "outputs": [],
   "source": [
    "# Paso 2: Calcular la media de X e Y\n",
    "mean_X = np.mean(X)\n",
    "print(f\"el promedio de X es : {mean_X}\")\n",
    "mean_Y = np.mean(Y)\n",
    "print(f\"el promedio de Y es : {mean_Y}\")"
   ]
  },
  {
   "cell_type": "code",
   "execution_count": null,
   "metadata": {
    "colab": {
     "base_uri": "https://localhost:8080/"
    },
    "executionInfo": {
     "elapsed": 214,
     "status": "ok",
     "timestamp": 1723854092429,
     "user": {
      "displayName": "gauss ELprincipito",
      "userId": "10561550388760016055"
     },
     "user_tz": 300
    },
    "id": "7b_-NvPTmIZN",
    "outputId": "07cc6730-bdc2-4f1e-be15-74d74b14b361"
   },
   "outputs": [],
   "source": [
    "# Paso 3: Calcular la covarianza y la varianza\n",
    "cov_XY = np.sum((X - mean_X) * (Y - mean_Y)) / len(X)\n",
    "print(f\"la covarianza entre X e Y es : {cov_XY}\")\n",
    "var_X = np.var(X)\n",
    "print(f\"la varianza de X es : {var_X}\")"
   ]
  },
  {
   "cell_type": "code",
   "execution_count": null,
   "metadata": {
    "colab": {
     "base_uri": "https://localhost:8080/"
    },
    "executionInfo": {
     "elapsed": 217,
     "status": "ok",
     "timestamp": 1723854108216,
     "user": {
      "displayName": "gauss ELprincipito",
      "userId": "10561550388760016055"
     },
     "user_tz": 300
    },
    "id": "ZjRhj-8AmIZN",
    "outputId": "37a72a34-2d1c-4fee-b935-76e2d111f389"
   },
   "outputs": [],
   "source": [
    "# Paso 4: beta_1 - Calcular la pendiente\n",
    "beta_1 = cov_XY / var_X\n",
    "print(f\"la pendiente es : {beta_1}\")"
   ]
  },
  {
   "cell_type": "code",
   "execution_count": null,
   "metadata": {
    "colab": {
     "base_uri": "https://localhost:8080/"
    },
    "executionInfo": {
     "elapsed": 202,
     "status": "ok",
     "timestamp": 1723854127644,
     "user": {
      "displayName": "gauss ELprincipito",
      "userId": "10561550388760016055"
     },
     "user_tz": 300
    },
    "id": "JGF0qkYkmIZN",
    "outputId": "b08e8bc3-e3b4-45de-9da9-eafff2d118dc"
   },
   "outputs": [],
   "source": [
    "# Paso 5: beta_0 - Calcular el intercepto (la ordenada al origen)\n",
    "beta_0 = mean_Y - beta_1 * mean_X\n",
    "print(f\"el intercepto es : {beta_0}\")"
   ]
  },
  {
   "cell_type": "markdown",
   "metadata": {
    "id": "bS0_jOeqmIZN"
   },
   "source": [
    "### Predicciones"
   ]
  },
  {
   "cell_type": "markdown",
   "metadata": {
    "id": "Pu8939SsmIZN"
   },
   "source": [
    "Una vez que se han estimado los parámetros, se pueden hacer predicciones para nuevos valores de X utilizando la ecuación de regresión lineal simple:"
   ]
  },
  {
   "cell_type": "markdown",
   "metadata": {
    "id": "yft3VgbMmIZN"
   },
   "source": [
    "$ \\hat{Y} =\\hat{\\beta_0}+\\hat{\\beta_1}X$"
   ]
  },
  {
   "cell_type": "markdown",
   "metadata": {
    "id": "n7NW-4IamIZN"
   },
   "source": [
    "Donde:\n",
    "\n",
    "\n",
    "* $\\hat{Y}$ es la predicción de Y para un valor dado de X.\n",
    "* $\\hat{\\beta_0}$ y $\\hat{\\beta_1}$ son las estimaciones de los parámetros."
   ]
  },
  {
   "cell_type": "code",
   "execution_count": null,
   "metadata": {
    "executionInfo": {
     "elapsed": 199,
     "status": "ok",
     "timestamp": 1723854182034,
     "user": {
      "displayName": "gauss ELprincipito",
      "userId": "10561550388760016055"
     },
     "user_tz": 300
    },
    "id": "wb5ZFm_zmIZN"
   },
   "outputs": [],
   "source": [
    "# Paso 6: Hacer predicciones para los valores de X\n",
    "predictions = beta_0 + beta_1 * X"
   ]
  },
  {
   "cell_type": "code",
   "execution_count": null,
   "metadata": {
    "colab": {
     "base_uri": "https://localhost:8080/",
     "height": 472
    },
    "executionInfo": {
     "elapsed": 581,
     "status": "ok",
     "timestamp": 1723854198376,
     "user": {
      "displayName": "gauss ELprincipito",
      "userId": "10561550388760016055"
     },
     "user_tz": 300
    },
    "id": "_1uPJP-2mIZO",
    "outputId": "e7bb37d9-4734-4f13-c591-e7cd1151a990"
   },
   "outputs": [],
   "source": [
    "# Visualización de los resultados\n",
    "plt.scatter(X, Y)\n",
    "plt.plot(X, predictions, label='predicciones - datos obs', color='gray')\n",
    "plt.xlabel('X')\n",
    "plt.ylabel('Y')\n",
    "plt.title('variable dependiente (Y) en relación con variable independiente (X)')\n",
    "plt.legend()\n",
    "plt.show()"
   ]
  },
  {
   "cell_type": "code",
   "execution_count": null,
   "metadata": {
    "executionInfo": {
     "elapsed": 248,
     "status": "ok",
     "timestamp": 1723855037298,
     "user": {
      "displayName": "gauss ELprincipito",
      "userId": "10561550388760016055"
     },
     "user_tz": 300
    },
    "id": "eBZSfqW4mIZO"
   },
   "outputs": [],
   "source": [
    "# Paso 7: Hacer predicciones para nuevos valores de X\n",
    "new_X = np.array([6, 7, 8, 9,10])\n",
    "\n",
    "predictions_new_X = beta_0 + beta_1 * new_X"
   ]
  },
  {
   "cell_type": "code",
   "execution_count": null,
   "metadata": {
    "colab": {
     "base_uri": "https://localhost:8080/",
     "height": 472
    },
    "executionInfo": {
     "elapsed": 2139,
     "status": "ok",
     "timestamp": 1723855041292,
     "user": {
      "displayName": "gauss ELprincipito",
      "userId": "10561550388760016055"
     },
     "user_tz": 300
    },
    "id": "nDhEH8jbmIZO",
    "outputId": "c2a4e595-2117-4ada-ff20-16056c590bb9"
   },
   "outputs": [],
   "source": [
    "# Visualización de los resultados\n",
    "plt.scatter(X, Y)\n",
    "plt.plot(X, predictions, label='predicciones - datos obs', color='gray')\n",
    "plt.plot(new_X, predictions_new_X, label='predicciones - datos nuevos', color='red')\n",
    "plt.xlabel('X')\n",
    "plt.ylabel('Y')\n",
    "plt.title('variable dependiente (Y) en relación con variable independiente (X)')\n",
    "plt.legend()\n",
    "plt.show()"
   ]
  },
  {
   "cell_type": "markdown",
   "metadata": {
    "id": "qKiwycywmIZO"
   },
   "source": [
    "### Evaluación del Modelo"
   ]
  },
  {
   "cell_type": "markdown",
   "metadata": {
    "id": "ret1SiOpmIZO"
   },
   "source": [
    "La calidad del modelo se evalúa mediante estadísticas como el coeficiente de determinación ($R^2$), que indica la proporción de la variabilidad de la variable dependiente explicada por el modelo.\n",
    "\n",
    "*IMPORTANTE* : Un $R^2$ cercano a 1 indica un buen ajuste del modelo a los datos"
   ]
  },
  {
   "cell_type": "markdown",
   "metadata": {
    "id": "BogTi7t3mIZO"
   },
   "source": [
    "* 1er método de estimación del $R^2$ en términos de la suma de cuadrados de regresión (SSR) y la suma total de cuadrados (SST)"
   ]
  },
  {
   "cell_type": "markdown",
   "metadata": {
    "id": "DA7YPRkzmIZO"
   },
   "source": [
    "$R^2 =  \\frac{SSR}{SST}=  \\frac{\\text{suma de los cuadrados de la regresión}}{\\text{suma total de los cuadrados}}$  "
   ]
  },
  {
   "cell_type": "markdown",
   "metadata": {
    "id": "o0EMQt4jmIZO"
   },
   "source": [
    "Donde:\n",
    "\n",
    "* $SSR = \\sum_{i=1}^{n}{(\\hat{Y}_i - \\bar{Y})^2 }$\n",
    "* $SST = \\sum_{i=1}^{n}{({Y}_i - \\bar{Y})^2 }$"
   ]
  },
  {
   "cell_type": "code",
   "execution_count": null,
   "metadata": {
    "colab": {
     "base_uri": "https://localhost:8080/"
    },
    "executionInfo": {
     "elapsed": 252,
     "status": "ok",
     "timestamp": 1723854468657,
     "user": {
      "displayName": "gauss ELprincipito",
      "userId": "10561550388760016055"
     },
     "user_tz": 300
    },
    "id": "rAiTkptbmIZP",
    "outputId": "03a2e397-3cfd-4cf3-cb0c-052088879800"
   },
   "outputs": [],
   "source": [
    "# Paso 8: Calcular la suma de los cuadrados de la regresión (SSR)\n",
    "SSR = np.sum((predictions - mean_Y) ** 2)\n",
    "print(f\"la suma de los cuadrados de la regresión (SSR) es : {SSR}\")"
   ]
  },
  {
   "cell_type": "code",
   "execution_count": null,
   "metadata": {
    "colab": {
     "base_uri": "https://localhost:8080/"
    },
    "executionInfo": {
     "elapsed": 2,
     "status": "ok",
     "timestamp": 1723854468963,
     "user": {
      "displayName": "gauss ELprincipito",
      "userId": "10561550388760016055"
     },
     "user_tz": 300
    },
    "id": "H8-6tEKimIZP",
    "outputId": "4e8bd41f-17a7-40fd-cbfc-74b38e5415da"
   },
   "outputs": [],
   "source": [
    "# Paso 9: Calcular la suma total de los cuadrados (SST)\n",
    "SST = np.sum((Y - mean_Y) ** 2)\n",
    "print(f\"la suma total de los cuadrados (SST) es : {SST}\")"
   ]
  },
  {
   "cell_type": "code",
   "execution_count": null,
   "metadata": {
    "colab": {
     "base_uri": "https://localhost:8080/"
    },
    "executionInfo": {
     "elapsed": 245,
     "status": "ok",
     "timestamp": 1723854470026,
     "user": {
      "displayName": "gauss ELprincipito",
      "userId": "10561550388760016055"
     },
     "user_tz": 300
    },
    "id": "oqG8GxXimIZP",
    "outputId": "1c2f30c5-c168-4b62-b897-e4ab652e5c4a"
   },
   "outputs": [],
   "source": [
    "# REVISAR\n",
    "# Paso 10: Calcular el coeficiente de determinación (R^2)\n",
    "R_squared = (SSR / SST)\n",
    "print(f\"el coeficiente de determinación es : {R_squared}\")"
   ]
  },
  {
   "cell_type": "markdown",
   "metadata": {
    "id": "HQ--4hajmIZS"
   },
   "source": [
    "* 2do método de estimación del $R^2$ en términos de la suma de cuadrados de regresión (SSR) y la suma de cuadrados residuales (SSE)"
   ]
  },
  {
   "cell_type": "markdown",
   "metadata": {
    "id": "HAXRGP-PmIZT"
   },
   "source": [
    "$R^2 = 1 - \\frac{SSE}{SST}= 1 - \\frac{\\text{suma de los cuadrados residuales}}{\\text{suma total de los cuadrados}}$  "
   ]
  },
  {
   "cell_type": "markdown",
   "metadata": {
    "id": "3mp8M9OJmIZT"
   },
   "source": [
    "Donde:\n",
    "\n",
    "* $SSE = \\sum_{i=1}^{n}{({Y}_i - \\hat{Y}_i )^2 }$\n",
    "* $SST = \\sum_{i=1}^{n}{({Y}_i - \\bar{Y})^2 }$"
   ]
  },
  {
   "cell_type": "code",
   "execution_count": null,
   "metadata": {
    "colab": {
     "base_uri": "https://localhost:8080/"
    },
    "executionInfo": {
     "elapsed": 206,
     "status": "ok",
     "timestamp": 1723854506938,
     "user": {
      "displayName": "gauss ELprincipito",
      "userId": "10561550388760016055"
     },
     "user_tz": 300
    },
    "id": "9TQkhXskmIZT",
    "outputId": "c91aa754-1272-44f3-a25b-15e6b336eeaa"
   },
   "outputs": [],
   "source": [
    "# Paso 8: Calcular la suma de los cuadrados residuales (SSE)\n",
    "SSE = np.sum((Y - predictions) ** 2)\n",
    "print(f\"la suma de los cuadrados residuales (SSE) es : {SSR}\")"
   ]
  },
  {
   "cell_type": "code",
   "execution_count": null,
   "metadata": {
    "colab": {
     "base_uri": "https://localhost:8080/"
    },
    "executionInfo": {
     "elapsed": 2,
     "status": "ok",
     "timestamp": 1723854507136,
     "user": {
      "displayName": "gauss ELprincipito",
      "userId": "10561550388760016055"
     },
     "user_tz": 300
    },
    "id": "QBVecGNamIZT",
    "outputId": "4fc2c227-0540-4d40-b8db-f27a824bad38"
   },
   "outputs": [],
   "source": [
    "# Paso 9: Calcular la suma total de los cuadrados (SST)\n",
    "SST = np.sum((Y - mean_Y) ** 2)\n",
    "print(f\"la suma total de los cuadrados (SST) es : {SST}\")"
   ]
  },
  {
   "cell_type": "code",
   "execution_count": null,
   "metadata": {
    "colab": {
     "base_uri": "https://localhost:8080/"
    },
    "executionInfo": {
     "elapsed": 2,
     "status": "ok",
     "timestamp": 1723854507887,
     "user": {
      "displayName": "gauss ELprincipito",
      "userId": "10561550388760016055"
     },
     "user_tz": 300
    },
    "id": "ZKGUEg3VmIZT",
    "outputId": "669f2d5a-c942-4fa3-f02a-aacfc4b51903"
   },
   "outputs": [],
   "source": [
    "# REVISAR\n",
    "# Paso 10: Calcular el coeficiente de determinación (R^2)\n",
    "R_squared = 1 - (SSE / SST)\n",
    "print(f\"el coeficiente de determinación es : {R_squared}\")"
   ]
  },
  {
   "cell_type": "markdown",
   "metadata": {
    "id": "9RC4Zx2dmIZT"
   },
   "source": [
    "---------------\n",
    "## Uso de libreria Scikit learn\n",
    "---------------"
   ]
  },
  {
   "cell_type": "markdown",
   "metadata": {
    "id": "LjSBSDOBmIZT"
   },
   "source": [
    "* solo importar las funciones necesarias\n",
    "    * De \"el modulo\" importar \"la funcion\""
   ]
  },
  {
   "cell_type": "code",
   "execution_count": null,
   "metadata": {
    "executionInfo": {
     "elapsed": 211,
     "status": "ok",
     "timestamp": 1723854605206,
     "user": {
      "displayName": "gauss ELprincipito",
      "userId": "10561550388760016055"
     },
     "user_tz": 300
    },
    "id": "OdQuj32amIZU"
   },
   "outputs": [],
   "source": [
    "# paso 0 importar modulos\n",
    "from sklearn.linear_model import LinearRegression\n",
    "from sklearn.metrics import r2_score"
   ]
  },
  {
   "cell_type": "code",
   "execution_count": null,
   "metadata": {
    "executionInfo": {
     "elapsed": 191,
     "status": "ok",
     "timestamp": 1723854727928,
     "user": {
      "displayName": "gauss ELprincipito",
      "userId": "10561550388760016055"
     },
     "user_tz": 300
    },
    "id": "l0btfwvumIZU"
   },
   "outputs": [],
   "source": [
    "# 1er paso preparacion de la informacion\n",
    "\n",
    "# Datos de ejemplo\n",
    "# Supongamos que tenemos datos de horas de estudio (X) y calificaciones (y)\n",
    "horas_estudio = np.array([1, 2, 3, 4, 5])\n",
    "calificaciones = np.array([60, 75, 82, 93, 100])\n",
    "\n",
    "# Reshape para convertir los arrays en matrices unidimensionales\n",
    "X = horas_estudio.reshape(-1, 1)\n",
    "y = calificaciones\n"
   ]
  },
  {
   "cell_type": "code",
   "execution_count": null,
   "metadata": {
    "executionInfo": {
     "elapsed": 213,
     "status": "ok",
     "timestamp": 1723854776552,
     "user": {
      "displayName": "gauss ELprincipito",
      "userId": "10561550388760016055"
     },
     "user_tz": 300
    },
    "id": "ZQdYoNyTmIZU"
   },
   "outputs": [],
   "source": [
    "# 2do paso\n",
    "# Crear/Iniciar un objecto de modelo de regresión lineal\n",
    "modelo = LinearRegression()"
   ]
  },
  {
   "cell_type": "code",
   "execution_count": null,
   "metadata": {
    "colab": {
     "base_uri": "https://localhost:8080/",
     "height": 74
    },
    "executionInfo": {
     "elapsed": 236,
     "status": "ok",
     "timestamp": 1723854846795,
     "user": {
      "displayName": "gauss ELprincipito",
      "userId": "10561550388760016055"
     },
     "user_tz": 300
    },
    "id": "KFHTKNpWmIZU",
    "outputId": "73fce6cf-7505-41e5-ef98-f7e29e4808e7"
   },
   "outputs": [],
   "source": [
    "# 3er paso\n",
    "# Entrenar el modelo con los datos # fit significa ajuste a los datos\n",
    "modelo.fit(X, y)"
   ]
  },
  {
   "cell_type": "code",
   "execution_count": null,
   "metadata": {
    "executionInfo": {
     "elapsed": 221,
     "status": "ok",
     "timestamp": 1723854900709,
     "user": {
      "displayName": "gauss ELprincipito",
      "userId": "10561550388760016055"
     },
     "user_tz": 300
    },
    "id": "-tl4Jx2vmIZU"
   },
   "outputs": [],
   "source": [
    "# 4to paso\n",
    "# Hacer predicciones sobre el historico\n",
    "predicciones_obs = modelo.predict(X)"
   ]
  },
  {
   "cell_type": "code",
   "execution_count": null,
   "metadata": {
    "executionInfo": {
     "elapsed": 232,
     "status": "ok",
     "timestamp": 1723855129812,
     "user": {
      "displayName": "gauss ELprincipito",
      "userId": "10561550388760016055"
     },
     "user_tz": 300
    },
    "id": "tOOP0KlRmIZU"
   },
   "outputs": [],
   "source": [
    "# 5to\n",
    "# Hacer predicciones sobre nuevos datos\n",
    "\n",
    "# nuevos datos\n",
    "horas_estudio_nuevas = np.array([5,6, 7, 8,9]).reshape(-1, 1)\n",
    "# predeir sobre nuevos datos con el modelo ajustado\n",
    "predicciones_nuevos = modelo.predict(horas_estudio_nuevas)\n"
   ]
  },
  {
   "cell_type": "code",
   "execution_count": null,
   "metadata": {
    "executionInfo": {
     "elapsed": 8,
     "status": "ok",
     "timestamp": 1723855130662,
     "user": {
      "displayName": "gauss ELprincipito",
      "userId": "10561550388760016055"
     },
     "user_tz": 300
    },
    "id": "FC0H09bvmIZU"
   },
   "outputs": [],
   "source": [
    "\n",
    "# Coeficientes de la regresión\n",
    "pendiente = modelo.coef_[0]\n",
    "intercepto = modelo.intercept_\n"
   ]
  },
  {
   "cell_type": "code",
   "execution_count": null,
   "metadata": {
    "colab": {
     "base_uri": "https://localhost:8080/",
     "height": 472
    },
    "executionInfo": {
     "elapsed": 973,
     "status": "ok",
     "timestamp": 1723855131952,
     "user": {
      "displayName": "gauss ELprincipito",
      "userId": "10561550388760016055"
     },
     "user_tz": 300
    },
    "id": "x86DmFrFmIZV",
    "outputId": "2a25f6cf-10b2-4f3a-8f6b-0c1b16d6eaad"
   },
   "outputs": [],
   "source": [
    "\n",
    "# Visualización de los resultados\n",
    "plt.scatter(horas_estudio, calificaciones, label='Datos de entrenamiento')\n",
    "plt.plot(horas_estudio, predicciones_obs, label='predicciones - datos obs', color='gray')\n",
    "plt.plot(horas_estudio_nuevas, predicciones_nuevos, label='predicciones - datos nuevos', color='red')\n",
    "plt.xlabel('Horas de estudio')\n",
    "plt.ylabel('Calificaciones')\n",
    "plt.title('Regresión Lineal Simple')\n",
    "plt.legend()\n",
    "plt.show()\n"
   ]
  },
  {
   "cell_type": "code",
   "execution_count": null,
   "metadata": {
    "colab": {
     "base_uri": "https://localhost:8080/"
    },
    "executionInfo": {
     "elapsed": 262,
     "status": "ok",
     "timestamp": 1723855149201,
     "user": {
      "displayName": "gauss ELprincipito",
      "userId": "10561550388760016055"
     },
     "user_tz": 300
    },
    "id": "Nh5OKRgrmIZV",
    "outputId": "8fab835c-690d-4959-e2a4-c315a4693f1a"
   },
   "outputs": [],
   "source": [
    "\n",
    "# Mostrar los resultados\n",
    "print(f\"Pendiente : {pendiente}\")\n",
    "print(f\"Intercepto: {intercepto}\")"
   ]
  },
  {
   "cell_type": "code",
   "execution_count": null,
   "metadata": {
    "colab": {
     "base_uri": "https://localhost:8080/"
    },
    "executionInfo": {
     "elapsed": 214,
     "status": "ok",
     "timestamp": 1723855364852,
     "user": {
      "displayName": "gauss ELprincipito",
      "userId": "10561550388760016055"
     },
     "user_tz": 300
    },
    "id": "YmjHK4RUmIZV",
    "outputId": "81f0b370-ac67-4ab0-b75d-6ba07a85a646"
   },
   "outputs": [],
   "source": [
    "\n",
    "# 6to paso\n",
    "\n",
    "# evaluar lo aprendido, el desempeño\n",
    "# r cuadrado :  utiliza las y observadas y las y predicciones\n",
    "R_cuadrado = r2_score(Y,predicciones_obs)\n",
    "print('El poder explicativo del modelo de regresión es : {} %'.format(np.round(R_cuadrado*100,2)))"
   ]
  },
  {
   "cell_type": "markdown",
   "metadata": {
    "id": "wKuzhq2jmIZV"
   },
   "source": [
    "---------------\n",
    "## Métricas\n",
    "---------------"
   ]
  },
  {
   "cell_type": "markdown",
   "metadata": {
    "id": "cHApaKZMmIZV"
   },
   "source": [
    "### Coeficiente de Determinación $R^2$"
   ]
  },
  {
   "cell_type": "markdown",
   "metadata": {
    "id": "eaZwKe2QmIZV"
   },
   "source": [
    "    * Mide la proporción de la variabilidad total de la respuesta que es explicada por el modelo.\n",
    "    * Es una medida de ajuste global del modelo.\n",
    "    * Es fácil de interpretar ya que un modelo con Coeficiente de Determinación que está más cerca de cero es peor que uno que más cerca que de uno\n",
    "    "
   ]
  },
  {
   "cell_type": "markdown",
   "metadata": {
    "id": "9bnsLDurmIZV"
   },
   "source": [
    "$R^2 = 1 - \\frac{SSE}{SST}= 1 - \\frac{\\text{suma de los cuadrados residuales}}{\\text{suma total de los cuadrados}}$  "
   ]
  },
  {
   "cell_type": "markdown",
   "metadata": {
    "id": "bMnzQzzJmIZV"
   },
   "source": [
    "Donde:\n",
    "\n",
    "* $SSE = \\sum_{i=1}^{n}{({Y}_i - \\hat{Y}_i )^2 }$\n",
    "* $SST = \\sum_{i=1}^{n}{({Y}_i - \\bar{Y})^2 }$"
   ]
  },
  {
   "cell_type": "markdown",
   "metadata": {
    "id": "Gee4pUJFmIZV"
   },
   "source": [
    "    EJEMPLO"
   ]
  },
  {
   "cell_type": "code",
   "execution_count": null,
   "metadata": {
    "colab": {
     "base_uri": "https://localhost:8080/"
    },
    "executionInfo": {
     "elapsed": 245,
     "status": "ok",
     "timestamp": 1723855544943,
     "user": {
      "displayName": "gauss ELprincipito",
      "userId": "10561550388760016055"
     },
     "user_tz": 300
    },
    "id": "fyEhcqVKmIZW",
    "outputId": "24e55584-8e61-48ae-e2cf-170b0fd18c6d"
   },
   "outputs": [],
   "source": [
    "# 1- importar la funcion\n",
    "from sklearn.metrics import r2_score\n",
    "# 2 - aplicar la función con las Y observadas y las predicciones\n",
    "R_cuadrado = r2_score(Y,predictions)\n",
    "# 3 -mostrar el resultado de la evaluación\n",
    "print('El performance es : {} %'.format(np.round(R_cuadrado*100,2)))"
   ]
  },
  {
   "cell_type": "markdown",
   "metadata": {
    "id": "wFmydtEBmIZW"
   },
   "source": [
    "### Mean Squared Error"
   ]
  },
  {
   "cell_type": "markdown",
   "metadata": {
    "id": "ifBEHq8umIZW"
   },
   "source": [
    "    * Proporciona la media de los cuadrados de los errores, es decir, la diferencia cuadrática media entre los valores estimados y los reales.\n",
    "    * Pone más peso en errores grandes debido al cuadrado.\n",
    "    * Es útil cuando grandes desviaciones son particularmente indeseables"
   ]
  },
  {
   "cell_type": "markdown",
   "metadata": {
    "id": "hQIG_vOpmIZW"
   },
   "source": [
    "$MSE = \\frac{1}{n} \\sum_{i=1}^{n}{({y}_i - \\hat{y}_i )^2}$  "
   ]
  },
  {
   "cell_type": "markdown",
   "metadata": {
    "id": "ed5zMc3hmIZW"
   },
   "source": [
    "Donde:\n",
    "\n",
    "* donde ${y}_i$ es el valor real, $\\hat{y}_i$ es el valor predicho por el modelo y n es el número de observaciones."
   ]
  },
  {
   "cell_type": "markdown",
   "metadata": {
    "id": "f1OzFP1HmIZW"
   },
   "source": [
    "    EJEMPLO"
   ]
  },
  {
   "cell_type": "code",
   "execution_count": null,
   "metadata": {
    "colab": {
     "base_uri": "https://localhost:8080/"
    },
    "executionInfo": {
     "elapsed": 229,
     "status": "ok",
     "timestamp": 1723855743563,
     "user": {
      "displayName": "gauss ELprincipito",
      "userId": "10561550388760016055"
     },
     "user_tz": 300
    },
    "id": "LMvzkJ8ImIZW",
    "outputId": "87a0e955-4f05-4c24-fbb3-2b72e7fa79bf"
   },
   "outputs": [],
   "source": [
    "# 1- importar la funcion\n",
    "from sklearn.metrics import mean_squared_error\n",
    "# 2 - aplicar la función con las Y observadas y las predicciones\n",
    "mse = mean_squared_error(Y,predictions)\n",
    "# 3 -mostrar el resultado de la evaluación\n",
    "print('Mean Squared Error (MSE) : {}'.format(mse))"
   ]
  },
  {
   "cell_type": "markdown",
   "metadata": {
    "id": "VQqpAilRmIZW"
   },
   "source": [
    "### Root Mean Squared Error"
   ]
  },
  {
   "cell_type": "markdown",
   "metadata": {
    "id": "K7qqmauimIZX"
   },
   "source": [
    "    * Es la raíz cuadrada del MSE, por lo que está en las mismas unidades que la variable de respuesta. Esto facilita la interpretación de la magnitud del error.\n",
    "    * Al igual que el MSE, da más peso a los errores más grandes, pero al estar en la misma escala que la variable de respuesta, los resultados son más interpretables."
   ]
  },
  {
   "cell_type": "markdown",
   "metadata": {
    "id": "kjrWxDc0mIZX"
   },
   "source": [
    "$RMSE =  \\sqrt{\\frac{1}{n} \\sum_{i=1}^{n}{({y}_i - \\hat{y}_i )^2} } $  "
   ]
  },
  {
   "cell_type": "markdown",
   "metadata": {
    "id": "l2rbswtcmIZX"
   },
   "source": [
    "Es la raíz cuadrada del MSE"
   ]
  },
  {
   "cell_type": "markdown",
   "metadata": {
    "id": "nEXNlvx9mIZX"
   },
   "source": [
    "    EJEMPLO"
   ]
  },
  {
   "cell_type": "code",
   "execution_count": null,
   "metadata": {
    "colab": {
     "base_uri": "https://localhost:8080/"
    },
    "executionInfo": {
     "elapsed": 214,
     "status": "ok",
     "timestamp": 1723855820013,
     "user": {
      "displayName": "gauss ELprincipito",
      "userId": "10561550388760016055"
     },
     "user_tz": 300
    },
    "id": "kXBHMvojmIZX",
    "outputId": "2ff94af5-26f8-4eb0-c96b-f62c5a0654e2"
   },
   "outputs": [],
   "source": [
    "# 1- importar la funcion\n",
    "from sklearn.metrics import mean_squared_error\n",
    "# 2 - aplicar la función con las Y observadas y las predicciones\n",
    "rmse = np.sqrt(mean_squared_error(Y,predictions))\n",
    "# 3 -mostrar el resultado de la evaluación\n",
    "print('Root Mean Squared Error (RMSE): {}'.format(rmse))"
   ]
  },
  {
   "cell_type": "markdown",
   "metadata": {
    "id": "27V3MbrQmIZX"
   },
   "source": [
    "### Mean Absolute Error"
   ]
  },
  {
   "cell_type": "markdown",
   "metadata": {
    "id": "NAhi0rLVmIZX"
   },
   "source": [
    "    * Calcula el promedio de los errores absolutos, lo que refleja la distancia promedio entre los valores predichos y los observados sin considerar la dirección (sin penalizar los errores en función de su dirección).\n",
    "    * El MAE es una medida robusta frente a los valores atípicos"
   ]
  },
  {
   "cell_type": "markdown",
   "metadata": {
    "id": "lUmu-rZfmIZX"
   },
   "source": [
    "$MAE =  \\frac{1}{n} \\sum_{i=1}^{n}{|{y}_i - \\hat{y}_i|}$  "
   ]
  },
  {
   "cell_type": "markdown",
   "metadata": {
    "id": "9R4Bk4dgmIZY"
   },
   "source": [
    "    EJEMPLO"
   ]
  },
  {
   "cell_type": "code",
   "execution_count": null,
   "metadata": {
    "colab": {
     "base_uri": "https://localhost:8080/"
    },
    "executionInfo": {
     "elapsed": 242,
     "status": "ok",
     "timestamp": 1723856076726,
     "user": {
      "displayName": "gauss ELprincipito",
      "userId": "10561550388760016055"
     },
     "user_tz": 300
    },
    "id": "-Xe4oFLTmIZY",
    "outputId": "4c090667-a965-4ac7-b25d-c5c6ae01b1dd"
   },
   "outputs": [],
   "source": [
    "# 1- importar la funcion\n",
    "from sklearn.metrics import mean_absolute_error\n",
    "# 2 - aplicar la función con las Y observadas y las predicciones\n",
    "mae = mean_absolute_error(Y,predictions)\n",
    "# 3 -mostrar el resultado de la evaluación\n",
    "print('Mean Absolute Error (MAE) : {}'.format(mae))"
   ]
  },
  {
   "cell_type": "markdown",
   "metadata": {
    "id": "QNBzy5-qmIZY"
   },
   "source": [
    "### Mean Absolute Percentage Error"
   ]
  },
  {
   "cell_type": "markdown",
   "metadata": {
    "id": "486NrcR2mIZY"
   },
   "source": [
    "    * El MAPE proporciona una idea de la precisión del modelo en términos de porcentaje, lo que permite una interpretación directa del tamaño del error en relación con los valores verdaderos.\n",
    "    *Al expresar el error como un porcentaje, el MAPE normaliza los errores, lo que permite comparar la precisión entre series de datos o modelos con diferentes escalas"
   ]
  },
  {
   "cell_type": "markdown",
   "metadata": {
    "id": "8IPPmxW_mIZY"
   },
   "source": [
    "$MAPE =  (\\frac{1}{n} \\sum_{i=1}^{n}{|\\frac{{y}_i - \\hat{y}_i}{{y}_i} |}) \\times 100$  "
   ]
  },
  {
   "cell_type": "markdown",
   "metadata": {
    "id": "i-eO1OypmIZY"
   },
   "source": [
    "    EJEMPLO"
   ]
  },
  {
   "cell_type": "code",
   "execution_count": null,
   "metadata": {
    "colab": {
     "base_uri": "https://localhost:8080/"
    },
    "executionInfo": {
     "elapsed": 217,
     "status": "ok",
     "timestamp": 1723856185320,
     "user": {
      "displayName": "gauss ELprincipito",
      "userId": "10561550388760016055"
     },
     "user_tz": 300
    },
    "id": "rYmdxeAlmIZY",
    "outputId": "0e383382-fa04-43f1-c271-f96c530d2d56"
   },
   "outputs": [],
   "source": [
    "# 1- importar la funcion\n",
    "from sklearn.metrics import mean_absolute_percentage_error\n",
    "# 2 - aplicar la función con las Y observadas y las predicciones\n",
    "mape = mean_absolute_percentage_error(Y,predictions)\n",
    "# 3 -mostrar el resultado de la evaluación\n",
    "print('Mean Absolute Percentage Error (MAPE) : {} %'.format(np.round(mape*100,2)))"
   ]
  },
  {
   "cell_type": "markdown",
   "metadata": {
    "id": "04VUd1AmmIZY"
   },
   "source": [
    "---------------\n",
    "## Métodos de regresión\n",
    "---------------"
   ]
  },
  {
   "cell_type": "code",
   "execution_count": null,
   "metadata": {
    "executionInfo": {
     "elapsed": 524,
     "status": "ok",
     "timestamp": 1723856471196,
     "user": {
      "displayName": "gauss ELprincipito",
      "userId": "10561550388760016055"
     },
     "user_tz": 300
    },
    "id": "LxEmG6IymIZZ"
   },
   "outputs": [],
   "source": [
    "# importar un set de datos\n",
    "from sklearn.datasets import load_diabetes"
   ]
  },
  {
   "cell_type": "code",
   "execution_count": null,
   "metadata": {
    "executionInfo": {
     "elapsed": 227,
     "status": "ok",
     "timestamp": 1723856494087,
     "user": {
      "displayName": "gauss ELprincipito",
      "userId": "10561550388760016055"
     },
     "user_tz": 300
    },
    "id": "ePpMEfv4mIZZ"
   },
   "outputs": [],
   "source": [
    "# Cargar el conjunto de datos diabetes\n",
    "diabetes = load_diabetes()\n",
    "X, y = diabetes.data, diabetes.target"
   ]
  },
  {
   "cell_type": "code",
   "execution_count": null,
   "metadata": {
    "colab": {
     "base_uri": "https://localhost:8080/"
    },
    "executionInfo": {
     "elapsed": 3,
     "status": "ok",
     "timestamp": 1723856496598,
     "user": {
      "displayName": "gauss ELprincipito",
      "userId": "10561550388760016055"
     },
     "user_tz": 300
    },
    "id": "e-DmDMKlmIZZ",
    "outputId": "151c3d91-b70f-473b-c695-952efb56ce85"
   },
   "outputs": [],
   "source": [
    "print(diabetes.DESCR)"
   ]
  },
  {
   "cell_type": "code",
   "execution_count": null,
   "metadata": {
    "executionInfo": {
     "elapsed": 206,
     "status": "ok",
     "timestamp": 1723856587870,
     "user": {
      "displayName": "gauss ELprincipito",
      "userId": "10561550388760016055"
     },
     "user_tz": 300
    },
    "id": "1S1vPgm-mIZZ"
   },
   "outputs": [],
   "source": [
    "from sklearn.model_selection import train_test_split"
   ]
  },
  {
   "cell_type": "code",
   "execution_count": null,
   "metadata": {
    "executionInfo": {
     "elapsed": 215,
     "status": "ok",
     "timestamp": 1723856794922,
     "user": {
      "displayName": "gauss ELprincipito",
      "userId": "10561550388760016055"
     },
     "user_tz": 300
    },
    "id": "-cBIk4bBmIZZ"
   },
   "outputs": [],
   "source": [
    "# Dividir los datos en conjuntos de entrenamiento y prueba\n",
    "X_train, X_test, y_train, y_test = train_test_split(\n",
    "    X, # caracteristicas o vars indep\n",
    "    y, # la var dep\n",
    "    test_size=0.2, # tamaño % de el set de prueba (20% y 30%)\n",
    "    random_state=42 # semillas/ se usan para controlar experimentos en la academia\n",
    "    )"
   ]
  },
  {
   "cell_type": "markdown",
   "metadata": {
    "id": "irbrE7IKmIZZ"
   },
   "source": [
    "### Regresión Lineal Múltiple"
   ]
  },
  {
   "cell_type": "code",
   "execution_count": null,
   "metadata": {
    "executionInfo": {
     "elapsed": 221,
     "status": "ok",
     "timestamp": 1723856939530,
     "user": {
      "displayName": "gauss ELprincipito",
      "userId": "10561550388760016055"
     },
     "user_tz": 300
    },
    "id": "xo1goCrMmIZZ"
   },
   "outputs": [],
   "source": [
    "from sklearn.linear_model import LinearRegression"
   ]
  },
  {
   "cell_type": "code",
   "execution_count": null,
   "metadata": {
    "executionInfo": {
     "elapsed": 236,
     "status": "ok",
     "timestamp": 1723856951361,
     "user": {
      "displayName": "gauss ELprincipito",
      "userId": "10561550388760016055"
     },
     "user_tz": 300
    },
    "id": "M-Zqdco6mIZZ"
   },
   "outputs": [],
   "source": [
    "# 1. Regresión Lineal Múltiple\n",
    "linear_model = LinearRegression() # inicio/ definir modelo\n",
    "linear_model.fit(X_train, y_train) # enel aprendizaje se ajusta a los datos de entrenamiento\n",
    "y_pred = linear_model.predict(X_test) # la evaluacion del rendimiento del modelo se haco sobre los datos de prueba\n"
   ]
  },
  {
   "cell_type": "code",
   "execution_count": null,
   "metadata": {
    "colab": {
     "base_uri": "https://localhost:8080/"
    },
    "executionInfo": {
     "elapsed": 214,
     "status": "ok",
     "timestamp": 1723856956381,
     "user": {
      "displayName": "gauss ELprincipito",
      "userId": "10561550388760016055"
     },
     "user_tz": 300
    },
    "id": "96pW9jWxmIZZ",
    "outputId": "0f3c97f0-1c72-4015-85c5-f6e1fb724cf9"
   },
   "outputs": [],
   "source": [
    "\n",
    "mse = mean_squared_error(y_test, y_pred)\n",
    "rmse = np.sqrt(mse)\n",
    "mae = mean_absolute_error(y_test, y_pred)\n",
    "mape = mean_absolute_percentage_error(y_test,y_pred)\n",
    "print(\"Regresión Lineal Múltiple:\")\n",
    "print(\"MSE:\", mse)\n",
    "print(\"RMSE:\", rmse)\n",
    "print(\"MAE:\", mae)\n",
    "print(\"MAPE:\", mape)"
   ]
  },
  {
   "cell_type": "markdown",
   "metadata": {
    "id": "MRITfXNnmIZa"
   },
   "source": [
    "### Regresión Polinómica"
   ]
  },
  {
   "cell_type": "code",
   "execution_count": null,
   "metadata": {
    "executionInfo": {
     "elapsed": 197,
     "status": "ok",
     "timestamp": 1723857089929,
     "user": {
      "displayName": "gauss ELprincipito",
      "userId": "10561550388760016055"
     },
     "user_tz": 300
    },
    "id": "vBpPqJ3ymIZa"
   },
   "outputs": [],
   "source": [
    "from sklearn.preprocessing import PolynomialFeatures\n",
    "from sklearn.linear_model import LinearRegression"
   ]
  },
  {
   "cell_type": "code",
   "execution_count": null,
   "metadata": {
    "executionInfo": {
     "elapsed": 507,
     "status": "ok",
     "timestamp": 1723857115144,
     "user": {
      "displayName": "gauss ELprincipito",
      "userId": "10561550388760016055"
     },
     "user_tz": 300
    },
    "id": "QBL4K2FQmIZa"
   },
   "outputs": [],
   "source": [
    "# 2. Regresión Polinómica\n",
    "poly_features = PolynomialFeatures(degree=2)\n",
    "X_train_poly = poly_features.fit_transform(X_train)\n",
    "X_test_poly = poly_features.transform(X_test)\n",
    "\n",
    "poly_model = LinearRegression()\n",
    "poly_model.fit(X_train_poly, y_train)\n",
    "y_pred = poly_model.predict(X_test_poly)"
   ]
  },
  {
   "cell_type": "code",
   "execution_count": null,
   "metadata": {
    "colab": {
     "base_uri": "https://localhost:8080/"
    },
    "executionInfo": {
     "elapsed": 219,
     "status": "ok",
     "timestamp": 1723857119930,
     "user": {
      "displayName": "gauss ELprincipito",
      "userId": "10561550388760016055"
     },
     "user_tz": 300
    },
    "id": "GJGDMuBCmIZa",
    "outputId": "3a91de0b-86fe-4601-e6ab-ee331aff49e1"
   },
   "outputs": [],
   "source": [
    "mse = mean_squared_error(y_test, y_pred)\n",
    "rmse = np.sqrt(mse)\n",
    "mae = mean_absolute_error(y_test, y_pred)\n",
    "mape = mean_absolute_percentage_error(y_test,y_pred)\n",
    "print(\"Regresión Polinómica:\")\n",
    "print(\"MSE:\", mse)\n",
    "print(\"RMSE:\", rmse)\n",
    "print(\"MAE:\", mae)\n",
    "print(\"MAPE:\", mape)"
   ]
  },
  {
   "cell_type": "markdown",
   "metadata": {
    "id": "40PM-8A4mIZa"
   },
   "source": [
    "### Árbol de Decisión"
   ]
  },
  {
   "cell_type": "markdown",
   "metadata": {
    "id": "Xym1THgfmIZa"
   },
   "source": [
    "* Los árboles de decisión para regresión son modelos interpretables porque las decisiones tomadas por el modelo tienen una estructura lógica y cada nodo utiliza una condición basada en una sola característica que es fácil de entender.\n",
    "* Además, no asumen ninguna distribución específica de los datos, lo que los hace muy flexibles.\n",
    "* Sin embargo, pueden ser propensos al sobreajuste, especialmente si se les permite crecer demasiado complejos sin restricciones."
   ]
  },
  {
   "cell_type": "markdown",
   "metadata": {
    "id": "BPFVwP1vmIZa"
   },
   "source": [
    "    * Inicio del Árbol: Se comienza con todos los datos en un único nodo, conocido como el nodo raíz.\n",
    "\n",
    "    * División del Nodo (Splitting): Se selecciona la mejor variable y el punto de corte (split point) dentro de esa variable para dividir los datos en dos grupos. El objetivo es reducir la variabilidad de los valores de la variable objetivo dentro de cada grupo. Para la regresión, la variabilidad suele medirse con el MSE (Mean Squared Error) o la varianza; el objetivo es minimizar esta métrica al realizar cada división.\n",
    "\n",
    "    * Creación de Nodos Hijos: Una vez que se ha hecho una división, se crean dos nuevos nodos, cada uno con un subconjunto de los datos basado en la división. Este proceso se repite de manera recursiva.\n",
    "\n",
    "    * Condición de Parada: El árbol sigue creciendo hasta que se alcanza una condición de parada, que puede ser un número máximo de niveles, un número mínimo de muestras en un nodo, o una disminución mínima en la métrica de variabilidad.\n",
    "\n",
    "    * Predicción: Una vez que se ha construido el árbol, se puede usar para hacer predicciones. Para predecir el valor de una nueva muestra, se sigue el árbol desde el nodo raíz, pasando por las divisiones según las características de la muestra hasta llegar a un nodo hoja. El valor predicho es el valor medio de la variable objetivo de las muestras de entrenamiento en ese nodo hoja."
   ]
  },
  {
   "cell_type": "code",
   "execution_count": null,
   "metadata": {
    "executionInfo": {
     "elapsed": 214,
     "status": "ok",
     "timestamp": 1723857698553,
     "user": {
      "displayName": "gauss ELprincipito",
      "userId": "10561550388760016055"
     },
     "user_tz": 300
    },
    "id": "O4pM2DM8mIZa"
   },
   "outputs": [],
   "source": [
    "from sklearn.tree import DecisionTreeRegressor"
   ]
  },
  {
   "cell_type": "code",
   "execution_count": null,
   "metadata": {
    "executionInfo": {
     "elapsed": 205,
     "status": "ok",
     "timestamp": 1723857699673,
     "user": {
      "displayName": "gauss ELprincipito",
      "userId": "10561550388760016055"
     },
     "user_tz": 300
    },
    "id": "67igiSdMmIZa"
   },
   "outputs": [],
   "source": [
    "# 3. Árbol de Decisión\n",
    "tree_model = DecisionTreeRegressor(\n",
    "    max_depth=3, # profundidad máxima del árbol, mayor profundidad puede capturar relaciones más complejas pero también puede llevar al sobreajuste\n",
    "    min_samples_split=2, # Especifica el número mínimo de muestras requeridas para dividir un nodo interno. Si el número de muestras en un nodo es menor que min_samples_split el nodo no se dividirá y se considerará una hoja\n",
    "    min_samples_leaf=1 # Especifica el número mínimo de muestras requeridas para ser una hoja. Si la división de un nodo resulta en una hoja con un número de muestras menor que min_samples_leaf esa división no se realizará\n",
    "    )"
   ]
  },
  {
   "cell_type": "markdown",
   "metadata": {
    "id": "6IRtmlXPmIZb"
   },
   "source": []
  },
  {
   "cell_type": "code",
   "execution_count": null,
   "metadata": {
    "executionInfo": {
     "elapsed": 211,
     "status": "ok",
     "timestamp": 1723857716536,
     "user": {
      "displayName": "gauss ELprincipito",
      "userId": "10561550388760016055"
     },
     "user_tz": 300
    },
    "id": "MZpVPbKFmIZb"
   },
   "outputs": [],
   "source": [
    "tree_model.fit(X_train, y_train)\n",
    "y_pred = tree_model.predict(X_test)"
   ]
  },
  {
   "cell_type": "code",
   "execution_count": null,
   "metadata": {
    "colab": {
     "base_uri": "https://localhost:8080/"
    },
    "executionInfo": {
     "elapsed": 233,
     "status": "ok",
     "timestamp": 1723857719224,
     "user": {
      "displayName": "gauss ELprincipito",
      "userId": "10561550388760016055"
     },
     "user_tz": 300
    },
    "id": "YCLI1QNmmIZb",
    "outputId": "d57a0754-6a87-4e9c-e69f-01e647c7ed0a"
   },
   "outputs": [],
   "source": [
    "mse = mean_squared_error(y_test, y_pred)\n",
    "rmse = np.sqrt(mse)\n",
    "mae = mean_absolute_error(y_test, y_pred)\n",
    "mape = mean_absolute_percentage_error(y_test,y_pred)\n",
    "print(\"Árbol de Decisión:\")\n",
    "print(\"MSE:\", mse)\n",
    "print(\"RMSE:\", rmse)\n",
    "print(\"MAE:\", mae)\n",
    "print(\"MAPE:\", mape)"
   ]
  },
  {
   "cell_type": "markdown",
   "metadata": {
    "id": "LqYW6DZJmIZb"
   },
   "source": [
    "#### grafico del arbol"
   ]
  },
  {
   "cell_type": "code",
   "execution_count": null,
   "metadata": {
    "executionInfo": {
     "elapsed": 215,
     "status": "ok",
     "timestamp": 1723857786895,
     "user": {
      "displayName": "gauss ELprincipito",
      "userId": "10561550388760016055"
     },
     "user_tz": 300
    },
    "id": "-M2hG8L-mIZb"
   },
   "outputs": [],
   "source": [
    "from sklearn.tree import plot_tree"
   ]
  },
  {
   "cell_type": "code",
   "execution_count": null,
   "metadata": {
    "colab": {
     "base_uri": "https://localhost:8080/",
     "height": 426
    },
    "executionInfo": {
     "elapsed": 1228,
     "status": "ok",
     "timestamp": 1723857791300,
     "user": {
      "displayName": "gauss ELprincipito",
      "userId": "10561550388760016055"
     },
     "user_tz": 300
    },
    "id": "fBTqIiXgmIZb",
    "outputId": "99f3594b-f015-4cac-8c47-c4311f64123e"
   },
   "outputs": [],
   "source": [
    "# Graficar el árbol\n",
    "plt.figure(figsize=(24, 8))\n",
    "plot_tree(tree_model, feature_names=diabetes.feature_names, filled=True)\n",
    "plt.show()"
   ]
  },
  {
   "cell_type": "markdown",
   "metadata": {
    "id": "oB6uR9J7mIZb"
   },
   "source": [
    "### Random Forest"
   ]
  },
  {
   "cell_type": "markdown",
   "metadata": {
    "id": "3_MryIqcmIZb"
   },
   "source": [
    "    * El Random Forest es un algoritmo robusto y fácil de usar que proporciona buenos resultados en una variedad de conjuntos de datos. Es resistente al sobreajuste y no requiere mucho ajuste de hiperparámetros.\n",
    "    * Además, es eficiente en términos de tiempo de entrenamiento y es fácilmente paralelizable, lo que lo hace adecuado para conjuntos de datos grandes.\n",
    "    * Debido a sus propiedades, el Random Forest es uno de los algoritmos de aprendizaje automático más populares y ampliamente utilizados."
   ]
  },
  {
   "cell_type": "code",
   "execution_count": null,
   "metadata": {
    "executionInfo": {
     "elapsed": 225,
     "status": "ok",
     "timestamp": 1723857903896,
     "user": {
      "displayName": "gauss ELprincipito",
      "userId": "10561550388760016055"
     },
     "user_tz": 300
    },
    "id": "opOnMeSkmIZb"
   },
   "outputs": [],
   "source": [
    "from sklearn.ensemble import RandomForestRegressor"
   ]
  },
  {
   "cell_type": "code",
   "execution_count": null,
   "metadata": {
    "executionInfo": {
     "elapsed": 241,
     "status": "ok",
     "timestamp": 1723858077991,
     "user": {
      "displayName": "gauss ELprincipito",
      "userId": "10561550388760016055"
     },
     "user_tz": 300
    },
    "id": "dpEF9HV3mIZc"
   },
   "outputs": [],
   "source": [
    "# 4. Random Forest\n",
    "forest_model = RandomForestRegressor(\n",
    "    n_estimators=150, # Especifica el número de árboles en el bosque.\n",
    "    max_depth=12, # profundidad máxima de cada árbol en el bosque.\n",
    "    min_samples_split=20,  # número mínimo de muestras requeridas para dividir un nodo interno en cada árbol\n",
    "    min_samples_leaf=1 # número mínimo de muestras requeridas para ser una hoja en cada árbol\n",
    ")"
   ]
  },
  {
   "cell_type": "code",
   "execution_count": null,
   "metadata": {
    "executionInfo": {
     "elapsed": 1039,
     "status": "ok",
     "timestamp": 1723858079286,
     "user": {
      "displayName": "gauss ELprincipito",
      "userId": "10561550388760016055"
     },
     "user_tz": 300
    },
    "id": "3MQxWpjdmIZc"
   },
   "outputs": [],
   "source": [
    "forest_model.fit(X_train, y_train)\n",
    "y_pred = forest_model.predict(X_test)"
   ]
  },
  {
   "cell_type": "code",
   "execution_count": null,
   "metadata": {
    "colab": {
     "base_uri": "https://localhost:8080/"
    },
    "executionInfo": {
     "elapsed": 1,
     "status": "ok",
     "timestamp": 1723858079286,
     "user": {
      "displayName": "gauss ELprincipito",
      "userId": "10561550388760016055"
     },
     "user_tz": 300
    },
    "id": "ESB5f_afmIZc",
    "outputId": "362b3d10-26f0-4f96-fef7-b40a644c4b49"
   },
   "outputs": [],
   "source": [
    "mse = mean_squared_error(y_test, y_pred)\n",
    "rmse = np.sqrt(mse)\n",
    "mae = mean_absolute_error(y_test, y_pred)\n",
    "mape = mean_absolute_percentage_error(y_test,y_pred)\n",
    "print(\"Random Forest:\")\n",
    "print(\"MSE:\", mse)\n",
    "print(\"RMSE:\", rmse)\n",
    "print(\"MAE:\", mae)\n",
    "print(\"MAPE:\", mape)"
   ]
  },
  {
   "cell_type": "markdown",
   "metadata": {
    "id": "gv1supWTmIZc"
   },
   "source": [
    "### Support Vector Machine (SVM)"
   ]
  },
  {
   "cell_type": "markdown",
   "metadata": {
    "id": "CvqLE2C9mIZc"
   },
   "source": [
    "    * SVM es efectivo en espacios de características de alta dimensión y es capaz de manejar datos no lineales utilizando trucos del kernel, que mapean los datos a un espacio de características de mayor dimensión donde las clases son linealmente separables.\n",
    "    * SVM es un algoritmo poderoso y versátil que se utiliza en una variedad de aplicaciones, incluidas la clasificación de texto, la detección de imágenes, la clasificación de biosecuencias y más.\n",
    "    * La tarea de SVM es resolver un problema de optimización convexa. Para la clasificación, esto implica encontrar los pesos y sesgos del hiperplano que maximizan el margen mientras minimizan la clasificación errónea. Para la regresión, se busca encontrar la función que minimiza el error entre las predicciones y los valores reales, manteniendo los errores dentro de un margen especificado.\n",
    "    * Una vez que se encuentra el hiperplano óptimo, SVM utiliza una función de decisión para clasificar nuevos puntos de datos o hacer predicciones en el caso de la regresión. Para la clasificación, la función de decisión asigna un nuevo punto a una de las dos clases en función de su posición con respecto al hiperplano. Para la regresión, la función de decisión estima el valor de la variable objetivo para un nuevo punto de datos."
   ]
  },
  {
   "cell_type": "code",
   "execution_count": null,
   "metadata": {
    "executionInfo": {
     "elapsed": 194,
     "status": "ok",
     "timestamp": 1723858383757,
     "user": {
      "displayName": "gauss ELprincipito",
      "userId": "10561550388760016055"
     },
     "user_tz": 300
    },
    "id": "5sm1x5s4mIZc"
   },
   "outputs": [],
   "source": [
    "from sklearn.svm import SVR"
   ]
  },
  {
   "cell_type": "code",
   "execution_count": null,
   "metadata": {
    "executionInfo": {
     "elapsed": 232,
     "status": "ok",
     "timestamp": 1723858564888,
     "user": {
      "displayName": "gauss ELprincipito",
      "userId": "10561550388760016055"
     },
     "user_tz": 300
    },
    "id": "1B2nngQumIZc"
   },
   "outputs": [],
   "source": [
    "# 5. Support Vector Machine (SVM)\n",
    "svm_model = SVR(\n",
    "    # El kernel determina cómo se mapean los datos de entrada en un espacio de mayor dimensión donde sea más fácil realizar la separación\n",
    "    kernel='linear', # Los kernels comunes son \"linear\" (lineal), \"poly\" (polinómico), \"rbf\" (función de base radial) y \"sigmoid\" (sigmoidal)\n",
    "    # Parámetro de regularización que controla la penalización por errores de entrenamiento\n",
    "    C=0.80, # Un valor más bajo de C permitirá un margen más amplio y permitirá que se clasifiquen más puntos correctamente, pero puede llevar al sobreajuste\n",
    "    # tolerancia de la función de pérdida insensible en SVR. margen de insensibilidad a errores\n",
    "    epsilon=0.05 #  lo que significa que cualquier error menor que epsilon se ignora y no contribuye a la función de pérdida\n",
    ")"
   ]
  },
  {
   "cell_type": "code",
   "execution_count": null,
   "metadata": {
    "executionInfo": {
     "elapsed": 229,
     "status": "ok",
     "timestamp": 1723858577418,
     "user": {
      "displayName": "gauss ELprincipito",
      "userId": "10561550388760016055"
     },
     "user_tz": 300
    },
    "id": "u9o-wzLSmIZc"
   },
   "outputs": [],
   "source": [
    "\n",
    "svm_model.fit(X_train, y_train)\n",
    "y_pred = svm_model.predict(X_test)"
   ]
  },
  {
   "cell_type": "code",
   "execution_count": null,
   "metadata": {
    "colab": {
     "base_uri": "https://localhost:8080/"
    },
    "executionInfo": {
     "elapsed": 225,
     "status": "ok",
     "timestamp": 1723858579888,
     "user": {
      "displayName": "gauss ELprincipito",
      "userId": "10561550388760016055"
     },
     "user_tz": 300
    },
    "id": "XLI4j6YzmIZc",
    "outputId": "d56a524b-6dd5-4806-e30b-0a67246e139b"
   },
   "outputs": [],
   "source": [
    "mse = mean_squared_error(y_test, y_pred)\n",
    "rmse = np.sqrt(mse)\n",
    "mae = mean_absolute_error(y_test, y_pred)\n",
    "mape = mean_absolute_percentage_error(y_test,y_pred)\n",
    "print(\"Support Vector Machine (SVM):\")\n",
    "print(\"MSE:\", mse)\n",
    "print(\"RMSE:\", rmse)\n",
    "print(\"MAE:\", mae)\n",
    "print(\"MAPE:\", mape)"
   ]
  },
  {
   "cell_type": "markdown",
   "metadata": {
    "id": "EK_eVOyamIZd"
   },
   "source": [
    "### K Nearest Neighbors (KNN)"
   ]
  },
  {
   "cell_type": "markdown",
   "metadata": {
    "id": "xkpb79GimIZd"
   },
   "source": [
    "    * El algoritmo encuentra los k puntos de datos más cercanos en el conjunto de entrenamiento al punto de consulta. La cercanía se mide generalmente utilizando una métrica de distancia, como la distancia euclidiana o la distancia de Manhattan\n",
    "    * KNN es un algoritmo simple y fácil de entender, pero puede ser computacionalmente costoso en conjuntos de datos grandes, ya que requiere calcular la distancia entre el punto de consulta y todos los puntos en el conjunto de entrenamiento.\n",
    "    "
   ]
  },
  {
   "cell_type": "code",
   "execution_count": null,
   "metadata": {
    "executionInfo": {
     "elapsed": 211,
     "status": "ok",
     "timestamp": 1723858986131,
     "user": {
      "displayName": "gauss ELprincipito",
      "userId": "10561550388760016055"
     },
     "user_tz": 300
    },
    "id": "KqTHV4vhmIZd"
   },
   "outputs": [],
   "source": [
    "from sklearn.neighbors import KNeighborsRegressor"
   ]
  },
  {
   "cell_type": "code",
   "execution_count": null,
   "metadata": {
    "executionInfo": {
     "elapsed": 246,
     "status": "ok",
     "timestamp": 1723858987592,
     "user": {
      "displayName": "gauss ELprincipito",
      "userId": "10561550388760016055"
     },
     "user_tz": 300
    },
    "id": "wikgdMp3mIZd"
   },
   "outputs": [],
   "source": [
    "# 6. K Nearest Neighbors (KNN)\n",
    "knn_model = KNeighborsRegressor(\n",
    "    # Especifica el número k de vecinos que se utilizarán para hacer predicciones\n",
    "    n_neighbors=5, # Un valor más alto de n_neighbors resultará en predicciones más suaves y menos sensibles al ruido, pero también puede reducir la capacidad del modelo para capturar patrones complejos en los datos\n",
    "    #  Determina cómo se ponderan las contribuciones de los vecinos\n",
    "    weights='distance',  # Puede ser \"uniforme\", donde todos los vecinos tienen el mismo peso en la predicción, o \"distance\", donde el peso de cada vecino es inversamente proporcional a su distancia desde el punto de consulta\n",
    "    # Especifica el algoritmo utilizado para calcular los vecinos más cercanos.\n",
    "    algorithm='auto' # Puede ser \"auto\", \"ball_tree\", \"kd_tree\" o \"brute\"\n",
    ")"
   ]
  },
  {
   "cell_type": "code",
   "execution_count": null,
   "metadata": {
    "executionInfo": {
     "elapsed": 216,
     "status": "ok",
     "timestamp": 1723858991281,
     "user": {
      "displayName": "gauss ELprincipito",
      "userId": "10561550388760016055"
     },
     "user_tz": 300
    },
    "id": "_zPPEdI0mIZd"
   },
   "outputs": [],
   "source": [
    "knn_model.fit(X_train, y_train)\n",
    "y_pred = knn_model.predict(X_test)"
   ]
  },
  {
   "cell_type": "code",
   "execution_count": null,
   "metadata": {
    "colab": {
     "base_uri": "https://localhost:8080/"
    },
    "executionInfo": {
     "elapsed": 214,
     "status": "ok",
     "timestamp": 1723858996222,
     "user": {
      "displayName": "gauss ELprincipito",
      "userId": "10561550388760016055"
     },
     "user_tz": 300
    },
    "id": "1BioUlnLmIZd",
    "outputId": "97ac5de5-f86e-47ac-d40b-252eb7f9eb16"
   },
   "outputs": [],
   "source": [
    "mse = mean_squared_error(y_test, y_pred)\n",
    "rmse = np.sqrt(mse)\n",
    "mae = mean_absolute_error(y_test, y_pred)\n",
    "mape = mean_absolute_percentage_error(y_test,y_pred)\n",
    "print(\"K Nearest Neighbors (KNN):\")\n",
    "print(\"MSE:\", mse)\n",
    "print(\"RMSE:\", rmse)\n",
    "print(\"MAE:\", mae)\n",
    "print(\"MAPE:\", mape)"
   ]
  },
  {
   "cell_type": "markdown",
   "metadata": {
    "id": "nROxGKeBmIZd"
   },
   "source": [
    "---------------\n",
    "## Bibligrafía\n",
    "---------------"
   ]
  },
  {
   "cell_type": "markdown",
   "metadata": {
    "id": "YG_iJOsImIZe"
   },
   "source": [
    "* https://scikit-learn.org/stable/\n",
    "* https://scikit-learn.org/stable/supervised_learning.html#supervised-learning\n",
    "* https://cienciadedatos.net/\n",
    "* https://cienciadedatos.net/documentos/py10b-regresion-lineal-multiple-python\n",
    "* https://cienciadedatos.net/documentos/py06_machine_learning_python_scikitlearn\n"
   ]
  },
  {
   "cell_type": "markdown",
   "metadata": {
    "id": "a_1WfBxmmIZe"
   },
   "source": [
    "---------------\n",
    "    AMMS\n",
    "---------------"
   ]
  }
 ],
 "metadata": {
  "colab": {
   "provenance": []
  },
  "kernelspec": {
   "display_name": "Python 3",
   "language": "python",
   "name": "python3"
  },
  "language_info": {
   "codemirror_mode": {
    "name": "ipython",
    "version": 3
   },
   "file_extension": ".py",
   "mimetype": "text/x-python",
   "name": "python",
   "nbconvert_exporter": "python",
   "pygments_lexer": "ipython3",
   "version": "3.11.9"
  }
 },
 "nbformat": 4,
 "nbformat_minor": 0
}
