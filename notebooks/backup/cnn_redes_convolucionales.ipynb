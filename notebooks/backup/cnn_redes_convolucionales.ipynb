{
 "cells": [
  {
   "cell_type": "markdown",
   "id": "fab12808",
   "metadata": {},
   "source": [
    "\n",
    "# Redes Neuronales Convolucionales (CNN)\n",
    "\n",
    "Las **CNN** son un tipo de red neuronal diseñada para procesar datos con estructura de cuadrícula, como imágenes.\n",
    "\n",
    "---\n",
    "\n",
    "## ¿Por qué CNN?\n",
    "\n",
    "- Detectan patrones espaciales (bordes, formas).\n",
    "- Reutilizan pesos (filtros) a través de convolución.\n",
    "- Menos parámetros que una red completamente conectada.\n",
    "\n",
    "---\n",
    "\n",
    "## Estructura típica:\n",
    "\n",
    "1. Capas de Convolución (`Conv2D`)\n",
    "2. Capas de Activación (`ReLU`)\n",
    "3. Capas de Agrupamiento (`MaxPooling`)\n",
    "4. Capas Completamente Conectadas (`Dense`)\n",
    "5. Capas de Regularización (`Dropout`)\n"
   ]
  },
  {
   "cell_type": "code",
   "execution_count": null,
   "id": "c6989581",
   "metadata": {},
   "outputs": [],
   "source": [
    "\n",
    "import tensorflow as tf\n",
    "import matplotlib.pyplot as plt\n",
    "\n",
    "# Cargar dataset MNIST\n",
    "(X_train, y_train), (X_test, y_test) = tf.keras.datasets.mnist.load_data()\n",
    "X_train = X_train[..., tf.newaxis] / 255.0\n",
    "X_test = X_test[..., tf.newaxis] / 255.0\n",
    "\n",
    "plt.imshow(X_train[0].squeeze(), cmap=\"gray\")\n",
    "plt.title(f\"Etiqueta: {y_train[0]}\")\n",
    "plt.axis(\"off\")\n",
    "plt.show()\n"
   ]
  },
  {
   "cell_type": "markdown",
   "id": "04554f80",
   "metadata": {},
   "source": [
    "\n",
    "## Arquitectura de una CNN\n",
    "\n",
    "- `Conv2D`: aplica filtros para extraer características.\n",
    "- `MaxPooling2D`: reduce dimensiones conservando información.\n",
    "- `Flatten`: convierte la matriz en vector para la capa `Dense`.\n",
    "\n",
    "A continuación, creamos una CNN para MNIST.\n"
   ]
  },
  {
   "cell_type": "code",
   "execution_count": null,
   "id": "307cd33e",
   "metadata": {},
   "outputs": [],
   "source": [
    "\n",
    "from tensorflow.keras import Sequential\n",
    "from tensorflow.keras.layers import Conv2D, MaxPooling2D, Flatten, Dense, Dropout\n",
    "\n",
    "model = Sequential([\n",
    "    Conv2D(32, (3, 3), activation='relu', input_shape=(28, 28, 1)),\n",
    "    MaxPooling2D((2, 2)),\n",
    "    Conv2D(64, (3, 3), activation='relu'),\n",
    "    MaxPooling2D((2, 2)),\n",
    "    Flatten(),\n",
    "    Dense(64, activation='relu'),\n",
    "    Dropout(0.5),\n",
    "    Dense(10, activation='softmax')\n",
    "])\n",
    "\n",
    "model.compile(optimizer='adam', loss='sparse_categorical_crossentropy', metrics=['accuracy'])\n",
    "model.summary()\n"
   ]
  },
  {
   "cell_type": "code",
   "execution_count": null,
   "id": "9b1698d6",
   "metadata": {},
   "outputs": [],
   "source": [
    "\n",
    "history = model.fit(X_train, y_train, epochs=5, validation_data=(X_test, y_test), verbose=1)\n"
   ]
  },
  {
   "cell_type": "code",
   "execution_count": null,
   "id": "fc87ad0d",
   "metadata": {},
   "outputs": [],
   "source": [
    "\n",
    "plt.plot(history.history['accuracy'], label='Entrenamiento')\n",
    "plt.plot(history.history['val_accuracy'], label='Validación')\n",
    "plt.title(\"Precisión del modelo CNN\")\n",
    "plt.xlabel(\"Épocas\")\n",
    "plt.ylabel(\"Precisión\")\n",
    "plt.legend()\n",
    "plt.grid(True)\n",
    "plt.show()\n"
   ]
  },
  {
   "cell_type": "markdown",
   "id": "b1869494",
   "metadata": {},
   "source": [
    "\n",
    "## Ejercicio Final\n",
    "\n",
    "1. Cambia el número de filtros o el tamaño del kernel.\n",
    "2. Añade otra capa `Conv2D`.\n",
    "3. Aumenta el `Dropout` y observa su efecto.\n",
    "4. Prueba el modelo en Fashion-MNIST (`tf.keras.datasets.fashion_mnist`).\n",
    "\n",
    "Explora cómo cambian los resultados al modificar la arquitectura.\n"
   ]
  }
 ],
 "metadata": {},
 "nbformat": 4,
 "nbformat_minor": 5
}