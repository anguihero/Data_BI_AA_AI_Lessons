{
 "cells": [
  {
   "cell_type": "markdown",
   "id": "c4b7bedc",
   "metadata": {},
   "source": [
    "\n",
    "# Regularización en Modelos Lineales\n",
    "\n",
    "La **regularización** es una técnica que busca evitar el sobreajuste penalizando la complejidad del modelo. Se utiliza especialmente en regresión lineal y regresión logística cuando hay muchas variables o colinealidad.\n",
    "\n",
    "---\n",
    "\n",
    "## ¿Por qué es necesaria la regularización?\n",
    "\n",
    "- Para evitar que los coeficientes crezcan excesivamente.\n",
    "- Para mejorar la capacidad de generalización del modelo.\n",
    "- Para seleccionar características relevantes (Lasso).\n",
    "\n",
    "---\n",
    "\n",
    "## Tipos principales:\n",
    "\n",
    "1. **Ridge Regression (L2)**\n",
    "2. **Lasso Regression (L1)**\n",
    "3. **Elastic Net (combinación de L1 y L2)**\n"
   ]
  },
  {
   "cell_type": "code",
   "execution_count": null,
   "id": "3e6a31a7",
   "metadata": {},
   "outputs": [],
   "source": [
    "\n",
    "import numpy as np\n",
    "import pandas as pd\n",
    "import matplotlib.pyplot as plt\n",
    "from sklearn.model_selection import train_test_split\n",
    "from sklearn.preprocessing import StandardScaler\n",
    "\n",
    "# Simular datos con multicolinealidad\n",
    "np.random.seed(0)\n",
    "n = 100\n",
    "X1 = np.random.normal(0, 1, n)\n",
    "X2 = X1 + np.random.normal(0, 0.1, n)\n",
    "X3 = np.random.normal(0, 1, n)\n",
    "epsilon = np.random.normal(0, 1, n)\n",
    "Y = 3*X1 + 0.5*X2 + 2*X3 + epsilon\n",
    "\n",
    "df = pd.DataFrame({'X1': X1, 'X2': X2, 'X3': X3, 'Y': Y})\n",
    "\n",
    "X = df[['X1', 'X2', 'X3']]\n",
    "y = df['Y']\n",
    "\n",
    "# Escalar variables\n",
    "scaler = StandardScaler()\n",
    "X_scaled = scaler.fit_transform(X)\n",
    "X_train, X_test, y_train, y_test = train_test_split(X_scaled, y, test_size=0.2, random_state=42)\n"
   ]
  },
  {
   "cell_type": "markdown",
   "id": "0642b527",
   "metadata": {},
   "source": [
    "\n",
    "## Ridge Regression (L2)\n",
    "\n",
    "La regresión **Ridge** añade una penalización proporcional al cuadrado de los coeficientes.\n",
    "\n",
    "### Fórmula del costo:\n",
    "\n",
    "\\[\n",
    "J(\\beta) = RSS + \\alpha \\sum_{j=1}^{p} \\beta_j^2\n",
    "\\]\n",
    "\n",
    "Donde \\( \\alpha \\) controla la fuerza de la penalización. A mayor \\( \\alpha \\), mayor regularización.\n",
    "\n",
    "- Reduce la varianza.\n",
    "- No lleva coeficientes exactamente a cero.\n"
   ]
  },
  {
   "cell_type": "code",
   "execution_count": null,
   "id": "d7b25832",
   "metadata": {},
   "outputs": [],
   "source": [
    "\n",
    "from sklearn.linear_model import Ridge\n",
    "from sklearn.metrics import mean_squared_error\n",
    "\n",
    "ridge = Ridge(alpha=1.0)\n",
    "ridge.fit(X_train, y_train)\n",
    "y_pred_ridge = ridge.predict(X_test)\n",
    "\n",
    "print(\"Coeficientes Ridge:\", ridge.coef_)\n",
    "print(\"MSE Ridge:\", mean_squared_error(y_test, y_pred_ridge))\n"
   ]
  },
  {
   "cell_type": "markdown",
   "id": "e1042c23",
   "metadata": {},
   "source": [
    "\n",
    "## Lasso Regression (L1)\n",
    "\n",
    "La regresión **Lasso** penaliza la suma de los valores absolutos de los coeficientes.\n",
    "\n",
    "### Fórmula del costo:\n",
    "\n",
    "\\[\n",
    "J(\\beta) = RSS + \\alpha \\sum_{j=1}^{p} |\\beta_j|\n",
    "\\]\n",
    "\n",
    "- Puede llevar coeficientes exactamente a cero.\n",
    "- Ideal para selección de variables.\n"
   ]
  },
  {
   "cell_type": "code",
   "execution_count": null,
   "id": "4cd63f2b",
   "metadata": {},
   "outputs": [],
   "source": [
    "\n",
    "from sklearn.linear_model import Lasso\n",
    "\n",
    "lasso = Lasso(alpha=0.1)\n",
    "lasso.fit(X_train, y_train)\n",
    "y_pred_lasso = lasso.predict(X_test)\n",
    "\n",
    "print(\"Coeficientes Lasso:\", lasso.coef_)\n",
    "print(\"MSE Lasso:\", mean_squared_error(y_test, y_pred_lasso))\n"
   ]
  },
  {
   "cell_type": "markdown",
   "id": "066d7073",
   "metadata": {},
   "source": [
    "\n",
    "## Elastic Net\n",
    "\n",
    "Elastic Net combina L1 y L2.\n",
    "\n",
    "### Fórmula del costo:\n",
    "\n",
    "\\[\n",
    "J(\\beta) = RSS + \\alpha_1 \\sum_{j=1}^{p} |\\beta_j| + \\alpha_2 \\sum_{j=1}^{p} \\beta_j^2\n",
    "\\]\n",
    "\n",
    "- Combina beneficios de Lasso y Ridge.\n",
    "- Útil cuando hay muchas variables correlacionadas.\n"
   ]
  },
  {
   "cell_type": "code",
   "execution_count": null,
   "id": "58fa2330",
   "metadata": {},
   "outputs": [],
   "source": [
    "\n",
    "from sklearn.linear_model import ElasticNet\n",
    "\n",
    "elastic = ElasticNet(alpha=0.1, l1_ratio=0.5)\n",
    "elastic.fit(X_train, y_train)\n",
    "y_pred_elastic = elastic.predict(X_test)\n",
    "\n",
    "print(\"Coeficientes ElasticNet:\", elastic.coef_)\n",
    "print(\"MSE ElasticNet:\", mean_squared_error(y_test, y_pred_elastic))\n"
   ]
  },
  {
   "cell_type": "code",
   "execution_count": null,
   "id": "41508b36",
   "metadata": {},
   "outputs": [],
   "source": [
    "\n",
    "modelos = pd.DataFrame({\n",
    "    'Modelo': ['Ridge', 'Lasso', 'ElasticNet'],\n",
    "    'MSE': [\n",
    "        mean_squared_error(y_test, y_pred_ridge),\n",
    "        mean_squared_error(y_test, y_pred_lasso),\n",
    "        mean_squared_error(y_test, y_pred_elastic)\n",
    "    ]\n",
    "})\n",
    "\n",
    "modelos.plot(x='Modelo', y='MSE', kind='bar', legend=False)\n",
    "plt.ylabel(\"Error Cuadrático Medio\")\n",
    "plt.title(\"Comparación de Regularización\")\n",
    "plt.grid(True)\n",
    "plt.show()\n"
   ]
  },
  {
   "cell_type": "markdown",
   "id": "368951ed",
   "metadata": {},
   "source": [
    "\n",
    "## Ejercicio Final\n",
    "\n",
    "1. Usa el dataset `load_boston` o `load_diabetes` de sklearn.\n",
    "2. Aplica Ridge, Lasso y ElasticNet.\n",
    "3. Ajusta el valor de `alpha` y analiza cómo afecta los coeficientes y el error.\n",
    "\n",
    "¿Puedes identificar qué variables se seleccionan o eliminan con Lasso?\n"
   ]
  }
 ],
 "metadata": {},
 "nbformat": 4,
 "nbformat_minor": 5
}