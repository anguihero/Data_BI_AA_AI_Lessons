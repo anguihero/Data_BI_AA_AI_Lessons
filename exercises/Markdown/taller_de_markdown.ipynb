{
  "nbformat": 4,
  "nbformat_minor": 0,
  "metadata": {
    "colab": {
      "provenance": []
    },
    "kernelspec": {
      "name": "python3",
      "display_name": "Python 3"
    },
    "language_info": {
      "name": "python"
    }
  },
  "cells": [
    {
      "cell_type": "markdown",
      "source": [
        "# Taller  Markdown\n"
      ],
      "metadata": {
        "id": "BO6X1b8tuUdb"
      }
    },
    {
      "cell_type": "markdown",
      "source": [
        "\n",
        "## indicaciones\n",
        "\n",
        "1. usando titulos y subtitulos ordenar el entregable por secciones\n",
        "2. crear 3 celdas de texto\n",
        "  1. dentro de la primera celda de texto van a *crear una tabla* con dos columnas y 3 filas referentes a los 3 colores primarios, la primera columna en español y la segunda ingles.\n",
        "  2. dentro de la segunda celda de texto se va a *agregar una imagen de la web* en la cual se pueda ver una bandera de colombia\n",
        "  3. dentro de la tercera celda voy a *hacer una lista de compras* con un nivel para 3 tipos de proudctos y casda tipo de prudcto tendrá su sublista con tres ejemplos productos\n",
        "\n",
        "separar las celdas de markdown con una linea\n"
      ],
      "metadata": {
        "id": "P5Te9qnkv1_f"
      }
    },
    {
      "cell_type": "markdown",
      "source": [
        "---"
      ],
      "metadata": {
        "id": "K96dd8Qb9-mt"
      }
    },
    {
      "cell_type": "markdown",
      "source": [
        "## 1. Tabla\n",
        "\n",
        "| Color | Colour |\n",
        "| --- | --- |\n",
        "| Amarillo | Yellow |\n",
        "| Azul | Blue |\n",
        "| Rojo | Red |"
      ],
      "metadata": {
        "id": "7ebahtyg9uyo"
      }
    },
    {
      "cell_type": "markdown",
      "source": [
        "---"
      ],
      "metadata": {
        "id": "st4XoZbC9_nP"
      }
    },
    {
      "cell_type": "markdown",
      "source": [
        "## 2. imagen de bandera de Colombia\n",
        "\n",
        "![James Bailando con la bandera](https://d2yoo3qu6vrk5d.cloudfront.net/images/20171115172428/james-rodriguez18-900x485.jpg?itok=1510785589)"
      ],
      "metadata": {
        "id": "3HlVtIQo-HTr"
      }
    },
    {
      "cell_type": "markdown",
      "source": [
        "---"
      ],
      "metadata": {
        "id": "7bujY9dE-BE7"
      }
    },
    {
      "cell_type": "markdown",
      "source": [
        "## 3. Lista de compras\n",
        "\n",
        "+ Bebidas\n",
        "  - Leche\n",
        "  - Agua\n",
        "  - Jugo de naranja\n",
        "+ Frutas\n",
        "  * Pera\n",
        "  * Manzana\n",
        "  * Banano\n",
        "- Carnes\n",
        "  - [x] Res\n",
        "  - [ ] Pollo\n",
        "  - [ ] Pescado\n"
      ],
      "metadata": {
        "id": "hu8-T-cI6tMS"
      }
    },
    {
      "cell_type": "code",
      "source": [],
      "metadata": {
        "id": "pA6qZoGkv7iY"
      },
      "execution_count": null,
      "outputs": []
    }
  ]
}