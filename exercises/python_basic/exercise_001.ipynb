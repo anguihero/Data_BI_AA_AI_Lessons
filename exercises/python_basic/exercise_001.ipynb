{
  "cells": [
    {
      "cell_type": "markdown",
      "metadata": {
        "id": "BO6X1b8tuUdb"
      },
      "source": [
        "# Taller  Bases de Python"
      ]
    },
    {
      "cell_type": "markdown",
      "metadata": {
        "id": "P5Te9qnkv1_f"
      },
      "source": [
        "\n",
        "## 0. Tematicas\n",
        "\n",
        "1. variables\n",
        "2. tipos\n",
        "3. colecciones\n",
        "4. control de flujo\n",
        "5. funciones\n",
        "6. lambda\n",
        "7. try / except"
      ]
    },
    {
      "cell_type": "markdown",
      "metadata": {},
      "source": [
        "Estos retos obligan a:\n",
        "* Pensar en pequeños incrementos.\n",
        "* Elegir la estructura de datos adecuada.\n",
        "* Practicar funciones y manejo de errores reales."
      ]
    },
    {
      "cell_type": "markdown",
      "metadata": {
        "id": "K96dd8Qb9-mt"
      },
      "source": [
        "---"
      ]
    },
    {
      "cell_type": "markdown",
      "metadata": {
        "id": "7ebahtyg9uyo"
      },
      "source": [
        "## 1. Termómetro de ciudades"
      ]
    },
    {
      "cell_type": "markdown",
      "metadata": {},
      "source": [
        "### Reto: "
      ]
    },
    {
      "cell_type": "markdown",
      "metadata": {},
      "source": [
        "* Construye un pequeño resumen que muestre, por cada ciudad, la temperatura mínima, máxima y promedio."
      ]
    },
    {
      "cell_type": "markdown",
      "metadata": {},
      "source": [
        "\n",
        "| Paso | Qué lograr | \tPistas técnicas |\n",
        "| --- | --- | --- |\n",
        "| 1. Parsear cada registro | Separar ciudad y temperatura, y convertir la temperatura a int. | str.split(','), desempaquetado, int() |\n",
        "| 2. Agrupar en un diccionario | Crear un diccionario {\"Bogotá\":[17,18,16], ...}. Si la ciudad no existe aún, inicia la lista. | dict.setdefault(clave, []) o if clave not in diccionario: |\n",
        "| 3. Calcular las métricas | \tRecorre el diccionario y calcula min(), max() y sum()/len() para cada lista. Guarda el resultado en un nuevo diccionario. | Funciones integradas, comprensión de diccionarios |\n",
        "| 4. Dar formato robusto | Escribe una función que devuelva un str bonito; usa try/except para evitar ZeroDivisionError si una lista llegara vacía. | Definición de funciones, manejo de excepciones |"
      ]
    },
    {
      "cell_type": "markdown",
      "metadata": {},
      "source": [
        "### Datos: "
      ]
    },
    {
      "cell_type": "markdown",
      "metadata": {},
      "source": [
        "Tienes una lista de cadenas en el formato"
      ]
    },
    {
      "cell_type": "code",
      "execution_count": null,
      "metadata": {},
      "outputs": [],
      "source": [
        "datos = [\n",
        "    \"Bogotá,17\", \"Medellín,21\", \"Cali,24\", \"Bogotá,18\",\n",
        "    \"Medellín,22\", \"Cali,25\", \"Bogotá,16\"\n",
        "]"
      ]
    },
    {
      "cell_type": "markdown",
      "metadata": {},
      "source": [
        "### Solución: "
      ]
    },
    {
      "cell_type": "code",
      "execution_count": null,
      "metadata": {},
      "outputs": [],
      "source": []
    },
    {
      "cell_type": "code",
      "execution_count": null,
      "metadata": {},
      "outputs": [],
      "source": []
    },
    {
      "cell_type": "code",
      "execution_count": null,
      "metadata": {},
      "outputs": [],
      "source": []
    },
    {
      "cell_type": "markdown",
      "metadata": {
        "id": "st4XoZbC9_nP"
      },
      "source": [
        "---"
      ]
    },
    {
      "cell_type": "markdown",
      "metadata": {},
      "source": [
        "## 2. Detector de transacciones sospechosas"
      ]
    },
    {
      "cell_type": "markdown",
      "metadata": {},
      "source": [
        "### Reto: "
      ]
    },
    {
      "cell_type": "markdown",
      "metadata": {},
      "source": [
        "* Recibes un list de tuplas (id, monto), donde monto puede ser positivo (ingreso) o negativo (egreso). Queremos detectar el primer momento en que la cuenta queda por debajo de 0 y, si ocurre, cuánto tiempo tarda en recuperarse (número de transacciones hasta volver a saldo ≥ 0)."
      ]
    },
    {
      "cell_type": "markdown",
      "metadata": {},
      "source": [
        "\n",
        "| Paso | Qué lograr | \tPistas técnicas |\n",
        "| --- | --- | --- |\n",
        "| 1. Balance incremental | Recorre la lista con un for, actualizando un saldo. Guarda en otra lista los saldos tras cada operación. | Acumulador simple |\n",
        "| 2. Identificar el quiebre | Encuentra el índice donde el saldo se hace < 0 por primera vez (break tan pronto ocurra). | Condicional + break |\n",
        "| 3. Medir la recuperación | \tSi hubo quiebre, usa un bucle while o un segundo for desde el índice siguiente hasta que el saldo vuelva a >= 0; cuenta los pasos. | Variables contadoras |\n",
        "| 4. Empaquetar y proteger | Encapsula la lógica en una función → resultado = {\"quiebre\": id, \"pasos_recuperacion\": n}. Usa try/except para listas vacías. | Funciones, dict, excepciones |"
      ]
    },
    {
      "cell_type": "markdown",
      "metadata": {},
      "source": [
        "### Datos: "
      ]
    },
    {
      "cell_type": "markdown",
      "metadata": {},
      "source": [
        "N/A"
      ]
    },
    {
      "cell_type": "code",
      "execution_count": null,
      "metadata": {},
      "outputs": [],
      "source": [
        "# N/A"
      ]
    },
    {
      "cell_type": "markdown",
      "metadata": {},
      "source": [
        "### Solución: "
      ]
    },
    {
      "cell_type": "code",
      "execution_count": null,
      "metadata": {},
      "outputs": [],
      "source": []
    },
    {
      "cell_type": "code",
      "execution_count": null,
      "metadata": {},
      "outputs": [],
      "source": []
    },
    {
      "cell_type": "code",
      "execution_count": null,
      "metadata": {},
      "outputs": [],
      "source": []
    },
    {
      "cell_type": "markdown",
      "metadata": {},
      "source": [
        "---"
      ]
    },
    {
      "cell_type": "markdown",
      "metadata": {},
      "source": [
        "## 3. Histograma ASCII de frecuencias"
      ]
    },
    {
      "cell_type": "markdown",
      "metadata": {},
      "source": [
        "### Reto: "
      ]
    },
    {
      "cell_type": "markdown",
      "metadata": {},
      "source": [
        "* Dado un list de números enteros de 1 a 10 (ej. resultados de dados), dibuja un histograma en consola como:\n",
        "\n",
        "...\n",
        "\n",
        "1. ++++\n",
        "2. ++\n",
        "3. ++++++++++\n",
        "   \n",
        "..."
      ]
    },
    {
      "cell_type": "markdown",
      "metadata": {},
      "source": [
        "\n",
        "| Paso | Qué lograr | \tPistas técnicas |\n",
        "| --- | --- | --- |\n",
        "| 1. Contar frecuencias | Crea un diccionario {número: conteo} inicializado en 0 para los 1-10, y recórrelo sumando. | Bucle for sobre lista, diccionarios |\n",
        "| 2. Convertir a barras | Por cada clave, genera una cadena de asteriscos: '*' * conteo. | Operación con strings y enteros|\n",
        "| 3. Imprimir ordenado | \tRecorre del 1 al 10 y muestra \"n: barra\". Evita imprimir números que no aparecieron usando un if o simplemente deja la línea vacía. | range(1,11) |\n",
        "| 4. Parametrizar tu función | Convierte todo en def histograma(lista, caracter='*') para que el profesor pueda cambiar el símbolo sin modificar tu código. Añade try/except para validar que cada elemento sea entero 1-10. | Parámetros con valor por defecto, validaciones|"
      ]
    },
    {
      "cell_type": "markdown",
      "metadata": {},
      "source": [
        "### Datos: "
      ]
    },
    {
      "cell_type": "markdown",
      "metadata": {},
      "source": [
        "N/A"
      ]
    },
    {
      "cell_type": "code",
      "execution_count": null,
      "metadata": {},
      "outputs": [],
      "source": [
        "# N/A"
      ]
    },
    {
      "cell_type": "markdown",
      "metadata": {},
      "source": [
        "### Solución: "
      ]
    },
    {
      "cell_type": "code",
      "execution_count": null,
      "metadata": {},
      "outputs": [],
      "source": []
    },
    {
      "cell_type": "code",
      "execution_count": null,
      "metadata": {},
      "outputs": [],
      "source": []
    },
    {
      "cell_type": "code",
      "execution_count": null,
      "metadata": {},
      "outputs": [],
      "source": []
    },
    {
      "cell_type": "markdown",
      "metadata": {},
      "source": [
        "---"
      ]
    },
    {
      "cell_type": "markdown",
      "metadata": {},
      "source": [
        "Para profundizar en los datos y experimentar con conjuntos reales, pueden apoyarse en Kaggle, la plataforma de competencias y notebooks colaborativos, así como en W3Schools, cuyo apartado de Python ofrece ejemplos concisos y explicaciones paso a paso. Ambos recursos complementan lo visto en clase con material interactivo: en Kaggle encontrarán notebooks listos para “forkear”, datasets de libre acceso y foros donde otros estudiantes discuten soluciones; W3Schools, por su parte, brinda pequeños playgrounds en los que pueden ejecutar fragmentos de código sin instalar nada.\n",
        "\n",
        "Recuerden que los cimientos de Python básico —declarar variables, manipular listas y diccionarios, controlar el flujo con if/elif/else, for y while, y encapsular lógica en funciones (incluidas las lambda)— son suficientes para resolver los tres desafíos planteados. Cuando consulten la documentación oficial (docs.python.org), busquen ejemplos mínimos que ilustren cada concepto y prueben primero las instrucciones en un entorno controlado (como el REPL o un notebook) antes de integrarlas a su solución final; así desarrollarán un hábito de verificación incremental y depuración temprana, clave en ciencia de datos."
      ]
    },
    {
      "cell_type": "markdown",
      "metadata": {},
      "source": [
        "---"
      ]
    }
  ],
  "metadata": {
    "colab": {
      "provenance": []
    },
    "kernelspec": {
      "display_name": "Python 3",
      "name": "python3"
    },
    "language_info": {
      "name": "python"
    }
  },
  "nbformat": 4,
  "nbformat_minor": 0
}
