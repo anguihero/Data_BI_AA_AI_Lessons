{
 "cells": [
  {
   "cell_type": "markdown",
   "metadata": {
    "id": "D7l96JqlBCNq"
   },
   "source": [
    "---------------\n",
    "    AMMS\n",
    "---------------"
   ]
  },
  {
   "cell_type": "markdown",
   "metadata": {
    "id": "XMe5GnqOBCNr"
   },
   "source": [
    "# Análisis de Clasificación"
   ]
  },
  {
   "cell_type": "markdown",
   "metadata": {
    "id": "7Qv5AEcaBCNr"
   },
   "source": [
    "---------------\n",
    "## Tabla de contenido\n",
    "---------------\n",
    "\n",
    "* Definición\n",
    "* Regresión Logística\n",
    "* Uso de libreria Scikit learn\n",
    "* Métricas\n",
    "* Métodos de clasificación"
   ]
  },
  {
   "cell_type": "markdown",
   "metadata": {
    "id": "bicb8cmRBCNs"
   },
   "source": [
    "<img src=https://scikit-learn.org/stable/_static/ml_map.png>"
   ]
  },
  {
   "cell_type": "markdown",
   "metadata": {
    "id": "KrgabEVNBCNs"
   },
   "source": [
    "---------------\n",
    "## Definición\n",
    "---------------\n"
   ]
  },
  {
   "cell_type": "markdown",
   "metadata": {
    "id": "rx3YL7idBCNs"
   },
   "source": [
    "\n",
    "Un problema de clasificación es un tipo de problema en el que el objetivo es asignar una categoría o etiqueta a una entrada dada, basándose en sus características o atributos observados. La tarea principal es clasificar los elementos de un conjunto en clases predefinidas. Existen dos tipos principales de problemas de clasificación:\n"
   ]
  },
  {
   "cell_type": "markdown",
   "metadata": {
    "id": "nrUwAWORBCNs"
   },
   "source": [
    "\n",
    "* Clasificación binaria:\n",
    "\n",
    "    En este tipo de clasificación, el objetivo es asignar cada instancia a una de las dos clases posibles. Por ejemplo, determinar si un correo electrónico es spam o no spam, predecir si un paciente tiene una enfermedad específica o no, etc.\n",
    "\n",
    "* Clasificación multiclase o multinomial:\n",
    "\n",
    "    En este tipo de clasificación, hay más de dos clases posibles, y el objetivo es asignar cada instancia a una de las múltiples clases. Ejemplos incluyen reconocimiento de dígitos escritos a mano (0-9), clasificación de especies de animales, reconocimiento de idiomas, etc.\n"
   ]
  },
  {
   "cell_type": "markdown",
   "metadata": {
    "id": "5_EhXtKJBCNt"
   },
   "source": [
    "---------------\n",
    "## Regresión Logística\n",
    "---------------\n"
   ]
  },
  {
   "cell_type": "markdown",
   "metadata": {
    "id": "gyVWQfnxBCNt"
   },
   "source": [
    "La regresión logística es un modelo estadístico utilizado para predecir la probabilidad de que una variable dependiente binaria (con dos categorías) tenga un valor de 1 o 0 en función de una o más variables independientes."
   ]
  },
  {
   "cell_type": "markdown",
   "metadata": {
    "id": "e5ws7Jp5BCNt"
   },
   "source": [
    "### Definición del problema\n",
    "* Identificar la variable dependiente (o respuesta) y las variables independientes (o predictores) en tu conjunto de datos.\n",
    "* La variable dependiente debe ser binaria, es decir, tener dos categorías (por ejemplo, sí/no, éxito/fracaso, 1/0)."
   ]
  },
  {
   "cell_type": "markdown",
   "metadata": {
    "id": "S7MLSX8wBCNt"
   },
   "source": [
    "### Modelo\n",
    "El modelo de regresión logística utiliza la función logit para modelar la relación entre las variables independientes y la probabilidad de que la variable dependiente sea 1 (presencia de la caracteristicas objetivo del problema de investigación).\n",
    "\n",
    "\n",
    "La función logit transforma la probabilidad $p$ en el rango de $({-\\infty,\\infty})$ y se define como\n",
    "\n",
    "$logit({p})=log({\\frac{p}{1-p}})$"
   ]
  },
  {
   "cell_type": "markdown",
   "metadata": {
    "id": "ckeY8giKBCNt"
   },
   "source": [
    "### Estimación de parámetros\n",
    "Se utilizan métodos como el máximo verosimilitud (likelihood) para estimar los parámetros del modelo, que son los coeficientes asociados a cada variable independiente."
   ]
  },
  {
   "cell_type": "markdown",
   "metadata": {
    "id": "Ja56e3qRBCNu"
   },
   "source": [
    "#### máxima verosimilitud (likelihood)\n",
    "\n",
    "Su objetivo del método de máxima verosimilitud es encontrar los valores de los parámetros que maximizan la función de verosimilitud, que mide la probabilidad de observar los datos dados ciertos valores específicos de los parámetros siguiendo unos los siguientes pasos:\n",
    "\n",
    "1. Definición del modelo\n",
    "\n",
    "Comienza con la definición de un modelo estadístico que describe la distribución de los datos. Este modelo tiene parámetros que deben ser estimados.\n",
    "Función de verosimilitud:\n",
    "\n",
    "2. La función de verosimilitud\n",
    "\n",
    "La función de verosimilitud $(L)$ describe la probabilidad de observar los datos dados ciertos valores de los parámetros. Se denota comúnmente como $L(\\theta|\\text{datos})$, donde $\\theta$ representa el conjunto de parámetros del modelo.\n",
    "\n",
    "3. Logaritmo de la función de verosimilitud (log-verosimilitud):\n",
    "\n",
    "Para facilitar el cálculo, se suele trabajar con el logaritmo natural de la función de verosimilitud. Esto no afecta la maximización, ya que el logaritmo es una función monótona creciente. La función de log-verosimilitud se denota como  $l(\\theta|\\text{datos}) = log(L(\\theta|\\text{datos}) )$\n",
    "\n",
    "4. Maximización de la log-verosimilitud:\n",
    "\n",
    "El objetivo es encontrar los valores de los parámetros que maximizan la función de log-verosimilitud. Esto se puede hacer utilizando métodos de optimización, como el descenso de gradiente, o resolviendo las ecuaciones derivadas de la función de log-verosimilitud igualadas a cero.\n",
    "\n",
    "5. Estimación de los parámetros:\n",
    "\n",
    "Los valores que maximizan la función de log-verosimilitud se utilizan como estimaciones de los parámetros del modelo. Estas estimaciones son llamadas estimadores de máxima verosimilitud (MLE).\n",
    "\n",
    "4. Propiedades asintóticas:\n",
    "\n",
    "En condiciones asintóticas (con un número grande de observaciones), los estimadores de máxima verosimilitud exhiben propiedades deseables, como ser insesgados y eficientes.\n",
    "\n",
    "NOTA :\n",
    "* El **descenso de gradiente** aborda este problema ajustando iterativamente los parámetros en la dirección opuesta al gradiente de la función de log-verosimilitud. El gradiente indica la dirección de mayor aumento de la función, por lo que moverse en dirección opuesta nos acerca al máximo de la función.\n",
    "* La **tasa de aprendizaje** controla cuánto se ajustan los parámetros en cada iteración. Se debe ajustar cuidadosamente para garantizar que el algoritmo converja de manera eficiente sin excederse.Un valor de tasa de aprendizaje más grande permite pasos más grandes, pero puede hacer que el algoritmo diverja o falle en converger. Un valor más pequeño permite pasos más pequeños, pero puede hacer que el proceso de convergencia sea lento."
   ]
  },
  {
   "cell_type": "markdown",
   "metadata": {
    "id": "CeuhCgSHBCNu"
   },
   "source": [
    "### Función de decisión\n",
    "\n",
    "La función de decisión se calcula como la combinación lineal de las variables independientes ponderadas por los coeficientes estimados. Para un caso binario, se puede expresar como\n",
    "\n",
    "$logit({p})=\\beta_0+\\beta_1X_1+\\beta_2X_2+...+\\beta_nX_n$"
   ]
  },
  {
   "cell_type": "markdown",
   "metadata": {
    "id": "ZZQRAQxwBCNu"
   },
   "source": [
    "### Transformación logística inversa\n",
    "Para obtener la probabilidad de que la variable dependiente sea 1, aplicamos la transformación logística inversa, que es la función sigmoide\n",
    "\n",
    "$p = \\frac{1}{1+e^{-logit(p)}}$"
   ]
  },
  {
   "cell_type": "markdown",
   "metadata": {
    "id": "HuR7AeTQBCNv"
   },
   "source": [
    "### Umbral de decisión\n",
    "\n",
    "Se establece un umbral de decisión (generalmente 0.5 pero existen métodos sofisticados para encontrar el mejor umbral) para clasificar las observaciones en las dos categorías."
   ]
  },
  {
   "cell_type": "code",
   "execution_count": null,
   "metadata": {
    "executionInfo": {
     "elapsed": 3904,
     "status": "ok",
     "timestamp": 1724198424674,
     "user": {
      "displayName": "gauss ELprincipito",
      "userId": "10561550388760016055"
     },
     "user_tz": 300
    },
    "id": "O0UST9y2BCNv"
   },
   "outputs": [],
   "source": [
    "# Importar las bibliotecas necesarias\n",
    "import numpy as np\n",
    "import pandas as pd\n",
    "\n",
    "import matplotlib.pyplot as plt # viz\n",
    "import seaborn as sns # viz"
   ]
  },
  {
   "cell_type": "code",
   "execution_count": null,
   "metadata": {
    "executionInfo": {
     "elapsed": 2,
     "status": "ok",
     "timestamp": 1724198424674,
     "user": {
      "displayName": "gauss ELprincipito",
      "userId": "10561550388760016055"
     },
     "user_tz": 300
    },
    "id": "FCRKEjZDBCNw"
   },
   "outputs": [],
   "source": [
    "def plot_func_sigmoidal(umbral = 0.5):\n",
    "    # Función sigmoidal\n",
    "    def sigmoid(x):\n",
    "        return 1 / (1 + np.exp(-x))\n",
    "\n",
    "    # Generar datos para la gráfica\n",
    "    x_values = np.linspace(-7, 7, 100)\n",
    "    y_values = sigmoid(x_values)\n",
    "\n",
    "    # Graficar la función sigmoidal\n",
    "    plt.plot(x_values, y_values, label='Sigmoidal')\n",
    "    plt.axhline(y=umbral, color='r', linestyle='--', label='Umbral de decisión ({})'.format(umbral))\n",
    "    # plt.axvline(x=0, color='g', linestyle='--', label='Valor de umbral (0)')\n",
    "\n",
    "    # Etiquetas y leyenda\n",
    "    plt.xlabel('Eje X')\n",
    "    plt.ylabel('Función Sigmoidal')\n",
    "    plt.title('Función Sigmoidal')\n",
    "    plt.legend()\n",
    "\n",
    "    # grilla\n",
    "    plt.grid()\n",
    "\n",
    "    # Mostrar la gráfica\n",
    "    plt.show()\n"
   ]
  },
  {
   "cell_type": "code",
   "execution_count": null,
   "metadata": {
    "colab": {
     "base_uri": "https://localhost:8080/",
     "height": 472
    },
    "executionInfo": {
     "elapsed": 1047,
     "status": "ok",
     "timestamp": 1724198425719,
     "user": {
      "displayName": "gauss ELprincipito",
      "userId": "10561550388760016055"
     },
     "user_tz": 300
    },
    "id": "fcRu5az-BCNw",
    "outputId": "09f75ca9-d0f8-42c5-c0af-cf0712464950"
   },
   "outputs": [],
   "source": [
    "plot_func_sigmoidal(0.5)"
   ]
  },
  {
   "cell_type": "markdown",
   "metadata": {
    "id": "mo6WdfWsBCNw"
   },
   "source": [
    "### Ejemplo"
   ]
  },
  {
   "cell_type": "code",
   "execution_count": null,
   "metadata": {
    "executionInfo": {
     "elapsed": 5,
     "status": "ok",
     "timestamp": 1724198425719,
     "user": {
      "displayName": "gauss ELprincipito",
      "userId": "10561550388760016055"
     },
     "user_tz": 300
    },
    "id": "zytsYxK6BCNw"
   },
   "outputs": [],
   "source": [
    "# Datos de ejemplo\n",
    "X = np.array([[1, 2], [1, 3], [1, 4], [1, 5], [1, 6]])\n",
    "y = np.array([0, 0, 1, 1, 1])"
   ]
  },
  {
   "cell_type": "code",
   "execution_count": null,
   "metadata": {
    "executionInfo": {
     "elapsed": 5,
     "status": "ok",
     "timestamp": 1724198425719,
     "user": {
      "displayName": "gauss ELprincipito",
      "userId": "10561550388760016055"
     },
     "user_tz": 300
    },
    "id": "-FaW_AxbBCNw"
   },
   "outputs": [],
   "source": [
    "# Función logística\n",
    "def sigmoid(z):\n",
    "    p = 1 / (1 + np.exp(-z))\n",
    "    return p\n",
    "\n",
    "# Función de log-verosimilitud\n",
    "def log_likelihood(X, y, theta):\n",
    "    m = len(y)\n",
    "    z = np.dot(X, theta)\n",
    "    h = sigmoid(z)\n",
    "    likelihood = y * np.log(h) + (1 - y) * np.log(1 - h)\n",
    "    return np.sum(likelihood) / m\n",
    "\n",
    "# Gradiente de la log-verosimilitud\n",
    "def gradient(X, y, theta):\n",
    "    m = len(y)\n",
    "    z = np.dot(X, theta)\n",
    "    h = sigmoid(z)\n",
    "    grad = np.dot(X.T, (h - y)) / m\n",
    "    return grad\n",
    "\n",
    "# Descenso de gradiente para la maximización de la log-verosimilitud\n",
    "def gradient_descent(X, y, theta, learning_rate, epochs):\n",
    "    for _ in range(epochs):\n",
    "        grad = gradient(X, y, theta)\n",
    "        theta -= learning_rate * grad\n",
    "    return theta"
   ]
  },
  {
   "cell_type": "code",
   "execution_count": null,
   "metadata": {
    "colab": {
     "base_uri": "https://localhost:8080/"
    },
    "executionInfo": {
     "elapsed": 4,
     "status": "ok",
     "timestamp": 1724198425719,
     "user": {
      "displayName": "gauss ELprincipito",
      "userId": "10561550388760016055"
     },
     "user_tz": 300
    },
    "id": "hHaUJLXRBCNw",
    "outputId": "4a2dfa33-87d6-4edc-b040-574121c39993"
   },
   "outputs": [],
   "source": [
    "# Agregar una columna de unos a X para el término de sesgo\n",
    "X = np.c_[np.ones(X.shape[0]), X]\n",
    "\n",
    "# Inicialización de parámetros\n",
    "theta = np.zeros(X.shape[1])\n",
    "print(\"Parámetros iniciados:\", theta)\n"
   ]
  },
  {
   "cell_type": "code",
   "execution_count": null,
   "metadata": {
    "colab": {
     "base_uri": "https://localhost:8080/"
    },
    "executionInfo": {
     "elapsed": 318,
     "status": "ok",
     "timestamp": 1724198426034,
     "user": {
      "displayName": "gauss ELprincipito",
      "userId": "10561550388760016055"
     },
     "user_tz": 300
    },
    "id": "59FYTcwuBCNw",
    "outputId": "ffd4242a-343d-489d-b162-4c61c024ca8b"
   },
   "outputs": [],
   "source": [
    "# Hiperparámetros\n",
    "learning_rate = 0.01 # que tan rapido me acerco / si es muy pequeño será muy lento pero si es grande es rapido\n",
    "epochs = 1000 # iteraciones\n",
    "\n",
    "# Estimación de parámetros mediante máxima verosimilitud\n",
    "theta = gradient_descent(X, y, theta, learning_rate, epochs)\n",
    "print(\"Parámetros estimados:\", theta)"
   ]
  },
  {
   "cell_type": "code",
   "execution_count": null,
   "metadata": {
    "executionInfo": {
     "elapsed": 10,
     "status": "ok",
     "timestamp": 1724198426034,
     "user": {
      "displayName": "gauss ELprincipito",
      "userId": "10561550388760016055"
     },
     "user_tz": 300
    },
    "id": "qeqOS87vBCNw"
   },
   "outputs": [],
   "source": [
    "# Función para hacer predicciones\n",
    "def predict(X, theta, threshold=0.5):\n",
    "    probabilities = sigmoid(np.dot(X, theta))\n",
    "    predictions = (probabilities >= threshold).astype(int)\n",
    "    return predictions\n"
   ]
  },
  {
   "cell_type": "code",
   "execution_count": null,
   "metadata": {
    "colab": {
     "base_uri": "https://localhost:8080/"
    },
    "executionInfo": {
     "elapsed": 9,
     "status": "ok",
     "timestamp": 1724198426034,
     "user": {
      "displayName": "gauss ELprincipito",
      "userId": "10561550388760016055"
     },
     "user_tz": 300
    },
    "id": "BYRiuNOmBCNx",
    "outputId": "1dec389b-6204-42eb-c495-d608841dd607"
   },
   "outputs": [],
   "source": [
    "\n",
    "# nuevos datos\n",
    "new_data = np.array([[1, 3], [1, 5], [2, 7], [0, 0], [0, 0]])\n",
    "# Agregar una columna de unos a X para el término de sesgo\n",
    "new_data = np.c_[np.ones(new_data.shape[0]), new_data]\n",
    "# con los parametros estimados realizar predicciones\n",
    "predictions = predict(new_data, theta)\n",
    "\n",
    "print(\"Predicciones para nuevos datos:\", predictions)\n"
   ]
  },
  {
   "cell_type": "markdown",
   "metadata": {
    "id": "7zmc2fjJBCNx"
   },
   "source": [
    "---------------\n",
    "## Uso de libreria Scikit learn\n",
    "---------------\n"
   ]
  },
  {
   "cell_type": "code",
   "execution_count": null,
   "metadata": {
    "executionInfo": {
     "elapsed": 792,
     "status": "ok",
     "timestamp": 1724198426818,
     "user": {
      "displayName": "gauss ELprincipito",
      "userId": "10561550388760016055"
     },
     "user_tz": 300
    },
    "id": "3vYgy3MmBCNx"
   },
   "outputs": [],
   "source": [
    "from sklearn.linear_model import LogisticRegression\n",
    "from sklearn.metrics import confusion_matrix, classification_report"
   ]
  },
  {
   "cell_type": "code",
   "execution_count": null,
   "metadata": {
    "executionInfo": {
     "elapsed": 2,
     "status": "ok",
     "timestamp": 1724198426818,
     "user": {
      "displayName": "gauss ELprincipito",
      "userId": "10561550388760016055"
     },
     "user_tz": 300
    },
    "id": "mtxAqel3BCNx"
   },
   "outputs": [],
   "source": [
    "# Crear un conjunto de datos ficticio\n",
    "np.random.seed(42) # semilla aleatoria\n",
    "\n",
    "data = pd.DataFrame({\n",
    "    'feature1': np.random.normal(0, 1, 1000),\n",
    "    'feature2': np.random.normal(0, 1, 1000),\n",
    "    'target': np.random.choice([0, 1], size=1000)\n",
    "})"
   ]
  },
  {
   "cell_type": "code",
   "execution_count": null,
   "metadata": {
    "colab": {
     "base_uri": "https://localhost:8080/",
     "height": 206
    },
    "executionInfo": {
     "elapsed": 319,
     "status": "ok",
     "timestamp": 1724198427136,
     "user": {
      "displayName": "gauss ELprincipito",
      "userId": "10561550388760016055"
     },
     "user_tz": 300
    },
    "id": "gfPqW4eqBCNx",
    "outputId": "16dfac8a-1867-4b64-dc56-b52f97515466"
   },
   "outputs": [],
   "source": [
    "data.head()"
   ]
  },
  {
   "cell_type": "code",
   "execution_count": null,
   "metadata": {
    "executionInfo": {
     "elapsed": 5,
     "status": "ok",
     "timestamp": 1724198427136,
     "user": {
      "displayName": "gauss ELprincipito",
      "userId": "10561550388760016055"
     },
     "user_tz": 300
    },
    "id": "LbGIInImBCNy"
   },
   "outputs": [],
   "source": [
    "# Dividir el conjunto de datos en características (X) y variable objetivo (y)\n",
    "X = data[['feature1', 'feature2']]\n",
    "y = data['target']"
   ]
  },
  {
   "cell_type": "code",
   "execution_count": null,
   "metadata": {
    "executionInfo": {
     "elapsed": 4,
     "status": "ok",
     "timestamp": 1724198427136,
     "user": {
      "displayName": "gauss ELprincipito",
      "userId": "10561550388760016055"
     },
     "user_tz": 300
    },
    "id": "DS64LAAqBCNy"
   },
   "outputs": [],
   "source": [
    "# Crear y entrenar el modelo de regresión logística\n",
    "model = LogisticRegression(\n",
    "    max_iter = 100000, #cantidad de maxima de iteracion\n",
    "    solver = 'liblinear', # opt\n",
    "    random_state=20090630 # semilla aleatoria\n",
    "    )"
   ]
  },
  {
   "cell_type": "code",
   "execution_count": null,
   "metadata": {
    "colab": {
     "base_uri": "https://localhost:8080/",
     "height": 74
    },
    "executionInfo": {
     "elapsed": 4,
     "status": "ok",
     "timestamp": 1724198427136,
     "user": {
      "displayName": "gauss ELprincipito",
      "userId": "10561550388760016055"
     },
     "user_tz": 300
    },
    "id": "RFu1juOuBCNy",
    "outputId": "d2b5afb8-b315-4aa5-c9f7-283af2784256"
   },
   "outputs": [],
   "source": [
    "\n",
    "model.fit(X, y)"
   ]
  },
  {
   "cell_type": "code",
   "execution_count": null,
   "metadata": {
    "executionInfo": {
     "elapsed": 249,
     "status": "ok",
     "timestamp": 1724198427382,
     "user": {
      "displayName": "gauss ELprincipito",
      "userId": "10561550388760016055"
     },
     "user_tz": 300
    },
    "id": "t0Ptq6MqBCNy"
   },
   "outputs": [],
   "source": [
    "# Realizar predicciones en el conjunto de prueba\n",
    "y_pred = model.predict(X)"
   ]
  },
  {
   "cell_type": "code",
   "execution_count": null,
   "metadata": {
    "colab": {
     "base_uri": "https://localhost:8080/",
     "height": 333
    },
    "executionInfo": {
     "elapsed": 275,
     "status": "ok",
     "timestamp": 1724198427656,
     "user": {
      "displayName": "gauss ELprincipito",
      "userId": "10561550388760016055"
     },
     "user_tz": 300
    },
    "id": "boL7r3iDBCNz",
    "outputId": "969409ec-6dbe-4f18-a212-b5522da8f892"
   },
   "outputs": [],
   "source": [
    "# Evaluar el rendimiento con una matriz de confusión\n",
    "conf_matrix = confusion_matrix(y, y_pred)\n",
    "\n",
    "# Visualizar la matriz de confusión\n",
    "plt.figure(figsize=(3, 3))\n",
    "sns.heatmap(conf_matrix, annot=True, fmt='d', cmap='Blues', cbar=False)\n",
    "plt.xlabel('Predicted')\n",
    "plt.ylabel('Actual')\n",
    "plt.title('Matriz de Confusión')\n",
    "plt.show()"
   ]
  },
  {
   "cell_type": "code",
   "execution_count": null,
   "metadata": {
    "colab": {
     "base_uri": "https://localhost:8080/"
    },
    "executionInfo": {
     "elapsed": 285,
     "status": "ok",
     "timestamp": 1724198427939,
     "user": {
      "displayName": "gauss ELprincipito",
      "userId": "10561550388760016055"
     },
     "user_tz": 300
    },
    "id": "BVfTe1vYBCNz",
    "outputId": "b801bbcf-b5fa-4903-ba4d-1f84d2ce05c7"
   },
   "outputs": [],
   "source": [
    "classification_rep = classification_report(y, y_pred)\n",
    "print('Classification Report:\\n', classification_rep)"
   ]
  },
  {
   "cell_type": "markdown",
   "metadata": {
    "id": "-YFJThKPBCNz"
   },
   "source": [
    "---------------\n",
    "## Métricas\n",
    "---------------"
   ]
  },
  {
   "cell_type": "markdown",
   "metadata": {
    "id": "OwwkJCA-BCNz"
   },
   "source": [
    "### Matriz de confusión"
   ]
  },
  {
   "cell_type": "markdown",
   "metadata": {
    "id": "z3dSQdZ9BCNz"
   },
   "source": [
    "<img src=https://skappal7.files.wordpress.com/2018/08/confusion-matrix.jpg>\n"
   ]
  },
  {
   "cell_type": "markdown",
   "metadata": {
    "id": "iGeSHBTXBCNz"
   },
   "source": [
    "La matriz de confusión es una herramienta utilizada en el campo de la clasificación de problemas de aprendizaje automático y estadística para visualizar el desempeño de un modelo de clasificación. En una matriz de confusión, las filas representan las clases reales y las columnas representan las clases predichas por el modelo. Para una clasificación binaria, la matriz de confusión tiene cuatro términos:\n",
    "    "
   ]
  },
  {
   "cell_type": "markdown",
   "metadata": {
    "id": "05FliTuSBCN0"
   },
   "source": [
    "    * Verdaderos positivos (TP): son los casos en los que el modelo predijo correctamente una clase positiva.\n",
    "    * Falsos positivos (FP): son los casos en los que el modelo predijo incorrectamente una clase positiva cuando la verdadera clase era negativa.\n",
    "    * Verdaderos negativos (TN): son los casos en los que el modelo predijo correctamente una clase negativa.\n",
    "    * Falsos negativos (FN): son los casos en los que el modelo predijo incorrectamente una clase negativa cuando la verdadera clase era positiva."
   ]
  },
  {
   "cell_type": "markdown",
   "metadata": {
    "id": "xbEhxfSEBCN0"
   },
   "source": [
    "    EJEMPLO"
   ]
  },
  {
   "cell_type": "code",
   "execution_count": null,
   "metadata": {
    "colab": {
     "base_uri": "https://localhost:8080/"
    },
    "executionInfo": {
     "elapsed": 7,
     "status": "ok",
     "timestamp": 1724198427939,
     "user": {
      "displayName": "gauss ELprincipito",
      "userId": "10561550388760016055"
     },
     "user_tz": 300
    },
    "id": "i2hOxqbDBCN0",
    "outputId": "8577e8d6-6e36-42ff-bfa3-b75b3476ce5e"
   },
   "outputs": [],
   "source": [
    "# 1- importar la funcion\n",
    "from sklearn.metrics import confusion_matrix\n",
    "# 2 - aplicar la función con las Y observadas y las predicciones\n",
    "conf_matrix = confusion_matrix(y,y_pred)\n",
    "# 3 -mostrar el resultado de la evaluación\n",
    "print('confusion matrix: \\n',conf_matrix)"
   ]
  },
  {
   "cell_type": "markdown",
   "metadata": {
    "id": "j7JhqOUGBCN0"
   },
   "source": [
    "### Accuracy"
   ]
  },
  {
   "cell_type": "markdown",
   "metadata": {
    "id": "STHAgzUsBCN0"
   },
   "source": [
    "Es la proporción de casos correctamente clasificados sobre el total de casos."
   ]
  },
  {
   "cell_type": "markdown",
   "metadata": {
    "id": "dCoR6Zg-BCN0"
   },
   "source": [
    "    * Mide la capacidad global del modelo para predecir correctamente las clases.\n",
    "    * Proporciona una visión general del rendimiento del modelo, pero puede ser engañosa si hay un desequilibrio de clases en los datos."
   ]
  },
  {
   "cell_type": "markdown",
   "metadata": {
    "id": "lUv71fKUBCN0"
   },
   "source": [
    "$Accuracy = \\frac{TP + TN}{TP + TN + FP + FN}$"
   ]
  },
  {
   "cell_type": "markdown",
   "metadata": {
    "id": "QUb5N5zbBCN0"
   },
   "source": [
    "    EJEMPLO"
   ]
  },
  {
   "cell_type": "code",
   "execution_count": null,
   "metadata": {
    "colab": {
     "base_uri": "https://localhost:8080/"
    },
    "executionInfo": {
     "elapsed": 6,
     "status": "ok",
     "timestamp": 1724198427940,
     "user": {
      "displayName": "gauss ELprincipito",
      "userId": "10561550388760016055"
     },
     "user_tz": 300
    },
    "id": "8eksm_QxBCN0",
    "outputId": "7bca68bd-7fd3-4002-dcc3-f5fd07018d3d"
   },
   "outputs": [],
   "source": [
    "# 1- importar la funcion\n",
    "from sklearn.metrics import accuracy_score\n",
    "# 2 - aplicar la función con las Y observadas y las predicciones\n",
    "accuracy = accuracy_score(y,y_pred)\n",
    "# 3 -mostrar el resultado de la evaluación\n",
    "print('accuracy : {}'.format(accuracy))"
   ]
  },
  {
   "cell_type": "markdown",
   "metadata": {
    "id": "dCmgT507BCN1"
   },
   "source": [
    "### Precision"
   ]
  },
  {
   "cell_type": "markdown",
   "metadata": {
    "id": "qQA4Ko_dBCN1"
   },
   "source": [
    "Es la proporción de verdaderos positivos sobre todos los casos que se predijeron como positivos .\n",
    "\n",
    "    * Mide la exactitud de las predicciones positivas del modelo.\n",
    "    * Es útil cuando es crucial minimizar los falsos positivos."
   ]
  },
  {
   "cell_type": "markdown",
   "metadata": {
    "id": "uTQv24JJBCN1"
   },
   "source": [
    "$Precision = \\frac{TP}{TP + FP}$  "
   ]
  },
  {
   "cell_type": "markdown",
   "metadata": {
    "id": "IATC_8M0BCN1"
   },
   "source": [
    "    EJEMPLO"
   ]
  },
  {
   "cell_type": "code",
   "execution_count": null,
   "metadata": {
    "colab": {
     "base_uri": "https://localhost:8080/"
    },
    "executionInfo": {
     "elapsed": 5,
     "status": "ok",
     "timestamp": 1724198427940,
     "user": {
      "displayName": "gauss ELprincipito",
      "userId": "10561550388760016055"
     },
     "user_tz": 300
    },
    "id": "37dEz3khBCN1",
    "outputId": "6a7a6f27-d902-407a-d7cb-ef250833ba62"
   },
   "outputs": [],
   "source": [
    "# 1- importar la funcion\n",
    "from sklearn.metrics import precision_score\n",
    "# 2 - aplicar la función con las Y observadas y las predicciones\n",
    "precision = precision_score(y,y_pred)\n",
    "# 3 -mostrar el resultado de la evaluación\n",
    "print('precision : {}'.format(precision))"
   ]
  },
  {
   "cell_type": "markdown",
   "metadata": {
    "id": "8gogf0MeBCN1"
   },
   "source": [
    "### Recall"
   ]
  },
  {
   "cell_type": "markdown",
   "metadata": {
    "id": "_cqy7LvSBCN1"
   },
   "source": [
    "Es la proporción de verdaderos positivos sobre todos los casos que son realmente positivos.\n",
    "\n",
    "    * Mide la capacidad del modelo para identificar correctamente todas las instancias relevantes.\n",
    "    * Es útil cuando es importante capturar todos los casos positivos y minimizar los falsos negativos"
   ]
  },
  {
   "cell_type": "markdown",
   "metadata": {
    "id": "lzQ7VGSHBCN1"
   },
   "source": [
    "$Recall  = \\frac{TP}{TP + FN}$  "
   ]
  },
  {
   "cell_type": "markdown",
   "metadata": {
    "id": "OOshKWVqBCN2"
   },
   "source": [
    "    EJEMPLO"
   ]
  },
  {
   "cell_type": "code",
   "execution_count": null,
   "metadata": {
    "colab": {
     "base_uri": "https://localhost:8080/"
    },
    "executionInfo": {
     "elapsed": 4,
     "status": "ok",
     "timestamp": 1724198427940,
     "user": {
      "displayName": "gauss ELprincipito",
      "userId": "10561550388760016055"
     },
     "user_tz": 300
    },
    "id": "gYXnQg8yBCN2",
    "outputId": "76b01182-df93-4597-fa4c-ae036b9bda44"
   },
   "outputs": [],
   "source": [
    "# 1- importar la funcion\n",
    "from sklearn.metrics import recall_score\n",
    "# 2 - aplicar la función con las Y observadas y las predicciones\n",
    "recall = recall_score(y,y_pred)\n",
    "# 3 -mostrar el resultado de la evaluación\n",
    "print('recall : {}'.format(recall))"
   ]
  },
  {
   "cell_type": "markdown",
   "metadata": {
    "id": "uVn6SLqjBCN2"
   },
   "source": [
    "### F1-Score"
   ]
  },
  {
   "cell_type": "markdown",
   "metadata": {
    "id": "MWvxBia6BCN2"
   },
   "source": [
    "Es una medida de precisión y recall ponderada.\n",
    "\n",
    "    * Esta métrica combina tanto la precisión como el recall en una sola medida.\n",
    "    * Es útil cuando se necesita un equilibrio entre precision y recall."
   ]
  },
  {
   "cell_type": "markdown",
   "metadata": {
    "id": "iNBTbHf_BCN2"
   },
   "source": [
    "$F1 Score  =2 \\times \\frac{precision \\times recall}{precision + recall}$"
   ]
  },
  {
   "cell_type": "markdown",
   "metadata": {
    "id": "dou1GNJjBCN2"
   },
   "source": [
    "    EJEMPLO"
   ]
  },
  {
   "cell_type": "code",
   "execution_count": null,
   "metadata": {
    "colab": {
     "base_uri": "https://localhost:8080/"
    },
    "executionInfo": {
     "elapsed": 3,
     "status": "ok",
     "timestamp": 1724198427940,
     "user": {
      "displayName": "gauss ELprincipito",
      "userId": "10561550388760016055"
     },
     "user_tz": 300
    },
    "id": "OdfN9Y98BCN2",
    "outputId": "76c6538d-ad30-45f3-8bb5-c79dcbe30b29"
   },
   "outputs": [],
   "source": [
    "# 1- importar la funcion\n",
    "from sklearn.metrics import f1_score\n",
    "# 2 - aplicar la función con las Y observadas y las predicciones\n",
    "f1 = f1_score(y,y_pred)\n",
    "# 3 -mostrar el resultado de la evaluación\n",
    "print('f1_score : {}'.format(f1))"
   ]
  },
  {
   "cell_type": "markdown",
   "metadata": {
    "id": "b24aNQR6BCN2"
   },
   "source": [
    "### Área bajo la curva ROC"
   ]
  },
  {
   "cell_type": "markdown",
   "metadata": {
    "id": "A6vpY6SyBCN2"
   },
   "source": [
    "Es el área bajo la curva característica de operación del receptor (ROC).\n",
    "\n",
    "    * Representa la capacidad del modelo para discriminar entre clases positivas y negativas.\n",
    "    * Una puntuación ROC AUC más alta indica un mejor rendimiento del modelo.\n",
    "    * Poporciona una evaluación del rendimiento del modelo en un rango de umbrales de clasificación y es robusto frente a desequilibrios de clases."
   ]
  },
  {
   "cell_type": "markdown",
   "metadata": {
    "id": "VfWLP9LVBCN3"
   },
   "source": [
    "**La curva ROC (Receiver Operating Characteristic) es una representación gráfica del rendimiento de un modelo de clasificación que muestra la relación entre la tasa de verdaderos positivos (TPR) y la tasa de falsos positivos (FPR) en diferentes umbrales de clasificación.**\n",
    "\n",
    "\n",
    "* TPR (Tasa de Verdaderos Positivos) es la proporción de instancias positivas que se clasificaron correctamente como positivas.\n",
    "\n",
    "$TPR = \\frac{TP}{TP+FN}$  \n",
    "\n",
    "* FPR (Tasa de Falsos Positivos) es la proporción de instancias negativas que se clasificaron incorrectamente como positivas.\n",
    "\n",
    "$FPR = \\frac{FP}{FP+TN}$  \n",
    "\n",
    "En la curva ROC, el eje x representa la tasa de falsos positivos (FPR), mientras que el eje y representa la tasa de verdaderos positivos (TPR). Cada punto en la curva ROC corresponde a un umbral de clasificación diferente. Idealmente, un modelo de clasificación perfecto tendría un TPR de 1 y un FPR de 0, lo que llevaría a la esquina superior izquierda del gráfico\n",
    "\n",
    "**La fórmula para el área bajo la curva ROC (ROC AUC) es una medida de rendimiento utilizada en problemas de clasificación. La curva ROC (Receiver Operating Characteristic) representa la tasa de verdaderos positivos (TPR) frente a la tasa de falsos positivos (FPR) para diferentes umbrales de clasificación**\n",
    "\n",
    "$ROC AUC = \\int_{0}^{1} TPR(FPR) \\,dFPR$"
   ]
  },
  {
   "cell_type": "markdown",
   "metadata": {
    "id": "cTRlzjohBCN3"
   },
   "source": [
    "    EJEMPLO"
   ]
  },
  {
   "cell_type": "code",
   "execution_count": null,
   "metadata": {
    "colab": {
     "base_uri": "https://localhost:8080/"
    },
    "executionInfo": {
     "elapsed": 228,
     "status": "ok",
     "timestamp": 1724198438464,
     "user": {
      "displayName": "gauss ELprincipito",
      "userId": "10561550388760016055"
     },
     "user_tz": 300
    },
    "id": "qCr6WxwyBCN3",
    "outputId": "ec648ee4-75c7-48ad-f9b3-b07bf189c869"
   },
   "outputs": [],
   "source": [
    "# 1- importar la funcion\n",
    "from sklearn.metrics import roc_auc_score\n",
    "# 2 - aplicar la función con las Y observadas y las predicciones\n",
    "roc_auc = roc_auc_score(y,model.predict_proba(X)[:,1], multi_class='ovr')\n",
    "# 3 -mostrar el resultado de la evaluación\n",
    "print('roc_auc : {}'.format(roc_auc))"
   ]
  },
  {
   "cell_type": "markdown",
   "metadata": {
    "id": "baY9aFhlBCN3"
   },
   "source": [
    "---------------\n",
    "## Métodos de Clasificación\n",
    "---------------"
   ]
  },
  {
   "cell_type": "code",
   "execution_count": null,
   "metadata": {
    "executionInfo": {
     "elapsed": 208,
     "status": "ok",
     "timestamp": 1724198535676,
     "user": {
      "displayName": "gauss ELprincipito",
      "userId": "10561550388760016055"
     },
     "user_tz": 300
    },
    "id": "N7M49nCsBCN3"
   },
   "outputs": [],
   "source": [
    "from sklearn.datasets import load_breast_cancer"
   ]
  },
  {
   "cell_type": "code",
   "execution_count": null,
   "metadata": {
    "executionInfo": {
     "elapsed": 198,
     "status": "ok",
     "timestamp": 1724198599855,
     "user": {
      "displayName": "gauss ELprincipito",
      "userId": "10561550388760016055"
     },
     "user_tz": 300
    },
    "id": "s1kgYpFDBCN3"
   },
   "outputs": [],
   "source": [
    "# Cargar el conjunto de datos diabetes\n",
    "cancer = load_breast_cancer()\n",
    "X, y = cancer.data, cancer.target"
   ]
  },
  {
   "cell_type": "code",
   "execution_count": null,
   "metadata": {
    "executionInfo": {
     "elapsed": 212,
     "status": "ok",
     "timestamp": 1724198604695,
     "user": {
      "displayName": "gauss ELprincipito",
      "userId": "10561550388760016055"
     },
     "user_tz": 300
    },
    "id": "lxVCibWJBCN3"
   },
   "outputs": [],
   "source": [
    "from sklearn.model_selection import train_test_split"
   ]
  },
  {
   "cell_type": "code",
   "execution_count": null,
   "metadata": {
    "executionInfo": {
     "elapsed": 220,
     "status": "ok",
     "timestamp": 1724198680044,
     "user": {
      "displayName": "gauss ELprincipito",
      "userId": "10561550388760016055"
     },
     "user_tz": 300
    },
    "id": "pO7T-MWcBCN3"
   },
   "outputs": [],
   "source": [
    "# Dividir los datos en conjuntos de entrenamiento y prueba\n",
    "X_train, X_test, y_train, y_test = train_test_split(\n",
    "    X,\n",
    "    y,\n",
    "    test_size=0.2,\n",
    "    random_state=42\n",
    "    )"
   ]
  },
  {
   "cell_type": "code",
   "execution_count": null,
   "metadata": {
    "colab": {
     "base_uri": "https://localhost:8080/"
    },
    "executionInfo": {
     "elapsed": 192,
     "status": "ok",
     "timestamp": 1724198784118,
     "user": {
      "displayName": "gauss ELprincipito",
      "userId": "10561550388760016055"
     },
     "user_tz": 300
    },
    "id": "GSVZOKFdQAQX",
    "outputId": "cfa57357-263c-42e2-876c-0a303e73a8ce"
   },
   "outputs": [],
   "source": [
    "print(X.shape)\n",
    "print(X_train.shape)\n",
    "print(X_train.shape[0]/X.shape[0])\n",
    "\n",
    "print(X.shape)\n",
    "print(X_test.shape)\n",
    "print(X_test.shape[0]/X.shape[0])"
   ]
  },
  {
   "cell_type": "markdown",
   "metadata": {
    "id": "hzWCy0hsBCN4"
   },
   "source": [
    "### Árbol de Decisión"
   ]
  },
  {
   "cell_type": "markdown",
   "metadata": {
    "id": "ctQMIAUEBCN4"
   },
   "source": [
    "* Los árboles de decisión para clasificación son modelos interpretables porque las decisiones tomadas por el modelo tienen una estructura lógica y cada nodo utiliza una condición basada en una sola característica que es fácil de entender.\n",
    "* Sin embargo, pueden ser propensos al sobreajuste, especialmente si se les permite crecer demasiado complejos sin restricciones."
   ]
  },
  {
   "cell_type": "markdown",
   "metadata": {
    "id": "N--BSTVMBCN4"
   },
   "source": [
    "    * Inicio del Árbol: Se comienza con todos los datos en un único nodo, conocido como el nodo raíz.\n",
    "\n",
    "    * División del Nodo (Splitting): Se selecciona la mejor variable y el punto de corte (split point) dentro de esa variable para dividir los datos en dos grupos. El objetivo es reducir la variabilidad de los valores de la variable objetivo dentro de cada grupo. Para la regresión, la variabilidad suele medirse con el MSE (Mean Squared Error) o la varianza; el objetivo es minimizar esta métrica al realizar cada división.\n",
    "\n",
    "    * Creación de Nodos Hijos: Una vez que se ha hecho una división, se crean dos nuevos nodos, cada uno con un subconjunto de los datos basado en la división. Este proceso se repite de manera recursiva.\n",
    "\n",
    "    * Condición de Parada: El árbol sigue creciendo hasta que se alcanza una condición de parada, que puede ser un número máximo de niveles, un número mínimo de muestras en un nodo, o una disminución mínima en la métrica de variabilidad.\n",
    "\n",
    "    * Predicción: Una vez que se ha construido el árbol, se puede usar para hacer predicciones. Para predecir el valor de una nueva muestra, se sigue el árbol desde el nodo raíz, pasando por las divisiones según las características de la muestra hasta llegar a un nodo hoja. El valor predicho es el valor medio de la variable objetivo de las muestras de entrenamiento en ese nodo hoja."
   ]
  },
  {
   "cell_type": "code",
   "execution_count": null,
   "metadata": {
    "executionInfo": {
     "elapsed": 200,
     "status": "ok",
     "timestamp": 1724198905478,
     "user": {
      "displayName": "gauss ELprincipito",
      "userId": "10561550388760016055"
     },
     "user_tz": 300
    },
    "id": "EE6vBbgcBCN4"
   },
   "outputs": [],
   "source": [
    "from sklearn.tree import DecisionTreeClassifier"
   ]
  },
  {
   "cell_type": "code",
   "execution_count": null,
   "metadata": {
    "executionInfo": {
     "elapsed": 216,
     "status": "ok",
     "timestamp": 1724198927479,
     "user": {
      "displayName": "gauss ELprincipito",
      "userId": "10561550388760016055"
     },
     "user_tz": 300
    },
    "id": "GEfaGNwVBCN4"
   },
   "outputs": [],
   "source": [
    "# 3. Árbol de Decisión\n",
    "tree_model = DecisionTreeClassifier(\n",
    "    max_depth=3, # profundidad máxima del árbol, mayor profundidad puede capturar relaciones más complejas pero también puede llevar al sobreajuste\n",
    "    min_samples_split=2, # Especifica el número mínimo de muestras requeridas para dividir un nodo interno. Si el número de muestras en un nodo es menor que min_samples_split el nodo no se dividirá y se considerará una hoja\n",
    "    min_samples_leaf=1 # Especifica el número mínimo de muestras requeridas para ser una hoja. Si la división de un nodo resulta en una hoja con un número de muestras menor que min_samples_leaf esa división no se realizará\n",
    "    )"
   ]
  },
  {
   "cell_type": "code",
   "execution_count": null,
   "metadata": {
    "executionInfo": {
     "elapsed": 192,
     "status": "ok",
     "timestamp": 1724198957185,
     "user": {
      "displayName": "gauss ELprincipito",
      "userId": "10561550388760016055"
     },
     "user_tz": 300
    },
    "id": "b4uWdb0lBCN5"
   },
   "outputs": [],
   "source": [
    "tree_model.fit(X_train, y_train)\n",
    "y_pred = tree_model.predict(X_test)"
   ]
  },
  {
   "cell_type": "code",
   "execution_count": null,
   "metadata": {
    "colab": {
     "base_uri": "https://localhost:8080/"
    },
    "executionInfo": {
     "elapsed": 219,
     "status": "ok",
     "timestamp": 1724198959871,
     "user": {
      "displayName": "gauss ELprincipito",
      "userId": "10561550388760016055"
     },
     "user_tz": 300
    },
    "id": "9TwOz2J8BCN5",
    "outputId": "564923a0-f3d5-4aab-da7f-b8f5beda9310"
   },
   "outputs": [],
   "source": [
    "# Calculamos las métricas de evaluación\n",
    "accuracy = accuracy_score(y_test, y_pred)\n",
    "precision = precision_score(y_test, y_pred, average='weighted')\n",
    "recall = recall_score(y_test, y_pred, average='weighted')\n",
    "f1 = f1_score(y_test, y_pred)\n",
    "roc_auc = roc_auc_score(y_test, tree_model.predict_proba(X_test)[:,1], multi_class='ovr')\n",
    "\n",
    "print(\"\\nMétricas de Evaluación:\")\n",
    "print(f\"Accuracy: {accuracy}\")\n",
    "print(f\"Precision: {precision}\")\n",
    "print(f\"Recall: {recall}\")\n",
    "print(f\"F1 Score: {f1}\")\n",
    "print(f\"ROC AUC Score: {roc_auc}\")"
   ]
  },
  {
   "cell_type": "markdown",
   "metadata": {
    "id": "YM-dj2AfBCN5"
   },
   "source": [
    "#### grafico del arbol"
   ]
  },
  {
   "cell_type": "code",
   "execution_count": null,
   "metadata": {
    "executionInfo": {
     "elapsed": 198,
     "status": "ok",
     "timestamp": 1724198998221,
     "user": {
      "displayName": "gauss ELprincipito",
      "userId": "10561550388760016055"
     },
     "user_tz": 300
    },
    "id": "k_25HiReBCN5"
   },
   "outputs": [],
   "source": [
    "from sklearn.tree import plot_tree"
   ]
  },
  {
   "cell_type": "code",
   "execution_count": null,
   "metadata": {
    "colab": {
     "base_uri": "https://localhost:8080/",
     "height": 374
    },
    "executionInfo": {
     "elapsed": 884,
     "status": "ok",
     "timestamp": 1724198999758,
     "user": {
      "displayName": "gauss ELprincipito",
      "userId": "10561550388760016055"
     },
     "user_tz": 300
    },
    "id": "t88-1TQiBCN5",
    "outputId": "ed49c148-daad-4077-e21e-c8f0105364f7"
   },
   "outputs": [],
   "source": [
    "# Graficar el árbol\n",
    "plt.figure(figsize=(18, 8))\n",
    "plot_tree(tree_model, feature_names=cancer.feature_names, filled=True)\n",
    "plt.show()"
   ]
  },
  {
   "cell_type": "markdown",
   "metadata": {
    "id": "6VQ_R9ZwBCN5"
   },
   "source": [
    "### Random Forest"
   ]
  },
  {
   "cell_type": "markdown",
   "metadata": {
    "id": "2OCH5xhpBCN5"
   },
   "source": [
    "    * El Random Forest es un algoritmo robusto y fácil de usar que proporciona buenos resultados en una variedad de conjuntos de datos. Es resistente al sobreajuste y no requiere mucho ajuste de hiperparámetros.\n",
    "    * Además, es eficiente en términos de tiempo de entrenamiento y es fácilmente paralelizable, lo que lo hace adecuado para conjuntos de datos grandes.\n",
    "    * Debido a sus propiedades, el Random Forest es uno de los algoritmos de aprendizaje automático más populares y ampliamente utilizados."
   ]
  },
  {
   "cell_type": "code",
   "execution_count": null,
   "metadata": {
    "executionInfo": {
     "elapsed": 210,
     "status": "ok",
     "timestamp": 1724199160208,
     "user": {
      "displayName": "gauss ELprincipito",
      "userId": "10561550388760016055"
     },
     "user_tz": 300
    },
    "id": "M2bvIYJcBCN6"
   },
   "outputs": [],
   "source": [
    "from sklearn.ensemble import RandomForestClassifier"
   ]
  },
  {
   "cell_type": "code",
   "execution_count": null,
   "metadata": {
    "executionInfo": {
     "elapsed": 218,
     "status": "ok",
     "timestamp": 1724199163137,
     "user": {
      "displayName": "gauss ELprincipito",
      "userId": "10561550388760016055"
     },
     "user_tz": 300
    },
    "id": "KYf-z96CBCN6"
   },
   "outputs": [],
   "source": [
    "# 4. Random Forest\n",
    "forest_model = RandomForestClassifier(\n",
    "    n_estimators=100, # Especifica el número de árboles en el bosque.\n",
    "    max_depth=5, # profundidad máxima de cada árbol en el bosque.\n",
    "    min_samples_split=2,  # número mínimo de muestras requeridas para dividir un nodo interno en cada árbol\n",
    "    min_samples_leaf=1 # número mínimo de muestras requeridas para ser una hoja en cada árbol\n",
    ")"
   ]
  },
  {
   "cell_type": "code",
   "execution_count": null,
   "metadata": {
    "executionInfo": {
     "elapsed": 523,
     "status": "ok",
     "timestamp": 1724199166710,
     "user": {
      "displayName": "gauss ELprincipito",
      "userId": "10561550388760016055"
     },
     "user_tz": 300
    },
    "id": "S2CIxUf-BCN6"
   },
   "outputs": [],
   "source": [
    "forest_model.fit(X_train, y_train)\n",
    "y_pred = forest_model.predict(X_test)"
   ]
  },
  {
   "cell_type": "code",
   "execution_count": null,
   "metadata": {
    "colab": {
     "base_uri": "https://localhost:8080/"
    },
    "executionInfo": {
     "elapsed": 198,
     "status": "ok",
     "timestamp": 1724199167728,
     "user": {
      "displayName": "gauss ELprincipito",
      "userId": "10561550388760016055"
     },
     "user_tz": 300
    },
    "id": "ZjBCAa3iBCN6",
    "outputId": "2b1318a1-3682-4226-8a9d-dbb4abbfdef9"
   },
   "outputs": [],
   "source": [
    "# Calculamos las métricas de evaluación\n",
    "accuracy = accuracy_score(y_test, y_pred)\n",
    "precision = precision_score(y_test, y_pred, average='weighted')\n",
    "recall = recall_score(y_test, y_pred, average='weighted')\n",
    "f1 = f1_score(y_test, y_pred)\n",
    "roc_auc = roc_auc_score(y_test, forest_model.predict_proba(X_test)[:,1], multi_class='ovr')\n",
    "\n",
    "print(\"\\nMétricas de Evaluación:\")\n",
    "print(f\"Accuracy: {accuracy}\")\n",
    "print(f\"Precision: {precision}\")\n",
    "print(f\"Recall: {recall}\")\n",
    "print(f\"F1 Score: {f1}\")\n",
    "print(f\"ROC AUC Score: {roc_auc}\")"
   ]
  },
  {
   "cell_type": "markdown",
   "metadata": {
    "id": "jxvibqQxBCN6"
   },
   "source": [
    "### Support Vector Machine (SVM)"
   ]
  },
  {
   "cell_type": "markdown",
   "metadata": {
    "id": "M0w1aECxBCN6"
   },
   "source": [
    "    * SVM es efectivo en espacios de características de alta dimensión y es capaz de manejar datos no lineales utilizando trucos del kernel, que mapean los datos a un espacio de características de mayor dimensión donde las clases son linealmente separables.\n",
    "    * SVM es un algoritmo poderoso y versátil que se utiliza en una variedad de aplicaciones, incluidas la clasificación de texto, la detección de imágenes, la clasificación de biosecuencias y más.\n",
    "    * La tarea de SVM es resolver un problema de optimización convexa. Para la clasificación, esto implica encontrar los pesos y sesgos del hiperplano que maximizan el margen mientras minimizan la clasificación errónea. Para la regresión, se busca encontrar la función que minimiza el error entre las predicciones y los valores reales, manteniendo los errores dentro de un margen especificado.\n",
    "    * Una vez que se encuentra el hiperplano óptimo, SVM utiliza una función de decisión para clasificar nuevos puntos de datos o hacer predicciones en el caso de la regresión. Para la clasificación, la función de decisión asigna un nuevo punto a una de las dos clases en función de su posición con respecto al hiperplano. Para la regresión, la función de decisión estima el valor de la variable objetivo para un nuevo punto de datos."
   ]
  },
  {
   "cell_type": "code",
   "execution_count": null,
   "metadata": {
    "executionInfo": {
     "elapsed": 228,
     "status": "ok",
     "timestamp": 1724199235253,
     "user": {
      "displayName": "gauss ELprincipito",
      "userId": "10561550388760016055"
     },
     "user_tz": 300
    },
    "id": "A9DNv6a6BCN6"
   },
   "outputs": [],
   "source": [
    "from sklearn.svm import SVC"
   ]
  },
  {
   "cell_type": "code",
   "execution_count": null,
   "metadata": {
    "executionInfo": {
     "elapsed": 2,
     "status": "ok",
     "timestamp": 1724199237335,
     "user": {
      "displayName": "gauss ELprincipito",
      "userId": "10561550388760016055"
     },
     "user_tz": 300
    },
    "id": "bW79r6SABCN6"
   },
   "outputs": [],
   "source": [
    "# 5. Support Vector Machine (SVM)\n",
    "svm_model = SVC(\n",
    "    # El kernel determina cómo se mapean los datos de entrada en un espacio de mayor dimensión donde sea más fácil realizar la separación\n",
    "    kernel='rbf', # Los kernels comunes son \"linear\" (lineal), \"poly\" (polinómico), \"rbf\" (función de base radial) y \"sigmoid\" (sigmoidal)\n",
    "    # Parámetro de regularización que controla la penalización por errores de entrenamiento\n",
    "    C=1.0, # Un valor más bajo de C permitirá un margen más amplio y permitirá que se clasifiquen más puntos correctamente, pero puede llevar al sobreajuste\n",
    "    # Coeficiente de kernel para los kernels \"rbf\", \"poly\" y \"sigmoid\"\n",
    "    gamma = 'scale' # lor más alto de gamma significa que los puntos de datos más cercanos tienen más peso en la predicción, lo que puede conducir a un modelo más ajustado a los datos de entrenamiento.\n",
    ")"
   ]
  },
  {
   "cell_type": "code",
   "execution_count": null,
   "metadata": {
    "executionInfo": {
     "elapsed": 199,
     "status": "ok",
     "timestamp": 1724199241967,
     "user": {
      "displayName": "gauss ELprincipito",
      "userId": "10561550388760016055"
     },
     "user_tz": 300
    },
    "id": "EZcBy21hBCN7"
   },
   "outputs": [],
   "source": [
    "\n",
    "svm_model.fit(X_train, y_train)\n",
    "y_pred = svm_model.predict(X_test)"
   ]
  },
  {
   "cell_type": "code",
   "execution_count": null,
   "metadata": {
    "colab": {
     "base_uri": "https://localhost:8080/"
    },
    "executionInfo": {
     "elapsed": 214,
     "status": "ok",
     "timestamp": 1724199243248,
     "user": {
      "displayName": "gauss ELprincipito",
      "userId": "10561550388760016055"
     },
     "user_tz": 300
    },
    "id": "0kJdJci5BCN7",
    "outputId": "eec7c620-e0d1-4587-977c-f51aba3f266d"
   },
   "outputs": [],
   "source": [
    "# Calculamos las métricas de evaluación\n",
    "accuracy = accuracy_score(y_test, y_pred)\n",
    "precision = precision_score(y_test, y_pred, average='weighted')\n",
    "recall = recall_score(y_test, y_pred, average='weighted')\n",
    "f1 = f1_score(y_test, y_pred)\n",
    "roc_auc = roc_auc_score(y_test, svm_model.predict(X_test), multi_class='ovr')\n",
    "\n",
    "print(\"\\nMétricas de Evaluación:\")\n",
    "print(f\"Accuracy: {accuracy}\")\n",
    "print(f\"Precision: {precision}\")\n",
    "print(f\"Recall: {recall}\")\n",
    "print(f\"F1 Score: {f1}\")\n",
    "print(f\"ROC AUC Score: {roc_auc}\")"
   ]
  },
  {
   "cell_type": "markdown",
   "metadata": {
    "id": "n8slV8QUBCN7"
   },
   "source": [
    "### K Nearest Neighbors (KNN)"
   ]
  },
  {
   "cell_type": "markdown",
   "metadata": {
    "id": "ZT1bMSJIBCN7"
   },
   "source": [
    "    * El algoritmo encuentra los k puntos de datos más cercanos en el conjunto de entrenamiento al punto de consulta. La cercanía se mide generalmente utilizando una métrica de distancia, como la distancia euclidiana o la distancia de Manhattan\n",
    "    * KNN es un algoritmo simple y fácil de entender, pero puede ser computacionalmente costoso en conjuntos de datos grandes, ya que requiere calcular la distancia entre el punto de consulta y todos los puntos en el conjunto de entrenamiento.\n",
    "    "
   ]
  },
  {
   "cell_type": "code",
   "execution_count": null,
   "metadata": {
    "executionInfo": {
     "elapsed": 195,
     "status": "ok",
     "timestamp": 1724199281519,
     "user": {
      "displayName": "gauss ELprincipito",
      "userId": "10561550388760016055"
     },
     "user_tz": 300
    },
    "id": "v0lNYUMsBCN7"
   },
   "outputs": [],
   "source": [
    "from sklearn.neighbors import KNeighborsClassifier"
   ]
  },
  {
   "cell_type": "code",
   "execution_count": null,
   "metadata": {
    "executionInfo": {
     "elapsed": 235,
     "status": "ok",
     "timestamp": 1724199310911,
     "user": {
      "displayName": "gauss ELprincipito",
      "userId": "10561550388760016055"
     },
     "user_tz": 300
    },
    "id": "CqxCUhECBCN7"
   },
   "outputs": [],
   "source": [
    "# 6. K Nearest Neighbors (KNN)\n",
    "knn_model = KNeighborsClassifier(\n",
    "    # Especifica el número k de vecinos que se utilizarán para hacer predicciones\n",
    "    n_neighbors=5, # Un valor más alto de n_neighbors resultará en predicciones más suaves y menos sensibles al ruido, pero también puede reducir la capacidad del modelo para capturar patrones complejos en los datos\n",
    "    #  Determina cómo se ponderan las contribuciones de los vecinos\n",
    "    weights='distance',  # Puede ser \"uniforme\", donde todos los vecinos tienen el mismo peso en la predicción, o \"distance\", donde el peso de cada vecino es inversamente proporcional a su distancia desde el punto de consulta\n",
    "    # Especifica el algoritmo utilizado para calcular los vecinos más cercanos.\n",
    "    algorithm='auto' # Puede ser \"auto\", \"ball_tree\", \"kd_tree\" o \"brute\"\n",
    ")"
   ]
  },
  {
   "cell_type": "code",
   "execution_count": null,
   "metadata": {
    "executionInfo": {
     "elapsed": 202,
     "status": "ok",
     "timestamp": 1724199315309,
     "user": {
      "displayName": "gauss ELprincipito",
      "userId": "10561550388760016055"
     },
     "user_tz": 300
    },
    "id": "4D09sV01BCN7"
   },
   "outputs": [],
   "source": [
    "knn_model.fit(X_train, y_train)\n",
    "y_pred = knn_model.predict(X_test)"
   ]
  },
  {
   "cell_type": "code",
   "execution_count": null,
   "metadata": {
    "colab": {
     "base_uri": "https://localhost:8080/"
    },
    "executionInfo": {
     "elapsed": 215,
     "status": "ok",
     "timestamp": 1724199317029,
     "user": {
      "displayName": "gauss ELprincipito",
      "userId": "10561550388760016055"
     },
     "user_tz": 300
    },
    "id": "zXdDd8WrBCN7",
    "outputId": "7dee1f10-f7c2-4193-912d-b863a828de66"
   },
   "outputs": [],
   "source": [
    "# Calculamos las métricas de evaluación\n",
    "accuracy = accuracy_score(y_test, y_pred)\n",
    "precision = precision_score(y_test, y_pred, average='weighted')\n",
    "recall = recall_score(y_test, y_pred, average='weighted')\n",
    "f1 = f1_score(y_test, y_pred)\n",
    "roc_auc = roc_auc_score(y_test, knn_model.predict_proba(X_test)[:,1], multi_class='ovr')\n",
    "\n",
    "print(\"\\nMétricas de Evaluación:\")\n",
    "print(f\"Accuracy: {accuracy}\")\n",
    "print(f\"Precision: {precision}\")\n",
    "print(f\"Recall: {recall}\")\n",
    "print(f\"F1 Score: {f1}\")\n",
    "print(f\"ROC AUC Score: {roc_auc}\")"
   ]
  },
  {
   "cell_type": "markdown",
   "metadata": {
    "id": "ul1znHM7BCN8"
   },
   "source": [
    "---------------\n",
    "## Bibligrafía\n",
    "---------------"
   ]
  },
  {
   "cell_type": "markdown",
   "metadata": {
    "id": "2wVFRQquBCN8"
   },
   "source": [
    "* https://scikit-learn.org/stable/\n",
    "* https://scikit-learn.org/stable/supervised_learning.html#supervised-learning\n",
    "* https://cienciadedatos.net/\n",
    "* https://cienciadedatos.net/documentos/py17-regresion-logistica-python\n",
    "* https://cienciadedatos.net/documentos/py06_machine_learning_python_scikitlearn\n"
   ]
  },
  {
   "cell_type": "markdown",
   "metadata": {
    "id": "exvnz8lZBCN8"
   },
   "source": [
    "---------------\n",
    "    AMMS\n",
    "---------------"
   ]
  }
 ],
 "metadata": {
  "colab": {
   "provenance": []
  },
  "kernelspec": {
   "display_name": "Python 3",
   "language": "python",
   "name": "python3"
  },
  "language_info": {
   "codemirror_mode": {
    "name": "ipython",
    "version": 3
   },
   "file_extension": ".py",
   "mimetype": "text/x-python",
   "name": "python",
   "nbconvert_exporter": "python",
   "pygments_lexer": "ipython3",
   "version": "3.11.8"
  }
 },
 "nbformat": 4,
 "nbformat_minor": 0
}
