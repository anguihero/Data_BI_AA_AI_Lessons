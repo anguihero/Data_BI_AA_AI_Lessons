{
  "cells": [
    {
      "cell_type": "markdown",
      "metadata": {
        "id": "JotXunZRIClk"
      },
      "source": [
        "# BASES DE PYTHON\n",
        "\n",
        "*   Variables\n",
        "*   Variables numéricas\n",
        "*   Variables de texto\n",
        "*   Rangos\n",
        "*   Listas\n",
        "*   Tuplas\n",
        "*   Diccionarios\n",
        "*   Condicionales\n",
        "*   Loops\n",
        "*   Funciones\n",
        "*   Lambda\n",
        "*   Funcion map\n",
        "*   Errores y excepciones\n",
        "*   Bibliografía\n"
      ]
    },
    {
      "cell_type": "markdown",
      "metadata": {
        "id": "EtG-CxldwmdF"
      },
      "source": [
        "formas de ejecutar  una celda:\n",
        "\n",
        "* CTRL + ENTER (luego de ejecutar se mantiene en la celda ejecutada)\n",
        "* SHIFT + ENTER (... se posiciona en la siguiente celda)"
      ]
    },
    {
      "cell_type": "markdown",
      "metadata": {
        "id": "NjozzhYC6Lwn"
      },
      "source": [
        "## Variables"
      ]
    },
    {
      "cell_type": "markdown",
      "metadata": {
        "id": "H-D_8W5m6n_l"
      },
      "source": [
        "informacion que se le va a asignar un espacio en la memoria RAM"
      ]
    },
    {
      "cell_type": "markdown",
      "metadata": {
        "id": "jQalsqZ48ND_"
      },
      "source": [
        "**Reglas para la creación de variables**\n",
        "\n",
        "* El nombre de una variable **debe comenzar** con una letra ó con _.\n",
        "* El nombre de una variable **no puede comenzar** con un número.\n",
        "* El nombre de una variable **sólo puede contener** carácteres alfa-numéricos.\n",
        "* El nombre de una variable tiene **sensibilidad a mayúsculas y minúsculas** (x es diferente de X)."
      ]
    },
    {
      "cell_type": "markdown",
      "metadata": {
        "id": "6KxSLCNY431b"
      },
      "source": [
        "*  el igual se utiliza para asignar informacion\n",
        "  * NOMBRE_VARIABLE = INFORMACION_A_ASIGNAR"
      ]
    },
    {
      "cell_type": "code",
      "execution_count": null,
      "metadata": {
        "colab": {
          "base_uri": "https://localhost:8080/"
        },
        "id": "5C3iE7hZ6PpY",
        "outputId": "d5711ecd-9d8a-443d-b006-55f254f1cc8f"
      },
      "outputs": [],
      "source": [
        "# la asignacion de informacion a una variabl\n",
        "Hola_mundo = \"Hola Mundo\" # a la variable Hola_mundo le asigno una cadena de caracteres (string) delimitado por unas comillas\n",
        "print(Hola_mundo) # mostrar en pantalla la informacion asignada a la variable Hola_mundo"
      ]
    },
    {
      "cell_type": "code",
      "execution_count": null,
      "metadata": {
        "colab": {
          "base_uri": "https://localhost:8080/"
        },
        "id": "K9pkuae56LGK",
        "outputId": "1c6a5df4-4f53-4dcb-9870-e2b3a3b69e1e"
      },
      "outputs": [],
      "source": [
        "Hola_mundo2 = \"Hola \\n Mundo\" # \\n genera un salto de linea #REGEX # ENCODING\n",
        "print(Hola_mundo2)"
      ]
    },
    {
      "cell_type": "markdown",
      "metadata": {
        "id": "lWhYWwEGOnk5"
      },
      "source": [
        "## variables booleanas"
      ]
    },
    {
      "cell_type": "code",
      "execution_count": null,
      "metadata": {
        "colab": {
          "base_uri": "https://localhost:8080/"
        },
        "id": "itMmvaSIwmdI",
        "outputId": "db091b82-5437-41fd-bb4f-cc1c6a887f65"
      },
      "outputs": [],
      "source": [
        "True # Verdadero"
      ]
    },
    {
      "cell_type": "code",
      "execution_count": null,
      "metadata": {
        "colab": {
          "base_uri": "https://localhost:8080/"
        },
        "id": "uwiDelUjwmdJ",
        "outputId": "d7dc7869-48e5-41ec-dccb-48c71b72a635"
      },
      "outputs": [],
      "source": [
        "False # Falso"
      ]
    },
    {
      "cell_type": "code",
      "execution_count": null,
      "metadata": {
        "colab": {
          "base_uri": "https://localhost:8080/"
        },
        "id": "a_l0ZdwdwmdJ",
        "outputId": "6b087365-940c-4ec9-ce1a-e146b6d27f85"
      },
      "outputs": [],
      "source": [
        "# asigno la variable\n",
        "var_bool = True\n",
        "# muestro el contenido en pantalla (notebook) de la variable\n",
        "print(var_bool)\n",
        "# muestro el contenido en pantalla (notebook) del tipo de variable\n",
        "print(type(var_bool))"
      ]
    },
    {
      "cell_type": "code",
      "execution_count": null,
      "metadata": {
        "colab": {
          "base_uri": "https://localhost:8080/"
        },
        "id": "UQIvDimowmdK",
        "outputId": "608be6c8-0b2a-4866-d806-c5245b1bc5b7"
      },
      "outputs": [],
      "source": [
        "var_bool = False\n",
        "print(var_bool)\n",
        "print(type(var_bool))"
      ]
    },
    {
      "cell_type": "markdown",
      "metadata": {
        "id": "D_7O5iWewmdK"
      },
      "source": [
        "Lógicas / Condiciones evaluadas"
      ]
    },
    {
      "cell_type": "code",
      "execution_count": null,
      "metadata": {
        "colab": {
          "base_uri": "https://localhost:8080/"
        },
        "id": "tDmOgamMwmdK",
        "outputId": "51260f07-4884-416d-bdff-ceb452282120"
      },
      "outputs": [],
      "source": [
        "var_bool = 1 > 0\n",
        "print(var_bool)\n",
        "print(type(var_bool))"
      ]
    },
    {
      "cell_type": "code",
      "execution_count": null,
      "metadata": {
        "colab": {
          "base_uri": "https://localhost:8080/"
        },
        "id": "cdsjXKzIwmdK",
        "outputId": "f2a2fb16-da2f-40a3-939c-34331902d466"
      },
      "outputs": [],
      "source": [
        "var_bool = 1 < 0\n",
        "print(var_bool)\n",
        "print(type(var_bool))"
      ]
    },
    {
      "cell_type": "code",
      "execution_count": null,
      "metadata": {
        "colab": {
          "base_uri": "https://localhost:8080/"
        },
        "id": "iXGXVYW4wmdK",
        "outputId": "2d2a9797-8cc1-4de5-ec86-cd2c144d9b2c"
      },
      "outputs": [],
      "source": [
        "var_bool = 1 == 0 # usa doble igual para comparar\n",
        "print(var_bool)\n",
        "print(type(var_bool))"
      ]
    },
    {
      "cell_type": "markdown",
      "metadata": {
        "id": "Uqn4NOLBwmdL"
      },
      "source": [
        "Operaciones con booelanos"
      ]
    },
    {
      "cell_type": "code",
      "execution_count": null,
      "metadata": {
        "colab": {
          "base_uri": "https://localhost:8080/"
        },
        "id": "saXwPoY-wmdL",
        "outputId": "7ef9eae1-fe55-454f-ab92-386f135f7dfc"
      },
      "outputs": [],
      "source": [
        "var_001 = False\n",
        "var_002 = True\n",
        "\n",
        "var_res = var_001 + var_002\n",
        "\n",
        "\n",
        "print(var_res)\n",
        "print(type(var_res))"
      ]
    },
    {
      "cell_type": "code",
      "execution_count": null,
      "metadata": {
        "colab": {
          "base_uri": "https://localhost:8080/"
        },
        "id": "sz-FcqkDwmdL",
        "outputId": "bc39d5b4-0dac-465f-a7d2-d05b06eb046b"
      },
      "outputs": [],
      "source": [
        "var_001 = False\n",
        "var_002 = True\n",
        "\n",
        "var_res = var_001 * var_002\n",
        "\n",
        "\n",
        "print(var_res)\n",
        "print(type(var_res))"
      ]
    },
    {
      "cell_type": "code",
      "execution_count": null,
      "metadata": {
        "colab": {
          "base_uri": "https://localhost:8080/"
        },
        "id": "5rVC2l68wmdL",
        "outputId": "a11fe669-ce22-4c41-e363-bc36712df12f"
      },
      "outputs": [],
      "source": [
        "var_001 = 26\n",
        "var_002 = True\n",
        "\n",
        "var_res = var_001 * var_002\n",
        "\n",
        "\n",
        "print(var_res)\n",
        "print(type(var_res))"
      ]
    },
    {
      "cell_type": "markdown",
      "metadata": {
        "id": "309635FLwmdL"
      },
      "source": [
        "## variables numéricas"
      ]
    },
    {
      "cell_type": "code",
      "execution_count": null,
      "metadata": {
        "colab": {
          "base_uri": "https://localhost:8080/"
        },
        "id": "7wEUS6EUOvkh",
        "outputId": "a6a39b38-4fb7-436e-c451-f19e04f33aa0"
      },
      "outputs": [],
      "source": [
        "20220820 # ver que no siempre una ejecución implica un asignación a una variable en memoria"
      ]
    },
    {
      "cell_type": "code",
      "execution_count": null,
      "metadata": {
        "colab": {
          "base_uri": "https://localhost:8080/"
        },
        "id": "BZjejybxMzx_",
        "outputId": "e780ee56-7753-4842-ada3-7b31eb1dc6f6"
      },
      "outputs": [],
      "source": [
        "num = 20220820 # asigna iformacion (integer) a variable\n",
        "print(num) # muestre lo que tiene la variable num\n",
        "print(type(num)) # utilizar type para obtener el tipo de dato"
      ]
    },
    {
      "cell_type": "code",
      "execution_count": null,
      "metadata": {
        "colab": {
          "base_uri": "https://localhost:8080/"
        },
        "id": "gwFnCuAyM3fb",
        "outputId": "b9c1c8f3-29c6-4d68-b80d-7be23c905a46"
      },
      "outputs": [],
      "source": [
        "num = 2022.0820 # asigna iformacion (float) a variable\n",
        "print(num) # muestre lo que tiene la variable num\n",
        "print(type(num)) # utilizar type para obtener el tipo de dato"
      ]
    },
    {
      "cell_type": "markdown",
      "metadata": {
        "id": "tHBtQEzCNKZ_"
      },
      "source": [
        "### Operadores"
      ]
    },
    {
      "cell_type": "markdown",
      "metadata": {
        "id": "dKSnGetNPpWa"
      },
      "source": [
        "Python soporta los siguientes operadores aritmeticos:\n",
        "\n",
        "*   \\+ (Adición)\n",
        "*   \\* (multiplicación)\n",
        "*   / (división)\n",
        "*   ** (potencia)\n",
        "*   // (división entera)."
      ]
    },
    {
      "cell_type": "code",
      "execution_count": null,
      "metadata": {
        "colab": {
          "base_uri": "https://localhost:8080/"
        },
        "id": "zPdC0ZE_PGnF",
        "outputId": "87b53265-8735-42ba-db69-a5eef2e497e3"
      },
      "outputs": [],
      "source": [
        "num_a = 2 # asignar informacion numerica a variable\n",
        "num_b = 3 # asignar informacion numerica a variable\n",
        "\n",
        "num = num_a + num_b # operar entre variables numericas\n",
        "print(num) # muestra el resultado de la operacion\n",
        "print(type(num))"
      ]
    },
    {
      "cell_type": "code",
      "execution_count": null,
      "metadata": {
        "colab": {
          "base_uri": "https://localhost:8080/"
        },
        "id": "VdRVcpzUAlJl",
        "outputId": "eb61607c-2201-4422-8007-46a043e0c3c5"
      },
      "outputs": [],
      "source": [
        "num_a = 2 # asignar informacion numerica a variable\n",
        "num_b = 3 # asignar informacion numerica a variable\n",
        "\n",
        "num = num_a - num_b # operar entre variables numericas\n",
        "print(num) # muestra el resultado de la operacion\n",
        "print(type(num))"
      ]
    },
    {
      "cell_type": "code",
      "execution_count": null,
      "metadata": {
        "colab": {
          "base_uri": "https://localhost:8080/"
        },
        "id": "xhzU-cGgQF_A",
        "outputId": "ac6f34bb-9710-425d-a197-91a4eed005fb"
      },
      "outputs": [],
      "source": [
        "num_a = 2 # asignar informacion numerica a variable\n",
        "num_b = 3 # asignar informacion numerica a variable\n",
        "\n",
        "num = num_a * num_b # operar entre variables numericas\n",
        "print(num) # muestra el resultado de la operacion\n",
        "print(type(num))"
      ]
    },
    {
      "cell_type": "code",
      "execution_count": null,
      "metadata": {
        "colab": {
          "base_uri": "https://localhost:8080/"
        },
        "id": "TtBUfUL6EV4K",
        "outputId": "3676e2be-d666-4732-c46d-39988e6afdf5"
      },
      "outputs": [],
      "source": [
        "num_a = 6 # asignar informacion numerica a variable\n",
        "num_b = 3 # asignar informacion numerica a variable\n",
        "\n",
        "num = num_a / num_b # operar entre variables numericas\n",
        "print(num) # muestra el resultado de la operacion\n",
        "print(type(num))"
      ]
    },
    {
      "cell_type": "code",
      "execution_count": null,
      "metadata": {
        "colab": {
          "base_uri": "https://localhost:8080/"
        },
        "id": "nX1FEL3YQFtb",
        "outputId": "06c08f36-6be3-4b65-be14-318ca3c4ad1f"
      },
      "outputs": [],
      "source": [
        "num_a = 2 # asignar informacion numerica a variable\n",
        "num_b = 3 # asignar informacion numerica a variable\n",
        "\n",
        "num = num_a / num_b # operar entre variables numericas\n",
        "print(num) # muestra el resultado de la operacion\n",
        "print(type(num))"
      ]
    },
    {
      "cell_type": "code",
      "execution_count": null,
      "metadata": {
        "colab": {
          "base_uri": "https://localhost:8080/"
        },
        "id": "HTjd9WdbQFie",
        "outputId": "698579d5-2ce2-43d4-94b4-7ab43f08ae10"
      },
      "outputs": [],
      "source": [
        "num_a = 2\n",
        "num_b = 3\n",
        "\n",
        "num = num_a ** num_b # variable num_a elevada a la variable num_b\n",
        "print(num)\n",
        "print(type(num))"
      ]
    },
    {
      "cell_type": "code",
      "execution_count": null,
      "metadata": {
        "colab": {
          "base_uri": "https://localhost:8080/"
        },
        "id": "MOvHom6OE-5_",
        "outputId": "98b77324-cb61-425d-8955-52861bd61db8"
      },
      "outputs": [],
      "source": [
        "num_a = 2\n",
        "num_b = 3.0\n",
        "\n",
        "num = num_a ** num_b # variable num_a elevada a la variable num_b\n",
        "print(num)\n",
        "print(type(num))"
      ]
    },
    {
      "cell_type": "code",
      "execution_count": null,
      "metadata": {
        "colab": {
          "base_uri": "https://localhost:8080/"
        },
        "id": "1oPliCi3QH4d",
        "outputId": "9bf59342-c5dc-4e38-d916-4f01922a6270"
      },
      "outputs": [],
      "source": [
        "num_a = 9\n",
        "num_b = 4\n",
        "\n",
        "num = num_a / num_b # division\n",
        "print(num)\n",
        "print(type(num))"
      ]
    },
    {
      "cell_type": "code",
      "execution_count": null,
      "metadata": {
        "colab": {
          "base_uri": "https://localhost:8080/"
        },
        "id": "mNsvPOh1QFUJ",
        "outputId": "f32eaac4-f231-42f9-c28f-4faedd5c4fd8"
      },
      "outputs": [],
      "source": [
        "num_a = 9\n",
        "num_b = 4\n",
        "num = num_a // num_b # division entera\n",
        "print(num)\n",
        "print(type(num))"
      ]
    },
    {
      "cell_type": "code",
      "execution_count": null,
      "metadata": {
        "colab": {
          "base_uri": "https://localhost:8080/"
        },
        "id": "AQEAwRDkFhG3",
        "outputId": "2d12a5ec-0546-4257-eac2-d7519b882a9f"
      },
      "outputs": [],
      "source": [
        "num_a = 9.5\n",
        "num_b = 4\n",
        "num = num_a // num_b # division entera\n",
        "print(num)\n",
        "print(type(num))"
      ]
    },
    {
      "cell_type": "code",
      "execution_count": null,
      "metadata": {
        "colab": {
          "base_uri": "https://localhost:8080/"
        },
        "id": "CyoA5uSuG4nQ",
        "outputId": "0ba243c5-a926-4cc4-f07d-37684602d0c3"
      },
      "outputs": [],
      "source": [
        "num_a = 9.5\n",
        "num_b = 4\n",
        "num = num_a % num_b # modulo\n",
        "print(num)\n",
        "print(type(num))"
      ]
    },
    {
      "cell_type": "code",
      "execution_count": null,
      "metadata": {
        "colab": {
          "base_uri": "https://localhost:8080/"
        },
        "id": "7hsLUZNrJ5Mp",
        "outputId": "6d3ed5f3-24bb-40e9-a5f9-8031169c1be8"
      },
      "outputs": [],
      "source": [
        "num = round(5.6) # funciones de redondeo (ojo) funciones de redondeo de numpy\n",
        "print(type(num))\n",
        "print((num))"
      ]
    },
    {
      "cell_type": "markdown",
      "metadata": {
        "id": "XgUduxV4MqQ-"
      },
      "source": [
        "## variables de texto"
      ]
    },
    {
      "cell_type": "markdown",
      "metadata": {
        "id": "Rgm3R1qXRAKv"
      },
      "source": [
        "Una cadena es una secuencia de caracteres\n",
        "* son inmutables"
      ]
    },
    {
      "cell_type": "code",
      "execution_count": null,
      "metadata": {
        "colab": {
          "base_uri": "https://localhost:8080/"
        },
        "id": "EN0xiotQHLbR",
        "outputId": "40506b9e-04eb-4a81-94c4-683755232b1f"
      },
      "outputs": [],
      "source": [
        "'Hola' == \"Hola\""
      ]
    },
    {
      "cell_type": "code",
      "execution_count": null,
      "metadata": {
        "colab": {
          "base_uri": "https://localhost:8080/",
          "height": 35
        },
        "id": "_lo8uZPaIYX_",
        "outputId": "c6444281-6c32-4cd3-ecb3-fbb1c4a68b03"
      },
      "outputs": [],
      "source": [
        "'Hola'"
      ]
    },
    {
      "cell_type": "code",
      "execution_count": null,
      "metadata": {
        "colab": {
          "base_uri": "https://localhost:8080/",
          "height": 35
        },
        "id": "lArhZKbeIsY4",
        "outputId": "7cb30930-2bef-4c49-a1bf-dc43bdd20bbc"
      },
      "outputs": [],
      "source": [
        "\"Hola\""
      ]
    },
    {
      "cell_type": "code",
      "execution_count": null,
      "metadata": {
        "colab": {
          "base_uri": "https://localhost:8080/"
        },
        "id": "FQsbzcMAHmjQ",
        "outputId": "7dcafc2f-6e5e-42f0-b5d3-8d16495f154c"
      },
      "outputs": [],
      "source": [
        "print('Hola') # cadena de caratceres o texto que estan delmitadas por comillas simples' ', dobles \" \" o por triple comilla doble \"\"\" \"\"\""
      ]
    },
    {
      "cell_type": "code",
      "execution_count": null,
      "metadata": {
        "colab": {
          "base_uri": "https://localhost:8080/"
        },
        "id": "c6sLnFPfAlJm",
        "outputId": "1cebec40-e496-4245-b50e-e316e3c9de18"
      },
      "outputs": [],
      "source": [
        "txt = \"Hola\" # asigna una cadena de caratcer a una variable\n",
        "print(txt)"
      ]
    },
    {
      "cell_type": "code",
      "execution_count": null,
      "metadata": {
        "colab": {
          "base_uri": "https://localhost:8080/"
        },
        "id": "An-Nrz1PJTgB",
        "outputId": "3ec62fb6-8c33-4f3a-e1d0-88d104e490bf"
      },
      "outputs": [],
      "source": [
        "txt = 'Hola' # asigna una cadena de caratcer a una variable\n",
        "print(txt)"
      ]
    },
    {
      "cell_type": "code",
      "execution_count": null,
      "metadata": {
        "colab": {
          "base_uri": "https://localhost:8080/"
        },
        "id": "ev14RputXKcA",
        "outputId": "d5808069-02f0-4bdb-fb3c-64a045b752f2"
      },
      "outputs": [],
      "source": [
        "txt = \"Hola 'campeón', cómo te fue en tu partido?\" # utilizar comillas dentro del texto\n",
        "print(txt)"
      ]
    },
    {
      "cell_type": "code",
      "execution_count": null,
      "metadata": {
        "colab": {
          "base_uri": "https://localhost:8080/"
        },
        "id": "1gVph-LTAlJn",
        "outputId": "5f0b4529-2561-4deb-d0d2-4090f36af037"
      },
      "outputs": [],
      "source": [
        "txt = 'Hola \"campeón\", cómo te fue en tu partido?' # utilizar comillas dentro del texto\n",
        "print(txt)"
      ]
    },
    {
      "cell_type": "markdown",
      "metadata": {
        "id": "_xObz_s5JBK1"
      },
      "source": [
        "* el uso de triple comilla para textos con saltos de linea"
      ]
    },
    {
      "cell_type": "code",
      "execution_count": null,
      "metadata": {
        "colab": {
          "base_uri": "https://localhost:8080/",
          "height": 87
        },
        "id": "i-nsRviFwmdW",
        "outputId": "b954e3d2-6477-4dd2-9633-901f5f6c0974"
      },
      "outputs": [],
      "source": [
        "'''Pasarán estos días como pasan\n",
        "todos los días malos de la vida\n",
        "Amainarán los vientos que te arrasan\n",
        "Se estancará la sangre de tu herida\n",
        "\n",
        "El alma errante volverá a su nido\n",
        "Lo que ayer se perdió será encontrado\n",
        "El sol será sin mancha concebido\n",
        "y saldrá nuevamente en tu costado\n",
        "\n",
        "Y dirás frente al mar: ¿Cómo he podido\n",
        "anegado sin brújula y perdido\n",
        "llegar a puerto con las velas rotas?\n",
        "\n",
        "Y una voz te dirá: ¿Que no lo sabes?\n",
        "El mismo viento que rompió tus naves\n",
        "es el que hace volar a las gaviotas'''"
      ]
    },
    {
      "cell_type": "code",
      "execution_count": null,
      "metadata": {
        "colab": {
          "base_uri": "https://localhost:8080/",
          "height": 105
        },
        "id": "FNgnNs3xIUf8",
        "outputId": "31f8111f-f806-47ff-f786-6a6d60fb483d"
      },
      "outputs": [],
      "source": [
        "\"\"\"Poverty is the deprivation of opportunity.\n",
        " Education makes us the human beings we are.\n",
        " Poverty is the deprivation of opportunity.\n",
        " Education makes us the human beings we are.\n",
        " Poverty is the deprivation of opportunity.\n",
        " Education makes us the human beings we are.\n",
        " Poverty is the deprivation of opportunity.\n",
        " Education makes us the human beings we are.\n",
        " Poverty is the deprivation of opportunity.\n",
        " Education makes us the human beings we are.\n",
        " Poverty is the deprivation of opportunity.\n",
        " Education makes us the human beings we are.\"\"\""
      ]
    },
    {
      "cell_type": "code",
      "execution_count": null,
      "metadata": {
        "colab": {
          "base_uri": "https://localhost:8080/"
        },
        "id": "y9z_Z5M7JaSR",
        "outputId": "56cd9265-d727-4987-ae91-f4a15457b78e"
      },
      "outputs": [],
      "source": [
        "# ejercicio\n",
        "\n",
        "var_001 = \"\"\"\n",
        "Por más que cante un pájaro\n",
        "en el bosque, el ciruelo\n",
        "no rompe a florecer\n",
        "\"\"\"\n",
        "print(var_001)\n",
        "print(type(var_001))\n",
        "\n",
        "# obtener el mismo resultado pero escribiendolo en una sola linea\n",
        "\n",
        "var_002 = \"\\nPor más que cante un pájaro\\nen el bosque, el ciruelo\\nno rompe a florecer\"\n",
        "print(var_002)\n",
        "print(type(var_002))"
      ]
    },
    {
      "cell_type": "code",
      "execution_count": null,
      "metadata": {
        "colab": {
          "base_uri": "https://localhost:8080/"
        },
        "id": "AavkgQs5JJvo",
        "outputId": "72846c3f-7ffd-416a-8670-23c72a97d3e5"
      },
      "outputs": [],
      "source": [
        "# el uiso de triple doble comilla es para textos largos, parrafos y/o con saltos de linea\n",
        "txt = \"\"\"Poverty is the deprivation of opportunity.\n",
        "Education makes us the human beings we are.\"\"\"\n",
        "print(txt)"
      ]
    },
    {
      "cell_type": "code",
      "execution_count": null,
      "metadata": {
        "colab": {
          "base_uri": "https://localhost:8080/"
        },
        "id": "dmA6MmQ0Ih_E",
        "outputId": "d3a5a567-eac5-43aa-ad21-4b697d204cfe"
      },
      "outputs": [],
      "source": [
        "# uso de comillas dentro de comillas, deben ser diferentes a las que utilizan para delimitar\n",
        "txt = \"\"\"Poverty is the deprivation of 'opportunity'.\n",
        "\"Education\" makes us the human beings we are.\"\"\"\n",
        "print(txt)"
      ]
    },
    {
      "cell_type": "code",
      "execution_count": null,
      "metadata": {
        "colab": {
          "base_uri": "https://localhost:8080/"
        },
        "id": "ps3Xa7h3JDz6",
        "outputId": "bf3992e4-5dc1-49fa-d212-c3754930c71f"
      },
      "outputs": [],
      "source": [
        "txt = 'La ruta del archivo es C:\\nombre\\lesson.ipynb' # asignacion de informacion a variables\n",
        "print(txt) # mostrar en pantalla la informacion dentro de la variable"
      ]
    },
    {
      "cell_type": "code",
      "execution_count": null,
      "metadata": {
        "colab": {
          "base_uri": "https://localhost:8080/"
        },
        "id": "5HodPCi7JDpu",
        "outputId": "295aee5b-4eac-4a0a-91bf-aace71bbe238"
      },
      "outputs": [],
      "source": [
        "# formas de escapar a expresion\n",
        "# uso de \\ antes de la expresion\n",
        "txt = 'La ruta del archivo es C:\\\\nombre\\\\lesson.ipynb'\n",
        "print(txt)"
      ]
    },
    {
      "cell_type": "code",
      "execution_count": null,
      "metadata": {
        "colab": {
          "base_uri": "https://localhost:8080/"
        },
        "id": "ghxSo0mcJc3n",
        "outputId": "bcd49b7d-dfe3-467a-bd9d-a65199953841"
      },
      "outputs": [],
      "source": [
        "# tomar de forma estricta y literal lo que se escribe\n",
        "# uso de r antes de el string\n",
        "txt = r'La ruta del archivo es C:\\nombre\\lesson.ipynb'\n",
        "print(txt)"
      ]
    },
    {
      "cell_type": "markdown",
      "metadata": {
        "id": "fgB1EzfVNOZU"
      },
      "source": [
        "### operadores"
      ]
    },
    {
      "cell_type": "code",
      "execution_count": null,
      "metadata": {
        "colab": {
          "base_uri": "https://localhost:8080/"
        },
        "id": "UnFo3HnWJ5DI",
        "outputId": "0e8c7fdd-a80c-4e87-d8c5-99f9b2254f42"
      },
      "outputs": [],
      "source": [
        "txt_a = 'Poverty is the '\n",
        "txt_b = 'deprivation of opportunity.'\n",
        "\n",
        "txt = txt_a+txt_b # operador de suma para vars de texto (concatenar|paste)\n",
        "print(txt)\n",
        "print(type(txt))"
      ]
    },
    {
      "cell_type": "code",
      "execution_count": null,
      "metadata": {
        "colab": {
          "base_uri": "https://localhost:8080/"
        },
        "id": "hzHt_IzqJaPQ",
        "outputId": "9c31227f-28b2-4ce2-f447-68285dac9aa0"
      },
      "outputs": [],
      "source": [
        "txt_a = 'Poverty is the deprivation of opportunity.'\n",
        "txt_b = ' \\n'\n",
        "txt_c = 'Education makes us the human beings we are.'\n",
        "\n",
        "txt = txt_a+txt_b+txt_c # puedo concatenar varias vars de texto\n",
        "print(txt)\n",
        "print(type(txt))"
      ]
    },
    {
      "cell_type": "code",
      "execution_count": null,
      "metadata": {
        "colab": {
          "base_uri": "https://localhost:8080/"
        },
        "id": "L5Ltt9So77bz",
        "outputId": "5b8234df-7219-4afd-c625-a08d5d40bff1"
      },
      "outputs": [],
      "source": [
        "txt_a = 'peace_' # var de texto\n",
        "txt_times = 5 # var numerica\n",
        "\n",
        "txt = txt_a*txt_times # escriber tantas veces un mismo texto\n",
        "print(txt)\n",
        "print(type(txt))"
      ]
    },
    {
      "cell_type": "markdown",
      "metadata": {
        "id": "FOJDvodhNShf"
      },
      "source": [
        "### entrada de texto"
      ]
    },
    {
      "cell_type": "code",
      "execution_count": null,
      "metadata": {
        "colab": {
          "base_uri": "https://localhost:8080/"
        },
        "id": "EBtdD_zhJtia",
        "outputId": "306cd739-a09b-4628-d17a-a8727035c21c"
      },
      "outputs": [],
      "source": [
        "txt_input = input(\"cuantos años tiene su mamá: \") # escribe mnensaje en pantalla para esperar entrada del usuario\n",
        "print(txt_input)\n",
        "print(type(txt_input))"
      ]
    },
    {
      "cell_type": "code",
      "execution_count": null,
      "metadata": {
        "colab": {
          "base_uri": "https://localhost:8080/"
        },
        "id": "_Z1tvkX5Roco",
        "outputId": "45ede885-ca50-40ac-e8b4-84e552b102ee"
      },
      "outputs": [],
      "source": [
        "edad_mama = input(\"cuantos años tiene su mamá: \")\n",
        "print(edad_mama)\n",
        "print(type(edad_mama))\n",
        "\n",
        "print('-------------------------------')\n",
        "\n",
        "edad_mama = input(\"cuantos años tiene su mamá: \")\n",
        "edad_mama = int(edad_mama)\n",
        "print(edad_mama)\n",
        "print(type(edad_mama))"
      ]
    },
    {
      "cell_type": "markdown",
      "metadata": {
        "id": "PaUShapyNVAt"
      },
      "source": [
        "### tratamiento de texto (métodos)"
      ]
    },
    {
      "cell_type": "code",
      "execution_count": null,
      "metadata": {
        "colab": {
          "base_uri": "https://localhost:8080/"
        },
        "id": "5OM43F3mAlJo",
        "outputId": "854f8982-e895-4d2a-caf4-fec01302ea06"
      },
      "outputs": [],
      "source": [
        "txt_a = '             Poverty Is The             '\n",
        "print(txt_a)"
      ]
    },
    {
      "cell_type": "markdown",
      "metadata": {
        "id": "FbnOwOAQAlJs"
      },
      "source": [
        "* metodos para convertir a mayuscula y/o minuscula"
      ]
    },
    {
      "cell_type": "code",
      "execution_count": null,
      "metadata": {
        "colab": {
          "base_uri": "https://localhost:8080/"
        },
        "id": "BpUVEJtWKexD",
        "outputId": "0287c866-ddbd-447e-b60a-459dfbf3b719"
      },
      "outputs": [],
      "source": [
        "txt_a = '             Poverty Is The             '\n",
        "txt = txt_a.lower() # metodo pasar a minusculas\n",
        "print(txt)"
      ]
    },
    {
      "cell_type": "code",
      "execution_count": null,
      "metadata": {
        "colab": {
          "base_uri": "https://localhost:8080/"
        },
        "id": "9SmweogZKvIt",
        "outputId": "002b2f56-1b7a-45e1-cc3b-99a5a871925f"
      },
      "outputs": [],
      "source": [
        "txt_a = '             Poverty Is The             '\n",
        "txt = txt_a.upper() # metodo para pasar a mayusculas\n",
        "print(txt)"
      ]
    },
    {
      "cell_type": "markdown",
      "metadata": {
        "id": "8rYJtf4-AlJt"
      },
      "source": [
        "* borrar los espacios extremos redundantes"
      ]
    },
    {
      "cell_type": "code",
      "execution_count": null,
      "metadata": {
        "colab": {
          "base_uri": "https://localhost:8080/"
        },
        "id": "TZJ4cHvNLsZ-",
        "outputId": "cc2ebb96-c49c-4bb0-8245-df9a49eee82b"
      },
      "outputs": [],
      "source": [
        "txt_a = '             Poverty Is The             '\n",
        "txt = txt_a.lstrip() # metodo para quitar los vacios a la izquierda (left)\n",
        "print(txt)"
      ]
    },
    {
      "cell_type": "code",
      "execution_count": null,
      "metadata": {
        "colab": {
          "base_uri": "https://localhost:8080/"
        },
        "id": "ORcEv08MLtDR",
        "outputId": "866a0608-f2e5-45ad-d71d-ee711caed176"
      },
      "outputs": [],
      "source": [
        "txt_a = '             Poverty Is The             '\n",
        "txt = txt_a.rstrip()# metodo para quitar los vacios a la derecha (right)\n",
        "print(txt)"
      ]
    },
    {
      "cell_type": "code",
      "execution_count": null,
      "metadata": {
        "colab": {
          "base_uri": "https://localhost:8080/"
        },
        "id": "1X8j4BMpwmdZ",
        "outputId": "5cde218a-273e-4348-dc98-8bc560aeec31"
      },
      "outputs": [],
      "source": [
        "txt_a = '             Poverty Is The             '\n",
        "txt = txt_a.rstrip().lstrip()# metodo para quitar los vacios a la derecha (right) # encadenando metodos\n",
        "print(txt)"
      ]
    },
    {
      "cell_type": "code",
      "execution_count": null,
      "metadata": {
        "colab": {
          "base_uri": "https://localhost:8080/"
        },
        "id": "_SaWdXLFLtjx",
        "outputId": "153bf2fc-59a1-41d6-aa46-5fe11e7c2f42"
      },
      "outputs": [],
      "source": [
        "txt_a = '             Poverty Is The             '\n",
        "txt = txt_a.strip() # metodo para quitar los vacios a ambos lados\n",
        "print(txt)"
      ]
    },
    {
      "cell_type": "code",
      "execution_count": null,
      "metadata": {
        "colab": {
          "base_uri": "https://localhost:8080/"
        },
        "id": "2kvAskwZUXfT",
        "outputId": "f982fefb-6434-47df-e80b-29d9d38fc0cb"
      },
      "outputs": [],
      "source": [
        "txt_a = '             El corAzón qUe ríe - ChArleS BukoWSki             '\n",
        "txt = txt_a.strip().title() # metodo para quitar los vacios a ambos lados\n",
        "print(txt)"
      ]
    },
    {
      "cell_type": "markdown",
      "metadata": {
        "id": "zvLTptP7AlJt"
      },
      "source": [
        "* condiciones"
      ]
    },
    {
      "cell_type": "code",
      "execution_count": null,
      "metadata": {
        "colab": {
          "base_uri": "https://localhost:8080/"
        },
        "id": "UXeVxFstL60w",
        "outputId": "d3ef0093-ab73-4a5f-faa7-74ef358907ce"
      },
      "outputs": [],
      "source": [
        "txt_a = '             Poverty Is The             '\n",
        "txt = txt_a.startswith(\"Po\") # metodo para revisar si comienza con\n",
        "print(txt)\n",
        "print(type(txt))"
      ]
    },
    {
      "cell_type": "code",
      "execution_count": null,
      "metadata": {
        "colab": {
          "base_uri": "https://localhost:8080/"
        },
        "id": "96OAjKnlMKAg",
        "outputId": "cc5ee1fd-b153-4bf2-b13f-87fb2f62e7ce"
      },
      "outputs": [],
      "source": [
        "txt_a = '             Poverty Is The             '\n",
        "# podemos encadenar varios metodos... el resultado de aplicar uno le podemos aplicar el siguiente\n",
        "txt = txt_a.strip().startswith(\"Po\") # metodo para quitar vacios y luego si verificar si inicia con po\n",
        "print(txt)"
      ]
    },
    {
      "cell_type": "code",
      "execution_count": null,
      "metadata": {
        "colab": {
          "base_uri": "https://localhost:8080/"
        },
        "id": "CQ1eb0zVAlJu",
        "outputId": "e6fc883f-09e2-443b-ee00-aea3500272a4"
      },
      "outputs": [],
      "source": [
        "txt_a = '             Poverty Is The             '\n",
        "# podemos encadenar varios metodos... el resultado de aplicar uno le podemos aplicar el siguiente\n",
        "txt = txt_a.strip().lower().startswith(\"po\") # metodo para quitar vacios y luego si verificar si inicia con po\n",
        "print(txt)"
      ]
    },
    {
      "cell_type": "code",
      "execution_count": null,
      "metadata": {
        "colab": {
          "base_uri": "https://localhost:8080/"
        },
        "id": "FsImCz6-g3AY",
        "outputId": "279162ac-0384-46b1-f7ef-9c142e880332"
      },
      "outputs": [],
      "source": [
        "txt_a = '             Poverty Is The             '\n",
        "txt = txt_a.upper().strip().endswith('THE')\n",
        "print(txt)"
      ]
    },
    {
      "cell_type": "code",
      "execution_count": null,
      "metadata": {
        "colab": {
          "base_uri": "https://localhost:8080/"
        },
        "id": "FzFnbImWNDaa",
        "outputId": "ab8cd46b-3aa9-4636-8bc3-61f408b9e338"
      },
      "outputs": [],
      "source": [
        "txt_a = '             Poverty Is The             '\n",
        "pattern = 'Poverty'\n",
        "txt = txt_a.find(pattern) # metodo de busqueda de un patroin y devuelve posicion dentro de string\n",
        "print(txt)"
      ]
    },
    {
      "cell_type": "code",
      "execution_count": null,
      "metadata": {
        "colab": {
          "base_uri": "https://localhost:8080/"
        },
        "id": "XuMAEyXTAlJv",
        "outputId": "d53ff56e-13b6-451c-863b-42f61fa2d402"
      },
      "outputs": [],
      "source": [
        "txt_a = '             Poverty Is The             '\n",
        "pattern = 'ty'\n",
        "txt = txt_a.find(pattern) # metodo de busqueda de un patroin y devuelve posicion dentro de string\n",
        "print(txt)"
      ]
    },
    {
      "cell_type": "code",
      "execution_count": null,
      "metadata": {
        "colab": {
          "base_uri": "https://localhost:8080/",
          "height": 35
        },
        "id": "G8mImxm_X5Zq",
        "outputId": "8a8dd1b5-39e9-472b-9fc5-d0d0c8ff371d"
      },
      "outputs": [],
      "source": [
        "\"{} {}\""
      ]
    },
    {
      "cell_type": "code",
      "execution_count": null,
      "metadata": {
        "colab": {
          "base_uri": "https://localhost:8080/"
        },
        "id": "0_7I-ysiMSbt",
        "outputId": "d7dffa18-025a-4f76-901e-231e16703525"
      },
      "outputs": [],
      "source": [
        "# yo puedo utilizar la informacion en variables para completar texto indexado\n",
        "txt_a = 'Poverty is the deprivation of opportunity.'\n",
        "txt_b = 'Education makes us the human beings we are.'\n",
        "\n",
        "print(\"{} {}\".format(txt_a, txt_b))"
      ]
    },
    {
      "cell_type": "code",
      "execution_count": null,
      "metadata": {
        "colab": {
          "base_uri": "https://localhost:8080/"
        },
        "id": "mRdTQEcWM8Rr",
        "outputId": "f7219ac7-0702-4cd7-b20b-63cb3ddf063b"
      },
      "outputs": [],
      "source": [
        "txt_a = 'Poverty is the deprivation of opportunity.'\n",
        "txt_b = 'Education makes us the human beings we are.'\n",
        "\n",
        "print(\"{0} {1}.\".format(txt_a, txt_b))"
      ]
    },
    {
      "cell_type": "code",
      "execution_count": null,
      "metadata": {
        "colab": {
          "base_uri": "https://localhost:8080/"
        },
        "id": "ae1250Z6M-wR",
        "outputId": "03c46713-7395-4e68-ba13-7cbec6ddab9e"
      },
      "outputs": [],
      "source": [
        "txt_a = 'Poverty is the deprivation of opportunity.'\n",
        "txt_b = 'Education makes us the human beings we are.'\n",
        "print(\"{1} {0}.\".format(txt_a, txt_b))"
      ]
    },
    {
      "cell_type": "code",
      "execution_count": null,
      "metadata": {
        "colab": {
          "base_uri": "https://localhost:8080/"
        },
        "id": "_KaMvFB4AlJu",
        "outputId": "1060fc25-04e2-48b1-8c3b-765079cad5c8"
      },
      "outputs": [],
      "source": [
        "txt_a = 'a Andres'\n",
        "txt_b = 'no le gustan los viernes'\n",
        "txt_c = 'tampoco le gustan los lunes'\n",
        "\n",
        "print(\"{0} {1}, {0} {2}\".format(txt_a, txt_b, txt_c))"
      ]
    },
    {
      "cell_type": "code",
      "execution_count": null,
      "metadata": {
        "colab": {
          "base_uri": "https://localhost:8080/"
        },
        "id": "2oBZAsHZjsNt",
        "outputId": "98b7e5a8-d0b4-48e7-e977-19a81b92a234"
      },
      "outputs": [],
      "source": [
        "# ejemplo correo\n",
        "\n",
        "# variables con las que se pretende diligenciar\n",
        "nombre = 'Andres'\n",
        "periodo = '2027/6'\n",
        "\n",
        "# textos que se van a completar/diligenciar\n",
        "asunto = 'Cuenta de Cobro {0}'.format(nombre)\n",
        "cuerpo = 'Buenas tardes \\nescribo en nombre de {0} para dar aviso de mi cuenta de cobro para el periodo {1}. \\nmuchas gracias'.format(nombre, periodo)\n",
        "\n",
        "# mostrarb en pantalla\n",
        "print(asunto)\n",
        "print(cuerpo)"
      ]
    },
    {
      "cell_type": "code",
      "execution_count": null,
      "metadata": {
        "colab": {
          "base_uri": "https://localhost:8080/"
        },
        "id": "GC6LAEX9aSmB",
        "outputId": "c55e3778-7df5-4546-add7-e0e2fd1925c2"
      },
      "outputs": [],
      "source": [
        "# objetivo :  un programa que itere sobre unas listas de informacion y mande notificacion de cobro\n",
        "\n",
        "\n",
        "# 1er paso . escribir lista\n",
        "# variables que coleccionan variables\n",
        "# lista :  secuencia de variables\n",
        "lista_deudores = [ 'Natalia','Javier','Diana','Yudy','Edward']\n",
        "print(len(lista_deudores))\n",
        "\n",
        "dia = '2025/may/6'\n",
        "\n",
        "# escribir planilla / el template del mensaje\n",
        "planilla = 'Hola {}, \\n está siendo notificado de un atraso en su renta. \\n esperamos su pago {}. \\Att: Señor Barriga'\n",
        "\n",
        "# estructuras de control\n",
        "# for :\n",
        "\n",
        "# para cada deudor de la lista de deudores (realice :) mande notificacion (print)\n",
        "# identacion\n",
        "for i in lista_deudores:\n",
        "  print('--------------------------')\n",
        "  print(planilla.format(i,dia))\n",
        "  print('--------------------------')\n",
        "\n",
        "\n"
      ]
    },
    {
      "cell_type": "markdown",
      "metadata": {
        "id": "cvgpPFi7h7vg"
      },
      "source": [
        "* Longitud"
      ]
    },
    {
      "cell_type": "code",
      "execution_count": null,
      "metadata": {
        "colab": {
          "base_uri": "https://localhost:8080/"
        },
        "id": "Hhlcc56R7Swr",
        "outputId": "e6d5901f-211a-4e11-a7b0-a982739cb017"
      },
      "outputs": [],
      "source": [
        "txt = 'Hola mundo'\n",
        "len(txt) # es la longitud de una variable de texto (lenght)"
      ]
    },
    {
      "cell_type": "markdown",
      "metadata": {
        "id": "KTW-t3_17QiB"
      },
      "source": [
        "## Rangos"
      ]
    },
    {
      "cell_type": "markdown",
      "metadata": {
        "id": "Mm_IJKGSJjsb"
      },
      "source": [
        "Es una función que devuelve una secuencia de numeros.\n",
        "* Todas las secuencias en Python comienzan a numerarse desde 0 (n-1)-ésimo elemento de un tupla"
      ]
    },
    {
      "cell_type": "markdown",
      "metadata": {
        "id": "BIhjAqRDwmdb"
      },
      "source": [
        "* crear una variable rango con un solo argumento"
      ]
    },
    {
      "cell_type": "code",
      "execution_count": null,
      "metadata": {
        "colab": {
          "base_uri": "https://localhost:8080/"
        },
        "id": "oamGf_TnAlJv",
        "outputId": "69fa58cc-b2e0-4f68-a498-ccd9be7cddd3"
      },
      "outputs": [],
      "source": [
        "# el caso en el que le doy solo una entrada al rango\n",
        "rang = range(10) # asignar a una variable un rango\n",
        "print(type(rang)) # muestreme en pantalla el tipo de objeto o informacion en la variable\n",
        "print(rang) # muestre la informacion dentro del objeto\n",
        "\n",
        "# FOR estructura de control o bucles o ciclos\n",
        "for elemento in rang: #\n",
        "  print(elemento) # va a mostrar en pantalla los elementos del rango"
      ]
    },
    {
      "cell_type": "markdown",
      "metadata": {
        "id": "81eKg86Fwmdc"
      },
      "source": [
        "* crear una variable rango con dos argumentos"
      ]
    },
    {
      "cell_type": "code",
      "execution_count": null,
      "metadata": {
        "colab": {
          "base_uri": "https://localhost:8080/"
        },
        "id": "Dejnealo7jj6",
        "outputId": "8dadf58a-bf06-4e28-8d6e-996cd744a0a7"
      },
      "outputs": [],
      "source": [
        "# el caso en el que le doy dos entrada al rango\n",
        "rang = range(15, 32) # asignar a una variable un rango\n",
        "print(type(rang)) # muestreme en pantalla el tipo de objeto o informacion en la variable\n",
        "print(rang) # muestre la informacion dentro del objeto\n",
        "\n",
        "# FOR estructura de control o bucles o ciclos\n",
        "for num in rang: #\n",
        "  print(num) # va a mostrar en pantalla los elementos del rango"
      ]
    },
    {
      "cell_type": "markdown",
      "metadata": {
        "id": "ajkc6voJwmdc"
      },
      "source": [
        "* crear una variable rango con tres argumentos"
      ]
    },
    {
      "cell_type": "code",
      "execution_count": null,
      "metadata": {
        "colab": {
          "base_uri": "https://localhost:8080/"
        },
        "id": "WN9x3nDW74wB",
        "outputId": "8d644f4f-b8e5-4514-f048-10b977b15e34"
      },
      "outputs": [],
      "source": [
        "# el caso en el que le doy tres entrada al rango\n",
        "rang = range(1, 29, 7) # saltos al rango 5,7,9,11,13,15 ... no incluye 16\n",
        "print(type(rang))\n",
        "print(rang)\n",
        "\n",
        "for num in rang:\n",
        "  print(num)"
      ]
    },
    {
      "cell_type": "code",
      "execution_count": null,
      "metadata": {
        "colab": {
          "base_uri": "https://localhost:8080/"
        },
        "id": "QCKo-XjfKTvj",
        "outputId": "040c7411-4215-4ae1-8602-cb27d151f4e2"
      },
      "outputs": [],
      "source": [
        "# atencion IDENTACION\n",
        "# Para cada (i) en el rango **\n",
        "for i in range(102, 298, 32):\n",
        "  j = i*2\n",
        "  # operar segun el tipo variable : para concatenar se necesitan vars de texto\n",
        "  print('-----------------------------------')\n",
        "  print('el resultado de la iteracion es '+str(i)+' y '+str(j))"
      ]
    },
    {
      "cell_type": "code",
      "execution_count": null,
      "metadata": {
        "colab": {
          "base_uri": "https://localhost:8080/"
        },
        "id": "JJ2NNsDNJTfb",
        "outputId": "4a218f5d-38ae-4f71-95aa-61f5c70d2fd8"
      },
      "outputs": [],
      "source": [
        "# si se pueden dar saltos no enteros\n",
        "# test_range = range(0, 1, 0.25) # esperado : 0, 0.25, 0.5, 0.75\n",
        "# print(test_range)\n",
        "# cual sería la otra opcion?\n",
        "# 1ra : opcion\n",
        "print('1ra opcion')\n",
        "test_range = range(0, 4, 1) # esperado : 0, 0.25, 0.5, 0.75 --> 0, 25, 50 , 75\n",
        "print(test_range)\n",
        "for elemento in test_range:\n",
        "  print(elemento*0.25)\n",
        "\n",
        "# 2da : opcion\n",
        "print('2da opcion')\n",
        "test_range = range(0, 100, 25) # esperado : 0, 0.25, 0.5, 0.75 --> 0, 25, 50 , 75\n",
        "print(test_range)\n",
        "for elemento in test_range:\n",
        "  print(elemento/100)"
      ]
    },
    {
      "cell_type": "markdown",
      "metadata": {
        "id": "pBCamJX7QmNU"
      },
      "source": [
        "## listas"
      ]
    },
    {
      "cell_type": "markdown",
      "metadata": {
        "id": "GbT6Wb8HPfIt"
      },
      "source": [
        "* Son secuencias mutables\n",
        "* Para buscar en las listas, se utiliza un algoritmo de comparación que tarda cada vez más a medida que la lista se hace más larga.\n",
        "\n"
      ]
    },
    {
      "cell_type": "code",
      "execution_count": null,
      "metadata": {
        "colab": {
          "base_uri": "https://localhost:8080/"
        },
        "id": "5_H-4P88NUW7",
        "outputId": "4da779f6-3a9e-4d71-f983-3fecf92749a3"
      },
      "outputs": [],
      "source": [
        "list = [] # asignar una lista vacia a la variable\n",
        "print(list)\n",
        "print(type(list))"
      ]
    },
    {
      "cell_type": "code",
      "execution_count": null,
      "metadata": {
        "colab": {
          "base_uri": "https://localhost:8080/"
        },
        "id": "gt6VGPAoAlJw",
        "outputId": "1c7badcf-7ba2-4e0f-88c7-b80873b7a41f"
      },
      "outputs": [],
      "source": [
        "# ejemplo del futuro\n",
        "list = ['2024', '05','06']\n",
        "\n",
        "# acceder a la información de la lista\n",
        "print('Hoy es el día {}/{}/{}'.format(list[0],list[1],list[2]))\n",
        "print(list)\n",
        "print(type(list))"
      ]
    },
    {
      "cell_type": "code",
      "execution_count": null,
      "metadata": {
        "colab": {
          "base_uri": "https://localhost:8080/"
        },
        "id": "C91U45WIQxSA",
        "outputId": "970524c9-e04f-43d6-cfee-15173bc4e03f"
      },
      "outputs": [],
      "source": [
        "list = ['2022', '08', '20'] # asignar una lista de tres elementos/variables de texto\n",
        "print(list)\n",
        "print(type(list))"
      ]
    },
    {
      "cell_type": "code",
      "execution_count": null,
      "metadata": {
        "colab": {
          "base_uri": "https://localhost:8080/"
        },
        "id": "vy1aT1y5AlJx",
        "outputId": "40cd4669-c3a7-42d2-d731-e5fb2030ae8e"
      },
      "outputs": [],
      "source": [
        "list = [2022,8,20] # asignar una lista de tres elementos/variables de numericos\n",
        "print(list)\n",
        "print(type(list))"
      ]
    },
    {
      "cell_type": "code",
      "execution_count": null,
      "metadata": {
        "colab": {
          "base_uri": "https://localhost:8080/"
        },
        "id": "SP90i_5eAlJx",
        "outputId": "579cb1e2-d9e9-42a2-f04a-f66ef0bbdc7b"
      },
      "outputs": [],
      "source": [
        "list = [2022, 8, 20, 'sabado', True] # asignar una lista de tres elementos/variables numericos o de texto\n",
        "print(list)\n",
        "print(type(list))"
      ]
    },
    {
      "cell_type": "markdown",
      "metadata": {
        "id": "5rtyz6r3AlJx"
      },
      "source": [
        "* metodo para mutar listas"
      ]
    },
    {
      "cell_type": "code",
      "execution_count": null,
      "metadata": {
        "colab": {
          "base_uri": "https://localhost:8080/"
        },
        "id": "Qf6m3EGfRBfh",
        "outputId": "762bb9b0-fd58-400f-df97-680f52ff410f"
      },
      "outputs": [],
      "source": [
        "list_a = ['2022', '08', '20'] #crear la lista\n",
        "txt_b = 'sabado'# variable de texto\n",
        "print(list_a)\n",
        "list_a.append(txt_b)# metodo append para agregar a la lista un nuevo elemento\n",
        "print(list_a)\n",
        "list_a.append('Domingo')# metodo append para agregar a la lista un nuevo elemento\n",
        "print(list_a)"
      ]
    },
    {
      "cell_type": "code",
      "execution_count": null,
      "metadata": {
        "colab": {
          "base_uri": "https://localhost:8080/"
        },
        "id": "iK0ALjA4Q3oZ",
        "outputId": "9434d4fa-40a0-4be4-fef0-6b2216967038"
      },
      "outputs": [],
      "source": [
        "list = [2022, 8, 20] #crear la lista\n",
        "txt_a = 'sabado' # variable de texto\n",
        "\n",
        "list.append(txt_a) # metodo append para agregar a la lista un nuevo elemento\n",
        "print(list)"
      ]
    },
    {
      "cell_type": "code",
      "execution_count": null,
      "metadata": {
        "colab": {
          "base_uri": "https://localhost:8080/"
        },
        "id": "EVoFpj_UQQfr",
        "outputId": "33f4aaa8-17c7-4db5-c1cf-14ebdefe22eb"
      },
      "outputs": [],
      "source": [
        "# https://www.w3schools.com/python/python_ref_list.asp\n",
        "# insert()\tAdds an element at the specified position\n",
        "\n",
        "list = [2022, 8, 20] #crear la lista\n",
        "txt_a = 'sabado' # variable de texto\n",
        "\n",
        "list.insert(1,txt_a)\n",
        "print(list)"
      ]
    },
    {
      "cell_type": "code",
      "execution_count": null,
      "metadata": {
        "colab": {
          "base_uri": "https://localhost:8080/",
          "height": 35
        },
        "id": "PpHrD3K1TJrd",
        "outputId": "cf338a23-eaae-4d03-8863-76f9ffeb5efa"
      },
      "outputs": [],
      "source": [
        "list = ['2022', '08', '20']\n",
        "\n",
        "list[1] # posicion de elementos en una lista"
      ]
    },
    {
      "cell_type": "code",
      "execution_count": null,
      "metadata": {
        "colab": {
          "base_uri": "https://localhost:8080/"
        },
        "id": "HqBL92EaTutU",
        "outputId": "14bb89f6-7597-4281-e810-df80239f169b"
      },
      "outputs": [],
      "source": [
        "list = ['2022', '08', '20',456,951,True,'215']\n",
        "\n",
        "# list[1:7] # seleccionar segun un rango de posiciones\n",
        "list[1:] # seleccionar segun un rango de posiciones\n",
        "\n",
        "# como obtener ['08', '20',456,951,True,'215']"
      ]
    },
    {
      "cell_type": "code",
      "execution_count": null,
      "metadata": {
        "colab": {
          "base_uri": "https://localhost:8080/"
        },
        "id": "AfLkvOpPTxpc",
        "outputId": "bfa89518-24c9-48ad-893c-44b95a21b7c9"
      },
      "outputs": [],
      "source": [
        "list = ['2022', '08', '20','año','jueves','futbol']\n",
        "list[2:] # seleccionar los elementos desde una posicion hasta la ultima (inluyendola)"
      ]
    },
    {
      "cell_type": "code",
      "execution_count": null,
      "metadata": {
        "colab": {
          "base_uri": "https://localhost:8080/"
        },
        "id": "ayhLTdaiwmde",
        "outputId": "c34a258a-79ce-4b36-8c96-a799e60f176e"
      },
      "outputs": [],
      "source": [
        "list = ['2022', '08', '20','año','jueves','futbol']\n",
        "list[:3] # seleccionar los elementos desde una posicion hasta la ultima (inluyendola)"
      ]
    },
    {
      "cell_type": "code",
      "execution_count": null,
      "metadata": {
        "colab": {
          "base_uri": "https://localhost:8080/"
        },
        "id": "pUU3UuNgT1io",
        "outputId": "8c221949-85df-4554-e0ac-c79eaed8229e"
      },
      "outputs": [],
      "source": [
        "list = ['2022', '08', '20']\n",
        "\n",
        "'20' in list # verificar condición de si existe un elemento en la lista"
      ]
    },
    {
      "cell_type": "code",
      "execution_count": null,
      "metadata": {
        "colab": {
          "base_uri": "https://localhost:8080/"
        },
        "id": "pbWFypvRAlJy",
        "outputId": "678c41eb-bab3-4f60-decf-20b875c0c79a"
      },
      "outputs": [],
      "source": [
        "list = ['2022', '08', '20']\n",
        "\n",
        "20 in list # verificar condición de si existe un elemento en la lista"
      ]
    },
    {
      "cell_type": "code",
      "execution_count": null,
      "metadata": {
        "colab": {
          "base_uri": "https://localhost:8080/"
        },
        "id": "Qu-SX8U_T8c2",
        "outputId": "714803dc-c6ff-41fd-aff7-039bd3ba5c63"
      },
      "outputs": [],
      "source": [
        "list = ['2022', '08', '20']\n",
        "\n",
        "print(len(list)) # dimensiones de las listas\n",
        "print(list)"
      ]
    },
    {
      "cell_type": "markdown",
      "metadata": {
        "id": "Xo0odg0wAlJy"
      },
      "source": [
        "* diferencia entre .append() y .insert()"
      ]
    },
    {
      "cell_type": "code",
      "execution_count": null,
      "metadata": {
        "colab": {
          "base_uri": "https://localhost:8080/"
        },
        "id": "aBu6KSTaAlJy",
        "outputId": "eead1cb6-030d-4503-babd-049463b13ce9"
      },
      "outputs": [],
      "source": [
        "lista = [0,1,2,3] # inicio una lista vacia\n",
        "\n",
        "lista.append('nuevo_elemento') # le agrego un elemento nuevo\n",
        "lista.append('ultimo_elemento') # le agrego otro elemento nuevo\n",
        "lista.append('otra_vez_ultimo_elemento') # le agrego otro elemento nuevo\n",
        "lista"
      ]
    },
    {
      "cell_type": "code",
      "execution_count": null,
      "metadata": {
        "colab": {
          "base_uri": "https://localhost:8080/"
        },
        "id": "bl1pM1UYQFjy",
        "outputId": "a3a96c2b-27ed-4f96-e203-137b35958024"
      },
      "outputs": [],
      "source": [
        "list = ['2022', '08', '20'] # creo una lista\n",
        "\n",
        "list.insert(0,'Hoy') # metodo insert para agregar un elemento indicando una posicion\n",
        "print(list)"
      ]
    },
    {
      "cell_type": "code",
      "execution_count": null,
      "metadata": {
        "colab": {
          "base_uri": "https://localhost:8080/"
        },
        "id": "7p9NMODHwmdf",
        "outputId": "7e41efc1-c3fd-44d3-ce07-d4433b35e290"
      },
      "outputs": [],
      "source": [
        "list = ['2022', '08', '20'] # creo una lista\n",
        "\n",
        "list.insert(1,'Hoy') # metodo insert para agregar un elemento indicando una posicion\n",
        "print(list)"
      ]
    },
    {
      "cell_type": "code",
      "execution_count": null,
      "metadata": {
        "colab": {
          "base_uri": "https://localhost:8080/"
        },
        "id": "Isj2mNTfQImR",
        "outputId": "01388432-f7b3-4887-bcd1-c81d3c6688a8"
      },
      "outputs": [],
      "source": [
        "# remove()\tRemoves the first item with the specified value\n",
        "list = ['2022', '08', '20'] # creo una lista\n",
        "\n",
        "list.remove('08') # elimino elemento de la lista\n",
        "print(list)"
      ]
    },
    {
      "cell_type": "code",
      "execution_count": null,
      "metadata": {
        "colab": {
          "base_uri": "https://localhost:8080/"
        },
        "id": "4bNaGfLnZrTD",
        "outputId": "88ffef84-20ed-4acb-aed3-de7be655d60e"
      },
      "outputs": [],
      "source": [
        "# tengo una lista con un elemento que se repite n veces y requiero eliminar ese elemento cada vez que aparece\n",
        "\n",
        "# crear lista\n",
        "lista_ejemplo = [0,1,1,0,1,1,1,1,1,0,0,0,1,1,1,2,3]\n",
        "# definir elemento a eliminar\n",
        "elemento_a_borrar = 0\n",
        "# encontrar cuantas veces esta ese elemento\n",
        "# count()\tReturns the number of elements with the specified value\n",
        "n_veces = lista_ejemplo.count(elemento_a_borrar)\n",
        "\n",
        "print('-------Estado Inicial --------')\n",
        "print(lista_ejemplo)\n",
        "\n",
        "# repetir la instruccion n veces\n",
        "# para cada elemento en un rango de n veces : remueva el elemento deseado\n",
        "for elemento in range(n_veces):\n",
        "  lista_ejemplo.remove(elemento_a_borrar)\n",
        "  print('-------Resultado parcial--------')\n",
        "  print(lista_ejemplo)\n",
        "  print('-------progreso {} %--------'.format(((elemento+1)/n_veces)*100))\n",
        "\n",
        "#\n",
        "print('-------Resultado final--------')\n",
        "print(lista_ejemplo)"
      ]
    },
    {
      "cell_type": "code",
      "execution_count": null,
      "metadata": {
        "colab": {
          "base_uri": "https://localhost:8080/"
        },
        "id": "nmx97bnYZFvP",
        "outputId": "a442ab9a-abf8-4bae-e4db-aac70d8ad438"
      },
      "outputs": [],
      "source": [
        "# pop()\tRemoves the element at the specified position\n",
        "list = ['2022', '08', '20'] # creo una lista\n",
        "\n",
        "list.pop(2) # elimino elemento de la lista\n",
        "print(list)"
      ]
    },
    {
      "cell_type": "code",
      "execution_count": null,
      "metadata": {
        "colab": {
          "base_uri": "https://localhost:8080/"
        },
        "id": "CcdfblLiAlJz",
        "outputId": "13cc65e8-ccb5-459d-d144-8353a46fccad"
      },
      "outputs": [],
      "source": [
        "list = ['2022', '08', '20']\n",
        "\n",
        "list.index('2022') # cual es el indice/posicion del elemento buscado en la lista"
      ]
    },
    {
      "cell_type": "code",
      "execution_count": null,
      "metadata": {
        "colab": {
          "base_uri": "https://localhost:8080/"
        },
        "id": "bJT5h1cdQjRp",
        "outputId": "3c4dd147-1f4f-4e45-bbc2-55711c2e2260"
      },
      "outputs": [],
      "source": [
        "# 1 - ojo :  en caso ded que no esté el elemento buscado genera error. preparar excepcion\n",
        "# 2- index()\tReturns the index of the first element with the specified value\n",
        "\n",
        "list = ['2022', '08', '20',456,951,True,'215','20',215]\n",
        "\n",
        "print(list.index('20')) # metodo index para averiguar el indice en el que se posiciona un elemento"
      ]
    },
    {
      "cell_type": "markdown",
      "metadata": {
        "id": "ewsXo0_cIWiF"
      },
      "source": [
        "## Tuplas"
      ]
    },
    {
      "cell_type": "markdown",
      "metadata": {
        "id": "q1VkN8-UJN9g"
      },
      "source": [
        "Las tuplas son secuencias, igual que las cadenas, y se puede utilizar la misma notación de índices que en las cadenas para obtener cada una de sus componentes.\n",
        "\n",
        "* Es posible anidar (y desanidar) tuplas\n",
        "* Las tuplas son inmutables\n"
      ]
    },
    {
      "cell_type": "code",
      "execution_count": null,
      "metadata": {
        "colab": {
          "base_uri": "https://localhost:8080/"
        },
        "id": "slqeTjFLAlJ0",
        "outputId": "5f3bb5eb-759f-436e-a418-f6ee78e808eb"
      },
      "outputs": [],
      "source": [
        "# 1ra forma de definir tupla\n",
        "tupla = (1,2,3)\n",
        "print(tupla)\n",
        "print(type(tupla))\n",
        "\n",
        "# 2da forma de definir tupla\n",
        "tupla_2 = 1,2,3\n",
        "print(tupla_2)\n",
        "print(type(tupla_2))"
      ]
    },
    {
      "cell_type": "code",
      "execution_count": null,
      "metadata": {
        "colab": {
          "base_uri": "https://localhost:8080/"
        },
        "id": "w7ssSOFgwmdg",
        "outputId": "0311d809-d726-4720-cc33-c6b6b6f0373f"
      },
      "outputs": [],
      "source": [
        "tup = (20, \"Agosto\", 2022) # crear tuplas\n",
        "\n",
        "# consultar o preguntar\n",
        "print(type(tup)) # que tipo de de variable\n",
        "print(tup)"
      ]
    },
    {
      "cell_type": "code",
      "execution_count": null,
      "metadata": {
        "colab": {
          "base_uri": "https://localhost:8080/"
        },
        "id": "NATvL-SCIYe5",
        "outputId": "05a22b92-476d-4653-c26f-e43ea09fa1c4"
      },
      "outputs": [],
      "source": [
        "tup = 20, \"Agosto\", 2022 # crear tuplas\n",
        "\n",
        "# consultar o preguntar\n",
        "print(type(tup)) # que tipo de de variable\n",
        "print(tup)"
      ]
    },
    {
      "cell_type": "markdown",
      "metadata": {
        "id": "3ciZn424AlJ0"
      },
      "source": [
        "* anidar tuplas"
      ]
    },
    {
      "cell_type": "code",
      "execution_count": null,
      "metadata": {
        "colab": {
          "base_uri": "https://localhost:8080/"
        },
        "id": "Hc7WJeVdK92g",
        "outputId": "f9d5b4db-ca12-4115-e1a3-e9811973271d"
      },
      "outputs": [],
      "source": [
        "tup_a = (20, \"Agosto\", 2022) # construir una tupla\n",
        "tup_b = ('hoy', tup_a) # anidar tuplas : construir una nueva  tupla\n",
        "\n",
        "print(tup_b) # mostrar en pantalla\n",
        "# cuantos elemento tiene la tupla final (b)"
      ]
    },
    {
      "cell_type": "markdown",
      "metadata": {
        "id": "WkuK0k0JMIAt"
      },
      "source": [
        "**Empaquetado y desempaquetado**"
      ]
    },
    {
      "cell_type": "code",
      "execution_count": null,
      "metadata": {
        "colab": {
          "base_uri": "https://localhost:8080/"
        },
        "id": "PjMV84CCL7rA",
        "outputId": "2d7e8b72-d2e1-4670-f88a-6c3243a8817b"
      },
      "outputs": [],
      "source": [
        "tup = 20, \"Agosto\", 2022 # crear una tupla empaquetando elementos\n",
        "print(type(tup))\n",
        "print(tup)"
      ]
    },
    {
      "cell_type": "code",
      "execution_count": null,
      "metadata": {
        "colab": {
          "base_uri": "https://localhost:8080/"
        },
        "id": "HQNKIfpzwmdh",
        "outputId": "d880f118-8ba3-4444-a949-a8cdda57ce71"
      },
      "outputs": [],
      "source": [
        "# crear una tupla empaquetando\n",
        "fechas_tup = 20, \"Agosto\", 2022\n",
        "\n",
        "# desempacar una tupla\n",
        "# importante : debe alistar exactamente la misma cantidad de variables que elementos de la tupla\n",
        "dia, mes, anio = fechas_tup\n",
        "\n",
        "# verificar en pantalla resultado y proceso\n",
        "print(type(fechas_tup))\n",
        "print(fechas_tup)\n",
        "print(type(dia))\n",
        "print(dia)\n",
        "print(type(mes))\n",
        "print(mes)\n",
        "print(type(anio))\n",
        "print(anio)"
      ]
    },
    {
      "cell_type": "markdown",
      "metadata": {
        "id": "ZU9Gs69Wwmdh"
      },
      "source": [
        "* ejemplo"
      ]
    },
    {
      "cell_type": "code",
      "execution_count": null,
      "metadata": {
        "colab": {
          "base_uri": "https://localhost:8080/"
        },
        "id": "Tc62CxTrhArf",
        "outputId": "746c39dd-1625-40ea-cc1a-9f6fcc499fe1"
      },
      "outputs": [],
      "source": [
        "fechas_tup = 20, \"Agosto\", 2022\n",
        "fechas_tup[2]"
      ]
    },
    {
      "cell_type": "code",
      "execution_count": null,
      "metadata": {
        "colab": {
          "base_uri": "https://localhost:8080/"
        },
        "id": "iJv4PXgMwmdh",
        "outputId": "32b07ac2-1869-45e4-86a3-4f24d81e2a49"
      },
      "outputs": [],
      "source": [
        "# pack empacar\n",
        "# definir dos tuplas\n",
        "tupla_a = ('lunes','martes','miercoles') # tupla incial\n",
        "print(tupla_a)\n",
        "print(len(tupla_a))\n",
        "\n",
        "tupla_b = ('lunes','martes','miercoles','jueves','viernes') # tupla referencia\n",
        "print(tupla_b)\n",
        "print(len(tupla_b))"
      ]
    },
    {
      "cell_type": "code",
      "execution_count": null,
      "metadata": {
        "colab": {
          "base_uri": "https://localhost:8080/"
        },
        "id": "y9d4crchwmdh",
        "outputId": "cf69ca76-c4d8-4857-df82-14f7d2a8918b"
      },
      "outputs": [],
      "source": [
        "# definir tupla a partir de una existente y nuevos elementos\n",
        "tupla_c = tupla_a, 'jueves','viernes'\n",
        "print(tupla_c)\n",
        "print(len(tupla_c))"
      ]
    },
    {
      "cell_type": "code",
      "execution_count": null,
      "metadata": {
        "colab": {
          "base_uri": "https://localhost:8080/"
        },
        "id": "Ohctk6phAlJ0",
        "outputId": "40676a98-b8ff-4ad8-a197-ce2144c820aa"
      },
      "outputs": [],
      "source": [
        "\n",
        "# unpack desempacar\n",
        "# al desempacar las tup´las se debe reservar la misma cantidad de variables adentro de la tupla\n",
        "ele_1_tup_a, ele_2_tup_a, ele_3_tup_a = tupla_a\n",
        "\n",
        "# empacar usando los elementos desempacados\n",
        "tupla_d = ele_1_tup_a,ele_2_tup_a,ele_3_tup_a, 'jueves','viernes'\n",
        "print(tupla_d)\n",
        "print(len(tupla_d))"
      ]
    },
    {
      "cell_type": "markdown",
      "metadata": {
        "id": "PKVwthpaIY-u"
      },
      "source": [
        "## Diccionarios"
      ]
    },
    {
      "cell_type": "markdown",
      "metadata": {
        "id": "1zvU2P8cNngy"
      },
      "source": [
        "Un diccionario es una colección no-ordenada de valores que son accedidos a traves de una clave\n",
        "* El algoritmo que usa Python internamente para buscar un elemento en un diccionario es muy distinto que el que utiliza para buscar en listas. Para buscar en diccionarios se utiliza un algoritmo llamado hash, que se basa en realizar un cálculo numérico sobre la clave del elemento, y tiene una propiedad muy interesante: sin importar cuántos elementos tenga el diccionario, el tiempo de búsqueda es siempre aproximadamente igual."
      ]
    },
    {
      "cell_type": "code",
      "execution_count": null,
      "metadata": {
        "colab": {
          "base_uri": "https://localhost:8080/"
        },
        "id": "nqwWIHXkIagn",
        "outputId": "2955d69f-e5b4-47a0-97bb-cf05bdf81311"
      },
      "outputs": [],
      "source": [
        "dicti = {} # iniciar un diccionario sin informacion\n",
        "print(type(dicti))\n",
        "print(dicti)"
      ]
    },
    {
      "cell_type": "code",
      "execution_count": null,
      "metadata": {
        "colab": {
          "base_uri": "https://localhost:8080/"
        },
        "id": "Amd96mMzOB7o",
        "outputId": "6a5c1592-09a5-4bc3-b134-d33a7ad1c18e"
      },
      "outputs": [],
      "source": [
        "# creo un diccionario vacio\n",
        "dicti = {}\n",
        "\n",
        "# adiciono los elementos\n",
        "dicti[\"Jairo\"] = [29, 'ingenieria'] # asignar informacion a llaves del diccionario\n",
        "dicti[\"Carlos\"] = [29, 'Matematicas','estadistica','fisica'] # asignar informacion a llaves del diccionario\n",
        "dicti[\"Juliana\"] = [25, 'derecho','penal'] # asignar informacion a llaves del diccionario\n",
        "dicti['andres'] = 'se murió'\n",
        "\n",
        "print(type(dicti)) # que tipo de dato quedó siendo\n",
        "print(dicti) # muestre la informacion que tiene el diccionario por dentro"
      ]
    },
    {
      "cell_type": "code",
      "execution_count": null,
      "metadata": {
        "colab": {
          "base_uri": "https://localhost:8080/"
        },
        "id": "jgAi0kDajOOP",
        "outputId": "e92c031c-cacd-4c89-a6d6-77a1d017ed17"
      },
      "outputs": [],
      "source": [
        "# crear un diccionario con la informacion\n",
        "\n",
        "dicti = {\n",
        "    'Jairo': [29, 'ingenieria'],\n",
        "    'Carlos': [29, 'Matematicas', 'estadistica', 'fisica'],\n",
        "    'Juliana': [25, 'derecho', 'penal'],\n",
        "    'andres': 'se murió'\n",
        "    }\n",
        "\n",
        "print(type(dicti)) # que tipo de dato quedó siendo\n",
        "print(dicti) # muestre la informacion que tiene el diccionario por dentro"
      ]
    },
    {
      "cell_type": "code",
      "execution_count": null,
      "metadata": {
        "colab": {
          "base_uri": "https://localhost:8080/"
        },
        "id": "ZZhZDZVJj9vn",
        "outputId": "a3f72472-fe56-4fe3-f315-9df08248f0ed"
      },
      "outputs": [],
      "source": [
        "dicti = {\n",
        "    'Jairo': [29, 'ingenieria'],\n",
        "    'Carlos': [29, 'Matematicas', 'estadistica', 'fisica'],\n",
        "    'Juliana': [25, 'derecho', 'penal'],\n",
        "    'andres': 'se murió'\n",
        "    }\n",
        "dicti['Juliana']"
      ]
    },
    {
      "cell_type": "code",
      "execution_count": null,
      "metadata": {
        "colab": {
          "base_uri": "https://localhost:8080/"
        },
        "id": "Rh8z2arzOoVb",
        "outputId": "3aa4a173-3ded-4f05-d3e9-b4dce2d232b0"
      },
      "outputs": [],
      "source": [
        "dicti = {} # creo diccionario vacio\n",
        "dicti = {\n",
        "    'Jairo': [29, 'ingenieria'],\n",
        "    'Carlos': [29, 'Matematicas', 'estadistica', 'fisica'],\n",
        "    'Juliana': [25, 'derecho', 'penal'],\n",
        "    'andres': 'se murió'\n",
        "    }\n",
        "\n",
        "clave = 'Carlos'\n",
        "\n",
        "print(type(dicti[clave] )) # muestre enn pantalla el tipo de dato de la llave jairo\n",
        "print(dicti[clave]) # muestre la informacion que tiene adentro de la llave jairo"
      ]
    },
    {
      "cell_type": "code",
      "execution_count": null,
      "metadata": {
        "colab": {
          "base_uri": "https://localhost:8080/"
        },
        "id": "aoIoHo7GAlJ1",
        "outputId": "90c86736-2118-4a0b-c1c8-bad67b674165"
      },
      "outputs": [],
      "source": [
        "dicti = {} # creo diccionario vacio\n",
        "dicti = {\n",
        "    'Jairo': [29, 'ingenieria'],\n",
        "    'Carlos': [29, 'Matematicas', 'estadistica', 'fisica'],\n",
        "    'Juliana': [25, 'derecho', 'penal'],\n",
        "    'andres': 'se murió'\n",
        "    }\n",
        "\n",
        "clave = 'Carlos'\n",
        "print(type(dicti.get(clave) ))  # metodo get para traer la informacion que tiene en una llave\n",
        "print(dicti.get(clave)) #"
      ]
    },
    {
      "cell_type": "code",
      "execution_count": null,
      "metadata": {
        "colab": {
          "base_uri": "https://localhost:8080/"
        },
        "id": "J3YVUNLuwmdi",
        "outputId": "ef9ed69d-6ebb-48bb-f64e-9c8bdb8806d8"
      },
      "outputs": [],
      "source": [
        "# ejemplo guardado de credenciales\n",
        "\n",
        "informacion_conexion = {\n",
        "    'usuario' : 'pepito',\n",
        "    'contrasenia' : '123456',\n",
        "    'permisos' : ['lectura','escritura','superadmin']\n",
        "\n",
        "}\n",
        "\n",
        "informacion_conexion"
      ]
    },
    {
      "cell_type": "markdown",
      "metadata": {
        "id": "waEjd4d6PN4J"
      },
      "source": [
        "**recorrido**"
      ]
    },
    {
      "cell_type": "code",
      "execution_count": null,
      "metadata": {
        "id": "7xPuurI8AlJ1"
      },
      "outputs": [],
      "source": [
        "# para cada i en el rango 1,2,...,9 muestre en pantalla el contenido de i\n",
        "for i in range(10):\n",
        "    print(i)"
      ]
    },
    {
      "cell_type": "code",
      "execution_count": null,
      "metadata": {
        "id": "tZkxwyGPPEKT"
      },
      "outputs": [],
      "source": [
        "dicti = {} # creo un diccionario\n",
        "dicti[\"Jairo\"] = [29, 'ingenieria'] # lleno de informacion el diccionario segun llaves\n",
        "dicti[\"Carlos\"] = [29, 'Matematicas','estadistica','fisica'] # lleno de informacion el diccionario segun llaves\n",
        "dicti[\"Juliana\"] = [25, 'derecho','penal'] # lleno de informacion el diccionario segun llaves\n",
        "\n",
        "for nombre, info in dicti.items(): # for (estructura de control) usando items\n",
        "   print(nombre, \":\", info) # muestre en pantalla la concatenacion de el nbombre : informacion"
      ]
    },
    {
      "cell_type": "code",
      "execution_count": null,
      "metadata": {
        "id": "URdJ-ZikDbBu"
      },
      "outputs": [],
      "source": [
        "dicti = {}\n",
        "dicti[\"Jairo\"] = [29, 'ingenieria']\n",
        "dicti[\"Carlos\"] = [29, 'Matematicas','estadistica','fisica']\n",
        "dicti[\"Juliana\"] = [25, 'derecho','penal']\n",
        "dicti[\"Carla\"] = 25\n",
        "dicti[\"CarlaG\"] = 25\n",
        "dicti[\"Carla Giraldo\"] = 25\n",
        "\n",
        "# recorrer el diccionario con el metodo items desempacando el nombre y la informacion\n",
        "for nombre, info, por in dicti.items():\n",
        "   print(nombre, \":\", info, por)"
      ]
    },
    {
      "cell_type": "markdown",
      "metadata": {
        "id": "dxyWQi8EUSyl"
      },
      "source": [
        "## Condicionales"
      ]
    },
    {
      "cell_type": "markdown",
      "metadata": {
        "id": "ezg0_yztAlJ2"
      },
      "source": [
        "Comparar\n",
        "\n",
        "* menor <\n",
        "* mayor >\n",
        "* igual == (no usar = debido a que es el simbolo de asignacion)"
      ]
    },
    {
      "cell_type": "code",
      "execution_count": null,
      "metadata": {
        "colab": {
          "base_uri": "https://localhost:8080/"
        },
        "id": "Uc8JFLskwmdk",
        "outputId": "0e2c8bf3-3c65-4d6d-a464-3eb200bf9897"
      },
      "outputs": [],
      "source": [
        "# asignando...\n",
        "var = 15\n",
        "\n",
        "# comparando\n",
        "var == 20220820"
      ]
    },
    {
      "cell_type": "code",
      "execution_count": null,
      "metadata": {
        "colab": {
          "base_uri": "https://localhost:8080/"
        },
        "id": "rD5-VSPHAlJ2",
        "outputId": "381e013e-75f9-40c9-905b-8dba98d67977"
      },
      "outputs": [],
      "source": [
        "# asignando...\n",
        "var = 15\n",
        "\n",
        "# comparando\n",
        "var < 20220820"
      ]
    },
    {
      "cell_type": "code",
      "execution_count": null,
      "metadata": {
        "colab": {
          "base_uri": "https://localhost:8080/"
        },
        "id": "WaRTtgK_AlJ2",
        "outputId": "97e21598-6900-46b4-a805-fa1ff3a93584"
      },
      "outputs": [],
      "source": [
        "# si cumple una condicion realice una accion....\n",
        "\n",
        "var = 20000000 # uso = para asignar\n",
        "\n",
        "# usando un IF(si se cumple...) ELIF (otra condición) ELSE (todo caso contrario)\n",
        "if var < 20220820:\n",
        "  print(\"es menor\")\n",
        "else :\n",
        "  print('no es menor')"
      ]
    },
    {
      "cell_type": "code",
      "execution_count": null,
      "metadata": {
        "colab": {
          "base_uri": "https://localhost:8080/"
        },
        "id": "9tfyjSAAAlJ2",
        "outputId": "7ef60b89-7388-4d3c-8355-81c6aec2037f"
      },
      "outputs": [],
      "source": [
        "# CONDICION DE ARRANQUE\n",
        "# la hija  de camilo es hincha de un equipo\n",
        "camilo = 'No sabe' # estado inicial de camilo\n",
        "hija = 'Santafe' # estado inicial de el gusto futbolistico de la hija\n",
        "\n",
        "# el papá va a reaccionar según...\n",
        "if (hija == 'Santafe'):\n",
        "    camilo = 'feliz' # accion a realizar (asignacion de informacion)\n",
        "\n",
        "# mostrar en pantalla contenido de variable camilo\n",
        "print(camilo)"
      ]
    },
    {
      "cell_type": "code",
      "execution_count": null,
      "metadata": {
        "colab": {
          "base_uri": "https://localhost:8080/"
        },
        "id": "3_9K_4k5AlJ3",
        "outputId": "492df013-00cd-447e-fb0d-70ba004ceab2"
      },
      "outputs": [],
      "source": [
        "# CONDICION DE ARRANQUE\n",
        "# la hija  de camilo es hincha de un equipo\n",
        "camilo = 'No sabe'\n",
        "hija = 'Santafe'\n",
        "\n",
        "\n",
        "# el papá va a reaccionar según...\n",
        "if (hija == 'Santafe'): # condicion\n",
        "    camilo = 'feliz' # acciones\n",
        "else:\n",
        "    camilo = 'preocupado' # acciones\n",
        "\n",
        "\n",
        "# mostrar en pantalla contenido de variable camilo\n",
        "print(camilo)"
      ]
    },
    {
      "cell_type": "code",
      "execution_count": null,
      "metadata": {
        "colab": {
          "base_uri": "https://localhost:8080/"
        },
        "id": "D9ldTOZWAlJ3",
        "outputId": "222d3a78-2626-437c-cca5-af050d0ad833"
      },
      "outputs": [],
      "source": [
        "# CONDICION DE ARRANQUE\n",
        "# la hija  de camilo es hincha de un equipo\n",
        "camilo = 'No sabe'\n",
        "hija = 'Caldas'\n",
        "\n",
        "\n",
        "# el papá va a reaccionar según... # usando un IF(si se cumple...) ELIF (otra condición) ELSE (todo caso contrario)\n",
        "if (hija == 'Santafe'): # 1ra condicion\n",
        "    camilo = 'feliz' # acciones\n",
        "elif (hija == 'Millonarios'):\n",
        "    camilo = 'Furioso' #2da condicion\n",
        "elif (hija == 'Junior'):\n",
        "    camilo = 'La niña es del ICBF' #3da condicion\n",
        "elif (hija == 'Caldas'):\n",
        "    camilo = 'bravo' #4ta condicion\n",
        "else: # todo lo contrario (todos los demas casos)\n",
        "    camilo = 'preocupado' # acciones\n",
        "\n",
        "# case when (casos)\n",
        "\n",
        "# mostrar en pantalla contenido de variable camilo\n",
        "print(camilo)"
      ]
    },
    {
      "cell_type": "code",
      "execution_count": null,
      "metadata": {
        "id": "TCtqklgCAlJ3"
      },
      "outputs": [],
      "source": [
        "# si cumple una condicion realice una accion....\n",
        "\n",
        "var = 15 # uso = para asignar\n",
        "\n",
        "if (var == 20220820): # usando un IF ELIF ELSE\n",
        "  print(\"es igual\")"
      ]
    },
    {
      "cell_type": "code",
      "execution_count": null,
      "metadata": {
        "id": "O3Hbj6acAlJ3"
      },
      "outputs": [],
      "source": [
        "# si cumple una condicion realice una accion....\n",
        "\n",
        "var = 99999999 # uso = para asignar\n",
        "\n",
        "if (var > 20220820): # usando un IF ELIF ELSE\n",
        "  print(\"es mayor\")"
      ]
    },
    {
      "cell_type": "code",
      "execution_count": null,
      "metadata": {
        "id": "j5zgBmg7UChI"
      },
      "outputs": [],
      "source": [
        "var = 20220820 # uso = para asignar # si cumple una condicion realice una accion....\n",
        "\n",
        "if var < 20220820: # usando un IF ELIF ELSE\n",
        "  print(\"es menor\")\n",
        "elif var == 20220820: # uso == para comparar # elif en caso de que no se cumpla evalua otra condicion realice una  accion\n",
        "  print(\"es exacto\")\n",
        "else: # my_variable > 20220820 # en todo caso contrario realice una  accion\n",
        "  print(\"es mayor\")"
      ]
    },
    {
      "cell_type": "markdown",
      "metadata": {
        "id": "TgZypndnwmdl"
      },
      "source": [
        "* ejemplo de programa con evaluación de condiciones\n",
        "\n",
        "escenario A : (6 o antes, jaime estaría llegando a tiempo)\n",
        "\n",
        "escenario B : (despues de y antes de 9, jaime estaría llegando tarde)\n",
        "\n",
        "escenario C : (despues de las 9, jaime no habría llegado)\n",
        "\n",
        "(escenario A) 6 / ...(escenario B)  / 9 (escenario C)"
      ]
    },
    {
      "cell_type": "code",
      "execution_count": null,
      "metadata": {
        "id": "aYoZhTTkAlJ3"
      },
      "outputs": [],
      "source": [
        "# ejemplo\n",
        "# hora de llegada a clase a las 6\n",
        "# hora de finalizacion de la clase a las 9\n",
        "# la hora de llegada de jaime fue las 7:30\n",
        "\n",
        "jaime_horallegada = 7.5 # la hora de llegada de jaime fue las 7:30\n",
        "print('La hora de llegada de jaime fue a las',jaime_horallegada)\n",
        "\n",
        "# usando un IF(si se cumple...) ELIF (otra condición) ELSE (todo caso contrario)\n",
        "if (jaime_horallegada<=6):\n",
        "    print('Llegó a tiempo a clase')\n",
        "elif (jaime_horallegada<=9):\n",
        "    print('Llegó tarde a clase')\n",
        "else:\n",
        "    print('No llegó a clase')"
      ]
    },
    {
      "cell_type": "markdown",
      "metadata": {
        "id": "vC7X16TJVv_G"
      },
      "source": [
        "## Loops"
      ]
    },
    {
      "cell_type": "markdown",
      "metadata": {
        "id": "zxY2rwLIwmdl"
      },
      "source": [
        "* while"
      ]
    },
    {
      "cell_type": "code",
      "execution_count": null,
      "metadata": {
        "colab": {
          "base_uri": "https://localhost:8080/"
        },
        "id": "x-Rw-hHzWTQK",
        "outputId": "0c3cc221-d3ad-4918-a36e-90b7d50caaab"
      },
      "outputs": [],
      "source": [
        "i = 0\n",
        "\n",
        "# mostrar en pantalla\n",
        "print('el contenido de i original es :',i)\n",
        "\n",
        "# 1ra opcion\n",
        "# i = i + 1\n",
        "\n",
        "# 2da opcion\n",
        "i += 152\n",
        "\n",
        "# mostrar en pantalla\n",
        "print('el contenido de i final es :',i)"
      ]
    },
    {
      "cell_type": "code",
      "execution_count": null,
      "metadata": {
        "colab": {
          "base_uri": "https://localhost:8080/"
        },
        "id": "v1JoIc8uVf1B",
        "outputId": "6b8dfa1c-0607-46db-f100-6f3ba92626fc"
      },
      "outputs": [],
      "source": [
        "list = ['2022', '08', '20'] # creo una lista sobre la que quiero recorrer\n",
        "i = 0 # variable de control o de escape que inicia en cero # se desa que converja en algun momento\n",
        "\n",
        "while i < len(list): # mientras se cumpla una condicion\n",
        "  print('iniciando la vuelta : ',i) # muestre en pantalla el elemento i de la lista\n",
        "  print(list[i]) # muestre en pantalla el elemento i de la lista\n",
        "  i += 1 # es lo mismo que escribir i = i + 1 # una instruccion para obligar a converger"
      ]
    },
    {
      "cell_type": "markdown",
      "metadata": {
        "id": "49uDFzcKwmdm"
      },
      "source": [
        "* for"
      ]
    },
    {
      "cell_type": "code",
      "execution_count": null,
      "metadata": {
        "id": "kHWQ6soIVzY9"
      },
      "outputs": [],
      "source": [
        "list = ['2022', '08', '20']\n",
        "\n",
        "for i in range(len(list)): # para cada i en el rango de 0 al tamaño de la lista\n",
        "  print(list[i]) # usando la posicion del elemento la lista"
      ]
    },
    {
      "cell_type": "code",
      "execution_count": null,
      "metadata": {
        "id": "6ZOo98IPV65T"
      },
      "outputs": [],
      "source": [
        "list = ['2022', '08', '20']\n",
        "\n",
        "for numero in list: # for usando la información del elemento la lista\n",
        "  print(numero)"
      ]
    },
    {
      "cell_type": "code",
      "execution_count": null,
      "metadata": {
        "colab": {
          "base_uri": "https://localhost:8080/"
        },
        "id": "H3e1zoUGKSuo",
        "outputId": "fc5d6630-3765-4c09-84e1-ecbdb5252a79"
      },
      "outputs": [],
      "source": [
        "list = ['2022', '08', '20']\n",
        "\n",
        "\n",
        "for i in range(len(list)):\n",
        "  print(list[i])\n",
        "\n",
        "  if i == 1: # condicion de break\n",
        "    break # romper el loop"
      ]
    },
    {
      "cell_type": "code",
      "execution_count": null,
      "metadata": {
        "colab": {
          "base_uri": "https://localhost:8080/"
        },
        "id": "QyURwKVxAlJ4",
        "outputId": "880ed006-2252-40cc-8b0b-cca504e3769f"
      },
      "outputs": [],
      "source": [
        "# fiesta con unos invitados\n",
        "list = ['Hugo','Ivan','Juan','Lara','Ana','Enzo','Leo','Luz','Mar','Nora','Angela','Eric','Eva','Raul','Sara']\n",
        "print('han sido invitados ',len(list), 'amigos a la fiesta')\n",
        "\n",
        "# solo tengo unas sorpresas para entregar\n",
        "sorpresas = 5\n",
        "\n",
        "# programa de reparticion de sorpresas\n",
        "for i in range(len(list)):\n",
        "  print('repartir sorpresa a :',list[i])\n",
        "  if i == (sorpresas-1): # condicion de break\n",
        "    break"
      ]
    },
    {
      "cell_type": "markdown",
      "metadata": {
        "id": "Zqdxm86VWRFP"
      },
      "source": [
        "## Funciones"
      ]
    },
    {
      "cell_type": "markdown",
      "metadata": {
        "id": "ISgUansdRn2b"
      },
      "source": [
        "Definición de nuevas instrucciones que reciben parametros llamados argumentos.\n",
        "\n",
        "* La documentación de una función se coloca luego del encabezado de la función, en un párrafo encerrado entre tres comillas dobles \"\"\"\n"
      ]
    },
    {
      "cell_type": "markdown",
      "metadata": {
        "id": "9XOpOeygAlJ5"
      },
      "source": [
        "* una función puede recibir un argumento de entrada o varios, sin embargo, tambien tambien puede no recibir ninguno"
      ]
    },
    {
      "cell_type": "code",
      "execution_count": null,
      "metadata": {
        "id": "OGuUuU--AlJ5"
      },
      "outputs": [],
      "source": [
        "# quiero construir una funcion que evalue si una persona llego tarde o temprano a clase\n",
        "\n",
        "def llegada_tarde(hora):\n",
        "  \"\"\"\n",
        "  se crea funcion para identificar si el alumno llega tarde a clase\n",
        "  variable hora debe ser numerica y corresponde a la hora de llegada del alumno\n",
        "  \"\"\"\n",
        "\n",
        "  if hora <= 6:\n",
        "      revision = 'El almuno llegó a tiempo'\n",
        "  elif hora <= 9:\n",
        "      revision = 'El almuno llegó a clase tarde'\n",
        "  else:\n",
        "      revision = 'El alumno no llegó a clase'\n",
        "  # regresa o entrega la funcion\n",
        "  return revision"
      ]
    },
    {
      "cell_type": "code",
      "execution_count": null,
      "metadata": {
        "colab": {
          "base_uri": "https://localhost:8080/"
        },
        "id": "s3mF5EYvAlJ5",
        "outputId": "112ea96d-af6c-4bd1-a68f-ce5f183ae238"
      },
      "outputs": [],
      "source": [
        "# evaluar si el alumno llego a la clase de 6 a 9\n",
        "print(llegada_tarde(6))\n",
        "print(llegada_tarde(8))\n",
        "print(llegada_tarde(10))\n",
        "print(llegada_tarde(2))"
      ]
    },
    {
      "cell_type": "code",
      "execution_count": null,
      "metadata": {
        "id": "5TaqQB2gAlJ5"
      },
      "outputs": [],
      "source": [
        "def llegada_tarde_recargada(hora_alumno,hora_entrada, hora_salida):\n",
        "    \"\"\"\n",
        "    se crea funcion para identificar si el alumno llega tarde a clase\n",
        "    variable hora alumno debe ser numerica y corresponde a la hora de llegada del alumno\n",
        "    variable hora entrada a clase debe ser numerica\n",
        "    variable hora salida a clase debe ser numerica\n",
        "    \"\"\"\n",
        "\n",
        "    if hora_alumno <= hora_entrada:\n",
        "        revision = 'El almuno llegó a tiempo'\n",
        "    elif hora_alumno <= hora_salida:\n",
        "        revision = 'El almuno llegó a clase tarde'\n",
        "    else:\n",
        "        revision = 'El alumno no llegó a clase'\n",
        "    return revision"
      ]
    },
    {
      "cell_type": "code",
      "execution_count": null,
      "metadata": {
        "colab": {
          "base_uri": "https://localhost:8080/"
        },
        "id": "CFB9yg7OAlJ6",
        "outputId": "141d8f31-8469-4b59-d700-81fbc5b5a8a6"
      },
      "outputs": [],
      "source": [
        "# evaluar si el alumno llego a la clase en las horas debidas\n",
        "print(llegada_tarde_recargada(hora_alumno = 9,hora_entrada = 6, hora_salida = 9))\n",
        "print(llegada_tarde_recargada(9,8,12))\n",
        "print(llegada_tarde_recargada(9,12,15))\n",
        "print(llegada_tarde_recargada(17,12,15))\n",
        "print(llegada_tarde_recargada(9,20,22))\n",
        "print(llegada_tarde_recargada(21,20,22))"
      ]
    },
    {
      "cell_type": "code",
      "execution_count": null,
      "metadata": {
        "id": "nTJGI89kRldR"
      },
      "outputs": [],
      "source": [
        "def mifunciondelosviernes(tematica):\n",
        "  \"\"\"\n",
        "  esta funcion entrega una oracion informando la funcion de los viernes y su tematica\n",
        "  la variable tematica es una cadena de caracteres\n",
        "  \"\"\"\n",
        "\n",
        "  resultado = 'La función de este viernes es '+ tematica\n",
        "  return resultado"
      ]
    },
    {
      "cell_type": "code",
      "execution_count": null,
      "metadata": {
        "id": "1cMvBgaKSi6w"
      },
      "outputs": [],
      "source": [
        "print(mifunciondelosviernes('Merengue'))\n",
        "print(mifunciondelosviernes('Rock'))\n",
        "print(mifunciondelosviernes('salsa'))"
      ]
    },
    {
      "cell_type": "code",
      "execution_count": null,
      "metadata": {
        "id": "JL2l5TBXWGAI"
      },
      "outputs": [],
      "source": [
        "def func_exp(x):\n",
        "  \"\"\" x debe ser un numero y va a devolver el mismo numero al cuadrado \"\"\"\n",
        "  y = x ** 2\n",
        "  return y"
      ]
    },
    {
      "cell_type": "code",
      "execution_count": null,
      "metadata": {
        "id": "XuJF4egh6RKe"
      },
      "outputs": [],
      "source": [
        "func_exp(100)"
      ]
    },
    {
      "cell_type": "code",
      "execution_count": null,
      "metadata": {
        "id": "WBikvqhF4cNP"
      },
      "outputs": [],
      "source": [
        "def func_exp(x, exp):\n",
        "  \"\"\" x debe ser un numero y exp debe ser un numero y va a devolver el mismo numero elevado a exp\"\"\"\n",
        "  y = x ** exp\n",
        "  return y"
      ]
    },
    {
      "cell_type": "code",
      "execution_count": null,
      "metadata": {
        "id": "EATiXTwy6Zjz"
      },
      "outputs": [],
      "source": [
        "func_exp(x = 10,exp = 3) # 110x10x10"
      ]
    },
    {
      "cell_type": "code",
      "execution_count": null,
      "metadata": {
        "id": "t0Ta1BSg4bsy"
      },
      "outputs": [],
      "source": [
        "# funciones anidades o funciones dentro de funciones\n",
        "def func_exp_texto(x, exp):\n",
        "  \"\"\" Aquí debe documentar la función. \"\"\"\n",
        "  y = func_exp(x, exp) # calculeme el resultado\n",
        "  txt = \"{0} elevado a la {1} es igual a {2}.\".format(x, exp, y) # use las parametros de entrada y el resultado en una cadena de texto\n",
        "  return txt"
      ]
    },
    {
      "cell_type": "code",
      "execution_count": null,
      "metadata": {
        "id": "kEXecjloTRtV"
      },
      "outputs": [],
      "source": [
        "func_exp_texto(4,4) # 4x4x4 = 64"
      ]
    },
    {
      "cell_type": "code",
      "execution_count": null,
      "metadata": {
        "id": "knvx9TAkOTaf"
      },
      "outputs": [],
      "source": [
        "# tuplas\n",
        "def func_exp_2_3(x):\n",
        "  \"\"\" Aquí debe documentar la función. \"\"\"\n",
        "  y_1 = x ** 2\n",
        "  y_2 = x ** 3\n",
        "  return (y_1, y_2)"
      ]
    },
    {
      "cell_type": "code",
      "execution_count": null,
      "metadata": {
        "id": "t-NUvrclTToo"
      },
      "outputs": [],
      "source": [
        "a, b = func_exp_2_3(4) # 4x4 = 16 , 4x4x4 = 64\n",
        "print(type(a)) # clase de objeto\n",
        "print(a)\n",
        "print(type(b))\n",
        "print(b)"
      ]
    },
    {
      "cell_type": "markdown",
      "metadata": {
        "id": "XECcj15L_r0H"
      },
      "source": [
        "## Lambda"
      ]
    },
    {
      "cell_type": "markdown",
      "metadata": {
        "id": "nmJM_YvpX7z9"
      },
      "source": [
        " Son funciones anónimas que solo pueden contener una expresión"
      ]
    },
    {
      "cell_type": "code",
      "execution_count": null,
      "metadata": {
        "id": "RnH-57QyAlJ7"
      },
      "outputs": [],
      "source": [
        "# funcion anonima lambda\n",
        "# arg_entrada  -> input y todo lo que va despues de los dos puntos es la instruccion de construccion de la salida\n",
        "lambda arg_entrada : arg_entrada+1"
      ]
    },
    {
      "cell_type": "code",
      "execution_count": null,
      "metadata": {
        "colab": {
          "base_uri": "https://localhost:8080/"
        },
        "id": "rPg2o7K8dW91",
        "outputId": "4f8aaca8-c008-4a4f-edd7-e647500c46bb"
      },
      "outputs": [],
      "source": [
        "# funcion anonima\n",
        "func_lambda_txt = lambda arg1,arg2: arg1+', '+arg2 # funcion anonima para s\n",
        "# argumentos\n",
        "txt_1 = 'Hola'\n",
        "txt_2 = 'mundo'\n",
        "# obtener el resultado de aplicar la funcion\n",
        "txt = func_lambda_txt(txt_1,txt_2)\n",
        "# revisar resultados\n",
        "print(type(txt))\n",
        "print(txt)"
      ]
    },
    {
      "cell_type": "markdown",
      "metadata": {
        "id": "-zs05rxrYEPU"
      },
      "source": [
        "## función Map"
      ]
    },
    {
      "cell_type": "markdown",
      "metadata": {
        "id": "tpWPoX4cav_R"
      },
      "source": [
        "Para el procesamiento de objetos iterables como listas e iteradores se ha implementado algunas funciones de orden superior de uso común y estas devuelven un iterador que ahorra espacio."
      ]
    },
    {
      "cell_type": "code",
      "execution_count": null,
      "metadata": {
        "colab": {
          "base_uri": "https://localhost:8080/"
        },
        "id": "VcIx8Vf5YDph",
        "outputId": "31532ce7-404f-43ac-ce78-1be3ad108f0f"
      },
      "outputs": [],
      "source": [
        "# defino una funcion que deseo aplicar a cada uno de los elementos de la lista\n",
        "def func_exp(x):\n",
        "  \"\"\" Aquí debe documentar la función. \"\"\"\n",
        "  y = x ** 2\n",
        "  return y\n",
        "\n",
        "# creo la lista\n",
        "list_a = [1, 2, 3, 4, 5, 6]\n",
        "\n",
        "# recorrer con el map la lista\n",
        "mapeado = map(func_exp, list_a)\n",
        "\n",
        "# recorra loss elemento resultado de hacer map\n",
        "for map_iterador in mapeado:\n",
        "    print(map_iterador, end = \", \")"
      ]
    },
    {
      "cell_type": "code",
      "execution_count": null,
      "metadata": {
        "colab": {
          "base_uri": "https://localhost:8080/"
        },
        "id": "OGQxhdEAgcu6",
        "outputId": "550c0f85-bf29-4b86-d058-0c7a13756b0b"
      },
      "outputs": [],
      "source": [
        "# usando funciones anonimas lambda\n",
        "# crear una lista\n",
        "list_a = [1, 2, 3, 4, 5, 6]\n",
        "\n",
        "# va a recorrer la lista aplicando la funcion anonima lambda\n",
        "map_a = map(lambda x: x ** 2, list_a)\n",
        "\n",
        "# recorra loss elemento resultado de hacer map\n",
        "for map_i in map_a:\n",
        "    print(map_i, end = \", \")"
      ]
    },
    {
      "cell_type": "markdown",
      "metadata": {
        "id": "bAOwhfGMUIn6"
      },
      "source": [
        "## Errores y excepciones"
      ]
    },
    {
      "cell_type": "markdown",
      "metadata": {
        "id": "6mJtaWhoVN_I"
      },
      "source": [
        "Los errores de ejecución son llamados comúnmente excepciones. \\\n",
        "Durante la ejecución de un programa, si dentro de una función surge una excepción y la función no la maneja, la excepción se propaga hacia la función que la invocó, si esta otra tampoco la maneja, la excepción continua propagándose hasta llegar a la función inicial del programa y si esta tampoco la maneja se interrumpe la ejecución del programa"
      ]
    },
    {
      "cell_type": "code",
      "execution_count": null,
      "metadata": {
        "colab": {
          "base_uri": "https://localhost:8080/",
          "height": 176
        },
        "id": "Yw8oxx4oKw5P",
        "outputId": "331a9662-e101-4e57-e8d6-5f4e2abc490d"
      },
      "outputs": [],
      "source": [
        "dividendo = 5\n",
        "divisor = 0\n",
        "dividendo / divisor"
      ]
    },
    {
      "cell_type": "code",
      "execution_count": null,
      "metadata": {
        "colab": {
          "base_uri": "https://localhost:8080/"
        },
        "id": "aVlbPG3OUICP",
        "outputId": "f01be564-295e-4eb9-b871-e0d58f8a2f5f"
      },
      "outputs": [],
      "source": [
        "dividendo = 5\n",
        "divisor = 0\n",
        "\n",
        "try: # intente realizar...\n",
        "  cociente = dividendo / divisor\n",
        "  print(cociente)\n",
        "except: # en caso de no poder realizarlo, haga lo siguiente\n",
        "  print(\"No se permite la división por cero\")"
      ]
    },
    {
      "cell_type": "code",
      "execution_count": null,
      "metadata": {
        "colab": {
          "base_uri": "https://localhost:8080/",
          "height": 176
        },
        "id": "7m2SlrXWAlJ8",
        "outputId": "b97ca1ec-681a-423b-c24b-ec15120ea502"
      },
      "outputs": [],
      "source": [
        "txt = 'siete' # asigno un texto a una variable\n",
        "\n",
        "print(txt[7])"
      ]
    },
    {
      "cell_type": "code",
      "execution_count": null,
      "metadata": {
        "colab": {
          "base_uri": "https://localhost:8080/"
        },
        "id": "3W55wnfLVZ1z",
        "outputId": "640fb85a-4cfa-4a63-aa4d-cabab02e7fbd"
      },
      "outputs": [],
      "source": [
        "txt = 'siete' # asigno un texto a una variable\n",
        "\n",
        "try: # intente realizar...\n",
        "  print(txt[7])\n",
        "except: # en caso de no poder realizarlo, haga lo siguiente\n",
        "  print(\"Ojo : no es por ahí No existe el elemento buscado\")"
      ]
    },
    {
      "cell_type": "markdown",
      "metadata": {
        "id": "6Gh9sfak8kXq"
      },
      "source": [
        "## Bibliografía\n"
      ]
    },
    {
      "cell_type": "markdown",
      "metadata": {
        "id": "mOjNZPz7k4Ft"
      },
      "source": [
        "\n",
        "* (2022,Montenegro y Montenegro) Aprendizaje profundo. Diplomado de IA y AP.\n",
        "* BeginnersGuide. link :https://wiki.python.org/moin/BeginnersGuide/Programmers\n",
        "* Uniwebsidad. link :https://uniwebsidad.com/libros/algoritmos-python"
      ]
    }
  ],
  "metadata": {
    "colab": {
      "provenance": []
    },
    "kernelspec": {
      "display_name": "Python 3",
      "name": "python3"
    },
    "language_info": {
      "codemirror_mode": {
        "name": "ipython",
        "version": 3
      },
      "file_extension": ".py",
      "mimetype": "text/x-python",
      "name": "python",
      "nbconvert_exporter": "python",
      "pygments_lexer": "ipython3",
      "version": "3.12.6"
    }
  },
  "nbformat": 4,
  "nbformat_minor": 0
}
