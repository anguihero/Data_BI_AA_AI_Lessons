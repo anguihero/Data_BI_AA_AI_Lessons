{
 "cells": [
  {
   "cell_type": "markdown",
   "id": "7d5183dd",
   "metadata": {},
   "source": [
    "\n",
    "# Distribuciones de Probabilidad en Estadística y Ciencia de Datos\n",
    "\n",
    "## ¿Qué es una Distribución de Probabilidad?\n",
    "\n",
    "Una **distribución de probabilidad** describe cómo se distribuyen los valores posibles de una variable aleatoria, asignando una probabilidad a cada uno. Las distribuciones son fundamentales para representar la incertidumbre, modelar fenómenos reales y construir modelos estadísticos.\n",
    "\n",
    "Existen dos tipos principales:\n",
    "\n",
    "- **Distribución Discreta**: La variable aleatoria toma valores aislados o contables (por ejemplo: lanzar un dado, número de llamadas a un call center).\n",
    "- **Distribución Continua**: La variable aleatoria puede tomar cualquier valor en un intervalo continuo (por ejemplo: temperatura, tiempo de espera, altura de personas).\n",
    "\n",
    "---\n",
    "\n",
    "## ¿Por qué son importantes las distribuciones?\n",
    "\n",
    "- Permiten inferir y predecir comportamientos futuros a partir de datos históricos.\n",
    "- Son la base de muchos algoritmos de Machine Learning.\n",
    "- Ayudan a cuantificar el riesgo y la incertidumbre en decisiones.\n",
    "- Se utilizan para validar suposiciones estadísticas (normalidad, independencia, etc).\n",
    "- Sirven para simular y generar datos sintéticos.\n",
    "\n",
    "---\n",
    "\n",
    "A continuación, exploraremos diferentes tipos de distribuciones con ejemplos en Python.\n"
   ]
  },
  {
   "cell_type": "code",
   "execution_count": 1,
   "id": "a0198cc9",
   "metadata": {},
   "outputs": [],
   "source": [
    "import numpy as np\n",
    "import pandas as pd\n",
    "import matplotlib.pyplot as plt\n",
    "from scipy.stats import binom, poisson, norm, expon, uniform"
   ]
  },
  {
   "cell_type": "code",
   "execution_count": 2,
   "id": "b7f0d97f",
   "metadata": {},
   "outputs": [],
   "source": [
    "plt.style.use('default')\n"
   ]
  },
  {
   "cell_type": "markdown",
   "id": "be2d8b5b",
   "metadata": {},
   "source": [
    "\n",
    "## Distribución Binomial\n",
    "\n",
    "La distribución binomial modela el número de éxitos en una secuencia de `n` ensayos independientes, cada uno con una probabilidad `p` de éxito.\n",
    "\n",
    "**Ejemplos de uso:**\n",
    "- Número de clientes que compran después de recibir un correo.\n",
    "- Número de productos defectuosos en un lote.\n",
    "\n",
    "**Parámetros:**\n",
    "- `n`: número de ensayos\n",
    "- `p`: probabilidad de éxito\n",
    "\n",
    "Se denota como: **X ~ Bin(n, p)**  \n",
    "La función de masa de probabilidad (PMF) es:\n",
    "\n",
    "$$\n",
    "P(X = k) = \\binom{n}{k}\\, p^k\\, (1 - p)^{n - k}\n",
    "\n",
    "\\quad \\text{para } k = 0, 1, \\ldots, n.\n",
    "$$\n"
   ]
  },
  {
   "cell_type": "code",
   "execution_count": 3,
   "id": "b4578c53",
   "metadata": {},
   "outputs": [],
   "source": [
    "n, p = 10, 0.5\n",
    "x = np.arange(0, n+1)\n",
    "y = binom.pmf(x, n, p)\n",
    "df = pd.DataFrame({'Número de éxitos': x, 'Probabilidad': y})"
   ]
  },
  {
   "cell_type": "code",
   "execution_count": 4,
   "id": "6e9e4c14",
   "metadata": {},
   "outputs": [
    {
     "data": {
      "text/html": [
       "<div>\n",
       "<style scoped>\n",
       "    .dataframe tbody tr th:only-of-type {\n",
       "        vertical-align: middle;\n",
       "    }\n",
       "\n",
       "    .dataframe tbody tr th {\n",
       "        vertical-align: top;\n",
       "    }\n",
       "\n",
       "    .dataframe thead th {\n",
       "        text-align: right;\n",
       "    }\n",
       "</style>\n",
       "<table border=\"1\" class=\"dataframe\">\n",
       "  <thead>\n",
       "    <tr style=\"text-align: right;\">\n",
       "      <th></th>\n",
       "      <th>Número de éxitos</th>\n",
       "      <th>Probabilidad</th>\n",
       "    </tr>\n",
       "  </thead>\n",
       "  <tbody>\n",
       "    <tr>\n",
       "      <th>0</th>\n",
       "      <td>0</td>\n",
       "      <td>0.000977</td>\n",
       "    </tr>\n",
       "    <tr>\n",
       "      <th>1</th>\n",
       "      <td>1</td>\n",
       "      <td>0.009766</td>\n",
       "    </tr>\n",
       "    <tr>\n",
       "      <th>2</th>\n",
       "      <td>2</td>\n",
       "      <td>0.043945</td>\n",
       "    </tr>\n",
       "    <tr>\n",
       "      <th>3</th>\n",
       "      <td>3</td>\n",
       "      <td>0.117187</td>\n",
       "    </tr>\n",
       "    <tr>\n",
       "      <th>4</th>\n",
       "      <td>4</td>\n",
       "      <td>0.205078</td>\n",
       "    </tr>\n",
       "    <tr>\n",
       "      <th>5</th>\n",
       "      <td>5</td>\n",
       "      <td>0.246094</td>\n",
       "    </tr>\n",
       "    <tr>\n",
       "      <th>6</th>\n",
       "      <td>6</td>\n",
       "      <td>0.205078</td>\n",
       "    </tr>\n",
       "    <tr>\n",
       "      <th>7</th>\n",
       "      <td>7</td>\n",
       "      <td>0.117187</td>\n",
       "    </tr>\n",
       "    <tr>\n",
       "      <th>8</th>\n",
       "      <td>8</td>\n",
       "      <td>0.043945</td>\n",
       "    </tr>\n",
       "    <tr>\n",
       "      <th>9</th>\n",
       "      <td>9</td>\n",
       "      <td>0.009766</td>\n",
       "    </tr>\n",
       "    <tr>\n",
       "      <th>10</th>\n",
       "      <td>10</td>\n",
       "      <td>0.000977</td>\n",
       "    </tr>\n",
       "  </tbody>\n",
       "</table>\n",
       "</div>"
      ],
      "text/plain": [
       "    Número de éxitos  Probabilidad\n",
       "0                  0      0.000977\n",
       "1                  1      0.009766\n",
       "2                  2      0.043945\n",
       "3                  3      0.117187\n",
       "4                  4      0.205078\n",
       "5                  5      0.246094\n",
       "6                  6      0.205078\n",
       "7                  7      0.117187\n",
       "8                  8      0.043945\n",
       "9                  9      0.009766\n",
       "10                10      0.000977"
      ]
     },
     "metadata": {},
     "output_type": "display_data"
    }
   ],
   "source": [
    "display(df)"
   ]
  },
  {
   "cell_type": "code",
   "execution_count": 5,
   "id": "b2d72145",
   "metadata": {},
   "outputs": [
    {
     "data": {
      "image/png": "[encoded data removed]",
      "text/plain": [
       "<Figure size 640x480 with 1 Axes>"
      ]
     },
     "metadata": {},
     "output_type": "display_data"
    }
   ],
   "source": [
    "plt.bar(x, y)\n",
    "plt.title(f'Distribución Binomial (n={n}, p={p})')\n",
    "plt.xlabel('Número de éxitos')\n",
    "plt.ylabel('Probabilidad')\n",
    "plt.grid(True)\n",
    "plt.show()\n"
   ]
  },
  {
   "cell_type": "markdown",
   "id": "c4a6c152",
   "metadata": {},
   "source": [
    "\n",
    "## Distribución de Poisson\n",
    "\n",
    "La distribución de Poisson modela el número de veces que ocurre un evento en un intervalo de tiempo o espacio dado, si los eventos ocurren con una tasa constante e independientemente unos de otros.\n",
    "\n",
    "**Ejemplos de uso:**\n",
    "- Número de llamadas por minuto en un centro de atención.\n",
    "- Número de llegadas a una tienda por hora.\n",
    "\n",
    "**Parámetro:**\n",
    "- `λ` (lambda): tasa promedio de ocurrencia por intervalo.\n",
    "\n",
    "Se denota como: **X ~ Poisson(λ)**  \n",
    "La PMF es:\n",
    "\n",
    "\n",
    "$$\n",
    "P(X = k) = \\frac{e^{-\\lambda} \\lambda^k}{k!}, \\quad \\text{para } k = 0, 1, 2, \\ldots\n",
    "$$"
   ]
  },
  {
   "cell_type": "code",
   "execution_count": 6,
   "id": "6a2dfca1",
   "metadata": {},
   "outputs": [],
   "source": [
    "mu = 4\n",
    "x = np.arange(0, 15)\n",
    "y = poisson.pmf(x, mu)\n",
    "df = pd.DataFrame({'Número de eventos': x, 'Probabilidad': y})"
   ]
  },
  {
   "cell_type": "code",
   "execution_count": 7,
   "id": "0deaca93",
   "metadata": {},
   "outputs": [
    {
     "data": {
      "text/html": [
       "<div>\n",
       "<style scoped>\n",
       "    .dataframe tbody tr th:only-of-type {\n",
       "        vertical-align: middle;\n",
       "    }\n",
       "\n",
       "    .dataframe tbody tr th {\n",
       "        vertical-align: top;\n",
       "    }\n",
       "\n",
       "    .dataframe thead th {\n",
       "        text-align: right;\n",
       "    }\n",
       "</style>\n",
       "<table border=\"1\" class=\"dataframe\">\n",
       "  <thead>\n",
       "    <tr style=\"text-align: right;\">\n",
       "      <th></th>\n",
       "      <th>Número de eventos</th>\n",
       "      <th>Probabilidad</th>\n",
       "    </tr>\n",
       "  </thead>\n",
       "  <tbody>\n",
       "    <tr>\n",
       "      <th>0</th>\n",
       "      <td>0</td>\n",
       "      <td>0.018316</td>\n",
       "    </tr>\n",
       "    <tr>\n",
       "      <th>1</th>\n",
       "      <td>1</td>\n",
       "      <td>0.073263</td>\n",
       "    </tr>\n",
       "    <tr>\n",
       "      <th>2</th>\n",
       "      <td>2</td>\n",
       "      <td>0.146525</td>\n",
       "    </tr>\n",
       "    <tr>\n",
       "      <th>3</th>\n",
       "      <td>3</td>\n",
       "      <td>0.195367</td>\n",
       "    </tr>\n",
       "    <tr>\n",
       "      <th>4</th>\n",
       "      <td>4</td>\n",
       "      <td>0.195367</td>\n",
       "    </tr>\n",
       "    <tr>\n",
       "      <th>5</th>\n",
       "      <td>5</td>\n",
       "      <td>0.156293</td>\n",
       "    </tr>\n",
       "    <tr>\n",
       "      <th>6</th>\n",
       "      <td>6</td>\n",
       "      <td>0.104196</td>\n",
       "    </tr>\n",
       "    <tr>\n",
       "      <th>7</th>\n",
       "      <td>7</td>\n",
       "      <td>0.059540</td>\n",
       "    </tr>\n",
       "    <tr>\n",
       "      <th>8</th>\n",
       "      <td>8</td>\n",
       "      <td>0.029770</td>\n",
       "    </tr>\n",
       "    <tr>\n",
       "      <th>9</th>\n",
       "      <td>9</td>\n",
       "      <td>0.013231</td>\n",
       "    </tr>\n",
       "    <tr>\n",
       "      <th>10</th>\n",
       "      <td>10</td>\n",
       "      <td>0.005292</td>\n",
       "    </tr>\n",
       "    <tr>\n",
       "      <th>11</th>\n",
       "      <td>11</td>\n",
       "      <td>0.001925</td>\n",
       "    </tr>\n",
       "    <tr>\n",
       "      <th>12</th>\n",
       "      <td>12</td>\n",
       "      <td>0.000642</td>\n",
       "    </tr>\n",
       "    <tr>\n",
       "      <th>13</th>\n",
       "      <td>13</td>\n",
       "      <td>0.000197</td>\n",
       "    </tr>\n",
       "    <tr>\n",
       "      <th>14</th>\n",
       "      <td>14</td>\n",
       "      <td>0.000056</td>\n",
       "    </tr>\n",
       "  </tbody>\n",
       "</table>\n",
       "</div>"
      ],
      "text/plain": [
       "    Número de eventos  Probabilidad\n",
       "0                   0      0.018316\n",
       "1                   1      0.073263\n",
       "2                   2      0.146525\n",
       "3                   3      0.195367\n",
       "4                   4      0.195367\n",
       "5                   5      0.156293\n",
       "6                   6      0.104196\n",
       "7                   7      0.059540\n",
       "8                   8      0.029770\n",
       "9                   9      0.013231\n",
       "10                 10      0.005292\n",
       "11                 11      0.001925\n",
       "12                 12      0.000642\n",
       "13                 13      0.000197\n",
       "14                 14      0.000056"
      ]
     },
     "metadata": {},
     "output_type": "display_data"
    }
   ],
   "source": [
    "display(df)"
   ]
  },
  {
   "cell_type": "code",
   "execution_count": 8,
   "id": "60b09b20",
   "metadata": {},
   "outputs": [
    {
     "data": {
      "image/png": "[encoded data removed]",
      "text/plain": [
       "<Figure size 640x480 with 1 Axes>"
      ]
     },
     "metadata": {},
     "output_type": "display_data"
    }
   ],
   "source": [
    "plt.bar(x, y)\n",
    "plt.title(f'Distribución de Poisson (λ={mu})')\n",
    "plt.xlabel('Número de eventos')\n",
    "plt.ylabel('Probabilidad')\n",
    "plt.grid(True)\n",
    "plt.show()\n"
   ]
  },
  {
   "cell_type": "markdown",
   "id": "9c793b31",
   "metadata": {},
   "source": [
    "\n",
    "## Distribución Normal\n",
    "\n",
    "La distribución normal o gaussiana es una distribución continua simétrica en forma de campana. Es una de las distribuciones más importantes en estadística.\n",
    "\n",
    "**Ejemplos de uso:**\n",
    "- Altura, peso, resultados de exámenes, errores de medición.\n",
    "\n",
    "**Parámetros:**\n",
    "- `μ` (mu): media\n",
    "- `σ` (sigma): desviación estándar\n",
    "\n",
    "Se denota como: **X ~ N(μ, σ²)**  \n",
    "La función de densidad de probabilidad (PDF) es:\n",
    "\n",
    "$$\n",
    "f(x) = \\frac{1}{\\sqrt{2\\pi\\sigma^2}} \\, e^{ -\\frac{(x - \\mu)^2}{2\\sigma^2} }\n",
    "$$"
   ]
  },
  {
   "cell_type": "code",
   "execution_count": 9,
   "id": "8de15a09",
   "metadata": {},
   "outputs": [],
   "source": [
    "mu, sigma = 0, 1\n",
    "x = np.linspace(mu-(2*sigma), mu+(2*sigma), 1000)\n",
    "y = norm.pdf(x, mu, sigma)\n",
    "df = pd.DataFrame({'Valor': x, 'Densidad': y})"
   ]
  },
  {
   "cell_type": "code",
   "execution_count": 10,
   "id": "4a5adc0b",
   "metadata": {},
   "outputs": [
    {
     "data": {
      "text/html": [
       "<div>\n",
       "<style scoped>\n",
       "    .dataframe tbody tr th:only-of-type {\n",
       "        vertical-align: middle;\n",
       "    }\n",
       "\n",
       "    .dataframe tbody tr th {\n",
       "        vertical-align: top;\n",
       "    }\n",
       "\n",
       "    .dataframe thead th {\n",
       "        text-align: right;\n",
       "    }\n",
       "</style>\n",
       "<table border=\"1\" class=\"dataframe\">\n",
       "  <thead>\n",
       "    <tr style=\"text-align: right;\">\n",
       "      <th></th>\n",
       "      <th>Valor</th>\n",
       "      <th>Densidad</th>\n",
       "    </tr>\n",
       "  </thead>\n",
       "  <tbody>\n",
       "    <tr>\n",
       "      <th>0</th>\n",
       "      <td>-2.000000</td>\n",
       "      <td>0.053991</td>\n",
       "    </tr>\n",
       "    <tr>\n",
       "      <th>1</th>\n",
       "      <td>-1.995996</td>\n",
       "      <td>0.054425</td>\n",
       "    </tr>\n",
       "    <tr>\n",
       "      <th>2</th>\n",
       "      <td>-1.991992</td>\n",
       "      <td>0.054861</td>\n",
       "    </tr>\n",
       "    <tr>\n",
       "      <th>3</th>\n",
       "      <td>-1.987988</td>\n",
       "      <td>0.055300</td>\n",
       "    </tr>\n",
       "    <tr>\n",
       "      <th>4</th>\n",
       "      <td>-1.983984</td>\n",
       "      <td>0.055741</td>\n",
       "    </tr>\n",
       "  </tbody>\n",
       "</table>\n",
       "</div>"
      ],
      "text/plain": [
       "      Valor  Densidad\n",
       "0 -2.000000  0.053991\n",
       "1 -1.995996  0.054425\n",
       "2 -1.991992  0.054861\n",
       "3 -1.987988  0.055300\n",
       "4 -1.983984  0.055741"
      ]
     },
     "metadata": {},
     "output_type": "display_data"
    }
   ],
   "source": [
    "display(df.head())"
   ]
  },
  {
   "cell_type": "code",
   "execution_count": 11,
   "id": "7230add0",
   "metadata": {},
   "outputs": [
    {
     "data": {
      "image/png": "[encoded data removed]",
      "text/plain": [
       "<Figure size 640x480 with 1 Axes>"
      ]
     },
     "metadata": {},
     "output_type": "display_data"
    }
   ],
   "source": [
    "plt.plot(x, y)\n",
    "plt.title(f'Distribución Normal Estándar (μ={mu}, σ={sigma})')\n",
    "plt.xlabel('Valor')\n",
    "plt.ylabel('Densidad de Probabilidad')\n",
    "plt.grid(True)\n",
    "plt.show()\n"
   ]
  },
  {
   "cell_type": "markdown",
   "id": "db91cbbd",
   "metadata": {},
   "source": [
    "\n",
    "## Distribución Exponencial\n",
    "\n",
    "La distribución exponencial modela el tiempo entre eventos en un proceso de Poisson.\n",
    "\n",
    "**Ejemplos de uso:**\n",
    "- Tiempo entre llegadas de clientes.\n",
    "- Tiempo hasta que un dispositivo falla.\n",
    "\n",
    "**Parámetro:**\n",
    "- `λ` (lambda): tasa de ocurrencia (inversa del tiempo medio).\n",
    "\n",
    "Se denota como: **X ~ Exp(λ)**  \n",
    "La función de densidad de probabilidad (PDF) es:\n",
    "\n",
    "$$\n",
    "f(x) = \\lambda e^{-\\lambda x}, \\quad \\text{para } x \\geq 0\n",
    "$$\n"
   ]
  },
  {
   "cell_type": "code",
   "execution_count": 12,
   "id": "08d39375",
   "metadata": {},
   "outputs": [],
   "source": [
    "lambda_ = 1\n",
    "x = np.linspace(0, 10, 1000)\n",
    "y = expon.pdf(x, scale=1/lambda_)\n",
    "df = pd.DataFrame({'Tiempo': x, 'Densidad': y})"
   ]
  },
  {
   "cell_type": "code",
   "execution_count": 13,
   "id": "4bf22f58",
   "metadata": {},
   "outputs": [
    {
     "data": {
      "text/html": [
       "<div>\n",
       "<style scoped>\n",
       "    .dataframe tbody tr th:only-of-type {\n",
       "        vertical-align: middle;\n",
       "    }\n",
       "\n",
       "    .dataframe tbody tr th {\n",
       "        vertical-align: top;\n",
       "    }\n",
       "\n",
       "    .dataframe thead th {\n",
       "        text-align: right;\n",
       "    }\n",
       "</style>\n",
       "<table border=\"1\" class=\"dataframe\">\n",
       "  <thead>\n",
       "    <tr style=\"text-align: right;\">\n",
       "      <th></th>\n",
       "      <th>Tiempo</th>\n",
       "      <th>Densidad</th>\n",
       "    </tr>\n",
       "  </thead>\n",
       "  <tbody>\n",
       "    <tr>\n",
       "      <th>0</th>\n",
       "      <td>0.00000</td>\n",
       "      <td>1.000000</td>\n",
       "    </tr>\n",
       "    <tr>\n",
       "      <th>1</th>\n",
       "      <td>0.01001</td>\n",
       "      <td>0.990040</td>\n",
       "    </tr>\n",
       "    <tr>\n",
       "      <th>2</th>\n",
       "      <td>0.02002</td>\n",
       "      <td>0.980179</td>\n",
       "    </tr>\n",
       "    <tr>\n",
       "      <th>3</th>\n",
       "      <td>0.03003</td>\n",
       "      <td>0.970416</td>\n",
       "    </tr>\n",
       "    <tr>\n",
       "      <th>4</th>\n",
       "      <td>0.04004</td>\n",
       "      <td>0.960751</td>\n",
       "    </tr>\n",
       "  </tbody>\n",
       "</table>\n",
       "</div>"
      ],
      "text/plain": [
       "    Tiempo  Densidad\n",
       "0  0.00000  1.000000\n",
       "1  0.01001  0.990040\n",
       "2  0.02002  0.980179\n",
       "3  0.03003  0.970416\n",
       "4  0.04004  0.960751"
      ]
     },
     "metadata": {},
     "output_type": "display_data"
    }
   ],
   "source": [
    "display(df.head())"
   ]
  },
  {
   "cell_type": "code",
   "execution_count": 14,
   "id": "c715cada",
   "metadata": {},
   "outputs": [
    {
     "data": {
      "image/png": "[encoded data removed]",
      "text/plain": [
       "<Figure size 640x480 with 1 Axes>"
      ]
     },
     "metadata": {},
     "output_type": "display_data"
    }
   ],
   "source": [
    "plt.plot(x, y)\n",
    "plt.title(f'Distribución Exponencial (λ={lambda_})')\n",
    "plt.xlabel('Tiempo')\n",
    "plt.ylabel('Densidad de Probabilidad')\n",
    "plt.grid(True)\n",
    "plt.show()"
   ]
  },
  {
   "cell_type": "markdown",
   "id": "77284a46",
   "metadata": {},
   "source": [
    "\n",
    "## Distribución Uniforme\n",
    "\n",
    "La distribución uniforme continua asigna igual probabilidad a todos los valores dentro de un intervalo.\n",
    "\n",
    "**Ejemplos de uso:**\n",
    "- Selección aleatoria dentro de un rango (ej. entre 0 y 10).\n",
    "- Simulación de procesos aleatorios simples.\n",
    "\n",
    "**Parámetros:**\n",
    "- `a`: límite inferior\n",
    "- `b`: límite superior\n",
    "\n",
    "Se denota como: **X ~ U(a, b)**  \n",
    "La función de densidad es constante entre `a` y `b`.\n"
   ]
  },
  {
   "cell_type": "code",
   "execution_count": 15,
   "id": "88ecb5c4",
   "metadata": {},
   "outputs": [],
   "source": [
    "a, b = 0, 10\n",
    "x = np.linspace(a, b, 1000)\n",
    "y = uniform.pdf(x, loc=a, scale=b-a)\n",
    "df = pd.DataFrame({'Valor': x, 'Densidad': y})"
   ]
  },
  {
   "cell_type": "code",
   "execution_count": 16,
   "id": "23a96f66",
   "metadata": {},
   "outputs": [
    {
     "data": {
      "text/html": [
       "<div>\n",
       "<style scoped>\n",
       "    .dataframe tbody tr th:only-of-type {\n",
       "        vertical-align: middle;\n",
       "    }\n",
       "\n",
       "    .dataframe tbody tr th {\n",
       "        vertical-align: top;\n",
       "    }\n",
       "\n",
       "    .dataframe thead th {\n",
       "        text-align: right;\n",
       "    }\n",
       "</style>\n",
       "<table border=\"1\" class=\"dataframe\">\n",
       "  <thead>\n",
       "    <tr style=\"text-align: right;\">\n",
       "      <th></th>\n",
       "      <th>Valor</th>\n",
       "      <th>Densidad</th>\n",
       "    </tr>\n",
       "  </thead>\n",
       "  <tbody>\n",
       "    <tr>\n",
       "      <th>0</th>\n",
       "      <td>0.00000</td>\n",
       "      <td>0.1</td>\n",
       "    </tr>\n",
       "    <tr>\n",
       "      <th>1</th>\n",
       "      <td>0.01001</td>\n",
       "      <td>0.1</td>\n",
       "    </tr>\n",
       "    <tr>\n",
       "      <th>2</th>\n",
       "      <td>0.02002</td>\n",
       "      <td>0.1</td>\n",
       "    </tr>\n",
       "    <tr>\n",
       "      <th>3</th>\n",
       "      <td>0.03003</td>\n",
       "      <td>0.1</td>\n",
       "    </tr>\n",
       "    <tr>\n",
       "      <th>4</th>\n",
       "      <td>0.04004</td>\n",
       "      <td>0.1</td>\n",
       "    </tr>\n",
       "  </tbody>\n",
       "</table>\n",
       "</div>"
      ],
      "text/plain": [
       "     Valor  Densidad\n",
       "0  0.00000       0.1\n",
       "1  0.01001       0.1\n",
       "2  0.02002       0.1\n",
       "3  0.03003       0.1\n",
       "4  0.04004       0.1"
      ]
     },
     "metadata": {},
     "output_type": "display_data"
    }
   ],
   "source": [
    "display(df.head())"
   ]
  },
  {
   "cell_type": "code",
   "execution_count": 17,
   "id": "772295de",
   "metadata": {},
   "outputs": [
    {
     "data": {
      "image/png": "[encoded data removed]",
      "text/plain": [
       "<Figure size 640x480 with 1 Axes>"
      ]
     },
     "metadata": {},
     "output_type": "display_data"
    }
   ],
   "source": [
    "plt.plot(x, y)\n",
    "plt.title(f'Distribución Uniforme continua ({a}, {b})')\n",
    "plt.xlabel('Valor')\n",
    "plt.ylabel('Densidad de Probabilidad')\n",
    "plt.grid(True)\n",
    "plt.show()\n"
   ]
  },
  {
   "cell_type": "markdown",
   "id": "8afdb622",
   "metadata": {},
   "source": [
    "---\n",
    "---\n",
    "\n",
    "## Ejemplos Prácticos : \n",
    "\n",
    "Aplicación de Distribuciones de Probabilidad con Python"
   ]
  },
  {
   "cell_type": "markdown",
   "id": "0f6bae33",
   "metadata": {},
   "source": [
    "---\n",
    "---\n",
    "\n",
    "**1er Problema:**  \n",
    "Una empresa envía un correo promocional a 1000 clientes. Según sus registros, el 20% de las personas que reciben el correo lo abren. ¿Cuál es la probabilidad de que exactamente 230 personas abran el correo?\n"
   ]
  },
  {
   "cell_type": "code",
   "execution_count": 18,
   "id": "a8316368",
   "metadata": {},
   "outputs": [
    {
     "name": "stdout",
     "output_type": "stream",
     "text": [
      "Probabilidad de que exactamente 230 personas abran el correo: 0.0020\n"
     ]
    }
   ],
   "source": [
    "from scipy.stats import binom\n",
    "\n",
    "n = 1000\n",
    "p = 0.2\n",
    "k = 230\n",
    "\n",
    "prob_binomial = binom.pmf(k, n, p)\n",
    "print(f\"Probabilidad de que exactamente 230 personas abran el correo: {prob_binomial:.4f}\")"
   ]
  },
  {
   "cell_type": "markdown",
   "id": "b318115c",
   "metadata": {},
   "source": [
    "---\n",
    "---\n",
    "\n",
    "**2do Problema:**\n",
    "\n",
    "Un restaurante recibe en promedio 12 pedidos por hora a domicilio. ¿Cuál es la probabilidad de que en una hora se reciban exactamente 15 pedidos?"
   ]
  },
  {
   "cell_type": "code",
   "execution_count": 20,
   "id": "cb8f7db9",
   "metadata": {},
   "outputs": [
    {
     "name": "stdout",
     "output_type": "stream",
     "text": [
      "Probabilidad de recibir exactamente 15 pedidos en una hora: 0.0724\n"
     ]
    }
   ],
   "source": [
    "from scipy.stats import poisson\n",
    "\n",
    "lamb = 12  # tasa promedio\n",
    "k = 15\n",
    "\n",
    "prob_poisson = poisson.pmf(k, lamb)\n",
    "print(f\"Probabilidad de recibir exactamente 15 pedidos en una hora: {prob_poisson:.4f}\")"
   ]
  },
  {
   "cell_type": "markdown",
   "id": "4ceeb9df",
   "metadata": {},
   "source": [
    "---\n",
    "---\n",
    "\n",
    "**3er Problema:**\n",
    "\n",
    "Las alturas de los estudiantes de una universidad se distribuyen normalmente con una media de 170 cm y una desviación estándar de 10 cm. ¿Qué porcentaje de estudiantes mide entre 160 cm y 180 cm?"
   ]
  },
  {
   "cell_type": "code",
   "execution_count": 21,
   "id": "90db9b7a",
   "metadata": {},
   "outputs": [
    {
     "name": "stdout",
     "output_type": "stream",
     "text": [
      "Porcentaje de estudiantes entre 160 y 180 cm: 68.27%\n"
     ]
    }
   ],
   "source": [
    "from scipy.stats import norm\n",
    "\n",
    "mu = 170\n",
    "sigma = 10\n",
    "\n",
    "prob_normal = norm.cdf(180, mu, sigma) - norm.cdf(160, mu, sigma)\n",
    "print(f\"Porcentaje de estudiantes entre 160 y 180 cm: {prob_normal*100:.2f}%\")"
   ]
  },
  {
   "cell_type": "markdown",
   "id": "d91a2531",
   "metadata": {},
   "source": [
    "---\n",
    "---\n",
    "\n",
    "**4to Problema:**\n",
    "\n",
    "En un peaje automático, los carros pasan a una tasa de 1 cada 2 minutos. ¿Cuál es la probabilidad de que pasen más de 5 minutos sin que pase ningún carro?"
   ]
  },
  {
   "cell_type": "code",
   "execution_count": 22,
   "id": "ec3d9ebb",
   "metadata": {},
   "outputs": [
    {
     "name": "stdout",
     "output_type": "stream",
     "text": [
      "Probabilidad de esperar más de 5 minutos: 0.0821\n"
     ]
    }
   ],
   "source": [
    "from scipy.stats import expon\n",
    "\n",
    "rate = 1/2  # λ = 0.5 carros por minuto\n",
    "x = 5\n",
    "\n",
    "prob_exponencial = expon.sf(x, scale=1/rate)  # sf = 1 - cdf\n",
    "print(f\"Probabilidad de esperar más de 5 minutos: {prob_exponencial:.4f}\")"
   ]
  }
 ],
 "metadata": {
  "kernelspec": {
   "display_name": "Python 3",
   "language": "python",
   "name": "python3"
  },
  "language_info": {
   "codemirror_mode": {
    "name": "ipython",
    "version": 3
   },
   "file_extension": ".py",
   "mimetype": "text/x-python",
   "name": "python",
   "nbconvert_exporter": "python",
   "pygments_lexer": "ipython3",
   "version": "3.11.9"
  }
 },
 "nbformat": 4,
 "nbformat_minor": 5
}
