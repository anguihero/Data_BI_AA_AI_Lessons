{
 "cells": [
  {
   "cell_type": "markdown",
   "id": "ef840500",
   "metadata": {},
   "source": [
    "\n",
    "# Pipelines, ColumnTransformer y Preprocesamiento de Datos\n",
    "\n",
    "En Machine Learning, preparar correctamente los datos es crucial. Los **pipelines** permiten encadenar transformaciones y modelos, manteniendo el código limpio y reproducible.\n",
    "\n",
    "El **ColumnTransformer** permite aplicar diferentes transformaciones a columnas específicas (numéricas, categóricas, fechas, etc.).\n",
    "\n",
    "---\n",
    "\n",
    "## Objetivos del notebook\n",
    "\n",
    "- Usar `Pipeline` para encadenar pasos de transformación y modelado.\n",
    "- Usar `ColumnTransformer` para transformar columnas por tipo.\n",
    "- Aplicar transformaciones a variables numéricas, categóricas y de fecha.\n"
   ]
  },
  {
   "cell_type": "code",
   "execution_count": null,
   "id": "24195898",
   "metadata": {},
   "outputs": [],
   "source": [
    "\n",
    "import pandas as pd\n",
    "import numpy as np\n",
    "\n",
    "# Dataset simulado\n",
    "df = pd.DataFrame({\n",
    "    'edad': [25, 32, 47, 51, 62],\n",
    "    'salario': [50000, 64000, 120000, 98000, 150000],\n",
    "    'genero': ['M', 'F', 'F', 'M', 'F'],\n",
    "    'ciudad': ['Bogotá', 'Medellín', 'Cali', 'Bogotá', 'Cali'],\n",
    "    'fecha_ingreso': pd.to_datetime(['2020-01-01', '2019-05-21', '2018-07-10', '2021-03-15', '2017-11-30']),\n",
    "    'compró': [0, 1, 1, 0, 1]\n",
    "})\n",
    "\n",
    "df.head()\n"
   ]
  },
  {
   "cell_type": "markdown",
   "id": "6b8e9ac5",
   "metadata": {},
   "source": [
    "\n",
    "## Tipos de variables y transformaciones aplicables\n",
    "\n",
    "| Tipo          | Ejemplo        | Transformación Sugerida         |\n",
    "|---------------|----------------|----------------------------------|\n",
    "| Numérica      | Edad, Salario  | Escalado (StandardScaler, MinMax) |\n",
    "| Categórica    | Género, Ciudad | Codificación (OneHotEncoder, OrdinalEncoder) |\n",
    "| Fecha         | Fecha Ingreso  | Extracción de año, mes, día, antigüedad |\n",
    "\n"
   ]
  },
  {
   "cell_type": "code",
   "execution_count": null,
   "id": "0218248f",
   "metadata": {},
   "outputs": [],
   "source": [
    "\n",
    "from sklearn.compose import ColumnTransformer\n",
    "from sklearn.preprocessing import StandardScaler, OneHotEncoder, FunctionTransformer\n",
    "from sklearn.pipeline import Pipeline\n",
    "from sklearn.linear_model import LogisticRegression\n",
    "\n",
    "# Función para transformar fecha a antigüedad en días\n",
    "def calcular_antiguedad(X):\n",
    "    return (pd.Timestamp('2024-01-01') - pd.to_datetime(X)).dt.days.to_frame()\n",
    "\n",
    "preprocesador = ColumnTransformer(transformers=[\n",
    "    ('num', StandardScaler(), ['edad', 'salario']),\n",
    "    ('cat', OneHotEncoder(), ['genero', 'ciudad']),\n",
    "    ('fecha', FunctionTransformer(calcular_antiguedad, validate=False), ['fecha_ingreso'])\n",
    "])\n"
   ]
  },
  {
   "cell_type": "code",
   "execution_count": null,
   "id": "eed88b65",
   "metadata": {},
   "outputs": [],
   "source": [
    "\n",
    "# Pipeline completo con modelo\n",
    "pipeline = Pipeline(steps=[\n",
    "    ('preprocesamiento', preprocesador),\n",
    "    ('clasificador', LogisticRegression())\n",
    "])\n",
    "\n",
    "# Separar X e y\n",
    "X = df.drop(columns='compró')\n",
    "y = df['compró']\n",
    "\n",
    "# Ajustar modelo\n",
    "pipeline.fit(X, y)\n",
    "print(\"Modelo entrenado con éxito.\")\n"
   ]
  },
  {
   "cell_type": "code",
   "execution_count": null,
   "id": "91024fe6",
   "metadata": {},
   "outputs": [],
   "source": [
    "\n",
    "# Transformar datos y mostrar\n",
    "X_transformado = pipeline.named_steps['preprocesamiento'].transform(X)\n",
    "print(\"Forma de X transformado:\", X_transformado.shape)\n"
   ]
  },
  {
   "cell_type": "markdown",
   "id": "a826ec44",
   "metadata": {},
   "source": [
    "\n",
    "## Ejercicio Final\n",
    "\n",
    "1. Agrega una nueva variable categórica o de texto al dataset (ej. ocupación).\n",
    "2. Añade una transformación específica para esa nueva columna.\n",
    "3. Cambia el modelo final del pipeline a un árbol de decisión (`DecisionTreeClassifier`) y entrena nuevamente.\n",
    "\n",
    "¿Puedes visualizar cómo cambia la forma de los datos transformados?\n"
   ]
  }
 ],
 "metadata": {},
 "nbformat": 4,
 "nbformat_minor": 5
}