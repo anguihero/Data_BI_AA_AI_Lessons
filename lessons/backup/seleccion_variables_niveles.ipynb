{
 "cells": [
  {
   "cell_type": "markdown",
   "id": "7a750d8e",
   "metadata": {},
   "source": [
    "\n",
    "# Selección de Variables: Técnicas para Todos los Niveles\n",
    "\n",
    "La **selección de variables** es un paso crucial para mejorar la interpretabilidad, rendimiento y generalización de los modelos.\n",
    "\n",
    "---\n",
    "\n",
    "## ¿Por qué seleccionar variables?\n",
    "\n",
    "- Mejora la precisión del modelo.\n",
    "- Reduce el sobreajuste.\n",
    "- Disminuye el tiempo de entrenamiento.\n",
    "- Mejora la interpretabilidad.\n",
    "\n",
    "---\n",
    "\n",
    "## Niveles:\n",
    "\n",
    "- **Rookie**: Métodos estadísticos simples y filtrado univariado.\n",
    "- **Intermedio**: Métodos automáticos de búsqueda con modelos.\n",
    "- **Experto**: Técnicas avanzadas como Lasso, Recursion y Permutation Importance.\n"
   ]
  },
  {
   "cell_type": "code",
   "execution_count": null,
   "id": "6ead6dcd",
   "metadata": {},
   "outputs": [],
   "source": [
    "\n",
    "import pandas as pd\n",
    "import numpy as np\n",
    "from sklearn.datasets import load_boston\n",
    "from sklearn.model_selection import train_test_split\n",
    "\n",
    "# Cargar datos\n",
    "boston = load_boston()\n",
    "X = pd.DataFrame(boston.data, columns=boston.feature_names)\n",
    "y = boston.target\n",
    "X_train, X_test, y_train, y_test = train_test_split(X, y, test_size=0.2, random_state=42)\n",
    "X.head()\n"
   ]
  },
  {
   "cell_type": "markdown",
   "id": "41c79918",
   "metadata": {},
   "source": [
    "\n",
    "## Nivel Rookie: Filtrado Univariado\n",
    "\n",
    "Se basa en relaciones estadísticas simples entre cada predictor y la variable objetivo.\n",
    "\n",
    "### Técnicas:\n",
    "- Correlación para regresión\n",
    "- Chi-cuadrado para clasificación\n",
    "\n",
    "```python\n",
    "from sklearn.feature_selection import SelectKBest, f_regression\n",
    "```\n"
   ]
  },
  {
   "cell_type": "code",
   "execution_count": null,
   "id": "121aab3e",
   "metadata": {},
   "outputs": [],
   "source": [
    "\n",
    "from sklearn.feature_selection import SelectKBest, f_regression\n",
    "\n",
    "selector = SelectKBest(score_func=f_regression, k=5)\n",
    "X_new = selector.fit_transform(X_train, y_train)\n",
    "\n",
    "print(\"Variables seleccionadas:\", X.columns[selector.get_support()])\n"
   ]
  },
  {
   "cell_type": "markdown",
   "id": "dcb190cd",
   "metadata": {},
   "source": [
    "\n",
    "## Nivel Intermedio: Selección Secuencial\n",
    "\n",
    "Evalúa combinaciones de variables añadiendo o quitando una a la vez.\n",
    "\n",
    "### Técnicas:\n",
    "- Forward Selection\n",
    "- Backward Elimination\n",
    "\n",
    "```python\n",
    "from sklearn.feature_selection import SequentialFeatureSelector\n",
    "```\n"
   ]
  },
  {
   "cell_type": "code",
   "execution_count": null,
   "id": "a2840448",
   "metadata": {},
   "outputs": [],
   "source": [
    "\n",
    "from sklearn.linear_model import LinearRegression\n",
    "from sklearn.feature_selection import SequentialFeatureSelector\n",
    "\n",
    "modelo = LinearRegression()\n",
    "sfs = SequentialFeatureSelector(modelo, n_features_to_select=5, direction='forward')\n",
    "sfs.fit(X_train, y_train)\n",
    "\n",
    "print(\"Variables seleccionadas:\", X.columns[sfs.get_support()])\n"
   ]
  },
  {
   "cell_type": "markdown",
   "id": "1311582e",
   "metadata": {},
   "source": [
    "\n",
    "## Nivel Experto: Regularización y Permutation Importance\n",
    "\n",
    "### Lasso (L1):\n",
    "Penaliza el valor absoluto de los coeficientes y fuerza a algunos a cero.\n",
    "\n",
    "### Permutation Importance:\n",
    "Evalúa la importancia real de una variable midiendo la pérdida de desempeño al perturbarla.\n",
    "\n",
    "```python\n",
    "from sklearn.linear_model import LassoCV\n",
    "from sklearn.inspection import permutation_importance\n",
    "```\n"
   ]
  },
  {
   "cell_type": "code",
   "execution_count": null,
   "id": "82b59f10",
   "metadata": {},
   "outputs": [],
   "source": [
    "\n",
    "from sklearn.linear_model import LassoCV\n",
    "\n",
    "lasso = LassoCV(cv=5)\n",
    "lasso.fit(X_train, y_train)\n",
    "\n",
    "print(\"Coeficientes distintos de cero:\")\n",
    "for name, coef in zip(X.columns, lasso.coef_):\n",
    "    if coef != 0:\n",
    "        print(f\"{name}: {coef:.4f}\")\n"
   ]
  },
  {
   "cell_type": "code",
   "execution_count": null,
   "id": "019132eb",
   "metadata": {},
   "outputs": [],
   "source": [
    "\n",
    "from sklearn.inspection import permutation_importance\n",
    "\n",
    "result = permutation_importance(lasso, X_test, y_test, n_repeats=10, random_state=42)\n",
    "\n",
    "importances = pd.DataFrame({'feature': X.columns, 'importance': result.importances_mean})\n",
    "importances = importances.sort_values(by='importance', ascending=False)\n",
    "importances.head()\n"
   ]
  },
  {
   "cell_type": "markdown",
   "id": "f73b3401",
   "metadata": {},
   "source": [
    "\n",
    "## Ejercicio Final\n",
    "\n",
    "1. Usa el dataset `load_diabetes`.\n",
    "2. Aplica técnicas de los tres niveles.\n",
    "3. Compara las variables seleccionadas por cada método.\n",
    "4. Entrena un modelo con las mejores variables según cada técnica y compara desempeño.\n",
    "\n",
    "¿Notas cuáles variables son seleccionadas consistentemente?\n"
   ]
  }
 ],
 "metadata": {},
 "nbformat": 4,
 "nbformat_minor": 5
}