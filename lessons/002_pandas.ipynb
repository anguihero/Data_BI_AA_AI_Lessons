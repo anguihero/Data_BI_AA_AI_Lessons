{
  "cells": [
    {
      "cell_type": "markdown",
      "metadata": {
        "id": "409oTa9YlVOd"
      },
      "source": [
        "# PANDAS SERIES & DATAFRAMES\n",
        "\n",
        "*   Modulos\n",
        "*   Crear una serie\n",
        "*   Crear un dataframe\n",
        "*   Carga de datos\n",
        "*   Resumen de los datos: dimensiones y estructuras\n",
        "*   Detección y tratamiento de valores ausentes\n",
        "*   Variables dummy\n",
        "*   Ordenar el dataframe\n",
        "*   filtrar por columna o fila\n",
        "*   Query con pandas\n",
        "* Joins\n",
        "\n"
      ]
    },
    {
      "cell_type": "markdown",
      "metadata": {
        "id": "cHy7CbS89vJm"
      },
      "source": [
        "## Modulos\n",
        "*modulos/paquetes/librerias*\n",
        "\n",
        "* Previo a usar un modulo se debe primero *descargar*, *instalar* y luego si se puede *importar*"
      ]
    },
    {
      "cell_type": "markdown",
      "metadata": {},
      "source": [
        "Si se recibe un error de este tipo *ModuleNotFoundError: No module named 'NOMBRE_MODULO_DESEADO'* se puede solucionar de la siguiente forma :\n",
        "\n",
        "    * en CMD/TERMINAL usar el comando: pip install NOMBRE_MODULO_DESEADO\n",
        "    * en la rutina se incluye la instrucción: !pip install NOMBRE_MODULO_DESEADO\n",
        "    * especificar las librerias/modulos que se necesitan y la versión en un requirements.txt"
      ]
    },
    {
      "cell_type": "code",
      "execution_count": null,
      "metadata": {
        "id": "FHxhYgR6s1mq"
      },
      "outputs": [],
      "source": [
        "import os # importar los modulos"
      ]
    },
    {
      "cell_type": "code",
      "execution_count": null,
      "metadata": {
        "id": "LZJDHSaLORE7"
      },
      "outputs": [],
      "source": [
        "import pandas as pd # traernos las funciones para importar y trabajar con tablas de datos\n",
        "import numpy as np # traernos las funciones para trabajar con arreglos/matrices/vectores datos"
      ]
    },
    {
      "cell_type": "markdown",
      "metadata": {
        "id": "dyyZYqFD-kwb"
      },
      "source": [
        "## Crear una serie"
      ]
    },
    {
      "cell_type": "markdown",
      "metadata": {},
      "source": [
        "Estructura unidimensional"
      ]
    },
    {
      "cell_type": "markdown",
      "metadata": {
        "id": "K6aqW3C4vufm"
      },
      "source": [
        "* creando una serie de pandas a partir de un diccionario"
      ]
    },
    {
      "cell_type": "code",
      "execution_count": null,
      "metadata": {
        "colab": {
          "base_uri": "https://localhost:8080/"
        },
        "id": "P_6GaudZ_RPz",
        "outputId": "39e729ff-f923-491f-a777-b5bdf848c849"
      },
      "outputs": [],
      "source": [
        "# crear un diccionario\n",
        "s = {\n",
        "    'Jairo': 1020159, \n",
        "    'Felipe': 1020486, \n",
        "    'Omar': 1020754\n",
        "    } \n",
        "\n",
        "# crear una serie de pandas usando el diccionario\n",
        "ds_000 = pd.Series(s) \n",
        "\n",
        "# ver serie de pandas\n",
        "ds_000 "
      ]
    },
    {
      "cell_type": "markdown",
      "metadata": {
        "id": "CWMdjMQivynf"
      },
      "source": [
        "* creando una serie de pandas a partir de listas"
      ]
    },
    {
      "cell_type": "code",
      "execution_count": null,
      "metadata": {
        "colab": {
          "base_uri": "https://localhost:8080/"
        },
        "id": "GIvzoaEO-oLE",
        "outputId": "52fce38e-d185-4a59-b855-a57a76eb7f86"
      },
      "outputs": [],
      "source": [
        "valores = [1020159, 1020486, 1020754] # creamos un listado con la serie de informacion\n",
        "list_indx = ['Jairo', 'Felipe', 'Omar'] # creamos un listado con los indices o nombres de las filas\n",
        "\n",
        "ds_000 = pd.Series(\n",
        "    valores,\n",
        "    index = list_indx\n",
        "    )# usamos la funcion pd.series para obtener una serie de pandas\n",
        "ds_000"
      ]
    },
    {
      "cell_type": "markdown",
      "metadata": {},
      "source": [
        "* crear una serie de pandas con solo una lista de valores"
      ]
    },
    {
      "cell_type": "code",
      "execution_count": null,
      "metadata": {
        "colab": {
          "base_uri": "https://localhost:8080/"
        },
        "id": "w7iUI3zSfzMz",
        "outputId": "1b56baaf-7999-4d67-c012-af0ca3872619"
      },
      "outputs": [],
      "source": [
        "s = ['Jairo', 'Felipe', 'Omar']\n",
        "ds_000 = pd.Series(s) # crear una serie de pandas solo con una lista\n",
        "ds_000 # ver serie de pandas"
      ]
    },
    {
      "cell_type": "markdown",
      "metadata": {
        "id": "KrECSMPg9jna"
      },
      "source": [
        "## Crear un dataframe\n",
        "\n",
        "    * NOMBRE UNICO QUE IDENTIFIQUE CADA COLUMNA : no hay dos columnas con el mismo nombre\n",
        "    * FORMATO : una misma columna no puede mas de un tipo de dato (o solamente numerica o solamente texto, o solamente otro tipo)"
      ]
    },
    {
      "cell_type": "code",
      "execution_count": null,
      "metadata": {
        "colab": {
          "base_uri": "https://localhost:8080/",
          "height": 143
        },
        "id": "48Zz5yyc9qMN",
        "outputId": "635835e7-41fe-405d-e22e-5baa9ca38fd0"
      },
      "outputs": [],
      "source": [
        "# crear un diccionario\n",
        "dm_000 = {\n",
        "    'Job Title': ['Android Developer', 'Full Stack Web Developer', 'Full Stack Web Developer'],\n",
        "    'Salary': [3456, 6789,12345]\n",
        "    }\n",
        "\n",
        "# construir un dataframe a partir de un diccionario (las llaves las va a utilizar para generar columnas)\n",
        "df_000 = pd.DataFrame(data=dm_000)\n",
        "df_000"
      ]
    },
    {
      "cell_type": "code",
      "execution_count": null,
      "metadata": {
        "colab": {
          "base_uri": "https://localhost:8080/",
          "height": 175
        },
        "id": "gUCIu4kX_-Ye",
        "outputId": "e972158b-66b6-4f1e-950d-5e5b49df6211"
      },
      "outputs": [],
      "source": [
        "# crear un dataframe desde una serie de pandas\n",
        "s = [1020159, 1020486, 1020754,999999] # lista de informacion con el salario\n",
        "list_indx = ['Jairo', 'Felipe', 'Omar','juan'] # lista con el trabajador\n",
        "ds_000 = pd.Series(s,index = list_indx) # crear una serie de pandas con la lista de informacion y de indices\n",
        "\n",
        "\n",
        "# crear un diccionario utilizando la serie de pandas generada anteriormente\n",
        "dm_000 = {\n",
        "    'Job Title': ['Android Developer', 'Full Stack Web Developer', 'Full Stack Web Developer','Unemployed'],\n",
        "    'Salary': ds_000\n",
        "    }\n",
        "\n",
        "df_000 = pd.DataFrame(data=dm_000) # crear el datfarame a partir de la serie de pandas\n",
        "df_000"
      ]
    },
    {
      "cell_type": "code",
      "execution_count": null,
      "metadata": {
        "colab": {
          "base_uri": "https://localhost:8080/",
          "height": 143
        },
        "id": "t96QqZz4Aiqz",
        "outputId": "7107d26c-ba7f-465c-b106-883dc901e5ee"
      },
      "outputs": [],
      "source": [
        "# crear una matriz o arreglo de datos usando numpy\n",
        "da_000 = np.array(\n",
        "    [\n",
        "        ['Jairo', 'Android Developer', 1020159],\n",
        "        ['Felipe', 'Full Stack Web Developer', 1020486],\n",
        "        ['Omar', 'Full Stack Web Developer', 1020754]\n",
        "        ]\n",
        "        )\n",
        "\n",
        "# a partir de un array de numpy construyo el dataframe\n",
        "df_000 = pd.DataFrame(\n",
        "    data= da_000,\n",
        "    columns= ['Name', 'Job Title', 'Salary']\n",
        "    ) # usar el arrglo de numpy e indicar explicitamente el nopmbre las columnas\n",
        "\n",
        "df_000\n"
      ]
    },
    {
      "cell_type": "markdown",
      "metadata": {},
      "source": [
        "* generar un dataframe vacío"
      ]
    },
    {
      "cell_type": "code",
      "execution_count": null,
      "metadata": {
        "colab": {
          "base_uri": "https://localhost:8080/",
          "height": 53
        },
        "id": "YM58Kvqdw4H1",
        "outputId": "6d7ad4a0-395f-47f0-eae0-1e3a8305800a"
      },
      "outputs": [],
      "source": [
        "df_000 = pd.DataFrame()\n",
        "df_000"
      ]
    },
    {
      "cell_type": "markdown",
      "metadata": {
        "id": "tx7NIYfhzOIT"
      },
      "source": [
        "## Carga de datos"
      ]
    },
    {
      "cell_type": "markdown",
      "metadata": {
        "id": "x5yqaw-Z0Urx"
      },
      "source": [
        "**Qué se necesita para leer/acceder a un recurso de información? ...**\n",
        "\n",
        "1. Saber dónde está ubicado?\n",
        "2. Saber cómo se llama el recurso de información?\n",
        "3. Qué método/estrategia/función me sirve para leerlo?"
      ]
    },
    {
      "cell_type": "markdown",
      "metadata": {
        "id": "HvEsWL2p016z"
      },
      "source": [
        "### Carga de un archivo plano"
      ]
    },
    {
      "cell_type": "code",
      "execution_count": null,
      "metadata": {
        "colab": {
          "base_uri": "https://localhost:8080/",
          "height": 53
        },
        "id": "19j19qPyfpo2",
        "outputId": "35cb3cd1-507f-40af-b83c-4bc9045ab5a9"
      },
      "outputs": [],
      "source": [
        "# CONSTRUIR LA DIRECCION DE UBICACION UN RECURSO DE INFORMACION\n",
        "mainpath = \"https://raw.githubusercontent.com/elprincipitogauss/lesson/main/\" # direccion o ruta de ubicacion del archivo\n",
        "filename = \"Salary_Dataset_with_Extra_Features.csv\" # el nombre del archivo y la extension\n",
        "fullpath = os.path.join(mainpath, filename) # concatenar la direccion completa\n",
        "fullpath"
      ]
    },
    {
      "cell_type": "markdown",
      "metadata": {},
      "source": [
        "    * pd.read_csv()"
      ]
    },
    {
      "cell_type": "code",
      "execution_count": null,
      "metadata": {
        "colab": {
          "base_uri": "https://localhost:8080/",
          "height": 738
        },
        "id": "w46flqfCgT39",
        "outputId": "44537ba8-657e-466a-f65b-f57e38329fb4"
      },
      "outputs": [],
      "source": [
        " # utilizar la funcion de lectura de \"archivos planos\" de pandas para leer archivo ubicado en la ruta\n",
        "df_000 = pd.read_csv(fullpath) # lea archivo en ruta ( .txt , .csv y .tsv)\n",
        "df_000 # muestreme que hay en la variable"
      ]
    },
    {
      "cell_type": "markdown",
      "metadata": {},
      "source": [
        "* parametrizar la lectura del archivo"
      ]
    },
    {
      "cell_type": "code",
      "execution_count": null,
      "metadata": {
        "colab": {
          "base_uri": "https://localhost:8080/",
          "height": 738
        },
        "id": "HJwNT0sImvud",
        "outputId": "b0cc0a4d-a27d-4c1f-cff2-f9207e26e99d"
      },
      "outputs": [],
      "source": [
        "df_001 = pd.read_csv(fullpath, sep=\",\") # seperador de columnas\n",
        "df_001"
      ]
    },
    {
      "cell_type": "code",
      "execution_count": null,
      "metadata": {
        "colab": {
          "base_uri": "https://localhost:8080/",
          "height": 738
        },
        "id": "RmT0Q_eRSd-2",
        "outputId": "efdcfd0f-4826-418f-954a-3c1a7e1847a6"
      },
      "outputs": [],
      "source": [
        "df_001 = pd.read_csv(\n",
        "    fullpath, # ruta\n",
        "    sep=\",\", # separador\n",
        "    header = 'infer' # lectura del encabezado\n",
        "    ) # parametrizar la lectura del archivo\n",
        "df_001"
      ]
    },
    {
      "cell_type": "code",
      "execution_count": null,
      "metadata": {
        "colab": {
          "base_uri": "https://localhost:8080/",
          "height": 704
        },
        "id": "3Fc4yXBNgqPr",
        "outputId": "ef9e7fb5-ae78-4a09-82d0-db8104fece40"
      },
      "outputs": [],
      "source": [
        "list_colnames = ['A', 'B', 'C', 'D', 'E', 'F', 'G','H'] # creo un listado ( de nombres de columnas)\n",
        "\n",
        "df_002 = pd.read_csv(\n",
        "    fullpath, # ruta\n",
        "    sep=\",\", # separador\n",
        "    names = list_colnames # el listado de nombres de columnas\n",
        "    ) # leer el archivo indicando el nombre de las columnas\n",
        "\n",
        "df_002"
      ]
    },
    {
      "cell_type": "code",
      "execution_count": null,
      "metadata": {
        "colab": {
          "base_uri": "https://localhost:8080/",
          "height": 666
        },
        "id": "_AYfyYJdhLEb",
        "outputId": "c1210e34-d834-450c-fee3-326de5b6cc67"
      },
      "outputs": [],
      "source": [
        "list_colnames = ['A', 'B', 'C', 'D', 'E', 'F', 'G','H'] # creo un listado ( de nombres de columnas)\n",
        "\n",
        "df_003 = pd.read_csv(\n",
        "    fullpath,\n",
        "    sep=\",\",\n",
        "    names = list_colnames,\n",
        "\n",
        "    skiprows = 1 # salte la la primer fila en la lectura\n",
        "    )\n",
        "df_003"
      ]
    },
    {
      "cell_type": "markdown",
      "metadata": {
        "id": "0K8IV7CX07SS"
      },
      "source": [
        "### Carga de un archivo de excel"
      ]
    },
    {
      "cell_type": "code",
      "execution_count": null,
      "metadata": {
        "colab": {
          "base_uri": "https://localhost:8080/",
          "height": 53
        },
        "id": "VGKVv00L0zWb",
        "outputId": "aae09e75-813a-46ef-98fa-e2986992213b"
      },
      "outputs": [],
      "source": [
        "# construir ruta de ubicacion del archivo\n",
        "mainpath = \"https://raw.githubusercontent.com/elprincipitogauss/lesson/main/\"\n",
        "filename = \"Salary_Dataset_with_Extra_Features.xlsx\"\n",
        "fullpath = os.path.join(mainpath, filename)\n",
        "fullpath"
      ]
    },
    {
      "cell_type": "markdown",
      "metadata": {},
      "source": [
        "    * pd.read_excel"
      ]
    },
    {
      "cell_type": "markdown",
      "metadata": {},
      "source": [
        "*NOTA* :  se debe tener instaldo el modulo --openpyxl--"
      ]
    },
    {
      "cell_type": "code",
      "execution_count": null,
      "metadata": {
        "colab": {
          "base_uri": "https://localhost:8080/",
          "height": 738
        },
        "id": "YQ2SLxu61oWR",
        "outputId": "f93d1557-6e3d-409b-dcb7-b206488ba107"
      },
      "outputs": [],
      "source": [
        "df_004 = pd.read_excel(fullpath) # usar la funcion de lectura de excel para pandas\n",
        "df_004"
      ]
    },
    {
      "cell_type": "code",
      "execution_count": null,
      "metadata": {},
      "outputs": [],
      "source": [
        "# para una descripcion rapida del dataframe\n",
        "df_004.info()"
      ]
    },
    {
      "cell_type": "code",
      "execution_count": null,
      "metadata": {},
      "outputs": [],
      "source": [
        "df_004 = pd.read_excel(\n",
        "    fullpath,\n",
        "    sheet_name = 0 # seleccionar una hojas del excel\n",
        "    ) # usar la funcion de lectura de excel para pandas\n",
        "df_004"
      ]
    },
    {
      "cell_type": "code",
      "execution_count": null,
      "metadata": {
        "colab": {
          "base_uri": "https://localhost:8080/",
          "height": 738
        },
        "id": "ek_DIlslfzM2",
        "outputId": "5a8b7a9d-3502-4d78-f5ea-53d2d9fd1f20"
      },
      "outputs": [],
      "source": [
        "df_004 = pd.read_excel(\n",
        "    fullpath,\n",
        "    sheet_name = 'Salary_Dataset_with_Extra_Featu' # seleccionar una hojas del excel\n",
        "    ) # usar la funcion de lectura de excel para pandas\n",
        "df_004"
      ]
    },
    {
      "cell_type": "markdown",
      "metadata": {
        "id": "soKDGw7Zrcly"
      },
      "source": [
        "## Carga masiva de archivos"
      ]
    },
    {
      "cell_type": "code",
      "execution_count": null,
      "metadata": {
        "colab": {
          "base_uri": "https://localhost:8080/"
        },
        "id": "q-57d51brfyw",
        "outputId": "553520c9-c5c6-42e3-f39b-6ef0e590c73d"
      },
      "outputs": [],
      "source": [
        "# lista de adirecciones donde estan ubicados cada uno de los archivo\n",
        "list_filename = [\n",
        "    \"https://raw.githubusercontent.com/elprincipitogauss/lesson/main/Salary_Dataset_with_Extra_Features_pt1.xlsx\",\n",
        "    \"https://raw.githubusercontent.com/elprincipitogauss/lesson/main/Salary_Dataset_with_Extra_Features_pt2.xlsx\",\n",
        "    \"https://raw.githubusercontent.com/elprincipitogauss/lesson/main/Salary_Dataset_with_Extra_Features_pt3.xlsx\"\n",
        "    ]\n",
        "\n",
        "# crear una lista vacia contenedora\n",
        "list_df = [] \n",
        "\n",
        "#estructura de control for\n",
        "for file_i in list_filename:\n",
        "  list_df.append(pd.read_excel(file_i)) # la lista vacia se va a llenar de cada uno de los dataframes que va a leer\n",
        "\n",
        "list_df # ver contenido de la lista"
      ]
    },
    {
      "cell_type": "markdown",
      "metadata": {
        "id": "K5sq0v-8wUYf"
      },
      "source": [
        "![picture](https://raw.githubusercontent.com/elprincipitogauss/lesson/main/bindrows.png)"
      ]
    },
    {
      "cell_type": "code",
      "execution_count": null,
      "metadata": {},
      "outputs": [],
      "source": [
        "# canaatidad de filas de cada dataframe\n",
        "3413+10030+6246"
      ]
    },
    {
      "cell_type": "markdown",
      "metadata": {},
      "source": [
        "    * pd.concat"
      ]
    },
    {
      "cell_type": "code",
      "execution_count": null,
      "metadata": {
        "colab": {
          "base_uri": "https://localhost:8080/",
          "height": 738
        },
        "id": "UeIUhLDvt2_i",
        "outputId": "3348b62b-7567-4295-a1d5-ac4b49402b12"
      },
      "outputs": [],
      "source": [
        "# enlistamos las direcciones a consultar con los exceles\n",
        "list_filename = [\n",
        "    \"https://raw.githubusercontent.com/elprincipitogauss/lesson/main/Salary_Dataset_with_Extra_Features_pt1.xlsx\",\n",
        "    \"https://raw.githubusercontent.com/elprincipitogauss/lesson/main/Salary_Dataset_with_Extra_Features_pt2.xlsx\",\n",
        "    \"https://raw.githubusercontent.com/elprincipitogauss/lesson/main/Salary_Dataset_with_Extra_Features_pt3.xlsx\"\n",
        "    ]\n",
        "\n",
        "# nota : no se necesita generar dataframe contenedor vacio\n",
        "\n",
        "# recorrer la lista para leer cada uno de los exceles\n",
        "for file_i in list_filename:\n",
        "\n",
        "  df_a = pd.read_excel(file_i) # generar un dataframe leyendo la direccion en el iterando\n",
        "  \n",
        "  try: # intente realizar ...\n",
        "    df_cont = pd.concat([df_cont,df_a]) # pegar por abajo la nueva base leida a la base inicial\n",
        "  except:\n",
        "    df_cont = df_a # el datframe leido va a ser el datframe inicial del contenedor\n",
        "\n",
        "df_cont"
      ]
    },
    {
      "cell_type": "markdown",
      "metadata": {},
      "source": [
        "* listar archivos de un directorio"
      ]
    },
    {
      "cell_type": "code",
      "execution_count": null,
      "metadata": {},
      "outputs": [],
      "source": [
        "def busqueda_directorio_archivos(directorio,patron):\n",
        "    \"\"\"\n",
        "    directorio: es la ruta del directorio que se quiere explorar\n",
        "    patron: el patron que debe coincidir con el nombre en la busqueda de los archivos\n",
        "    \"\"\"\n",
        "    archivos = os.listdir(directorio)\n",
        "    resultado = list(filter(lambda x: patron in x, archivos))\n",
        "    return resultado\n"
      ]
    },
    {
      "cell_type": "code",
      "execution_count": null,
      "metadata": {},
      "outputs": [],
      "source": [
        "busqueda_directorio_archivos(directorio = '.',patron = 'Analisis')"
      ]
    },
    {
      "cell_type": "markdown",
      "metadata": {
        "id": "NsckBy6DmpHI"
      },
      "source": [
        "## Resumen de los datos: dimensiones y estructuras"
      ]
    },
    {
      "cell_type": "code",
      "execution_count": null,
      "metadata": {
        "colab": {
          "base_uri": "https://localhost:8080/",
          "height": 738
        },
        "id": "4VLRh3-mS3Mb",
        "outputId": "4644dcc2-f364-49a5-f409-8f53e481c704"
      },
      "outputs": [],
      "source": [
        "# backup de la información\n",
        "df = df_000.copy() # reserva una copia de la informacion en la memoria\n",
        "df"
      ]
    },
    {
      "cell_type": "code",
      "execution_count": null,
      "metadata": {
        "colab": {
          "base_uri": "https://localhost:8080/",
          "height": 365
        },
        "id": "tuwasdPjlDB-",
        "outputId": "1edcbe87-a0cc-4a9e-d7b4-c52c8dde6bcf"
      },
      "outputs": [],
      "source": [
        "df.head(5) #  encabezado del dataframe"
      ]
    },
    {
      "cell_type": "code",
      "execution_count": null,
      "metadata": {
        "colab": {
          "base_uri": "https://localhost:8080/",
          "height": 546
        },
        "id": "-Y23GJfDlAud",
        "outputId": "82d6996c-55bf-4de5-dc7d-36199cc61aa3"
      },
      "outputs": [],
      "source": [
        "df.tail(5) # la cola de la tabla"
      ]
    },
    {
      "cell_type": "code",
      "execution_count": null,
      "metadata": {
        "colab": {
          "base_uri": "https://localhost:8080/"
        },
        "id": "qzQ0PCdMS4A7",
        "outputId": "ea40ce37-4285-4de6-f950-ac2c55651a92"
      },
      "outputs": [],
      "source": [
        "df.columns # el nombre de las columnas de la tabla"
      ]
    },
    {
      "cell_type": "code",
      "execution_count": null,
      "metadata": {
        "colab": {
          "base_uri": "https://localhost:8080/"
        },
        "id": "wrYbMu_1bEyd",
        "outputId": "26aa2e82-3cb0-4c9a-bd1a-cf7b7e51818f"
      },
      "outputs": [],
      "source": [
        "df.shape # las dimensiones del dataframe (rows, columns)"
      ]
    },
    {
      "cell_type": "code",
      "execution_count": null,
      "metadata": {
        "colab": {
          "base_uri": "https://localhost:8080/",
          "height": 300
        },
        "id": "iXC4IcuIfzM4",
        "outputId": "e8b88ba9-5855-41e8-829e-479fa18af1e0"
      },
      "outputs": [],
      "source": [
        "# resumen estdistico de cada columna\n",
        "# segun de el tipo de datos realizar un descriptivo rapido\n",
        "# da prioridad a las columnas numericas\n",
        "df.describe()"
      ]
    },
    {
      "cell_type": "markdown",
      "metadata": {},
      "source": [
        "* Nota : seleccionar columnas de un dataframe usando las llavesdataframe\n",
        "[[columna_1, columna_2,..., columna_n]]"
      ]
    },
    {
      "cell_type": "code",
      "execution_count": null,
      "metadata": {
        "colab": {
          "base_uri": "https://localhost:8080/",
          "height": 175
        },
        "id": "CIMO4jsEjhdw",
        "outputId": "e4e20cca-75ca-49bb-b9eb-ab8d014cdf6b"
      },
      "outputs": [],
      "source": [
        "# resumen estdistico de cada columna\n",
        "# segun de el tipo de datos realizar un descriptivo rapido\n",
        "# da prioridad a las columnas numericas se debe filtrar solo texto eenn caso de describir cols texto\n",
        "df[['Company Name', 'Job Title']].describe()"
      ]
    },
    {
      "cell_type": "code",
      "execution_count": null,
      "metadata": {
        "colab": {
          "base_uri": "https://localhost:8080/"
        },
        "id": "HdFK1HlBjzPZ",
        "outputId": "44cb14f1-fb04-467f-a2ed-b6a57c3639f6"
      },
      "outputs": [],
      "source": [
        "df.dtypes # tipo de datos en cada columna"
      ]
    },
    {
      "cell_type": "code",
      "execution_count": null,
      "metadata": {
        "colab": {
          "base_uri": "https://localhost:8080/"
        },
        "id": "5vfR4nQF6vq-",
        "outputId": "0533b8d2-dfc1-46d2-d2dd-8c791a4996ac"
      },
      "outputs": [],
      "source": [
        "df.info() # resumen rapido de la informacion del dataframe"
      ]
    },
    {
      "cell_type": "markdown",
      "metadata": {
        "id": "ciVLN8z_m2w-"
      },
      "source": [
        "## Tratamiento y detección de valores ausentes"
      ]
    },
    {
      "cell_type": "code",
      "execution_count": null,
      "metadata": {
        "id": "5VEn7sUZ0DQ_"
      },
      "outputs": [],
      "source": [
        "# variable que se le asigna un texto que es el nombre de una columna #feature=atributos=variables=columnas\n",
        "ftr_name = \"Rating\" "
      ]
    },
    {
      "cell_type": "code",
      "execution_count": null,
      "metadata": {},
      "outputs": [],
      "source": [
        "# ver columna seleccionada\n",
        "df[ftr_name]"
      ]
    },
    {
      "cell_type": "code",
      "execution_count": null,
      "metadata": {
        "colab": {
          "base_uri": "https://localhost:8080/"
        },
        "id": "VzDfXXqkj1aK",
        "outputId": "757c2e8f-c195-4d2d-b4ad-6be2d08edf4c"
      },
      "outputs": [],
      "source": [
        "# si la informacion de cada elemento de la columna es nula\n",
        "pd.isnull(df[ftr_name]) "
      ]
    },
    {
      "cell_type": "code",
      "execution_count": null,
      "metadata": {
        "colab": {
          "base_uri": "https://localhost:8080/"
        },
        "id": "IPe1dLhYmyrf",
        "outputId": "be308278-a2c8-450b-88c9-a8eb9b394c1d"
      },
      "outputs": [],
      "source": [
        "# si la informacion de cada elemento de la columna no es nula\n",
        "pd.notnull(df[ftr_name]) "
      ]
    },
    {
      "cell_type": "code",
      "execution_count": null,
      "metadata": {
        "colab": {
          "base_uri": "https://localhost:8080/"
        },
        "id": "iFluicAMnCMv",
        "outputId": "35872645-345e-44b4-eab6-be2ced671edc"
      },
      "outputs": [],
      "source": [
        "# cuantos vacios hay?\n",
        "cuantos_vacios = pd.isnull(df[ftr_name]).values.ravel().sum() # sumar los trues (cuando es vacio)\n",
        "print('La columna '+ftr_name+ ' posee {} registros vacíos'.format(cuantos_vacios))"
      ]
    },
    {
      "cell_type": "code",
      "execution_count": null,
      "metadata": {
        "colab": {
          "base_uri": "https://localhost:8080/"
        },
        "id": "ncgid7VlnUp-",
        "outputId": "f57b5f85-51cd-4e91-c563-3efcfcdd4006"
      },
      "outputs": [],
      "source": [
        "# cuantos no son vacios?\n",
        "cuantos_llenos = pd.notnull(df[ftr_name]).values.ravel().sum() # suma los trues (cuando no es vacio)\n",
        "print('La columna '+ftr_name+ ' posee {} registros con información'.format(cuantos_llenos))"
      ]
    },
    {
      "cell_type": "markdown",
      "metadata": {
        "id": "GeAbTQBP3HpB"
      },
      "source": [
        "### Borrar valores ausentes"
      ]
    },
    {
      "cell_type": "code",
      "execution_count": null,
      "metadata": {
        "colab": {
          "base_uri": "https://localhost:8080/",
          "height": 115
        },
        "id": "LiqxLOKq7Y9T",
        "outputId": "cf63922d-ed7b-467c-8f36-778ac0f6159e"
      },
      "outputs": [],
      "source": [
        "# filtrar el dataframe según el registro que posee vacios en la columna\n",
        "df[pd.isnull(df[ftr_name])]"
      ]
    },
    {
      "cell_type": "code",
      "execution_count": null,
      "metadata": {
        "colab": {
          "base_uri": "https://localhost:8080/",
          "height": 330
        },
        "id": "aSWh86KvfzM9",
        "outputId": "17c762f4-4951-437c-aa7c-f9b3f19d55a0"
      },
      "outputs": [],
      "source": [
        "# recorrer el dataframe usando los numeros de filas\n",
        "# otr form  de usar rangos usando : limite_inferior:limite_superior\n",
        "# nnunca lleg al limite_superior\n",
        "# iloc loclizr por index\n",
        "df.iloc[16:21] "
      ]
    },
    {
      "cell_type": "markdown",
      "metadata": {
        "id": "8N-o7b3n-W4U"
      },
      "source": [
        "* revisión y borrado por eje filas"
      ]
    },
    {
      "cell_type": "code",
      "execution_count": null,
      "metadata": {
        "colab": {
          "base_uri": "https://localhost:8080/",
          "height": 330
        },
        "id": "FoXRrTm2nZ85",
        "outputId": "26e37546-5ff0-4049-e7a2-56a00d9f9d5a"
      },
      "outputs": [],
      "source": [
        "# borrar filas que contengan todos los campos vacios\n",
        "df.dropna(\n",
        "    axis=0,  # cuando axis = 0 hace referencia a las filas\n",
        "    how=\"all\" # todos los campos vacios\n",
        "    ).iloc[16:21] \n"
      ]
    },
    {
      "cell_type": "code",
      "execution_count": null,
      "metadata": {
        "colab": {
          "base_uri": "https://localhost:8080/",
          "height": 330
        },
        "id": "W0bkitkQruVg",
        "outputId": "38d39733-fa83-43cb-e338-16a1e1424bf9"
      },
      "outputs": [],
      "source": [
        "# borrar filas que contengan por lo menos un campo\n",
        "df.dropna(\n",
        "    axis=0, # cuando axis = 0 hace referencia a las filas\n",
        "    how=\"any\" # por lo menos algun campo esté vacio\n",
        "    ).iloc[16:21] "
      ]
    },
    {
      "cell_type": "markdown",
      "metadata": {
        "id": "inE-mg-a-awW"
      },
      "source": [
        "* revisión y borrado por eje columnas"
      ]
    },
    {
      "cell_type": "code",
      "execution_count": null,
      "metadata": {
        "colab": {
          "base_uri": "https://localhost:8080/",
          "height": 738
        },
        "id": "e-pIZYbY-SHm",
        "outputId": "0d845582-b770-460c-c75d-5a3fc083d31e"
      },
      "outputs": [],
      "source": [
        "# borrar columnas que contengan todos los registros vacios\n",
        "df.dropna(\n",
        "    axis=1, # cuando axis = 1 el entiendo que va a realizarlo por columnas\n",
        "    how=\"all\"\n",
        "    ).iloc[16:21]  \n"
      ]
    },
    {
      "cell_type": "code",
      "execution_count": null,
      "metadata": {
        "colab": {
          "base_uri": "https://localhost:8080/",
          "height": 580
        },
        "id": "9UetblsUfzM-",
        "outputId": "91efe277-8ee3-4ced-a92c-57fd13150cd6"
      },
      "outputs": [],
      "source": [
        "# borrar columnas que contengan por lo menos un campo\n",
        "df.dropna(\n",
        "    axis=1, # cuando axis = 1 el entiendo que va a realizarlo por columnas\n",
        "    how=\"any\"\n",
        "    ).iloc[16:21]  \n"
      ]
    },
    {
      "cell_type": "markdown",
      "metadata": {
        "id": "yUv1AZqL3fHF"
      },
      "source": [
        "### imputar valores ausentes"
      ]
    },
    {
      "cell_type": "code",
      "execution_count": null,
      "metadata": {
        "id": "5kzzOjJQ7wT5"
      },
      "outputs": [],
      "source": [
        "df_imputed = df.copy() # copy realiza una copia en otra variable"
      ]
    },
    {
      "cell_type": "code",
      "execution_count": null,
      "metadata": {
        "colab": {
          "base_uri": "https://localhost:8080/"
        },
        "id": "SmX_O9rFAT3U",
        "outputId": "56532578-1b70-45f0-b322-5330a9c304e5"
      },
      "outputs": [],
      "source": [
        "df_imputed.info()"
      ]
    },
    {
      "cell_type": "code",
      "execution_count": null,
      "metadata": {
        "colab": {
          "base_uri": "https://localhost:8080/"
        },
        "id": "_DqFL__N3bFk",
        "outputId": "9668e46c-a94d-4a05-c351-518c666275e2"
      },
      "outputs": [],
      "source": [
        "# llene todos los vacios (NaN NA Null) con \"ceros\" numerico\n",
        "df_test_000 = df_imputed.fillna(0)\n",
        "print(df_test_000.iloc[16:21] )\n",
        "df_test_000.info() "
      ]
    },
    {
      "cell_type": "code",
      "execution_count": null,
      "metadata": {
        "colab": {
          "base_uri": "https://localhost:8080/"
        },
        "id": "WGtw-rsg3huw",
        "outputId": "302f2908-be4d-43d0-98ce-c0a27e23f481"
      },
      "outputs": [],
      "source": [
        "df_test_000 = df_imputed.fillna('0')\n",
        "print(df_test_000.iloc[16:21] )\n",
        "df_test_000.info() # llene todos los vacios con \"ceros\" en texto"
      ]
    },
    {
      "cell_type": "code",
      "execution_count": null,
      "metadata": {},
      "outputs": [],
      "source": [
        "# #dos formas de guardar el resultado del cambio\n",
        "# df_imputed.fillna('0',inplace=True)\n",
        "# df_imputed = df_imputed.fillna('0')"
      ]
    },
    {
      "cell_type": "markdown",
      "metadata": {},
      "source": [
        "* realizar la imputacion según el contexto"
      ]
    },
    {
      "cell_type": "code",
      "execution_count": null,
      "metadata": {
        "colab": {
          "base_uri": "https://localhost:8080/"
        },
        "id": "m7VRa98UfzM-",
        "outputId": "a1a44dcb-32f1-4526-e04b-85baada6ccb4"
      },
      "outputs": [],
      "source": [
        "# seleccionar columna quie se quiere afectar (imputar)\n",
        "ftr_name = 'Rating'\n",
        "\n",
        "# saca el promedio de la columna seleccionada\n",
        "promedio = df_imputed[ftr_name].mean() \n",
        "# saca el promedio de la columna seleccionada\n",
        "mediana = df_imputed[ftr_name].median() \n",
        "\n",
        "print('el promedio de la columna {} es {} y su mediana es {}'.format(ftr_name,str(promedio),str(mediana)))"
      ]
    },
    {
      "cell_type": "code",
      "execution_count": null,
      "metadata": {
        "colab": {
          "base_uri": "https://localhost:8080/",
          "height": 330
        },
        "id": "whey7sxCD0gI",
        "outputId": "ec237b93-a07b-44f4-97c0-6380758d239d"
      },
      "outputs": [],
      "source": [
        "# recorrer el dataframe usando los numeros de filas\n",
        "df.iloc[16:21] "
      ]
    },
    {
      "cell_type": "code",
      "execution_count": null,
      "metadata": {
        "colab": {
          "base_uri": "https://localhost:8080/",
          "height": 226
        },
        "id": "QZRykO6D3nI-",
        "outputId": "c8a4bfd9-f95a-4ed9-f1fd-3c203482ef04"
      },
      "outputs": [],
      "source": [
        "#los diferentes metodos de rellenar o imputacion\n",
        "\n",
        "# seleccionar la columna\n",
        "ftr_name = 'Rating'\n",
        "\n",
        "# rellenar con un valor dado\n",
        "df_imputed[\"X_0_numerico\"] = df_imputed[ftr_name].fillna(0) # imputar con un numero para todos los ausentes\n",
        "df_imputed[\"X_0_texto\"] = df_imputed[ftr_name].fillna('0')# imputar con un texto para todos los ausentes\n",
        "\n",
        "# relleno segun contexto\n",
        "df_imputed[\"X_promedio\"] = df_imputed[ftr_name].fillna(df_imputed[ftr_name].mean())# imputar con un numero resultado de obtewner el promedio de la columna para todos los ausentes\n",
        "df_imputed[\"X_mediana\"] = df_imputed[ftr_name].fillna(df_imputed[ftr_name].median())# imputar con un numero resultado de obtewner la mediano de la columna para todos los ausentes\n",
        "df_imputed[\"X_forward\"] = df_imputed[ftr_name].fillna(method=\"ffill\") # imputar con el anterior valor en la columna para todos los ausentes\n",
        "df_imputed[\"X_backward\"] = df_imputed[ftr_name].fillna(method=\"backfill\")# imputar con el posterior valor en la columna para todos los ausentes\n",
        "\n",
        "# ver resultado de las estrategias de imputacion\n",
        "columnas_resultado = [ftr_name,\"X_0_numerico\",\"X_0_texto\",\"X_promedio\",\"X_mediana\",\"X_forward\",\"X_backward\"]\n",
        "df_imputed[columnas_resultado][16:21]"
      ]
    },
    {
      "cell_type": "code",
      "execution_count": null,
      "metadata": {
        "colab": {
          "base_uri": "https://localhost:8080/",
          "height": 135
        },
        "id": "d4XquX8mfzM_",
        "outputId": "9103aecc-db53-47ef-e47b-d9655194d6b1"
      },
      "outputs": [],
      "source": [
        "nombre_columna = \"Company Name\"\n",
        "df_imputed[df_imputed[nombre_columna].isnull()] # el registro vacio"
      ]
    },
    {
      "cell_type": "code",
      "execution_count": null,
      "metadata": {
        "colab": {
          "base_uri": "https://localhost:8080/",
          "height": 347
        },
        "id": "xgFLfoRefzM_",
        "outputId": "f13c5b11-c5ea-4b6e-8cd1-e536ffc394d7"
      },
      "outputs": [],
      "source": [
        "df_imputed.iloc[67:72] # fila 69 es la que posee un valor vacio"
      ]
    },
    {
      "cell_type": "code",
      "execution_count": null,
      "metadata": {
        "colab": {
          "base_uri": "https://localhost:8080/",
          "height": 293
        },
        "id": "XePZncmLfzM_",
        "outputId": "cd7392ba-df35-4080-e636-0dfd1692d452"
      },
      "outputs": [],
      "source": [
        "#los diferentes metodos de rellenar o imputacion\n",
        "nombre_columna = \"Company Name\"\n",
        "\n",
        "# rellenar con un valor dado\n",
        "df_imputed[\"X_0_numerico\"] = df_imputed[nombre_columna].fillna(0) # imputar con un numero para todos los ausentes\n",
        "df_imputed[\"X_cualquier_texto\"] = df_imputed[nombre_columna].fillna('Alcaldia')# imputar con un texto para todos los ausentes\n",
        "\n",
        "# relleno segun contexto\n",
        "df_imputed[\"X_forward\"] = df_imputed[nombre_columna].fillna(method=\"ffill\") # imputar con el anterior valor en la columna para todos los ausentes\n",
        "df_imputed[\"X_backward\"] = df_imputed[nombre_columna].fillna(method=\"backfill\")# imputar con el posterior valor en la columna para todos los ausentes\n",
        "\n",
        "# ver resultado de las estrategias de imputacion\n",
        "columnas_resultado = [nombre_columna,\"X_0_numerico\",\"X_cualquier_texto\",\"X_forward\",\"X_backward\"]\n",
        "df_imputed[columnas_resultado][67:72]"
      ]
    },
    {
      "cell_type": "markdown",
      "metadata": {
        "id": "xGgA4X3A6uxH"
      },
      "source": [
        "## Variables dummy"
      ]
    },
    {
      "cell_type": "code",
      "execution_count": null,
      "metadata": {
        "id": "zgmM8N5n75gL"
      },
      "outputs": [],
      "source": [
        "df_dummies = df.copy() # sacando una copia del df original"
      ]
    },
    {
      "cell_type": "code",
      "execution_count": null,
      "metadata": {
        "colab": {
          "base_uri": "https://localhost:8080/"
        },
        "id": "4959dhqAXW_s",
        "outputId": "0e4c7e95-6c89-427a-fec3-2c030a4f6567"
      },
      "outputs": [],
      "source": [
        "df_dummies[\"Employment Status\"].values # reviisar posibles valores que puede haber en columna seleccionada"
      ]
    },
    {
      "cell_type": "code",
      "execution_count": null,
      "metadata": {
        "colab": {
          "base_uri": "https://localhost:8080/"
        },
        "id": "flrHnXJGfzNA",
        "outputId": "4ccdd45d-535e-4aaf-9a10-f31589708a1f"
      },
      "outputs": [],
      "source": [
        "df_dummies[\"Employment Status\"].value_counts()# reviisar posibles valores que puede haber en columna seleccionada"
      ]
    },
    {
      "cell_type": "code",
      "execution_count": null,
      "metadata": {
        "colab": {
          "base_uri": "https://localhost:8080/",
          "height": 423
        },
        "id": "gFcBpU-A65lb",
        "outputId": "d422cd63-d82a-441b-a4b9-4059a3a16777"
      },
      "outputs": [],
      "source": [
        "vars_dummies = pd.get_dummies(\n",
        "    df_dummies[\"Employment Status\"], # la columna original\n",
        "    prefix=\"Empl_status:\" # agrega un prefijo al nuevo nombre de la columna\n",
        "    ) # obtener las columnas dummies a pártir de columna referencia\n",
        "vars_dummies"
      ]
    },
    {
      "cell_type": "code",
      "execution_count": null,
      "metadata": {
        "colab": {
          "base_uri": "https://localhost:8080/",
          "height": 365
        },
        "id": "rEq2VCFo7R0D",
        "outputId": "affc2f6a-519b-4f0f-e858-506c8599a837"
      },
      "outputs": [],
      "source": [
        "# 1er paso - convertir en dummies columna categorica (entrega tantas columnas como categorias tenga la columna original)\n",
        "vars_dummies = pd.get_dummies(\n",
        "    df_dummies[\"Employment Status\"], \n",
        "    prefix=\"Empl_status:\"\n",
        "    ) # obtener las columnas dummies a pártir de columna referencia\n",
        "\n",
        "# 2do paso - borrar columna original que se convirtió a dummies\n",
        "df_drop_var = df_dummies.drop(\n",
        "    [\"Employment Status\"], \n",
        "    axis = 1 # eliminar columnas\n",
        "    ) # construir las dummies apartir del status\n",
        "\n",
        "# 3er paso -  concatenar (pegar columnas a la derecha) el df con columnas dummies\n",
        "df_dummies = pd.concat(\n",
        "    [df_drop_var, vars_dummies], \n",
        "    axis = 1 # pegar por la derecha la tabla construida de dummies (pegar por columna)\n",
        "    ) \n",
        "\n",
        "# revisar encabezado con reusltado\n",
        "df_dummies.head()"
      ]
    },
    {
      "cell_type": "markdown",
      "metadata": {
        "id": "ZnDh2_ggBaHG"
      },
      "source": [
        "## Ordenar el dataframe"
      ]
    },
    {
      "cell_type": "code",
      "execution_count": null,
      "metadata": {
        "colab": {
          "base_uri": "https://localhost:8080/",
          "height": 250
        },
        "id": "pCfYQBKzfzNA",
        "outputId": "b0edc619-9317-4176-bab1-98f5e956cbbb"
      },
      "outputs": [],
      "source": [
        "df.head(5)"
      ]
    },
    {
      "cell_type": "code",
      "execution_count": null,
      "metadata": {
        "colab": {
          "base_uri": "https://localhost:8080/",
          "height": 773
        },
        "id": "a8g877Tn4-Fk",
        "outputId": "ff492a23-5de2-4fd6-c8b7-0d51e86fbaa0"
      },
      "outputs": [],
      "source": [
        "# ordenemelo utilizando la columna de formma ascendente\n",
        "df.sort_values(\n",
        "    by=['Rating'], # segun la informacion de la colum\n",
        "    ascending=True # de forma ascendente (de menor a mayor)\n",
        "    ) "
      ]
    },
    {
      "cell_type": "code",
      "execution_count": null,
      "metadata": {},
      "outputs": [],
      "source": [
        "# ordenemelo utilizando la columna de formma ascendente\n",
        "df.sort_values(\n",
        "    by=['Rating'], # segun la informacion de la column\n",
        "    ascending=False # de forma descendente (de mayor a menor)\n",
        "    ) "
      ]
    },
    {
      "cell_type": "code",
      "execution_count": null,
      "metadata": {
        "colab": {
          "base_uri": "https://localhost:8080/",
          "height": 860
        },
        "id": "MpHHDiJffzNB",
        "outputId": "5f03c9f9-81f9-4791-9e2f-849758e9f6af"
      },
      "outputs": [],
      "source": [
        "df.sort_values(\n",
        "    by=['Location']\n",
        "    ) # ascendente (de menor a mayor o de A a la Z) : ascending=True\n",
        "# cuando hay vacios los suele dejar al final"
      ]
    },
    {
      "cell_type": "code",
      "execution_count": null,
      "metadata": {
        "colab": {
          "base_uri": "https://localhost:8080/",
          "height": 652
        },
        "id": "UkLM6RqcfzNB",
        "outputId": "95fb5832-3acc-4a2a-f354-007e071f4715"
      },
      "outputs": [],
      "source": [
        "df.sort_values(\n",
        "    by=['Location'], \n",
        "    ascending=False # descendente (de mayor a menor o de Z a la A) : ascending=False\n",
        "    ) \n",
        "# cuando hay vacios los suele dejar al final"
      ]
    },
    {
      "cell_type": "code",
      "execution_count": null,
      "metadata": {
        "colab": {
          "base_uri": "https://localhost:8080/",
          "height": 738
        },
        "id": "B2aAtNJCBi07",
        "outputId": "68286241-2881-4950-d1b8-c74bc2a2b43d"
      },
      "outputs": [],
      "source": [
        "# ordenar por varias columnas\n",
        "df.sort_values(\n",
        "    by=['Rating','Location','Salary','Salaries Reported'], \n",
        "    ascending=False # desc\n",
        "    ) "
      ]
    },
    {
      "cell_type": "code",
      "execution_count": null,
      "metadata": {
        "colab": {
          "base_uri": "https://localhost:8080/",
          "height": 957
        },
        "id": "DyEl96b2SG6U",
        "outputId": "0bf79100-2a93-42e2-f93f-3ab706fa0629"
      },
      "outputs": [],
      "source": [
        "# prueba\n",
        "df.sort_values(\n",
        "    by=['Rating','Location','Salary','Salaries Reported'], \n",
        "    ascending=False\n",
        "    )[df.Rating == 1.0][0:15] # ordenar por varias columnas"
      ]
    },
    {
      "cell_type": "markdown",
      "metadata": {
        "id": "Ter9HHT4B9wK"
      },
      "source": [
        "## Filtrar por columna o fila"
      ]
    },
    {
      "cell_type": "markdown",
      "metadata": {
        "id": "mhB5_spsCMPi"
      },
      "source": [
        "### filtrar por columnas (axis 1)"
      ]
    },
    {
      "cell_type": "code",
      "execution_count": null,
      "metadata": {
        "colab": {
          "base_uri": "https://localhost:8080/",
          "height": 423
        },
        "id": "EMWoGysqBnGN",
        "outputId": "81b3a8d6-ae73-4219-9645-462e6ca4d0f8"
      },
      "outputs": [],
      "source": [
        "df.filter(\n",
        "    items=['Rating', 'Salary'], \n",
        "    axis=1 # filtrar usando el axis 1 indica que los items filtrados columnas\n",
        "    ) "
      ]
    },
    {
      "cell_type": "code",
      "execution_count": null,
      "metadata": {
        "colab": {
          "base_uri": "https://localhost:8080/",
          "height": 423
        },
        "id": "U3ugK-eECUn9",
        "outputId": "94b9b214-7330-470d-bdda-a41dfef3c21c"
      },
      "outputs": [],
      "source": [
        "df.filter(\n",
        "    like='Job', \n",
        "    axis=1\n",
        "    ) # seleccion columnas segun coincida con un patron"
      ]
    },
    {
      "cell_type": "code",
      "execution_count": null,
      "metadata": {
        "colab": {
          "base_uri": "https://localhost:8080/",
          "height": 597
        },
        "id": "VkJLZAoqfzNC",
        "outputId": "cf7d05cb-1dcd-4c6e-df5c-f865fe2cbc5f"
      },
      "outputs": [],
      "source": [
        "df.filter(\n",
        "    like='e', \n",
        "    axis=1\n",
        "    ) # seleccion columnas segun coincida con un patron"
      ]
    },
    {
      "cell_type": "code",
      "execution_count": null,
      "metadata": {
        "colab": {
          "base_uri": "https://localhost:8080/",
          "height": 423
        },
        "id": "NcoYO8llCGFz",
        "outputId": "adae2721-b208-4c57-c715-b38f4423f04c"
      },
      "outputs": [],
      "source": [
        "df.filter(\n",
        "    regex='e$', # las que terminen en 'e'\n",
        "    axis=1\n",
        "    ) # seleccionar las que coincidancon un patron utilzando expresiones regulares\n"
      ]
    },
    {
      "cell_type": "markdown",
      "metadata": {
        "id": "uCLDLME5CpNC"
      },
      "source": [
        "### filtrar por fila (index) (axis = 0)"
      ]
    },
    {
      "cell_type": "code",
      "execution_count": null,
      "metadata": {
        "colab": {
          "base_uri": "https://localhost:8080/",
          "height": 115
        },
        "id": "ag0bcjs86Mx9",
        "outputId": "3c825d99-4849-4348-8547-c2bfd7192e36"
      },
      "outputs": [],
      "source": [
        "df.filter(\n",
        "    items=[227,267], \n",
        "    axis=0\n",
        "    )#  filtrar por fila utilizando el axis 0"
      ]
    },
    {
      "cell_type": "code",
      "execution_count": null,
      "metadata": {
        "colab": {
          "base_uri": "https://localhost:8080/",
          "height": 773
        },
        "id": "sdBx9kP9CS6s",
        "outputId": "3f07ecfd-c0ae-4454-83c8-f7698ed53fa5"
      },
      "outputs": [],
      "source": [
        "df.filter(\n",
        "    like='227', \n",
        "    axis=0\n",
        "    ) #  filtrar por fila utilizando el axis 0 que coincidan en el nombre del indice"
      ]
    },
    {
      "cell_type": "code",
      "execution_count": null,
      "metadata": {
        "colab": {
          "base_uri": "https://localhost:8080/",
          "height": 1000
        },
        "id": "HTb5ptNffzND",
        "outputId": "25e136f6-56f1-4f26-8e7b-73b5b2eae0ad"
      },
      "outputs": [],
      "source": [
        "df.filter(\n",
        "    regex = '227$', \n",
        "    axis = 0\n",
        "    ) # todas las que el indice termine en 227"
      ]
    },
    {
      "cell_type": "markdown",
      "metadata": {
        "id": "MAIQVVIODQKd"
      },
      "source": [
        "## Query con pandas (Consulta)"
      ]
    },
    {
      "cell_type": "markdown",
      "metadata": {
        "id": "pjb0aDiMVMZD"
      },
      "source": [
        "* seleccionar columnas"
      ]
    },
    {
      "cell_type": "code",
      "execution_count": null,
      "metadata": {},
      "outputs": [],
      "source": [
        "df['Salary']"
      ]
    },
    {
      "cell_type": "code",
      "execution_count": null,
      "metadata": {},
      "outputs": [],
      "source": [
        "df.Salary"
      ]
    },
    {
      "cell_type": "markdown",
      "metadata": {
        "id": "jnTOkSXpVPo6"
      },
      "source": [
        "1ra forma"
      ]
    },
    {
      "cell_type": "code",
      "execution_count": null,
      "metadata": {
        "colab": {
          "base_uri": "https://localhost:8080/",
          "height": 423
        },
        "id": "cdORwW-lfzND",
        "outputId": "3608224c-9c48-4e50-8d3a-650b811f70fe"
      },
      "outputs": [],
      "source": [
        "df.filter(items=['Salary','Rating'], axis = 1) # filtrar por columnas"
      ]
    },
    {
      "cell_type": "markdown",
      "metadata": {
        "id": "EEYDZkQhVRAC"
      },
      "source": [
        "2da forma"
      ]
    },
    {
      "cell_type": "code",
      "execution_count": null,
      "metadata": {
        "colab": {
          "base_uri": "https://localhost:8080/",
          "height": 424
        },
        "id": "5ySvQSe7fzND",
        "outputId": "dd4ef1dc-be9f-48e0-94ce-f27d258524d3"
      },
      "outputs": [],
      "source": [
        "df[['Salary','Rating']] # seleccionar columnas del dataframe a seleccionar"
      ]
    },
    {
      "cell_type": "markdown",
      "metadata": {
        "id": "87606oZVVqez"
      },
      "source": [
        "* realizar descriptivo"
      ]
    },
    {
      "cell_type": "code",
      "execution_count": null,
      "metadata": {
        "colab": {
          "base_uri": "https://localhost:8080/"
        },
        "id": "z0y_Ov95fzND",
        "outputId": "489c866a-6434-4240-a0c4-2f4623082652"
      },
      "outputs": [],
      "source": [
        "df.Salary.describe() # descriptivo rapido de la informacion"
      ]
    },
    {
      "cell_type": "markdown",
      "metadata": {
        "id": "yOKasjxiV_kZ"
      },
      "source": [
        "* evaluar condiciones en cada fila"
      ]
    },
    {
      "cell_type": "code",
      "execution_count": null,
      "metadata": {
        "colab": {
          "base_uri": "https://localhost:8080/"
        },
        "id": "NQ736rtbaGRE",
        "outputId": "e9c92e61-6432-4622-f310-b1d55023a0f5"
      },
      "outputs": [],
      "source": [
        "df['Salary'] >  490000 # genera una columna con la evaluación a la condición # WHERE"
      ]
    },
    {
      "cell_type": "code",
      "execution_count": null,
      "metadata": {
        "colab": {
          "base_uri": "https://localhost:8080/"
        },
        "id": "SFSk6QaqfzNE",
        "outputId": "2129436f-6388-451d-9800-ca6c74642d08"
      },
      "outputs": [],
      "source": [
        "df['Rating'] > 4.3"
      ]
    },
    {
      "cell_type": "code",
      "execution_count": null,
      "metadata": {},
      "outputs": [],
      "source": [
        "# copia dataframe\n",
        "df_test_001 = df.copy()\n",
        "# crear nueva columna con condiciones\n",
        "df_test_001['condicion_1'] = df['Salary'] > 490000\n",
        "df_test_001['condicion_2'] = df['Rating'] > 4.3\n",
        "df_test_001['condicion_INTERSECCION'] = (df['Salary'] > 490000) & (df['Rating'] > 4.3)\n",
        "df_test_001['condicion_UNION'] = (df['Salary'] > 490000) | (df['Rating'] > 4.3)\n",
        "\n",
        "\n",
        "# revisar resultado\n",
        "df_test_001[['Salary','Rating','condicion_1','condicion_2','condicion_INTERSECCION','condicion_UNION']]"
      ]
    },
    {
      "cell_type": "markdown",
      "metadata": {
        "id": "Nyg2GMwwXTkX"
      },
      "source": [
        "* filtrar según se evalua condiciones"
      ]
    },
    {
      "cell_type": "code",
      "execution_count": null,
      "metadata": {
        "colab": {
          "base_uri": "https://localhost:8080/",
          "height": 545
        },
        "id": "SpKtxooRfzNE",
        "outputId": "dbd85cae-1d0d-4e24-9086-1b4aa61c25aa"
      },
      "outputs": [],
      "source": [
        "# condiciones logicas\n",
        "condicion1 = df['Salary'] > 490000\n",
        "condicion2 = df['Rating'] > 4.3\n",
        "\n",
        "# filtrar según condicion evaluada\n",
        "df[condicion1 & condicion2] # and (& se usa para la interseccion :  cumplir al mismo tiempo ambas)"
      ]
    },
    {
      "cell_type": "code",
      "execution_count": null,
      "metadata": {
        "colab": {
          "base_uri": "https://localhost:8080/",
          "height": 545
        },
        "id": "uUbjOPxNfzNE",
        "outputId": "e779b2c5-8fe3-458d-efa5-941649981fa3"
      },
      "outputs": [],
      "source": [
        "condicion1 = df['Salary'] > 490000\n",
        "condicion2 = df['Rating'] > 4.3\n",
        "\n",
        "df[condicion1 | condicion2] # OR (| union que se cumplan por lo menos una de las dos condicioens)"
      ]
    },
    {
      "cell_type": "code",
      "execution_count": null,
      "metadata": {
        "colab": {
          "base_uri": "https://localhost:8080/",
          "height": 545
        },
        "id": "cntz2kV_D2Ws",
        "outputId": "72581b41-adff-4105-ef2f-5a885bfa6d87"
      },
      "outputs": [],
      "source": [
        "df[(df['Salary'] > 490000)|(df['Rating']>4.3)] # utilizar el resultado de evaluar la condicion para filtrar"
      ]
    },
    {
      "cell_type": "code",
      "execution_count": null,
      "metadata": {
        "colab": {
          "base_uri": "https://localhost:8080/",
          "height": 545
        },
        "id": "xc3K28uGDB_u",
        "outputId": "805171c1-99f8-46c9-9336-26410399a6a3"
      },
      "outputs": [],
      "source": [
        "df.query('Salary > 490000 | Rating>4.3') # realizar un query con condicion"
      ]
    },
    {
      "cell_type": "code",
      "execution_count": null,
      "metadata": {
        "colab": {
          "base_uri": "https://localhost:8080/",
          "height": 528
        },
        "id": "7TNIDz1fENjf",
        "outputId": "594226e7-77dc-4071-c27e-bed69ea8114e"
      },
      "outputs": [],
      "source": [
        "# hay dos formas de seleccionar o llamar una columna utilizando [] o utilizando el punto\n",
        "df[df['Salaries Reported'] == df.Rating] # filtrar dataframe cuando cumple condicion"
      ]
    },
    {
      "cell_type": "code",
      "execution_count": null,
      "metadata": {
        "colab": {
          "base_uri": "https://localhost:8080/",
          "height": 738
        },
        "id": "L1joK3YQDlfd",
        "outputId": "4095a099-7877-42e4-d115-e32e5f631ad2"
      },
      "outputs": [],
      "source": [
        "# uso de comillas especiales para columnas que tienen nombres con espacios `nombre variable`\n",
        "df.query('`Salaries Reported` == Rating') # obtener mismo resultado de consulta"
      ]
    },
    {
      "cell_type": "code",
      "execution_count": null,
      "metadata": {
        "colab": {
          "base_uri": "https://localhost:8080/",
          "height": 756
        },
        "id": "Au79UmQbfzNF",
        "outputId": "770f74e7-1dbb-4737-c228-af3d07ce75d5"
      },
      "outputs": [],
      "source": [
        "# puedo escribir \"and\" o \"&\"\n",
        "# estrictamente ambas condiciones debe cumplir\n",
        "df.query('(`Salaries Reported` == Rating) and (Salary > 200000)')"
      ]
    },
    {
      "cell_type": "code",
      "execution_count": null,
      "metadata": {
        "colab": {
          "base_uri": "https://localhost:8080/",
          "height": 686
        },
        "id": "i6axH7KUfzNF",
        "outputId": "23787f6f-d5c9-4cf8-9469-46af90f16afb"
      },
      "outputs": [],
      "source": [
        "# puedo escribir \"or\" o \"|\"\n",
        "# por lo menos alguna de las condiciones debe cumplir\n",
        "df.query('(`Salaries Reported` == Rating) or (Salary > 600000)')"
      ]
    },
    {
      "cell_type": "code",
      "execution_count": null,
      "metadata": {},
      "outputs": [],
      "source": [
        "# poblacion\n",
        "poblacion = df.shape[0]\n",
        "#query 1\n",
        "# ((`Salaries Reported` == Rating) or (Salary > 600000))\n",
        "resultado_q1 = df.query('(`Salaries Reported` == Rating) or (Salary > 600000)').shape[0]\n",
        "\n",
        "#query 2\n",
        "# not ((`Salaries Reported` == Rating) or (Salary > 600000))\n",
        "resultado_q2 = poblacion- resultado_q1\n",
        "\n",
        "print(' el resultado del query 2 (la negacion del query 1) es : {}'.format(resultado_q2))"
      ]
    },
    {
      "cell_type": "code",
      "execution_count": null,
      "metadata": {
        "colab": {
          "base_uri": "https://localhost:8080/",
          "height": 738
        },
        "id": "WvJ-Z8Z9fzNF",
        "outputId": "bf9c1fda-3e57-45d2-953c-a6ecaabc5ae5"
      },
      "outputs": [],
      "source": [
        "# puedo escribir \"not\" o \"!\"\n",
        "# niega el cumplimiento de condiciones\n",
        "df.query('not ((`Salaries Reported` == Rating) or (Salary > 600000))')"
      ]
    },
    {
      "cell_type": "code",
      "execution_count": null,
      "metadata": {
        "colab": {
          "base_uri": "https://localhost:8080/"
        },
        "id": "Tnstvlzs0yhE",
        "outputId": "c06c25b5-19a1-4451-cb5e-3d8c86fb36ff"
      },
      "outputs": [],
      "source": [
        "# la cantidad de registros resultado de la negación resulta en el complemento de la afirmación\n",
        "no_cumplen = df.query('not ((`Salaries Reported` == Rating) or (Salary > 600000))').shape[0]\n",
        "si_cumplen = df.query('(`Salaries Reported` == Rating) or (Salary > 600000)').shape[0]\n",
        "print('los registros que cumnplen con la condicion 1 son {} \\n y los registros que cumplen con la condicion 2 son {} \\n y en total la cantidad de registros es {}'.format(si_cumplen,no_cumplen,si_cumplen+no_cumplen))"
      ]
    },
    {
      "cell_type": "code",
      "execution_count": null,
      "metadata": {
        "colab": {
          "base_uri": "https://localhost:8080/",
          "height": 704
        },
        "id": "ENfUc9B-EEbS",
        "outputId": "dceca65f-4db1-4cba-e276-845ba0e2f9e6"
      },
      "outputs": [],
      "source": [
        "# poder conjugar/encadenar/depender varias condiciones\n",
        "# or |\n",
        "# and &\n",
        "# not !\n",
        "df.query('(`Salaries Reported` == Rating) or not (Salary > 100000)')"
      ]
    },
    {
      "cell_type": "markdown",
      "metadata": {
        "id": "GexivPNTlStR"
      },
      "source": [
        "## Joins"
      ]
    },
    {
      "cell_type": "markdown",
      "metadata": {
        "id": "hNQ3wS41ozM7"
      },
      "source": [
        "![picture](https://raw.githubusercontent.com/elprincipitogauss/lesson/main/img_joins.jpg)"
      ]
    },
    {
      "cell_type": "code",
      "execution_count": null,
      "metadata": {
        "id": "3jdCKkYvlT9-"
      },
      "outputs": [],
      "source": [
        "# creo dos dataframes\n",
        "\n",
        "df_izq = pd.DataFrame(\n",
        "    np.array([['Jairo', 'AD', 120159], ['Felipe', 'FSWD', 444568], ['Marcela', 'UX', 215444], ['Omar', 'FSWD', 421554], ['Celia', 'ADP', 159445]]),\n",
        "    columns=['Name', 'Job Title Code', 'Salary']\n",
        "    )\n",
        "\n",
        "\n",
        "df_der = pd.DataFrame(\n",
        "    np.array([['AD', 'Android Developer', 'Part time'], ['FSWD', 'Full Stack Web Developer', 'Full time'], ['TE', 'Test Engineer', 'Full time'], ['ADP', 'Advanced Python Developer', 'Part time']]),\n",
        "    columns=['Job Title Code', 'Job Title Description', 'work']\n",
        "    )"
      ]
    },
    {
      "cell_type": "code",
      "execution_count": null,
      "metadata": {
        "colab": {
          "base_uri": "https://localhost:8080/",
          "height": 206
        },
        "id": "eMoEyDczfzNG",
        "outputId": "dd81496e-ed4d-4302-bca0-290157d46967"
      },
      "outputs": [],
      "source": [
        "df_izq # llave es \"Job Title Code\""
      ]
    },
    {
      "cell_type": "code",
      "execution_count": null,
      "metadata": {
        "colab": {
          "base_uri": "https://localhost:8080/",
          "height": 175
        },
        "id": "GXJeMfxbfzNG",
        "outputId": "6972906d-726b-4a69-9d89-f23e4eb084e2"
      },
      "outputs": [],
      "source": [
        "df_der # llave es \"Job Title Code\""
      ]
    },
    {
      "cell_type": "markdown",
      "metadata": {
        "id": "r_VfvVpsfzNG"
      },
      "source": [
        "* la función se usa para realizar join es pandas.merge (pd.merge)\n",
        "\n",
        "solo se necesita entender y indicar:\n",
        "\n",
        "**1. conjuntos de datos a cruzar**\n",
        "\n",
        "**2. tipo de join**\n",
        "\n",
        "**3. llaves para realizar cruce (opcional : la funcion pd.merge es capaz de buscar y encontrar la mejor llave si en ambos dataframes tienen el mismo nombres) deben tener el mismo tipo de dato**"
      ]
    },
    {
      "cell_type": "markdown",
      "metadata": {},
      "source": [
        "    * pd.merge"
      ]
    },
    {
      "cell_type": "code",
      "execution_count": null,
      "metadata": {
        "colab": {
          "base_uri": "https://localhost:8080/",
          "height": 206
        },
        "id": "rXuqNNmuqFvD",
        "outputId": "fea10182-9b00-431d-b698-30b2895b5dc3"
      },
      "outputs": [],
      "source": [
        "\n",
        "# parametro how indica que tipo de join realizar\n",
        "# parametro on indica las columnas que quiero utilizar de llaves para el cruce\n",
        "df_joint_i = pd.merge(\n",
        "    df_izq, # dataframe de la izquierda\n",
        "    df_der, # dataframe de la derecha\n",
        "    how='left', # tipo de join\n",
        "    on = 'Job Title Code' # llave para realizar cruce\n",
        "    )\n",
        "# debo indicar los dataframes, el tipo de join en el HOW y la llave en ON\n",
        "df_joint_i"
      ]
    },
    {
      "cell_type": "code",
      "execution_count": null,
      "metadata": {
        "colab": {
          "base_uri": "https://localhost:8080/",
          "height": 206
        },
        "id": "OjSqflbrqFjw",
        "outputId": "f0c63bce-6a80-4295-b6ed-2ebbe316743d"
      },
      "outputs": [],
      "source": [
        "df_joint_i = pd.merge(df_izq, df_der, how='right', on = 'Job Title Code')\n",
        "df_joint_i"
      ]
    },
    {
      "cell_type": "code",
      "execution_count": null,
      "metadata": {
        "colab": {
          "base_uri": "https://localhost:8080/",
          "height": 175
        },
        "id": "eWtmImzwo_2z",
        "outputId": "e4cfe5c1-4e85-4f86-f345-1eb5353bfe99"
      },
      "outputs": [],
      "source": [
        "df_joint_i = pd.merge(df_izq, df_der, how='inner', on = 'Job Title Code')\n",
        "df_joint_i"
      ]
    },
    {
      "cell_type": "code",
      "execution_count": null,
      "metadata": {
        "colab": {
          "base_uri": "https://localhost:8080/",
          "height": 237
        },
        "id": "ExCswmbZqF1H",
        "outputId": "7a234082-777d-4303-c5b5-6e40c3780df8"
      },
      "outputs": [],
      "source": [
        "df_joint_i = pd.merge(df_izq, df_der, how='outer', on = 'Job Title Code') # full\n",
        "df_joint_i"
      ]
    },
    {
      "cell_type": "markdown",
      "metadata": {},
      "source": [
        "## Exportar dataframe"
      ]
    },
    {
      "cell_type": "code",
      "execution_count": null,
      "metadata": {},
      "outputs": [],
      "source": [
        "# exportar a formato excel\n",
        "# Escribir el DataFrame en un archivo Excel\n",
        "nombre_archivo_excel = 'archivo_salida.xlsx' # .xlsm .xlsb .xls .xlsx\n",
        "\n",
        "df_joint_i.to_excel(\n",
        "    nombre_archivo_excel, # la ruta de salida incluyendo el nombre del archivo\n",
        "    index=False,  # si exporta los indices de las filas\n",
        "    sheet_name='resultado_join' #el nombre de la hoja\n",
        "    )\n"
      ]
    },
    {
      "cell_type": "code",
      "execution_count": null,
      "metadata": {},
      "outputs": [],
      "source": [
        "# Escribir en un archivo Excel con varias pestañas\n",
        "nombre_archivo_excel = 'archivo_salida_varias_pestanas.xlsx'\n",
        "\n",
        "# instruccion para exportar varias tablas en diferentes hojas de un mismo excel\n",
        "with pd.ExcelWriter(nombre_archivo_excel, engine='openpyxl') as writer:\n",
        "    df_izq.to_excel(writer, sheet_name='empleados') # crea hoja 'empleados' \n",
        "    df_der.to_excel(writer, sheet_name='roles', index=True) # crea hoja 'roles' \n",
        "    df_joint_i.to_excel(writer, sheet_name='vista', index=False) # crea hoja 'vista'"
      ]
    },
    {
      "cell_type": "markdown",
      "metadata": {},
      "source": [
        "* un archivo de excel tiene un limite maximo de 1,048,576 filas, por lo tanto, cuando uno va a exportar un archivo que supera ese limite es recomendable exportarlo a un archivo plano"
      ]
    },
    {
      "cell_type": "code",
      "execution_count": null,
      "metadata": {},
      "outputs": [],
      "source": [
        "nombre_archivo_salida = 'archivo_salida.txt' # .txt .csv .tsv\n",
        "# exportar a formato plano \n",
        "df_joint_i.to_csv(\n",
        "    nombre_archivo_salida, # la ruta en donde quiero exportarlo\n",
        "    sep='>', # el serpador de columnas\n",
        "    index=False # al exportar escribe el indice de filas (como informacion)\n",
        "    )"
      ]
    },
    {
      "cell_type": "markdown",
      "metadata": {
        "id": "xto4_n-azrsI"
      },
      "source": [
        "## SQL"
      ]
    },
    {
      "cell_type": "code",
      "execution_count": null,
      "metadata": {
        "colab": {
          "base_uri": "https://localhost:8080/"
        },
        "id": "5uoERjH6ztmC",
        "outputId": "c2b0be79-45a5-46bc-8091-f71fb3f71353"
      },
      "outputs": [],
      "source": [
        "# revisar como se escribe una rutina de conexión a una base de datos\n",
        "try:\n",
        "  import pyodbc # libreria para realizar conexión\n",
        "  conn = pyodbc.connect(\n",
        "                      'Driver={SQL Server};' # driver de conexión\n",
        "                      'Server= SERVERlesson;' # el servidor / donde está?\n",
        "                      'Database= DBlesson;' # nombre de la base de datos\n",
        "                      'user = andresito;' # usuario con permisos de conexion\n",
        "                      'password = seguro123456' # password /credenciales\n",
        "                      'Trusted_Connection= yes;' # que utilice las credenciales del usuario del equipo\n",
        "                      ) # credenciales y configuración de la conexion\n",
        "  cursor = conn.cursor()\n",
        "except:\n",
        "  print(\"No se puede realizar conexión\")"
      ]
    },
    {
      "cell_type": "code",
      "execution_count": null,
      "metadata": {
        "colab": {
          "base_uri": "https://localhost:8080/"
        },
        "id": "CRvUdlWV0F0P",
        "outputId": "8ccb66ec-0209-459f-8ad9-e8928fcfea28"
      },
      "outputs": [],
      "source": [
        "try:\n",
        "  SQL_Query = pd.read_sql_query(\n",
        "    '''select * FROM dbo.table_lesson''', # query SQL\n",
        "    conn # cursor conector\n",
        "    )\n",
        "except:\n",
        "  print(\"Como no se puede realizar conexión no permite realizar el query\")"
      ]
    },
    {
      "cell_type": "markdown",
      "metadata": {
        "id": "2bgt6me_lLba"
      },
      "source": [
        "## Bibliografía"
      ]
    },
    {
      "cell_type": "markdown",
      "metadata": {
        "id": "QxoM6JzZlQbW"
      },
      "source": [
        "* (2022,Montenegro y Montenegro) Aprendizaje profundo. Diplomado de IA y AP.\n",
        "* BeginnersGuide. link :https://wiki.python.org/moin/BeginnersGuide/Programmers\n",
        "* Uniwebsidad. link :https://uniwebsidad.com/libros/algoritmos-python"
      ]
    }
  ],
  "metadata": {
    "colab": {
      "provenance": []
    },
    "kernelspec": {
      "display_name": "Python 3.9.1 64-bit",
      "language": "python",
      "name": "python3"
    },
    "language_info": {
      "codemirror_mode": {
        "name": "ipython",
        "version": 3
      },
      "file_extension": ".py",
      "mimetype": "text/x-python",
      "name": "python",
      "nbconvert_exporter": "python",
      "pygments_lexer": "ipython3",
      "version": "3.11.9"
    },
    "vscode": {
      "interpreter": {
        "hash": "f128fe3ab5917b826f85fed29f7e6d5cdf9b8c96daddc94321e327dfff04eefa"
      }
    }
  },
  "nbformat": 4,
  "nbformat_minor": 0
}
