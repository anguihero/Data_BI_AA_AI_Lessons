{
 "cells": [
  {
   "cell_type": "markdown",
   "metadata": {
    "id": "c1eYHP6-ASyL"
   },
   "source": [
    "# Metodos de Segmentación / Clustering"
   ]
  },
  {
   "cell_type": "markdown",
   "metadata": {
    "id": "fNhX2M_HJK0W"
   },
   "source": [
    "<img src=https://scikit-learn.org/stable/_static/ml_map.png>"
   ]
  },
  {
   "cell_type": "markdown",
   "metadata": {
    "id": "5M5o6exWJK0X"
   },
   "source": [
    "## Preparación y configuración inicial de la rutina"
   ]
  },
  {
   "cell_type": "code",
   "execution_count": null,
   "metadata": {
    "executionInfo": {
     "elapsed": 4728,
     "status": "ok",
     "timestamp": 1724199906561,
     "user": {
      "displayName": "gauss ELprincipito",
      "userId": "10561550388760016055"
     },
     "user_tz": 300
    },
    "id": "bd5xyxP1ASyL"
   },
   "outputs": [],
   "source": [
    "# Tratamiento de datos\n",
    "# ==============================================================================\n",
    "import numpy as np\n",
    "import pandas as pd\n",
    "from sklearn.datasets import make_blobs # para generar la simulación de cluster\n",
    "\n",
    "# Gráficos\n",
    "# ==============================================================================\n",
    "import matplotlib.pyplot as plt\n",
    "from matplotlib import style\n",
    "style.use('ggplot') or plt.style.use('ggplot')\n",
    "\n",
    "# Preprocesado y modelado\n",
    "# ==============================================================================\n",
    "from sklearn.cluster import KMeans\n",
    "from sklearn.preprocessing import scale\n",
    "from sklearn.metrics import silhouette_score\n",
    "\n",
    "# Configuración warnings\n",
    "# ==============================================================================\n",
    "import warnings\n",
    "warnings.filterwarnings('ignore')"
   ]
  },
  {
   "cell_type": "markdown",
   "metadata": {
    "id": "yKWkPmqiJK0Y"
   },
   "source": [
    "* Simulación de datos"
   ]
  },
  {
   "cell_type": "code",
   "execution_count": null,
   "metadata": {
    "colab": {
     "base_uri": "https://localhost:8080/",
     "height": 379
    },
    "executionInfo": {
     "elapsed": 903,
     "status": "ok",
     "timestamp": 1724199952685,
     "user": {
      "displayName": "gauss ELprincipito",
      "userId": "10561550388760016055"
     },
     "user_tz": 300
    },
    "id": "VQBiEiVTJK0Y",
    "outputId": "3b48429f-c259-4bfb-e269-8c88af102236"
   },
   "outputs": [],
   "source": [
    "# Simulación de datos porque no tenemos datos (podríamos cargarlos)\n",
    "# ==============================================================================\n",
    "X, y = make_blobs(\n",
    "        n_samples    = 300,\n",
    "        n_features   = 2,\n",
    "        centers      = 4,\n",
    "        cluster_std  = 0.60,\n",
    "        shuffle      = True,\n",
    "        random_state = 0\n",
    "       )\n",
    "\n",
    "fig, ax = plt.subplots(1, 1, figsize=(6, 3.84))\n",
    "ax.scatter(\n",
    "    x = X[:, 0],\n",
    "    y = X[:, 1],\n",
    "    c = 'white',\n",
    "    marker    = 'o',\n",
    "    edgecolor = 'black',\n",
    ")\n",
    "ax.set_title('Datos simulados');"
   ]
  },
  {
   "cell_type": "markdown",
   "metadata": {
    "id": "RTbALNO-JK0Y"
   },
   "source": [
    "## Definición"
   ]
  },
  {
   "cell_type": "markdown",
   "metadata": {
    "id": "GVsla3X1JK0Y"
   },
   "source": [
    "El algoritmo **K-means** es un método de agrupamiento que agrupa datos en k grupos basados en sus características.\n",
    "\n",
    "El objetivo es asignar cada dato a un grupo de manera que la suma de las distancias cuadráticas entre los datos y el centroide de su grupo sea mínima"
   ]
  },
  {
   "cell_type": "markdown",
   "metadata": {
    "id": "jUMDnqfiJK0Y"
   },
   "source": [
    "### Asignación de Puntos a Clusters"
   ]
  },
  {
   "cell_type": "markdown",
   "metadata": {
    "id": "rsnxu6wgJK0Y"
   },
   "source": [
    "**Distancia Euclidiana**:\n",
    "\n",
    "La distancia entre un punto $x_i$ y un centroide $c_j$ se calcula utilizando la fórmula de la distancia euclidiana\n",
    "\n",
    "$dist(x_i,c_j) = \\sqrt{\\sum_{d=1}^{D}{({x}_{i,d} - {c}_{j,d})^2 }}$\n",
    "\n",
    "donde $D$ es la dimensión de los datos."
   ]
  },
  {
   "cell_type": "code",
   "execution_count": null,
   "metadata": {
    "id": "9OLfendHJK0Z"
   },
   "outputs": [],
   "source": [
    "def distancia_euclidiana(x, centroide):\n",
    "    return np.sqrt(np.sum((x - centroide)**2))"
   ]
  },
  {
   "cell_type": "markdown",
   "metadata": {
    "id": "M-udE0b7JK0Z"
   },
   "source": [
    "**Asignación del Punto al Cluster más Cercano**:\n",
    "\n",
    "El punto $x_i$ se asigna al cluster cuyo centroide $c_i$ minimiza la distancia euclidiana\n",
    "\n",
    "$label(x_i) = \\text{arg min}_j dist(x_i,c_j)$"
   ]
  },
  {
   "cell_type": "code",
   "execution_count": null,
   "metadata": {
    "id": "BSjaA01OJK0Z"
   },
   "outputs": [],
   "source": [
    "def asignar_clusters(X, centroides):\n",
    "    distancias = np.linalg.norm(X - centroides[:, np.newaxis], axis=2)\n",
    "    labels = np.argmin(distancias, axis=0)\n",
    "    return labels"
   ]
  },
  {
   "cell_type": "markdown",
   "metadata": {
    "id": "oQ9gch4ZJK0Z"
   },
   "source": [
    "### Actualización de Centroides"
   ]
  },
  {
   "cell_type": "markdown",
   "metadata": {
    "id": "cc26juGTJK0Z"
   },
   "source": [
    "**Actualización del Centroide**:\n",
    "\n",
    "El nuevo centroide $c`_j$ para un cluster $j$ se calcula tomando la media de todos los puntos asignados a ese cluster\n",
    "\n",
    "$c`_j = \\frac{1}{N_j}\\sum_{i=1}^{N_j}{x_i}$\n",
    "\n",
    "donde $N_j$ es el número de puntos asignados al cluster $j$"
   ]
  },
  {
   "cell_type": "code",
   "execution_count": null,
   "metadata": {
    "id": "TguS00PrJK0Z"
   },
   "outputs": [],
   "source": [
    "def actualizar_centroides(X, labels, k):\n",
    "    nuevos_centroides = np.array([X[labels == i].mean(axis=0) for i in range(k)])\n",
    "    return nuevos_centroides"
   ]
  },
  {
   "cell_type": "markdown",
   "metadata": {
    "id": "Vcfbeu7vJK0Z"
   },
   "source": [
    "**Verificación de Convergencia**:\n",
    "\n",
    "El algoritmo itera entre la asignación de puntos a clusters y la actualización de centroides hasta que los centroides no cambien significativamente entre iteraciones."
   ]
  },
  {
   "cell_type": "markdown",
   "metadata": {
    "id": "ZdkqRtKOJK0Z"
   },
   "source": [
    "### Algoritmo Kmeans con las funciones creadas"
   ]
  },
  {
   "cell_type": "code",
   "execution_count": null,
   "metadata": {
    "id": "key3ngeJJK0a"
   },
   "outputs": [],
   "source": [
    "def k_means(X, k, max_iter=100):\n",
    "    # Inicializar centroides aleatorios\n",
    "    centroides = X[np.random.choice(X.shape[0], k, replace=False)]\n",
    "\n",
    "    for _ in range(max_iter):\n",
    "        # Asignar puntos a clusters\n",
    "        labels = asignar_clusters(X, centroides)\n",
    "\n",
    "        # Actualizar centroides\n",
    "        nuevos_centroides = actualizar_centroides(X, labels, k)\n",
    "\n",
    "        # Verificar convergencia\n",
    "        if np.all(centroides == nuevos_centroides):\n",
    "            break\n",
    "\n",
    "        centroides = nuevos_centroides\n",
    "\n",
    "    return labels, centroides"
   ]
  },
  {
   "cell_type": "code",
   "execution_count": null,
   "metadata": {
    "id": "syqFiVbhJK0a"
   },
   "outputs": [],
   "source": [
    "# hiperparametros\n",
    "# Número de clusters (k)\n",
    "k = 5"
   ]
  },
  {
   "cell_type": "code",
   "execution_count": null,
   "metadata": {
    "id": "KlXc2CqtJK0a"
   },
   "outputs": [],
   "source": [
    "# Aplicar K-means\n",
    "labels, centroides = k_means(X, k)"
   ]
  },
  {
   "cell_type": "code",
   "execution_count": null,
   "metadata": {
    "id": "c77CcTesJK0a"
   },
   "outputs": [],
   "source": [
    "# Visualizar los resultados\n",
    "colors = ['Red', 'Blue','Green','Yellow','Purple','Orange','Pink','Brown','Gray','White']\n",
    "for i in range(k):\n",
    "    plt.scatter(X[labels == i][:, 0], X[labels == i][:, 1], c=colors[i], label=f'Cluster {i + 1}')\n",
    "\n",
    "plt.scatter(\n",
    "    centroides[:, 0],\n",
    "    centroides[:, 1],\n",
    "    marker='x',\n",
    "    s=200,\n",
    "    linewidths=3,\n",
    "    color='black',\n",
    "    label='Centroides'\n",
    "    )\n",
    "plt.legend()\n",
    "plt.title('K-means Clustering')\n",
    "plt.show()"
   ]
  },
  {
   "cell_type": "markdown",
   "metadata": {
    "id": "PXuKDlczJK0a"
   },
   "source": [
    "## Uso de libreria Scikit learn"
   ]
  },
  {
   "cell_type": "markdown",
   "metadata": {
    "id": "4NGoYIw2ASyM"
   },
   "source": [
    "\n",
    "\n",
    "Con la clase sklearn.cluster.KMeans de Scikit-Learn se pueden entrenar modelos de clustering utilizando el algoritmo k-means. Entre sus parámetros destacan:\n",
    "\n",
    "* n_clusters: determina el número  K\n",
    "  de clusters que se van a generar.\n",
    "* init: estrategia para asignar los centroides iniciales. Por defecto se emplea 'k-means++', una estrategia que trata de alejar los centroides lo máximo posible facilitando la convergencia. Sin embargo, esta estrategia puede ralentizar el proceso cuando hay muchos datos, si esto ocurre, es mejor utilizar 'random'.\n",
    "* n_init: determina el número de veces que se va a repetir el proceso, cada vez con una asignación aleatoria inicial distinta. Es recomendable que este último valor sea alto, entre 10-25, para no obtener resultados subóptimos debido a una iniciación poco afortunada del proceso.\n",
    "* max_iter: número máximo de iteraciones permitidas.\n",
    "* random_state: semilla para garantizar la reproducibilidad de los resultados."
   ]
  },
  {
   "cell_type": "code",
   "execution_count": null,
   "metadata": {
    "executionInfo": {
     "elapsed": 220,
     "status": "ok",
     "timestamp": 1724200068300,
     "user": {
      "displayName": "gauss ELprincipito",
      "userId": "10561550388760016055"
     },
     "user_tz": 300
    },
    "id": "Jw3XD8DnASyM"
   },
   "outputs": [],
   "source": [
    "# Escalado de datos (procesamiento a datos numericos)\n",
    "# ==============================================================================\n",
    "X_scaled = scale(X)"
   ]
  },
  {
   "cell_type": "code",
   "execution_count": null,
   "metadata": {
    "executionInfo": {
     "elapsed": 231,
     "status": "ok",
     "timestamp": 1724200147389,
     "user": {
      "displayName": "gauss ELprincipito",
      "userId": "10561550388760016055"
     },
     "user_tz": 300
    },
    "id": "pV2pRuIFASyM"
   },
   "outputs": [],
   "source": [
    "# Modelo\n",
    "# ==============================================================================\n",
    "\n",
    "modelo_kmeans = KMeans(\n",
    "    n_clusters=4, # cantidad de cluster\n",
    "    n_init=25, # iteraciones\n",
    "    random_state=123 # semilla aleatoria\n",
    "    ) #objeto modelo\n"
   ]
  },
  {
   "cell_type": "code",
   "execution_count": null,
   "metadata": {
    "colab": {
     "base_uri": "https://localhost:8080/",
     "height": 74
    },
    "executionInfo": {
     "elapsed": 214,
     "status": "ok",
     "timestamp": 1724200165103,
     "user": {
      "displayName": "gauss ELprincipito",
      "userId": "10561550388760016055"
     },
     "user_tz": 300
    },
    "id": "5qS4s_XJJK0b",
    "outputId": "aebe89be-263b-4a84-8777-4ac78e7cc816"
   },
   "outputs": [],
   "source": [
    "modelo_kmeans.fit(X=X_scaled)# ajuste del modelo\n"
   ]
  },
  {
   "cell_type": "markdown",
   "metadata": {
    "id": "lhiiu5yZASyM"
   },
   "source": [
    "El objeto devuelto por KMeans() contiene entre otros datos: la media de cada una de las variables para cada cluster (cluster_centers_), es decir, los centroides. Un vector indicando a qué cluster se ha asignado cada observación (.labels_) y la suma total de cuadrados internos de todos los clusters (.inertia_)."
   ]
  },
  {
   "cell_type": "markdown",
   "metadata": {
    "id": "oWGU34P-ASyM"
   },
   "source": [
    "***Número de clusters***\n",
    "\n",
    "Al tratarse de una simulación, se conoce el verdadero número de grupos (4) y a cuál de ellos pertenece cada observación. Esto no sucede en la mayoría de casos prácticos, pero es útil como ejemplo ilustrativo cómo funciona K-means."
   ]
  },
  {
   "cell_type": "code",
   "execution_count": null,
   "metadata": {
    "executionInfo": {
     "elapsed": 234,
     "status": "ok",
     "timestamp": 1724200185262,
     "user": {
      "displayName": "gauss ELprincipito",
      "userId": "10561550388760016055"
     },
     "user_tz": 300
    },
    "id": "iG-dqYKpASyM"
   },
   "outputs": [],
   "source": [
    "# Clasificación con el modelo kmeans\n",
    "# ==============================================================================\n",
    "y_predict = modelo_kmeans.predict(X=X_scaled)"
   ]
  },
  {
   "cell_type": "code",
   "execution_count": null,
   "metadata": {
    "colab": {
     "base_uri": "https://localhost:8080/",
     "height": 372
    },
    "executionInfo": {
     "elapsed": 1092,
     "status": "ok",
     "timestamp": 1724200193941,
     "user": {
      "displayName": "gauss ELprincipito",
      "userId": "10561550388760016055"
     },
     "user_tz": 300
    },
    "id": "K_M-MQhWASyM",
    "outputId": "f307da03-ddb1-43fa-aa2e-82c7747c3960"
   },
   "outputs": [],
   "source": [
    "# Representación gráfica: grupos originales vs clusters creados\n",
    "# ==============================================================================\n",
    "fig, ax = plt.subplots(1, 2, figsize=(10, 4))\n",
    "\n",
    "# Grupos originales\n",
    "for i in np.unique(y):\n",
    "    ax[0].scatter(\n",
    "        x = X_scaled[y == i, 0],\n",
    "        y = X_scaled[y == i, 1],\n",
    "        c = plt.rcParams['axes.prop_cycle'].by_key()['color'][i],\n",
    "        marker    = 'o',\n",
    "        edgecolor = 'black',\n",
    "        label= f\"Grupo {i}\"\n",
    "    )\n",
    "\n",
    "ax[0].set_title('Clusters generados por Kmeans')\n",
    "ax[0].legend();\n",
    "\n",
    "for i in np.unique(y_predict):\n",
    "    ax[1].scatter(\n",
    "        x = X_scaled[y_predict == i, 0],\n",
    "        y = X_scaled[y_predict == i, 1],\n",
    "        c = plt.rcParams['axes.prop_cycle'].by_key()['color'][i],\n",
    "        marker    = 'o',\n",
    "        edgecolor = 'black',\n",
    "        label= f\"Cluster {i}\"\n",
    "    )\n",
    "\n",
    "ax[1].scatter(\n",
    "    x = modelo_kmeans.cluster_centers_[:, 0],\n",
    "    y = modelo_kmeans.cluster_centers_[:, 1],\n",
    "    c = 'black',\n",
    "    s = 200,\n",
    "    marker = '*',\n",
    "    label  = 'centroides'\n",
    ")\n",
    "ax[1].set_title('Clusters generados por Kmeans')\n",
    "ax[1].legend();"
   ]
  },
  {
   "cell_type": "code",
   "execution_count": null,
   "metadata": {
    "colab": {
     "base_uri": "https://localhost:8080/",
     "height": 206
    },
    "executionInfo": {
     "elapsed": 232,
     "status": "ok",
     "timestamp": 1724200283272,
     "user": {
      "displayName": "gauss ELprincipito",
      "userId": "10561550388760016055"
     },
     "user_tz": 300
    },
    "id": "2rHaM81GASyM",
    "outputId": "b43681ea-95d3-4a58-da04-272dc5d5c088"
   },
   "outputs": [],
   "source": [
    "# Matriz de confusión: grupos originales vs clusters creados\n",
    "# ==============================================================================\n",
    "pd.crosstab(y, y_predict, dropna=False, rownames=['grupo_real'], colnames=['cluster'])"
   ]
  },
  {
   "cell_type": "code",
   "execution_count": null,
   "metadata": {
    "colab": {
     "base_uri": "https://localhost:8080/",
     "height": 260
    },
    "executionInfo": {
     "elapsed": 1647,
     "status": "ok",
     "timestamp": 1724200324634,
     "user": {
      "displayName": "gauss ELprincipito",
      "userId": "10561550388760016055"
     },
     "user_tz": 300
    },
    "id": "2VjGyVOOASyN",
    "outputId": "5b0cd4dd-72f0-4811-fe98-239f7df7e441"
   },
   "outputs": [],
   "source": [
    "fig, ax = plt.subplots(1, 3, figsize=(15, 4))\n",
    "\n",
    "# Resultados para K = 2\n",
    "# ==============================================================================\n",
    "y_predict = KMeans(n_clusters=2, n_init=25, random_state=123).fit_predict(X=X_scaled)\n",
    "ax[0].scatter(\n",
    "        x = X_scaled[:, 0],\n",
    "        y = X_scaled[:, 1],\n",
    "        c = y_predict,\n",
    "        #cmap='viridis',\n",
    "        marker    = 'o',\n",
    "        edgecolor = 'black'\n",
    "    )\n",
    "ax[0].set_title('KMeans K=2');\n",
    "\n",
    "# Resultados para K = 6\n",
    "# ==============================================================================\n",
    "y_predict = KMeans(n_clusters=6, n_init=25, random_state=123).fit_predict(X=X_scaled)\n",
    "ax[1].scatter(\n",
    "        x = X_scaled[:, 0],\n",
    "        y = X_scaled[:, 1],\n",
    "        c = y_predict,\n",
    "        #cmap='viridis',\n",
    "        marker    = 'o',\n",
    "        edgecolor = 'black'\n",
    "    )\n",
    "ax[1].set_title('KMeans K=6');\n",
    "\n",
    "# Resultados para K = 10\n",
    "# ==============================================================================\n",
    "y_predict = KMeans(n_clusters=10, n_init=25, random_state=123).fit_predict(X=X_scaled)\n",
    "ax[2].scatter(\n",
    "        x = X_scaled[:, 0],\n",
    "        y = X_scaled[:, 1],\n",
    "        c = y_predict,\n",
    "        #cmap='viridis',\n",
    "        marker    = 'o',\n",
    "        edgecolor = 'black'\n",
    "    )\n",
    "ax[2].set_title('KMeans K=10');"
   ]
  },
  {
   "cell_type": "markdown",
   "metadata": {
    "id": "F4Z4AwpLJK0c"
   },
   "source": [
    "## Métricas para identificar el número 'óptimo' de cluster"
   ]
  },
  {
   "cell_type": "markdown",
   "metadata": {
    "id": "sddTgFQjJK0c"
   },
   "source": [
    "### El método de Elbow"
   ]
  },
  {
   "cell_type": "markdown",
   "metadata": {
    "id": "Y44qeDcpJK0c"
   },
   "source": [
    "El **método del codo (Elbow Method)** se utiliza para encontrar el número óptimo de clusters (k) en un algoritmo de agrupamiento, como K-means.\n",
    "\n",
    "La idea principal es ajustar el modelo para diferentes valores de k y luego observar cómo disminuye la variabilidad total (inercia o suma de cuadrados dentro del cluster) a medida que k aumenta.\n",
    "\n",
    "El punto en el que la disminución se desacelera, formando un \"codo\" en el gráfico de la variabilidad frente a k, se considera un indicador del número óptimo de clusters."
   ]
  },
  {
   "cell_type": "markdown",
   "metadata": {
    "id": "VUyPUdfWJK0c"
   },
   "source": [
    "La fórmula para la variabilidad total (o inercia) es la suma de los cuadrados de las distancias euclidianas entre cada punto y el centroide de su cluster asignado.\n",
    "\n",
    "Donde tenemos que  :\n",
    "\n",
    "* X como la matriz de datos\n",
    "* C como la matriz de centroides\n",
    "* L como el vector de asignaciones de clusters para cada punto\n",
    "* I como la inercia  \n"
   ]
  },
  {
   "cell_type": "markdown",
   "metadata": {
    "id": "xoME-n1LJK0c"
   },
   "source": [
    "\n",
    "Y se puede expresar matemáticamente como:\n",
    "\n",
    "$I = \\sum_{i=1}^{n}{}\\sum_{j=1}^{k}{d(x_i,c_j)^2}$\n",
    "\n",
    "Donde:\n",
    "\n",
    "* $n$ es el número de puntos.\n",
    "* $k$ es el número de clusters.\n",
    "* $x_i$  es el i-ésimo punto.\n",
    "* $c_j$ es el j-ésimo centroide.\n",
    "* $d(x_i,c_j)$ es la distancia euclidiana entre $x_i$ y $c_j$\n",
    "* La doble suma se realiza sobre todos los puntos y todos los clusters."
   ]
  },
  {
   "cell_type": "code",
   "execution_count": null,
   "metadata": {
    "colab": {
     "base_uri": "https://localhost:8080/",
     "height": 403
    },
    "executionInfo": {
     "elapsed": 1194,
     "status": "ok",
     "timestamp": 1724200498153,
     "user": {
      "displayName": "gauss ELprincipito",
      "userId": "10561550388760016055"
     },
     "user_tz": 300
    },
    "id": "KnsZAd6CASyN",
    "outputId": "c5e0bdec-7590-4e45-d988-5238b2523683"
   },
   "outputs": [],
   "source": [
    "# Método elbow para identificar el número óptimo de clusters\n",
    "# ==============================================================================\n",
    "range_n_clusters = range(1, 15)\n",
    "inertias = []\n",
    "\n",
    "for n_clusters in range_n_clusters:\n",
    "    modelo_kmeans = KMeans(\n",
    "                        n_clusters   = n_clusters,\n",
    "                        n_init       = 20,\n",
    "                        random_state = 123\n",
    "                    )\n",
    "    modelo_kmeans.fit(X_scaled)\n",
    "    inertias.append(modelo_kmeans.inertia_)\n",
    "\n",
    "fig, ax = plt.subplots(1, 1, figsize=(6, 3.84))\n",
    "ax.plot(range_n_clusters, inertias, marker='o')\n",
    "ax.set_title(\"Evolución de la varianza intra-cluster total\")\n",
    "ax.set_xlabel('Número clusters')\n",
    "ax.set_ylabel('Intra-cluster (inertia)');"
   ]
  },
  {
   "cell_type": "markdown",
   "metadata": {
    "id": "ojZJS2i1JK0g"
   },
   "source": [
    "### Método silhouette"
   ]
  },
  {
   "cell_type": "markdown",
   "metadata": {
    "id": "JxuJRlE6JK0g"
   },
   "source": [
    "El método silhouette es otra técnica utilizada para evaluar la calidad de un agrupamiento (clustering) y determinar el número óptimo de clusters en un conjunto de datos.\n",
    "\n",
    "El coeficiente silhouette mide cuán similar es un objeto a su propio cluster (cohesión) en comparación con otros clusters (separación)."
   ]
  },
  {
   "cell_type": "markdown",
   "metadata": {
    "id": "Of3Ugg4rJK0g"
   },
   "source": [
    "El coeficiente silhouette para un punto de datos $i$ se calcula mediante la siguiente fórmula:\n",
    "\n",
    "Donde:\n",
    "\n",
    "$S(i) = \\frac{b(i)-a(i)}{max\\{a(i),b(i)\\}}$\n",
    "\n",
    "* $S(i)$ es el coeficiente silhouette para el punto $i$.\n",
    "* $a(i)$ es la distancia media del punto $i$ a los demás puntos en el mismo cluster (cohesión).\n",
    "* $b(i)$ es la distancia media más pequeña del punto $i$ a los puntos en un cluster diferente (separación)."
   ]
  },
  {
   "cell_type": "markdown",
   "metadata": {
    "id": "tRiVVgNuJK0g"
   },
   "source": [
    "El coeficiente silhouette varía entre -1 y 1. Un valor alto indica que el objeto está bien emparejado con su propio cluster y mal emparejado con clusters vecinos.\n",
    "\n",
    "El método silhouette se utiliza para diferentes valores de $k$ (número de clusters) y se busca el valor de $k$ que maximiza el coeficiente silhouette promedio sobre todos los puntos. El valor de $k$ que proporciona el máximo coeficiente silhouette se considera el número óptimo de clusters."
   ]
  },
  {
   "cell_type": "code",
   "execution_count": null,
   "metadata": {
    "colab": {
     "base_uri": "https://localhost:8080/",
     "height": 403
    },
    "executionInfo": {
     "elapsed": 1321,
     "status": "ok",
     "timestamp": 1724200531303,
     "user": {
      "displayName": "gauss ELprincipito",
      "userId": "10561550388760016055"
     },
     "user_tz": 300
    },
    "id": "OEpevK7rASyN",
    "outputId": "ddbdff8f-fac0-4e9e-845e-5307c075dba0"
   },
   "outputs": [],
   "source": [
    "# Método silhouette para identificar el número óptimo de clusters\n",
    "# ==============================================================================\n",
    "range_n_clusters = range(2, 15)\n",
    "valores_medios_silhouette = []\n",
    "\n",
    "for n_clusters in range_n_clusters:\n",
    "    modelo_kmeans = KMeans(\n",
    "                        n_clusters   = n_clusters,\n",
    "                        n_init       = 20,\n",
    "                        random_state = 123\n",
    "                    )\n",
    "    cluster_labels = modelo_kmeans.fit_predict(X_scaled)\n",
    "    silhouette_avg = silhouette_score(X_scaled, cluster_labels)\n",
    "    valores_medios_silhouette.append(silhouette_avg)\n",
    "\n",
    "fig, ax = plt.subplots(1, 1, figsize=(6, 3.84))\n",
    "ax.plot(range_n_clusters, valores_medios_silhouette, marker='o')\n",
    "ax.set_title(\"Evolución de media de los índices silhouette\")\n",
    "ax.set_xlabel('Número clusters')\n",
    "ax.set_ylabel('Media índices silhouette');"
   ]
  },
  {
   "cell_type": "code",
   "execution_count": null,
   "metadata": {
    "id": "x8wzPanpJK0h"
   },
   "outputs": [],
   "source": []
  }
 ],
 "metadata": {
  "colab": {
   "provenance": []
  },
  "kernelspec": {
   "display_name": "Python 3.9.1 64-bit",
   "language": "python",
   "name": "python3"
  },
  "language_info": {
   "codemirror_mode": {
    "name": "ipython",
    "version": 3
   },
   "file_extension": ".py",
   "mimetype": "text/x-python",
   "name": "python",
   "nbconvert_exporter": "python",
   "pygments_lexer": "ipython3",
   "version": "3.11.8"
  },
  "vscode": {
   "interpreter": {
    "hash": "f128fe3ab5917b826f85fed29f7e6d5cdf9b8c96daddc94321e327dfff04eefa"
   }
  }
 },
 "nbformat": 4,
 "nbformat_minor": 0
}
